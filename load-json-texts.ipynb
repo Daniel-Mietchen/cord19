{
 "cells": [
  {
   "cell_type": "code",
   "execution_count": 1,
   "metadata": {},
   "outputs": [],
   "source": [
    "%load_ext autoreload\n",
    "%autoreload 2\n",
    "from cord.jsonpaper import load_json_texts, load_json_from_file\n",
    "from cord import BIORXIV_MEDRXIV\n",
    "from cord import ResearchPapers\n",
    "from cord.text import preprocess\n",
    "from cord.text import SIMPLE_STOPWORDS"
   ]
  },
  {
   "cell_type": "code",
   "execution_count": 3,
   "metadata": {},
   "outputs": [
    {
     "name": "stdout",
     "output_type": "stream",
     "text": [
      "Loading json from biorxiv_medrxiv\n"
     ]
    },
    {
     "data": {
      "application/vnd.jupyter.widget-view+json": {
       "model_id": "8ab1a01295184c848ad6848b04375596",
       "version_major": 2,
       "version_minor": 0
      },
      "text/plain": [
       "HBox(children=(FloatProgress(value=0.0, max=885.0), HTML(value='')))"
      ]
     },
     "metadata": {},
     "output_type": "display_data"
    }
   ],
   "source": [
    "papers = load_json_texts(BIORXIV_MEDRXIV)\n",
    "text = papers.iloc[0].text"
   ]
  },
  {
   "cell_type": "code",
   "execution_count": 10,
   "metadata": {},
   "outputs": [
    {
     "name": "stdout",
     "output_type": "stream",
     "text": [
      "7.09 ms ± 98.3 µs per loop (mean ± std. dev. of 7 runs, 100 loops each)\n"
     ]
    }
   ],
   "source": [
    "%timeit preprocess(text)"
   ]
  },
  {
   "cell_type": "code",
   "execution_count": 7,
   "metadata": {},
   "outputs": [
    {
     "name": "stdout",
     "output_type": "stream",
     "text": [
      "Loading metadata from data\\CORD-19-research-challenge\n",
      "Cleaning metadata\n",
      "Fixing dates that are a list e.g. \"['2020-02-05', '2020-02']\"\n",
      "Fixing dates with the seasons e.g. \"2014 Autumn\"\n",
      "Fixing dates like \"2016 Nov 9 Jan-Feb\"\n",
      "Fixing dates like \"2012 Jan-Mar\"\n",
      "Converting dates like \"2020 Apr 13\"\n",
      "Converting Dates like \"2020 Apr\"\n",
      "Converting dates like \"2020\"\n",
      "Converting Dates like \"2020-01-21\"\n",
      "\n",
      "Indexing research papers\n",
      "Creating the BM25 index from the abstracts of the papers\n",
      "Use index=\"text\" if you want to index the texts of the paper instead\n",
      "Finished Indexing in 32.0 seconds\n"
     ]
    }
   ],
   "source": [
    "research_papers = ResearchPapers.from_data_dir()"
   ]
  },
  {
   "cell_type": "code",
   "execution_count": 8,
   "metadata": {},
   "outputs": [
    {
     "data": {
      "application/vnd.jupyter.widget-view+json": {
       "model_id": "44cfdd72a20f44569d05621772c6f6e0",
       "version_major": 2,
       "version_minor": 0
      },
      "text/plain": [
       "interactive(children=(Text(value='sars-cov-2 outbreak cruise ship', description='SearchTerms'), Output()), _do…"
      ]
     },
     "metadata": {},
     "output_type": "display_data"
    }
   ],
   "source": [
    "research_papers.searchbar()"
   ]
  },
  {
   "cell_type": "code",
   "execution_count": 13,
   "metadata": {},
   "outputs": [
    {
     "name": "stdout",
     "output_type": "stream",
     "text": [
      "\n",
      "Indexing research papers\n"
     ]
    },
    {
     "data": {
      "text/html": [
       "<div>\n",
       "<style scoped>\n",
       "    .dataframe tbody tr th:only-of-type {\n",
       "        vertical-align: middle;\n",
       "    }\n",
       "\n",
       "    .dataframe tbody tr th {\n",
       "        vertical-align: top;\n",
       "    }\n",
       "\n",
       "    .dataframe thead th {\n",
       "        text-align: right;\n",
       "    }\n",
       "</style>\n",
       "<table border=\"1\" class=\"dataframe\">\n",
       "  <thead>\n",
       "    <tr style=\"text-align: right;\">\n",
       "      <th></th>\n",
       "      <th>title</th>\n",
       "      <th>abstract</th>\n",
       "      <th>journal</th>\n",
       "      <th>authors</th>\n",
       "      <th>published</th>\n",
       "      <th>when</th>\n",
       "    </tr>\n",
       "  </thead>\n",
       "  <tbody>\n",
       "    <tr>\n",
       "      <th>1921</th>\n",
       "      <td>Infectious Diseases and Agriculture</td>\n",
       "      <td>Synopsis • Agriculture has huge impacts on hum...</td>\n",
       "      <td>Encyclopedia of Food Security and Sustainability</td>\n",
       "      <td>Grace, Delia</td>\n",
       "      <td>2019-12-31</td>\n",
       "      <td>3 months ago</td>\n",
       "    </tr>\n",
       "    <tr>\n",
       "      <th>1922</th>\n",
       "      <td></td>\n",
       "      <td>Natural marine-derived compounds show excelle...</td>\n",
       "      <td>Encyclopedia of Food Chemistry</td>\n",
       "      <td>Venkatesan, Jayachandran; Keekan, Kishor Kumar...</td>\n",
       "      <td>2019-12-31</td>\n",
       "      <td>3 months ago</td>\n",
       "    </tr>\n",
       "    <tr>\n",
       "      <th>1928</th>\n",
       "      <td>Chapter 8 Politics, Profit and Digital Prospec...</td>\n",
       "      <td>A case study of the Guangdong Provincial Publ...</td>\n",
       "      <td>China's Publishing Industry</td>\n",
       "      <td>Yun, Qidong</td>\n",
       "      <td>2019-12-31</td>\n",
       "      <td>3 months ago</td>\n",
       "    </tr>\n",
       "    <tr>\n",
       "      <th>1929</th>\n",
       "      <td></td>\n",
       "      <td></td>\n",
       "      <td>China's Publishing Industry</td>\n",
       "      <td></td>\n",
       "      <td>2019-12-31</td>\n",
       "      <td>3 months ago</td>\n",
       "    </tr>\n",
       "    <tr>\n",
       "      <th>1930</th>\n",
       "      <td></td>\n",
       "      <td></td>\n",
       "      <td>China's Publishing Industry</td>\n",
       "      <td></td>\n",
       "      <td>2019-12-31</td>\n",
       "      <td>3 months ago</td>\n",
       "    </tr>\n",
       "    <tr>\n",
       "      <th>...</th>\n",
       "      <td>...</td>\n",
       "      <td>...</td>\n",
       "      <td>...</td>\n",
       "      <td>...</td>\n",
       "      <td>...</td>\n",
       "      <td>...</td>\n",
       "    </tr>\n",
       "    <tr>\n",
       "      <th>43914</th>\n",
       "      <td>Are high-performing health systems resilient a...</td>\n",
       "      <td>As of March 5, 2020, there has been sustained ...</td>\n",
       "      <td>The Lancet</td>\n",
       "      <td>Legido-Quigley, Helena; Asgari, Nima; Teo, Yik...</td>\n",
       "      <td>2020-03-20</td>\n",
       "      <td>1 week ago</td>\n",
       "    </tr>\n",
       "    <tr>\n",
       "      <th>43918</th>\n",
       "      <td>Positive rate of RT-PCR detection of SARS-CoV-...</td>\n",
       "      <td>Background There’s an outbreak of a novel cor...</td>\n",
       "      <td>Clinica Chimica Acta</td>\n",
       "      <td>Liu, Rui; Han, Huan; Liu, Fang; Lv, Zhihua; Wu...</td>\n",
       "      <td>2020-06-30</td>\n",
       "      <td>in 3 months</td>\n",
       "    </tr>\n",
       "    <tr>\n",
       "      <th>43922</th>\n",
       "      <td>Potential role of inanimate surfaces for the s...</td>\n",
       "      <td>The novel human coronavirus 2019-nCoV has bec...</td>\n",
       "      <td>Infection Prevention in Practice</td>\n",
       "      <td>Kampf, Günter</td>\n",
       "      <td>2020-01-01</td>\n",
       "      <td>2 months ago</td>\n",
       "    </tr>\n",
       "    <tr>\n",
       "      <th>43929</th>\n",
       "      <td>Calculating virus spread</td>\n",
       "      <td>Getting a full picture of the coronavirus outb...</td>\n",
       "      <td>New Scientist</td>\n",
       "      <td>Kucharski, Adam</td>\n",
       "      <td>2020-02-22</td>\n",
       "      <td>1 month ago</td>\n",
       "    </tr>\n",
       "    <tr>\n",
       "      <th>43931</th>\n",
       "      <td>COVID-19 Therapeutic and Prevention</td>\n",
       "      <td>COVID-19 Therapeutic and Prevention</td>\n",
       "      <td>International Journal of Antimicrobial Agents</td>\n",
       "      <td>Raoult, Didier; Hsueh, Po-Ren; Stefani, Stefan...</td>\n",
       "      <td>2020-03-07</td>\n",
       "      <td>3 weeks ago</td>\n",
       "    </tr>\n",
       "  </tbody>\n",
       "</table>\n",
       "<p>3574 rows × 6 columns</p>\n",
       "</div>"
      ],
      "text/plain": [
       "<cord.cord19.ResearchPapers at 0x24972717080>"
      ]
     },
     "execution_count": 13,
     "metadata": {},
     "output_type": "execute_result"
    }
   ],
   "source": [
    "research_papers.since_sarscov2()"
   ]
  },
  {
   "cell_type": "code",
   "execution_count": null,
   "metadata": {},
   "outputs": [],
   "source": []
  }
 ],
 "metadata": {
  "kernelspec": {
   "display_name": "cord",
   "language": "python",
   "name": "cord"
  },
  "language_info": {
   "codemirror_mode": {
    "name": "ipython",
    "version": 3
   },
   "file_extension": ".py",
   "mimetype": "text/x-python",
   "name": "python",
   "nbconvert_exporter": "python",
   "pygments_lexer": "ipython3",
   "version": "3.7.0"
  }
 },
 "nbformat": 4,
 "nbformat_minor": 4
}
