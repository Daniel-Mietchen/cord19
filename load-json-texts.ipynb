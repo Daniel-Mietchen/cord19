{
 "cells": [
  {
   "cell_type": "code",
   "execution_count": 1,
   "metadata": {},
   "outputs": [],
   "source": [
    "%load_ext autoreload\n",
    "%autoreload 2\n",
    "from cord.jsonpaper import load_json_texts, load_json_from_file\n",
    "from cord import BIORXIV_MEDRXIV\n",
    "from cord import ResearchPapers\n",
    "from cord.text import preprocess\n",
    "from cord.text import SIMPLE_STOPWORDS"
   ]
  },
  {
   "cell_type": "code",
   "execution_count": 2,
   "metadata": {},
   "outputs": [
    {
     "name": "stdout",
     "output_type": "stream",
     "text": [
      "Loading json from biorxiv_medrxiv\n"
     ]
    },
    {
     "data": {
      "application/vnd.jupyter.widget-view+json": {
       "model_id": "b45f90448e5748e5aa8566d9beb6e259",
       "version_major": 2,
       "version_minor": 0
      },
      "text/plain": [
       "HBox(children=(FloatProgress(value=0.0, max=1053.0), HTML(value='')))"
      ]
     },
     "metadata": {},
     "output_type": "display_data"
    }
   ],
   "source": [
    "papers = load_json_texts(BIORXIV_MEDRXIV)\n",
    "text = papers.iloc[0].text"
   ]
  },
  {
   "cell_type": "code",
   "execution_count": 3,
   "metadata": {},
   "outputs": [
    {
     "name": "stdout",
     "output_type": "stream",
     "text": [
      "7.9 ms ± 607 µs per loop (mean ± std. dev. of 7 runs, 100 loops each)\n"
     ]
    }
   ],
   "source": [
    "%timeit preprocess(text)"
   ]
  },
  {
   "cell_type": "code",
   "execution_count": 4,
   "metadata": {},
   "outputs": [
    {
     "name": "stdout",
     "output_type": "stream",
     "text": [
      "Loading metadata from data\\CORD-19-research-challenge\n",
      "Cleaning metadata\n",
      "\n",
      "\n",
      "Indexing research papers\n",
      "Creating the BM25 index from the abstracts of the papers\n",
      "Use index=\"text\" if you want to index the texts of the paper instead\n",
      "Finished Indexing in 37.0 seconds\n"
     ]
    }
   ],
   "source": [
    "research_papers = ResearchPapers.load()"
   ]
  },
  {
   "cell_type": "code",
   "execution_count": 5,
   "metadata": {},
   "outputs": [
    {
     "data": {
      "application/vnd.jupyter.widget-view+json": {
       "model_id": "52511c7c4e9c4a6ab78ab8360118af70",
       "version_major": 2,
       "version_minor": 0
      },
      "text/plain": [
       "interactive(children=(Text(value='sars-cov-2 outbreak cruise ship', description='SearchTerms'), Output()), _do…"
      ]
     },
     "metadata": {},
     "output_type": "display_data"
    }
   ],
   "source": [
    "research_papers.searchbar()"
   ]
  },
  {
   "cell_type": "code",
   "execution_count": 6,
   "metadata": {},
   "outputs": [
    {
     "name": "stdout",
     "output_type": "stream",
     "text": [
      "\n",
      "Indexing research papers\n"
     ]
    },
    {
     "data": {
      "text/html": [
       "<div>\n",
       "<style scoped>\n",
       "    .dataframe tbody tr th:only-of-type {\n",
       "        vertical-align: middle;\n",
       "    }\n",
       "\n",
       "    .dataframe tbody tr th {\n",
       "        vertical-align: top;\n",
       "    }\n",
       "\n",
       "    .dataframe thead th {\n",
       "        text-align: right;\n",
       "    }\n",
       "</style>\n",
       "<table border=\"1\" class=\"dataframe\">\n",
       "  <thead>\n",
       "    <tr style=\"text-align: right;\">\n",
       "      <th></th>\n",
       "      <th>title</th>\n",
       "      <th>abstract</th>\n",
       "      <th>journal</th>\n",
       "      <th>authors</th>\n",
       "      <th>published</th>\n",
       "      <th>when</th>\n",
       "    </tr>\n",
       "  </thead>\n",
       "  <tbody>\n",
       "    <tr>\n",
       "      <th>72</th>\n",
       "      <td>Delving Below the Species Level To Characteriz...</td>\n",
       "      <td>Efforts to describe the diversity of viruses h...</td>\n",
       "      <td></td>\n",
       "      <td>Tong Kong; Kelly Mei; Ammie Wang; Danny Krizan...</td>\n",
       "      <td>2019-12-13</td>\n",
       "      <td>3 months ago</td>\n",
       "    </tr>\n",
       "    <tr>\n",
       "      <th>73</th>\n",
       "      <td>Novel splicing and open reading frames reveale...</td>\n",
       "      <td>Adenovirus is a common human pathogen that rel...</td>\n",
       "      <td></td>\n",
       "      <td>Alexander M. Price; Katharina E. Hayer; Daniel...</td>\n",
       "      <td>2019-12-13</td>\n",
       "      <td>3 months ago</td>\n",
       "    </tr>\n",
       "    <tr>\n",
       "      <th>74</th>\n",
       "      <td>Non-uniform refinement: Adaptive regularizatio...</td>\n",
       "      <td>Single particle cryo-EM is a powerful method f...</td>\n",
       "      <td></td>\n",
       "      <td>Ali Punjani; Haowei Zhang; David J. Fleet</td>\n",
       "      <td>2019-12-16</td>\n",
       "      <td>3 months ago</td>\n",
       "    </tr>\n",
       "    <tr>\n",
       "      <th>75</th>\n",
       "      <td>Randomly primed, strand-switching MinION-based...</td>\n",
       "      <td>RNA viruses rapidly mutate, which can result i...</td>\n",
       "      <td></td>\n",
       "      <td>Kelsey T. Young; Kevin K. Lahmers; Holly S. Se...</td>\n",
       "      <td>2019-12-16</td>\n",
       "      <td>3 months ago</td>\n",
       "    </tr>\n",
       "    <tr>\n",
       "      <th>76</th>\n",
       "      <td>Stochastic challenges to interrupting helminth...</td>\n",
       "      <td>Predicting the effect of different programmes ...</td>\n",
       "      <td></td>\n",
       "      <td>Robert J Hardwick; Marleen Werkman; James E Tr...</td>\n",
       "      <td>2019-12-18</td>\n",
       "      <td>3 months ago</td>\n",
       "    </tr>\n",
       "    <tr>\n",
       "      <th>...</th>\n",
       "      <td>...</td>\n",
       "      <td>...</td>\n",
       "      <td>...</td>\n",
       "      <td>...</td>\n",
       "      <td>...</td>\n",
       "      <td>...</td>\n",
       "    </tr>\n",
       "    <tr>\n",
       "      <th>45753</th>\n",
       "      <td>The SARS-CoV-2 outbreak from a one health pers...</td>\n",
       "      <td>The SARS-CoV-2 is a new human coronavirus can...</td>\n",
       "      <td>One Health</td>\n",
       "      <td>Hemida, Maged Gomaa; Ba Abduallah, Mohammed M.</td>\n",
       "      <td>2020-03-16</td>\n",
       "      <td>2 weeks ago</td>\n",
       "    </tr>\n",
       "    <tr>\n",
       "      <th>45755</th>\n",
       "      <td>Histopathologic Changes and SARS–CoV-2 Immunos...</td>\n",
       "      <td>Histopathologic Changes and SARS–CoV-2 Immunos...</td>\n",
       "      <td>Ann Intern Med</td>\n",
       "      <td>Zhang, Huilan; Zhou, Peng; Wei, Yanqiu; Yue, H...</td>\n",
       "      <td>2020-03-12</td>\n",
       "      <td>2 weeks ago</td>\n",
       "    </tr>\n",
       "    <tr>\n",
       "      <th>45764</th>\n",
       "      <td>One-tube smart genetic testing via coupling is...</td>\n",
       "      <td>Urgent demand for portable diagnosis has prom...</td>\n",
       "      <td>Analytica Chimica Acta</td>\n",
       "      <td>Guo, Lulu; Lu, Baiyang; Dong, Qing; Tang, Yida...</td>\n",
       "      <td>2020-04-15</td>\n",
       "      <td>in 2 weeks</td>\n",
       "    </tr>\n",
       "    <tr>\n",
       "      <th>45771</th>\n",
       "      <td>Why the WHO won't use the p-word</td>\n",
       "      <td>There are no criteria for a pandemic, but covi...</td>\n",
       "      <td>New Scientist</td>\n",
       "      <td>MacKenzie, Debora</td>\n",
       "      <td>2020-03-07</td>\n",
       "      <td>3 weeks ago</td>\n",
       "    </tr>\n",
       "    <tr>\n",
       "      <th>45772</th>\n",
       "      <td>Communication, transparency key as Canada face...</td>\n",
       "      <td>Communication, transparency key as Canada face...</td>\n",
       "      <td>Canadian Medical Association Journal</td>\n",
       "      <td>Glauser, Wendy</td>\n",
       "      <td>2020-02-17</td>\n",
       "      <td>1 month ago</td>\n",
       "    </tr>\n",
       "  </tbody>\n",
       "</table>\n",
       "<p>4041 rows × 6 columns</p>\n",
       "</div>"
      ],
      "text/plain": [
       "<cord.cord19.ResearchPapers at 0x20f9a366a58>"
      ]
     },
     "execution_count": 6,
     "metadata": {},
     "output_type": "execute_result"
    }
   ],
   "source": [
    "research_papers.since_sarscov2()"
   ]
  }
 ],
 "metadata": {
  "kernelspec": {
   "display_name": "cord",
   "language": "python",
   "name": "cord"
  },
  "language_info": {
   "codemirror_mode": {
    "name": "ipython",
    "version": 3
   },
   "file_extension": ".py",
   "mimetype": "text/x-python",
   "name": "python",
   "nbconvert_exporter": "python",
   "pygments_lexer": "ipython3",
   "version": "3.7.0"
  }
 },
 "nbformat": 4,
 "nbformat_minor": 4
}
