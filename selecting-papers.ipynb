{
 "cells": [
  {
   "cell_type": "markdown",
   "metadata": {},
   "source": [
    "# Selecting Papers"
   ]
  },
  {
   "cell_type": "code",
   "execution_count": 57,
   "metadata": {},
   "outputs": [
    {
     "name": "stdout",
     "output_type": "stream",
     "text": [
      "The autoreload extension is already loaded. To reload it, use:\n",
      "  %reload_ext autoreload\n"
     ]
    }
   ],
   "source": [
    "%load_ext autoreload\n",
    "%autoreload 2\n",
    "from cord import ResearchPapers"
   ]
  },
  {
   "cell_type": "code",
   "execution_count": 58,
   "metadata": {},
   "outputs": [
    {
     "name": "stdout",
     "output_type": "stream",
     "text": [
      "Loading metadata from data\\CORD-19-research-challenge\n",
      "Cleaning metadata\n",
      "\n",
      "Indexing research papers\n",
      "Creating the BM25 index from the abstracts of the papers\n",
      "Use index=\"text\" if you want to index the texts of the paper instead\n",
      "Finished Indexing in 51.0 seconds\n"
     ]
    }
   ],
   "source": [
    "research_papers = ResearchPapers.load()"
   ]
  },
  {
   "cell_type": "code",
   "execution_count": 65,
   "metadata": {},
   "outputs": [
    {
     "data": {
      "text/html": [
       "<h4>Pro/con clinical debate: Isolation precautions for all intensive care unit patients with methicillin-resistant Staphylococcus aureus colonization are essential</h4>\n",
       "<div><div>\n",
       "<style scoped>\n",
       "    .dataframe tbody tr th:only-of-type {\n",
       "        vertical-align: middle;\n",
       "    }\n",
       "\n",
       "    .dataframe tbody tr th {\n",
       "        vertical-align: top;\n",
       "    }\n",
       "\n",
       "    .dataframe thead th {\n",
       "        text-align: right;\n",
       "    }\n",
       "</style>\n",
       "<table border=\"1\" class=\"dataframe\">\n",
       "  <thead>\n",
       "    <tr style=\"text-align: right;\">\n",
       "      <th></th>\n",
       "      <th>published</th>\n",
       "      <th>when</th>\n",
       "      <th>authors</th>\n",
       "      <th>covid_related</th>\n",
       "      <th>doi</th>\n",
       "      <th>journal</th>\n",
       "    </tr>\n",
       "  </thead>\n",
       "  <tbody>\n",
       "    <tr>\n",
       "      <th></th>\n",
       "      <td>2004-02-19</td>\n",
       "      <td>16 years ago</td>\n",
       "      <td>Farr, Barry M; Bellingan, Geoffrey</td>\n",
       "      <td>False</td>\n",
       "      <td>10.1186/cc2817</td>\n",
       "      <td>Crit Care</td>\n",
       "    </tr>\n",
       "  </tbody>\n",
       "</table>\n",
       "</div><div>\n",
       "<h4>Abstract</h4>\n",
       "<div style=\"max-height:160px\">Antibiotic-resistant bacteria are an increasingly common problem in intensive care units (ICUs), and they are capable of impacting on patient outcome, the ICU's budget and bed availability. This issue, coupled with recent outbreaks of illnesses that pose a direct risk to ICU staff (such as SARS [severe acute respiratory syndrome]), has led to renewed emphasis on infection control measures and practitioners in the ICU. Infection control measures frequently cause clinicians to practice in a more time consuming way. As a result it is not surprising that ensuring compliance with these measures is not always easy, particularly when their benefit is not immediately obvious. In this issue of Critical Care, two experts face off over the need to isolate patients infected with methicillin-resistant Staphylococcus aureus.</div>"
      ],
      "text/plain": [
       "<cord.cord19.Paper at 0x1903a824668>"
      ]
     },
     "execution_count": 65,
     "metadata": {},
     "output_type": "execute_result"
    }
   ],
   "source": [
    "paper = research_papers[2400]\n",
    "paper"
   ]
  },
  {
   "cell_type": "code",
   "execution_count": 66,
   "metadata": {},
   "outputs": [
    {
     "data": {
      "text/plain": [
       "\"The scenario\\n\\nPro: Yes, isolation precautions for all ICU patients with MRSA colonization are essential Barry M Farr To minimize nosocomial MRSA transmission and thereby nosocomial MRSA infection rates, isolation appears to be essential in patients colonized with MRSA [1, 2] . This seems important because MRSA infections have been associated with significantly greater prolongation of hospital stay and greater mortality than methicillin-susceptible S aureus infections, after adjustment for patients' underlying severity of illness [3, 4] . Many studies have reported significantly better control using surveillance cultures and contact precautions, including multiple studies in ICUs [4, 5] ; the consistency of evidence in different studies conducted by different investigators and in different populations was one of the criteria for causal inference advocated by Hill [6] . High strength of association, reversibility, a dose-response relation, and specificity have also been demonstrated [4] , and these features also suggest causality [6] . Although most of those studies used historical controls, multiple studies have used concurrent controls [4] . To date, all cost-effectiveness studies have concluded that it is less expensive to pay for detection and control than it is to use inadequate measures and let MRSA spread [4, 7] .\\n\\nRandomized controlled trials (RCTs) are usually optimal for demonstrating reversibility with an intervention because they minimize selection bias (i.e. they ensure that patients cared for using an intervention are similar to controls), but such studies have not been conducted regarding the surveillance cultures/contact precautions approach to MRSA control. Possible reasons include the following. First, the US Centers for Disease Control and Prevention have recommended since 1983 that colonized patients be cared for with contact precautions, and there was a lack of support from the US National Institutes of Health or the Centers for Disease Control and Prevention for such studies from 1970 to 2000. Also, many studies have reported control using surveillance cultures/contact precautions, and there are ethical concerns about randomizing controls to what many studies suggest may be suboptimal protection against potentially lethal infection. Finally, with respect to cost, RCTs are in general expensive, and the expense is greater still for RCTs that must take account of widespread intrafacility and interfacility transmission [8] by making large facility clusters the unit of randomization. Recent meta-analyses of RCTs found that their results showed as much and sometimes more variability than those from unrandomized studies examining the same question, which neither overestimated nor underestimated the central tendency of the RCT results [9] .\\n\\nA recent, unrandomized study reported a statistically significant increase (i.e. 31 versus 15 per thousand patientdays) in some adverse effects among MRSA isolation patients (mostly falls, pressure sores, and fluid/electrolyte disorders), but no increase in numerous other types of adverse effects or deaths [10] . Far more studies have demonstrated the adverse effects of inadequate isolation for important nosocomial infections (e.g. one MRSA neonatal ICU outbreak continued for 51 months, resulting in 75 MRSA bacteremias and 14 deaths) [7] .\\n\\nThe worldwide emergence of virulent mec IV strains of MRSA that are able to spread in the community as well as in hospitals has led some to believe that it is no longer worthwhile trying to contain nosocomial MRSA spread. Recognized for almost a decade, mec IV strains have not yet resulted in population-based studies demonstrating a high MRSA national prevalence in any country, nor has their documented presence in Northern Europe (where surveillance cultures/contact precautions are used routinely) resulted in failure to control nosocomial MRSA infections to very low levels [1, 2, 4] . This suggests that control of nosocomial MRSA infections is still possible and as important as it ever was.\\n\\nGeoffrey Bellingan\\n\\nTo reduce the spread of MRSA, I agree that universal precautions, including gloves, hand-washing, disposable aprons, cleaning equipment and the environment, and regular surveillance cultures, are important and all are practiced in our ICU. I question, however, the validity of isolation or cohort nursing to further prevent MRSA transmission, and whether this a safe strategy in the critically ill.\\n\\nNumerous articles have proposed isolation/cohort nursing in addition to universal precautions [11] [12] [13] , and many concluded that isolation reduces MRSA transmission. When closely examined, however, isolation/cohort nursing were in all but one case introduced as part of a varied package of measures, including closure of units, surveillance, reemphasis on hand washing, reduction in overcrowding, infection control nurses, and addition of other treatments [14] . A recent review of 46 studies of isolation policies in the management of MRSA by Cooper and coworkers [14] concluded that it was usually impossible to adjust for any variation in MRSA reservoir in different phases of these studies and most lacked proper statistical analysis. Furthermore, few studies were prospective, and many seemingly prospective studies occurred in response to new high MRSA levels. Of those that provided the strongest evidence, four suggested that infection control measures, including isolation, were effective whereas two implied that isolation failed to prevent endemic MRSA. Mathematical models also propose that isolation should be effective, but where infection is endemic they show that, despite effective control measures, the status quo can be maintained by new admissions [14, 15] . This suggests that the prevalence of MRSA is an important part of the equation. Across the world this varies enormously, with 60% of ICUs in Germany reporting no MRSA, contrasting with 11.4% acquiring MRSA in ICU in Australia and a point prevalence of 16.2% in UK ICUs [16] [17] [18] .\\n\\nNot only is the evidence weak that isolation is effective, but also there is evidence that it may be detrimental. Evans and coworkers [19] observed that, despite isolated patients being more dependent than nonisolated ones, they had less contact time with clinicians. Furthermore, isolation frequently necessitates moving critically ill patients, with well recognized associated risks.\\n\\nIn view of this we recently conducted a study in two London ICUs to determine prospectively the effect of removing isolation/cohort nursing on MRSA transmission [20] . All patients admitted for longer than 48 hours over a 1-year period were studied. They were screened on admission and Pro response: MRSA rates higher with standard precautions in most studies Barry M Farr MRSA infections have been more deadly than nosocomial MSSA infections, MRSA is usually acquired only by spread, and the vast majority of studies have shown significantly better MRSA control with surveillance cultures and contact isolation than with standard precautions. (This includes the review by Cooper and coworkers [14] , cited prominently by Dr Bellingan, which noted studies' methodologic shortcomings but concluded that surveillance cultures and isolation work and should be used.) Without mentioning statistical power, the proportion excluded because their stay in the ICU was shorter than 48 hours, and the proportion refusing consent to participate, Dr Bellingan cites his own negative, unpublished and unrandomized, historical comparison study [20] , which does little to counterbalance scores of studies showing the opposite.\\n\\nEffective infection control policies for MRSA, including active surveillance and contact precautions, are essential. What I question is whether this can be achieved through rigorous adherence to universal precautions alone or whether we also must physically isolate ICU patients, with attendant risks of reduced carer input and increased adverse events. No studies have, until now, specifically addressed the efficacy of single room isolation, and our study [20] throws new light on current recommendations. It highlights the continued importance of universal precautions while suggesting that single room isolation confers no additional benefit. Other studies suggest that isolation may indeed be harmful. weekly thereafter. In the first 3 months MRSA-positive patients were isolated/cohort nursed as usual. For the following 6 months MRSA-positive patients were not moved and then for the final 3 months patients were again isolated. Universal precautions were practiced throughout. The patient population was similar in each management phase. The primary outcome was time to acquisition of MRSA, and the Cox proportional hazards model showed no evidence of increased transmission associated with nonisolation, and neither was there any increase in individual hospitals, even after adjusting for colonization pressure.\\n\\nHence, I believe that where the background incidence of MRSA is high there is no evidence that isolating MRSApositive patients reduces cross-infection, and it may indeed restrict patient care inappropriately.\\n\\n\""
      ]
     },
     "execution_count": 66,
     "metadata": {},
     "output_type": "execute_result"
    }
   ],
   "source": [
    "paper.text"
   ]
  },
  {
   "cell_type": "code",
   "execution_count": 67,
   "metadata": {},
   "outputs": [
    {
     "data": {
      "text/plain": [
       "''"
      ]
     },
     "execution_count": 67,
     "metadata": {},
     "output_type": "execute_result"
    }
   ],
   "source": [
    "paper.authors"
   ]
  },
  {
   "cell_type": "code",
   "execution_count": 82,
   "metadata": {},
   "outputs": [],
   "source": [
    "research_papers[11].html"
   ]
  },
  {
   "cell_type": "code",
   "execution_count": null,
   "metadata": {},
   "outputs": [],
   "source": []
  }
 ],
 "metadata": {
  "kernelspec": {
   "display_name": "cord",
   "language": "python",
   "name": "cord"
  },
  "language_info": {
   "codemirror_mode": {
    "name": "ipython",
    "version": 3
   },
   "file_extension": ".py",
   "mimetype": "text/x-python",
   "name": "python",
   "nbconvert_exporter": "python",
   "pygments_lexer": "ipython3",
   "version": "3.7.0"
  }
 },
 "nbformat": 4,
 "nbformat_minor": 4
}
