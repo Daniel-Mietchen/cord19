{
 "cells": [
  {
   "cell_type": "markdown",
   "metadata": {},
   "source": [
    "# Paper View Selector"
   ]
  },
  {
   "cell_type": "code",
   "execution_count": 20,
   "metadata": {},
   "outputs": [
    {
     "name": "stdout",
     "output_type": "stream",
     "text": [
      "The autoreload extension is already loaded. To reload it, use:\n",
      "  %reload_ext autoreload\n",
      "Loading metadata from data\\CORD-19-research-challenge\n",
      "Cleaning metadata\n",
      "Applying tags to metadata\n",
      "\n",
      "Indexing research papers\n",
      "Creating the BM25 index from the abstracts of the papers\n",
      "Use index=\"text\" if you want to index the texts of the paper instead\n",
      "Finished Indexing in 37.0 seconds\n"
     ]
    }
   ],
   "source": [
    "import ipywidgets as widgets\n",
    "from ipywidgets import interact\n",
    "from IPython.display import display\n",
    "%load_ext autoreload\n",
    "%autoreload 2\n",
    "from cord import ResearchPapers\n",
    "\n",
    "research_papers = ResearchPapers.load()"
   ]
  },
  {
   "cell_type": "code",
   "execution_count": 21,
   "metadata": {},
   "outputs": [
    {
     "data": {
      "text/html": [
       "<h4>The effect of travel restrictions on the spread of the 2019 novel coronavirus (2019-nCoV) outbreak</h4>\n",
       "<div><div>\n",
       "<style scoped>\n",
       "    .dataframe tbody tr th:only-of-type {\n",
       "        vertical-align: middle;\n",
       "    }\n",
       "\n",
       "    .dataframe tbody tr th {\n",
       "        vertical-align: top;\n",
       "    }\n",
       "\n",
       "    .dataframe thead th {\n",
       "        text-align: right;\n",
       "    }\n",
       "</style>\n",
       "<table border=\"1\" class=\"dataframe\">\n",
       "  <thead>\n",
       "    <tr style=\"text-align: right;\">\n",
       "      <th></th>\n",
       "      <th>published</th>\n",
       "      <th>when</th>\n",
       "      <th>authors</th>\n",
       "      <th>covid_related</th>\n",
       "      <th>doi</th>\n",
       "      <th>journal</th>\n",
       "    </tr>\n",
       "  </thead>\n",
       "  <tbody>\n",
       "    <tr>\n",
       "      <th></th>\n",
       "      <td>2020-02-11</td>\n",
       "      <td>1 month ago</td>\n",
       "      <td>Matteo Chinazzi; Jessica T. Davis; Marco Ajell...</td>\n",
       "      <td>True</td>\n",
       "      <td>10.1101/2020.02.09.20021261</td>\n",
       "      <td></td>\n",
       "    </tr>\n",
       "  </tbody>\n",
       "</table>\n",
       "</div><div>\n",
       "<h4>Abstract</h4>\n",
       "<div style=\"max-height:160px\">Motivated by the rapid spread of a novel coronavirus (2019-nCoV) in Mainland China, we use a global metapopulation disease transmission model to project the impact of both domestic and international travel limitations on the national and international spread of the epidemic. The model is calibrated on the evidence of internationally imported cases before the implementation of the travel quarantine of Wuhan. By assuming a generation time of 7.5 days, the reproduction number is estimated to be 2.4 [90% CI 2.2-2.6]. The median estimate for number of cases before the travel ban implementation on January 23, 2020 is 58,956 [90% CI 40,759 - 87,471] in Wuhan and 3,491 [90% CI 1,924 - 7,360] in other locations in Mainland China. The model shows that as of January 23, most Chinese cities had already received a considerable number of infected cases, and the travel quarantine delays the overall epidemic progression by only 3 to 5 days. The travel quarantine has a more marked effect at the international scale, where we estimate the number of case importations to be reduced by 80% until the end of February. Modeling results also indicate that sustained 90% travel restrictions to and from Mainland China only modestly affect the epidemic trajectory unless combined with a 50% or higher reduction of transmission in the community.</div>"
      ],
      "text/plain": [
       "<cord.cord19.Paper at 0x21f92ee5ba8>"
      ]
     },
     "execution_count": 21,
     "metadata": {},
     "output_type": "execute_result"
    }
   ],
   "source": [
    "covid_papers = research_papers.covid_related()\n",
    "paper = covid_papers[92]\n",
    "paper"
   ]
  },
  {
   "cell_type": "code",
   "execution_count": 51,
   "metadata": {},
   "outputs": [
    {
     "data": {
      "application/vnd.jupyter.widget-view+json": {
       "model_id": "0ba36d24763d4cd3bea5aa31cce74970",
       "version_major": 2,
       "version_minor": 0
      },
      "text/plain": [
       "interactive(children=(Dropdown(description='ViewPaperAs', options=('Pretty', 'Abstract', 'Summary of Abstract'…"
      ]
     },
     "metadata": {},
     "output_type": "display_data"
    }
   ],
   "source": [
    "paper = research_papers[197]\n",
    "\n",
    "def view_paper(ViewPaperAs):\n",
    "    if ViewPaperAs == 'Pretty':\n",
    "        display(paper)\n",
    "    elif ViewPaperAs == 'Abstract':\n",
    "        display(paper.abstract)\n",
    "    elif ViewPaperAs == 'Summary of Abstract':\n",
    "        display(paper.summary)\n",
    "    elif ViewPaperAs == 'HTML':\n",
    "        display(paper.html)\n",
    "    elif ViewPaperAs == 'Text':\n",
    "        display(paper.text)\n",
    "    elif ViewPaperAs == 'Summary of Text':\n",
    "        display(paper.text_summary)\n",
    "    \n",
    "interact(view_paper,\n",
    "         ViewPaperAs=['Pretty', \n",
    "                      'Abstract', \n",
    "                      'Summary of Abstract', \n",
    "                      'HTML',\n",
    "                      'Text', \n",
    "                      'Summary of Text'\n",
    "                     ]\n",
    "        );"
   ]
  },
  {
   "cell_type": "code",
   "execution_count": 49,
   "metadata": {},
   "outputs": [
    {
     "data": {
      "text/plain": [
       "'5c31897d01f3edc7f58a0f03fceec2373fcfdc3d'"
      ]
     },
     "execution_count": 49,
     "metadata": {},
     "output_type": "execute_result"
    }
   ],
   "source": [
    "paper.sha"
   ]
  },
  {
   "cell_type": "code",
   "execution_count": 15,
   "metadata": {},
   "outputs": [
    {
     "data": {
      "text/html": [
       "<h4>First Case of 2019 Novel Coronavirus in the United States</h4>\n",
       "<div><div>\n",
       "<style scoped>\n",
       "    .dataframe tbody tr th:only-of-type {\n",
       "        vertical-align: middle;\n",
       "    }\n",
       "\n",
       "    .dataframe tbody tr th {\n",
       "        vertical-align: top;\n",
       "    }\n",
       "\n",
       "    .dataframe thead th {\n",
       "        text-align: right;\n",
       "    }\n",
       "</style>\n",
       "<table border=\"1\" class=\"dataframe\">\n",
       "  <thead>\n",
       "    <tr style=\"text-align: right;\">\n",
       "      <th></th>\n",
       "      <th>published</th>\n",
       "      <th>when</th>\n",
       "      <th>authors</th>\n",
       "      <th>covid_related</th>\n",
       "      <th>doi</th>\n",
       "      <th>journal</th>\n",
       "    </tr>\n",
       "  </thead>\n",
       "  <tbody>\n",
       "    <tr>\n",
       "      <th></th>\n",
       "      <td>2020-03-05</td>\n",
       "      <td>4 weeks ago</td>\n",
       "      <td>Holshue, Michelle L.; DeBolt, Chas; Lindquist,...</td>\n",
       "      <td>True</td>\n",
       "      <td>10.1056/nejmoa2001191</td>\n",
       "      <td>New England Journal of Medicine</td>\n",
       "    </tr>\n",
       "  </tbody>\n",
       "</table>\n",
       "</div><div>\n",
       "<h4>Abstract</h4>\n",
       "<div style=\"max-height:160px\">On January 19, 2020, a 35-year-old man presented to an urgent care clinic in Snohomish County, Washington, with a 4-day history of cough and subjective fever. On checking into the clinic, the patient put on a mask in the waiting room. After waiting approximately 20 minutes, he was taken into an examination room and underwent evaluation by a provider. He disclosed that he had returned to Washington State on January 15 after traveling to visit family in Wuhan, China. The patient stated that he had seen a health alert from the U.S. Centers for Disease Control and Prevention (CDC) about the novel coronavirus outbreak in China and, because of his symptoms and recent travel, decided to see a health care provider.</div>"
      ],
      "text/plain": [
       "<cord.cord19.Paper at 0x1e00820c6a0>"
      ]
     },
     "execution_count": 15,
     "metadata": {},
     "output_type": "execute_result"
    }
   ],
   "source": [
    "paper = covid_papers[990]\n",
    "paper"
   ]
  },
  {
   "cell_type": "code",
   "execution_count": 8,
   "metadata": {},
   "outputs": [
    {
     "data": {
      "application/vnd.jupyter.widget-view+json": {
       "model_id": "6b696e0fe4c74e849cc21f5e533abeef",
       "version_major": 2,
       "version_minor": 0
      },
      "text/plain": [
       "HTML(value=\"<h3></h3>\\n\\n<h4></h4>\\n    \\n   <div>Starting in December 2019, Chinese health authorities have b…"
      ]
     },
     "metadata": {},
     "output_type": "display_data"
    }
   ],
   "source": [
    "paper.html"
   ]
  },
  {
   "cell_type": "code",
   "execution_count": 25,
   "metadata": {},
   "outputs": [
    {
     "data": {
      "text/plain": [
       "'5c31897d01f3edc7f58a0f03fceec2373fcfdc3d'"
      ]
     },
     "execution_count": 25,
     "metadata": {},
     "output_type": "execute_result"
    }
   ],
   "source": [
    "paper.sha"
   ]
  },
  {
   "cell_type": "code",
   "execution_count": 41,
   "metadata": {},
   "outputs": [
    {
     "data": {
      "text/html": [
       "<h4>The effect of travel restrictions on the spread of the 2019 novel coronavirus (2019-nCoV) outbreak</h4>\n",
       "<div><div>\n",
       "<style scoped>\n",
       "    .dataframe tbody tr th:only-of-type {\n",
       "        vertical-align: middle;\n",
       "    }\n",
       "\n",
       "    .dataframe tbody tr th {\n",
       "        vertical-align: top;\n",
       "    }\n",
       "\n",
       "    .dataframe thead th {\n",
       "        text-align: right;\n",
       "    }\n",
       "</style>\n",
       "<table border=\"1\" class=\"dataframe\">\n",
       "  <thead>\n",
       "    <tr style=\"text-align: right;\">\n",
       "      <th></th>\n",
       "      <th>published</th>\n",
       "      <th>when</th>\n",
       "      <th>authors</th>\n",
       "      <th>covid_related</th>\n",
       "      <th>doi</th>\n",
       "      <th>journal</th>\n",
       "    </tr>\n",
       "  </thead>\n",
       "  <tbody>\n",
       "    <tr>\n",
       "      <th></th>\n",
       "      <td>2020-02-11</td>\n",
       "      <td>1 month ago</td>\n",
       "      <td>Matteo Chinazzi; Jessica T. Davis; Marco Ajell...</td>\n",
       "      <td>True</td>\n",
       "      <td>10.1101/2020.02.09.20021261</td>\n",
       "      <td></td>\n",
       "    </tr>\n",
       "  </tbody>\n",
       "</table>\n",
       "</div><div>\n",
       "<h4>Abstract</h4>\n",
       "<div style=\"max-height:160px\">Motivated by the rapid spread of a novel coronavirus (2019-nCoV) in Mainland China, we use a global metapopulation disease transmission model to project the impact of both domestic and international travel limitations on the national and international spread of the epidemic. The model is calibrated on the evidence of internationally imported cases before the implementation of the travel quarantine of Wuhan. By assuming a generation time of 7.5 days, the reproduction number is estimated to be 2.4 [90% CI 2.2-2.6]. The median estimate for number of cases before the travel ban implementation on January 23, 2020 is 58,956 [90% CI 40,759 - 87,471] in Wuhan and 3,491 [90% CI 1,924 - 7,360] in other locations in Mainland China. The model shows that as of January 23, most Chinese cities had already received a considerable number of infected cases, and the travel quarantine delays the overall epidemic progression by only 3 to 5 days. The travel quarantine has a more marked effect at the international scale, where we estimate the number of case importations to be reduced by 80% until the end of February. Modeling results also indicate that sustained 90% travel restrictions to and from Mainland China only modestly affect the epidemic trajectory unless combined with a 50% or higher reduction of transmission in the community.</div>"
      ],
      "text/plain": [
       "<cord.cord19.Paper at 0x21f8d966b70>"
      ]
     },
     "execution_count": 41,
     "metadata": {},
     "output_type": "execute_result"
    }
   ],
   "source": [
    "research_papers['5c31897d01f3edc7f58a0f03fceec2373fcfdc3d']"
   ]
  },
  {
   "cell_type": "code",
   "execution_count": 27,
   "metadata": {},
   "outputs": [
    {
     "data": {
      "text/html": [
       "<h3>CORD 19 Research Papers</h3>\n",
       "<div>\n",
       "<style scoped>\n",
       "    .dataframe tbody tr th:only-of-type {\n",
       "        vertical-align: middle;\n",
       "    }\n",
       "\n",
       "    .dataframe tbody tr th {\n",
       "        vertical-align: top;\n",
       "    }\n",
       "\n",
       "    .dataframe thead th {\n",
       "        text-align: right;\n",
       "    }\n",
       "</style>\n",
       "<table border=\"1\" class=\"dataframe\">\n",
       "  <thead>\n",
       "    <tr style=\"text-align: right;\">\n",
       "      <th></th>\n",
       "      <th>Papers</th>\n",
       "      <th>Oldest</th>\n",
       "      <th>Newest</th>\n",
       "      <th>SARS-COV-2</th>\n",
       "      <th>SARS</th>\n",
       "      <th>Coronavirus</th>\n",
       "      <th>Virus</th>\n",
       "      <th>Antivirals</th>\n",
       "    </tr>\n",
       "  </thead>\n",
       "  <tbody>\n",
       "    <tr>\n",
       "      <th></th>\n",
       "      <td>1</td>\n",
       "      <td>2020-03-05</td>\n",
       "      <td>2020-03-05</td>\n",
       "      <td>1</td>\n",
       "      <td>0</td>\n",
       "      <td>1</td>\n",
       "      <td>1</td>\n",
       "      <td>0</td>\n",
       "    </tr>\n",
       "  </tbody>\n",
       "</table>\n",
       "</div>\n",
       "<hr/>\n",
       "<div>\n",
       "<style scoped>\n",
       "    .dataframe tbody tr th:only-of-type {\n",
       "        vertical-align: middle;\n",
       "    }\n",
       "\n",
       "    .dataframe tbody tr th {\n",
       "        vertical-align: top;\n",
       "    }\n",
       "\n",
       "    .dataframe thead th {\n",
       "        text-align: right;\n",
       "    }\n",
       "</style>\n",
       "<table border=\"1\" class=\"dataframe\">\n",
       "  <thead>\n",
       "    <tr style=\"text-align: right;\">\n",
       "      <th></th>\n",
       "      <th>title</th>\n",
       "      <th>abstract</th>\n",
       "      <th>journal</th>\n",
       "      <th>authors</th>\n",
       "      <th>published</th>\n",
       "      <th>when</th>\n",
       "    </tr>\n",
       "  </thead>\n",
       "  <tbody>\n",
       "    <tr>\n",
       "      <th>1559</th>\n",
       "      <td>First Case of 2019 Novel Coronavirus in the Un...</td>\n",
       "      <td>On January 19, 2020, a 35-year-old man present...</td>\n",
       "      <td>New England Journal of Medicine</td>\n",
       "      <td>Holshue, Michelle L.; DeBolt, Chas; Lindquist,...</td>\n",
       "      <td>2020-03-05</td>\n",
       "      <td>4 weeks ago</td>\n",
       "    </tr>\n",
       "  </tbody>\n",
       "</table>\n",
       "</div>\n",
       "<style>\n",
       "h3 {color: #4169E1}\n",
       "</style>"
      ],
      "text/plain": [
       "<cord.cord19.ResearchPapers at 0x21fa87fe9b0>"
      ]
     },
     "execution_count": 27,
     "metadata": {},
     "output_type": "execute_result"
    }
   ],
   "source": [
    "research_papers.query(\"doi=='10.1056/nejmoa2001191'\")"
   ]
  },
  {
   "cell_type": "code",
   "execution_count": 42,
   "metadata": {},
   "outputs": [
    {
     "data": {
      "text/html": [
       "<h4>A Novel Coronavirus from Patients with Pneumonia in China, 2019</h4>\n",
       "<div><div>\n",
       "<style scoped>\n",
       "    .dataframe tbody tr th:only-of-type {\n",
       "        vertical-align: middle;\n",
       "    }\n",
       "\n",
       "    .dataframe tbody tr th {\n",
       "        vertical-align: top;\n",
       "    }\n",
       "\n",
       "    .dataframe thead th {\n",
       "        text-align: right;\n",
       "    }\n",
       "</style>\n",
       "<table border=\"1\" class=\"dataframe\">\n",
       "  <thead>\n",
       "    <tr style=\"text-align: right;\">\n",
       "      <th></th>\n",
       "      <th>published</th>\n",
       "      <th>when</th>\n",
       "      <th>authors</th>\n",
       "      <th>covid_related</th>\n",
       "      <th>doi</th>\n",
       "      <th>journal</th>\n",
       "    </tr>\n",
       "  </thead>\n",
       "  <tbody>\n",
       "    <tr>\n",
       "      <th></th>\n",
       "      <td>2020-02-20</td>\n",
       "      <td>1 month ago</td>\n",
       "      <td>Zhu, N.; Zhang, D.; Wang, W.; Li, X.; Yang, B....</td>\n",
       "      <td>True</td>\n",
       "      <td>10.1056/nejmoa2001017</td>\n",
       "      <td>New England Journal of Medicine</td>\n",
       "    </tr>\n",
       "  </tbody>\n",
       "</table>\n",
       "</div><div>\n",
       "<h4>Abstract</h4>\n",
       "<div style=\"max-height:160px\">In December 2019, a cluster of patients with pneumonia of unknown cause was linked to a seafood wholesale market in Wuhan, China. A previously unknown betacoronavirus was discovered through the use of unbiased sequencing in samples from patients with pneumonia. Human airway epithelial cells were used to isolate a novel coronavirus, named 2019-nCoV, which formed another clade within the subgenus sarbecovirus, Orthocoronavirinae subfamily. Different from both MERS-CoV and SARS-CoV, 2019-nCoV is the seventh member of the family of coronaviruses that infect humans. Enhanced surveillance and further investigation are ongoing. (Funded by the National Key Research and Development Program of China and the National Major Project for Control and Prevention of Infectious Disease in China.).</div>"
      ],
      "text/plain": [
       "<cord.cord19.Paper at 0x21f92c95ba8>"
      ]
     },
     "execution_count": 42,
     "metadata": {},
     "output_type": "execute_result"
    }
   ],
   "source": [
    "research_papers[1558]"
   ]
  },
  {
   "cell_type": "code",
   "execution_count": 40,
   "metadata": {},
   "outputs": [
    {
     "data": {
      "text/plain": [
       "cord_uid                                                                f87h5qh6\n",
       "sha                                     5c31897d01f3edc7f58a0f03fceec2373fcfdc3d\n",
       "source                                                                   medrxiv\n",
       "title                          The effect of travel restrictions on the sprea...\n",
       "doi                                                  10.1101/2020.02.09.20021261\n",
       "pmcid                                                                        NaN\n",
       "pubmed_id                                                                    NaN\n",
       "license                                                                  medrvix\n",
       "abstract                       Motivated by the rapid spread of a novel coron...\n",
       "published                                                    2020-02-11 00:00:00\n",
       "authors                        Matteo Chinazzi; Jessica T. Davis; Marco Ajell...\n",
       "journal                                                                         \n",
       "Microsoft Academic Paper ID                                                  NaN\n",
       "WHO #Covidence                                                               NaN\n",
       "has_text                                                                    True\n",
       "full_text_file                                                   biorxiv_medrxiv\n",
       "url                                  https://doi.org/10.1101/2020.02.09.20021261\n",
       "when                                                                 1 month ago\n",
       "covid_related                                                               True\n",
       "virus                                                                       True\n",
       "coronavirus                                                                 True\n",
       "sars                                                                       False\n",
       "index_tokens                   [motivated, rapid, spread, novel, coronavirus,...\n",
       "antivirals                                                                      \n",
       "Name: 197, dtype: object"
      ]
     },
     "execution_count": 40,
     "metadata": {},
     "output_type": "execute_result"
    }
   ],
   "source": [
    "item = research_papers.metadata[research_papers.metadata.sha == '5c31897d01f3edc7f58a0f03fceec2373fcfdc3d']\n",
    "item.T.iloc[:,0]"
   ]
  },
  {
   "cell_type": "code",
   "execution_count": null,
   "metadata": {},
   "outputs": [],
   "source": []
  }
 ],
 "metadata": {
  "kernelspec": {
   "display_name": "cord",
   "language": "python",
   "name": "cord"
  },
  "language_info": {
   "codemirror_mode": {
    "name": "ipython",
    "version": 3
   },
   "file_extension": ".py",
   "mimetype": "text/x-python",
   "name": "python",
   "nbconvert_exporter": "python",
   "pygments_lexer": "ipython3",
   "version": "3.7.0"
  }
 },
 "nbformat": 4,
 "nbformat_minor": 4
}
