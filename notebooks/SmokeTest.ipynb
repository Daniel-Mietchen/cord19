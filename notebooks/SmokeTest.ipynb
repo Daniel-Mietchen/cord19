{
 "cells": [
  {
   "cell_type": "markdown",
   "metadata": {},
   "source": [
    "# Smoke Test"
   ]
  },
  {
   "cell_type": "code",
   "execution_count": 1,
   "metadata": {},
   "outputs": [],
   "source": [
    "from cord import ResearchPapers\n",
    "import pandas as pd"
   ]
  },
  {
   "cell_type": "code",
   "execution_count": 2,
   "metadata": {},
   "outputs": [
    {
     "name": "stdout",
     "output_type": "stream",
     "text": [
      "Loading metadata from ..\\data\\CORD-19-research-challenge\n",
      "Cleaning metadata\n",
      "\n",
      "Indexing research papers\n",
      "Creating the BM25 index from the abstracts of the papers\n",
      "Use index=\"text\" if you want to index the texts of the paper instead\n",
      "Finished Indexing in 36.0 seconds\n"
     ]
    }
   ],
   "source": [
    "research_papers = ResearchPapers.load()"
   ]
  },
  {
   "cell_type": "code",
   "execution_count": 3,
   "metadata": {},
   "outputs": [
    {
     "data": {
      "text/html": [
       "\n",
       " <h4 class='cord'>Initial psychological responses to Influenza A, H1N1 (\"Swine flu\")</h4>\n",
       "\n",
       " <span class='authors'>Goodwin, Robin; Haque, Shamsul; Neto, Felix; Myers, Lynn B...</span>\n",
       " <span class='published'>10 years ago</span>\n",
       "  <a href='http://doi.org/10.1186/1471-2334-9-166' target='_new' class='link'>Link</a> \n",
       " <div class='abstract'>: The outbreak of the pandemic flu, Influenza A H1N1 (Swine Flu) in early 2009, provided a major challenge to health services around the world. Previous pandemics have led to stockpiling of goods, the victimisation of particular population groups, and the cancellation of travel and the boycotting of...</div>\n",
       "\n",
       "\n",
       " <h4 class='cord'>The Influenza Virus Enigma</h4>\n",
       "\n",
       " <span class='authors'>Salomon, Rachelle; Webster, Robert G....</span>\n",
       " <span class='published'>11 years ago</span>\n",
       "  <a href='http://doi.org/10.1016/j.cell.2009.01.029' target='_new' class='link'>Link</a> \n",
       " <div class='abstract'>Both seasonal and pandemic influenza continue to challenge both scientists and clinicians. Drug-resistant H1N1 influenza viruses have dominated the 2009 flu season, and the H5N1 avian influenza virus continues to kill both people and poultry in Eurasia. Here, we discuss the pathogenesis and transmis...</div>\n",
       "\n",
       "\n",
       " <h4 class='cord'>Transmission parameters of the A/H1N1 (2009) influenza virus pandemic: a review</h4>\n",
       "\n",
       " <span class='authors'>Boëlle, Pierre‐Yves; Ansart, Séverine; Cori, Anne; Valleron, Alain‐Jacques...</span>\n",
       " <span class='published'>9 years ago</span>\n",
       "  <a href='http://doi.org/10.1111/j.1750-2659.2011.00234.x' target='_new' class='link'>Link</a> \n",
       " <div class='abstract'>Please cite this paper as: Boëlle P‐Y et al. (2011) Transmission parameters of the A/H1N1 (2009) influenza virus pandemic: a review. Influenza and Other Respiratory Viruses 5(5), 306–316. Background The new influenza virus A/H1N1 (2009), identified in mid‐2009, rapidly spread over the world. Estimat...</div>\n",
       "\n",
       "\n",
       " <h4 class='cord'>The contribution of respiratory pathogens to the seasonality of NHS Direct calls</h4>\n",
       "\n",
       " <span class='authors'>Cooper, D.L.; Smith, G.E.; Edmunds, W.J.; Joseph, C.; Gerard, E.; George, R.C....</span>\n",
       " <span class='published'>12 years ago</span>\n",
       "  <a href='http://doi.org/10.1016/j.jinf.2007.04.353' target='_new' class='link'>Link</a> \n",
       " <div class='abstract'> Objectives Primary care is thought to bear half the cost of treating infections in the UK. We describe the seasonal variation in NHS Direct respiratory calls (a new source of primary care data) and estimate the contribution of specific respiratory pathogens to this variation. Methods Linear regress...</div>\n",
       "\n",
       "\n",
       " <h4 class='cord'>Public views of the uk media and government reaction to the 2009 swine flu pandemic</h4>\n",
       "\n",
       " <span class='authors'>Hilton, Shona; Smith, Emily...</span>\n",
       " <span class='published'>9 years ago</span>\n",
       "  <a href='http://doi.org/10.1186/1471-2458-10-697' target='_new' class='link'>Link</a> \n",
       " <div class='abstract'>: The first cases of influenza A/H1N1 (swine flu) were confirmed in the UK on 27th April 2009, after a novel virus first identified in Mexico rapidly evolved into a pandemic. The swine flu outbreak was the first pandemic in more than 40 years and for many, their first encounter with a major influenz...</div>\n",
       "\n",
       "\n",
       " <h4 class='cord'>Difference in immune response in vaccinated and unvaccinated Swedish individuals after the 2009 influenza pandemic</h4>\n",
       "\n",
       " <span class='authors'>Magalhaes, Isabelle; Eriksson, Mikael; Linde, Charlotte; Muhammad, Rashid; Rane, Lalit; Ambati, Aditya; Axelsson-Robertson, Rebecca; Khalaj, Bahareh; Alvarez-Corrales, Nancy; Lapini, Giulia; Montomoli...</span>\n",
       " <span class='published'>6 years ago</span>\n",
       "  <a href='http://doi.org/10.1186/1471-2334-14-319' target='_new' class='link'>Link</a> \n",
       " <div class='abstract'>: Previous exposures to flu and subsequent immune responses may impact on 2009/2010 pandemic flu vaccine responses and clinical symptoms upon infection with the 2009 pandemic H1N1 influenza strain. Qualitative and quantitative differences in humoral and cellular immune responses associated with the ...</div>\n",
       "\n",
       "\n",
       " <h4 class='cord'>Agent-based simulation for weekend-extension strategies to mitigate influenza outbreaks</h4>\n",
       "\n",
       " <span class='authors'>Mao, Liang...</span>\n",
       " <span class='published'>9 years ago</span>\n",
       "  <a href='http://doi.org/10.1186/1471-2458-11-522' target='_new' class='link'>Link</a> \n",
       " <div class='abstract'>: Non-pharmaceutical strategies are vital in curtailing impacts of influenza and have been intensively studied in public health. However, few strategies have explicitly utilized the weekend effect, which has been widely reported to be capable of reducing influenza infections. This study aims to expl...</div>\n",
       "\n",
       "\n",
       " <h4 class='cord'>Global response to pandemic flu: more research needed on a critical front</h4>\n",
       "\n",
       " <span class='authors'>Lim, Meng-Kin...</span>\n",
       " <span class='published'>13 years ago</span>\n",
       "  <a href='http://doi.org/10.1186/1478-4505-4-8' target='_new' class='link'>Link</a> \n",
       " <div class='abstract'>If and when sustained human-to-human transmission of H5N1 becomes a reality, the world will no longer be dealing with sporadic avian flu borne along migratory flight paths of birds, but aviation flu – winged at subsonic speed along commercial air conduits to every corner of planet Earth. Given that ...</div>\n",
       "\n",
       "\n",
       " <h4 class='cord'>Human temperatures for syndromic surveillance in the emergency department: data from the autumn wave of the 2009 swine flu (H1N1) pandemic and a seasonal influenza outbreak</h4>\n",
       "\n",
       " <span class='authors'>Bordonaro, Samantha F.; McGillicuddy, Daniel C.; Pompei, Francesco; Burmistrov, Dmitriy; Harding, Charles; Sanchez, Leon D....</span>\n",
       " <span class='published'>4 years ago</span>\n",
       "  <a href='http://doi.org/10.1186/s12873-016-0080-7' target='_new' class='link'>Link</a> \n",
       " <div class='abstract'>: The emergency department (ED) increasingly acts as a gateway to the evaluation and treatment of acute illnesses. Consequently, it has also become a key testing ground for systems that monitor and identify outbreaks of disease. Here, we describe a new technology that automatically collects body tem...</div>\n",
       "\n",
       "\n",
       " <h4 class='cord'>Clinical Accuracy of a PLEX-ID Flu Device for Simultaneous Detection and Identification of Influenza Viruses A and B</h4>\n",
       "\n",
       " <span class='authors'>Tang, Yi-Wei; Lowery, Kristin S.; Valsamakis, Alexandra; Schaefer, Virginia C.; Chappell, James D.; White-Abell, Jill; Quinn, Criziel D.; Li, Haijing; Washington, Cicely A.; Cromwell, Jenna; Giamanco,...</span>\n",
       " <span class='published'>7 years ago</span>\n",
       "  <a href='http://doi.org/10.1128/jcm.01978-12' target='_new' class='link'>Link</a> \n",
       " <div class='abstract'>Respiratory tract infections caused by influenza A and B viruses often present nonspecifically, and a rapid, high-throughput laboratory technique that can identify influenza viruses is clinically and epidemiologically desirable. The PLEX-ID Flu assay (Abbott Molecular Inc., Des Plaines, IL) incorpor...</div>\n",
       "\n",
       "\n",
       "\n",
       "<style>\n",
       ".authors, .published{\n",
       "    padding: 12px 10px 0px 0px;\n",
       "    margin: 12px 0px 5px;\n",
       "}\n",
       ".authors { color: #778899;}\n",
       ".published {color: #2F4F4F; font-weight: bold; font-size: 0.9em;}\n",
       "h2.cord, h3.cord, h4.cord {margin-top: 15px}\n",
       "div.abstract {max-height : 80px; margin-top: 10px}\n",
       ".link-text {color: #808080; font-size: 0.9em}\n",
       "</style>"
      ],
      "text/plain": [
       "<cord.cord19.SearchResults at 0x1c2ea527e80>"
      ]
     },
     "execution_count": 3,
     "metadata": {},
     "output_type": "execute_result"
    }
   ],
   "source": [
    "research_papers.search('seasonal flu transmission')"
   ]
  },
  {
   "cell_type": "code",
   "execution_count": 4,
   "metadata": {},
   "outputs": [
    {
     "data": {
      "application/vnd.jupyter.widget-view+json": {
       "model_id": "73ed6b040c1e4f2e8c81e61d2d92b66b",
       "version_major": 2,
       "version_minor": 0
      },
      "text/plain": [
       "VBox(children=(HBox(children=(Text(value='', layout=Layout(width='400px')), Button(button_style='primary', des…"
      ]
     },
     "metadata": {},
     "output_type": "display_data"
    },
    {
     "data": {
      "application/vnd.jupyter.widget-view+json": {
       "model_id": "694e0df48fb04a8884747abd91b3b83c",
       "version_major": 2,
       "version_minor": 0
      },
      "text/plain": [
       "Output()"
      ]
     },
     "metadata": {},
     "output_type": "display_data"
    }
   ],
   "source": [
    "research_papers.searchbar()"
   ]
  },
  {
   "cell_type": "code",
   "execution_count": 5,
   "metadata": {},
   "outputs": [
    {
     "data": {
      "text/html": [
       "<div>\n",
       "<style scoped>\n",
       "    .dataframe tbody tr th:only-of-type {\n",
       "        vertical-align: middle;\n",
       "    }\n",
       "\n",
       "    .dataframe tbody tr th {\n",
       "        vertical-align: top;\n",
       "    }\n",
       "\n",
       "    .dataframe thead th {\n",
       "        text-align: right;\n",
       "    }\n",
       "</style>\n",
       "<table border=\"1\" class=\"dataframe\">\n",
       "  <thead>\n",
       "    <tr style=\"text-align: right;\">\n",
       "      <th></th>\n",
       "      <th>index_tokens</th>\n",
       "    </tr>\n",
       "  </thead>\n",
       "  <tbody>\n",
       "    <tr>\n",
       "      <th>0</th>\n",
       "      <td>[next-generation, sequencing, increasingly, used, study, samples, composed, mixtures, organisms, clinical, applications, presence, pathogen, very, low, abundance, highly, important, present, analytical, method, siann, strain, identification, alignment, near, neighbors, specifically, designed, rapidly, detect, set, target, organisms, mixed, samples, achieves, high, degree, species-, strain-specificity, aligning, short, sequence, reads, genomes, near, neighbor, organisms, well, target, empirical, benchmarking, alongside, current, state-of-the-art, methods, shows, extremely, high, positive, predictive, value, even, very, low, abundances, target, organism, mixed, sample, siann, available, illumina, basespace, app, well, signature, science, llc, siann, results, presented, streamlined, report, designed, comprehensible, non-specialist, user, providing, powerful, tool, rapid, species, detection, mixed, sample, focusing, set, customizable, ...]</td>\n",
       "    </tr>\n",
       "    <tr>\n",
       "      <th>1</th>\n",
       "      <td>[emerging, disease, infectious, epidemic, caused, newly, transmissible, pathogen, either, appeared, first, time, already, existed, human, populations, capacity, increase, rapidly, incidence, well, geographic, range, adapting, human, immune, system, emerging, diseases, trigger, large-scale, pandemic, spreading, transnational, spreading, sars, global, outbreak, ah1n1, recent, potential, invasion, avian, influenza, ah7n9, study, dynamics, mediating, transmission, emerging, diseases, spatial, epidemiology, networked, metapopulation, provides, valuable, modeling, framework, takes, spatially, distributed, factors, consideration, review, elaborates, latest, progresses, spatial, metapopulation, dynamics, discusses, empirical, theoretical, findings, verify, validity, networked, metapopulations, application, evaluating, effectiveness, disease, intervention, strategies, well]</td>\n",
       "    </tr>\n",
       "    <tr>\n",
       "      <th>2</th>\n",
       "      <td>[germline, variation, immunoglobulin, gene, ig, loci, critical, pathogen-mediated, immunity, establishing, complete, reference, sequences, regions, problematic, segmental, duplications, somatically, rearranged, source, dna, sequenced, bac, clones, essentially, haploid, hydatidiform, mole, chm1, across, light, chain, ig, loci, kappa, igk, lambda, igl, creating, single, haplotype, representations, regions, igl, haplotype, contiguous, sequence, novel, gene, novel, gene, alleles, insertion, igk, haplotype, consists, proximal, distal, contigs, separated, gap, also, present, reference, genome, sequence, effort, added, additional, unique, sequence, extending, gap, igk, haplotype, contains, novel, gene, novel, gene, alleles, region, increased, sequence, identity, igk, contigs, exhibiting, signatures, interlocus, gene, conversion, data, facilitated, first, comparison, nucleotide, diversity, light, ig, ...]</td>\n",
       "    </tr>\n",
       "    <tr>\n",
       "      <th>3</th>\n",
       "      <td>[deep, sequencing, clinical, samples, established, tool, detection, infectious, pathogens, direct, medical, applications, large, amount, data, generated, provides, opportunity, detect, species, even, very, low, levels, provided, computational, tools, effectively, interpret, potentially, complex, metagenomic, mixtures, data, interpretation, complicated, fact, short, sequencing, reads, match, multiple, organisms, lack, completeness, existing, databases, particular, viral, pathogens, interpretation, problem, formulated, statistically, mixture, model, species, origin, read, missing, complete, knowledge, species, present, mixture, helps, individual, reads, assignment, several, analytical, tools, proposed, approximately, solve, computational, problem, show, use, parallel, monte, carlo, markov, chains, mcmc, exploration, species, space, enables, identification, set, species, likely, contribute, mixture, added, accuracy, comes, cost, increased, ...]</td>\n",
       "    </tr>\n",
       "    <tr>\n",
       "      <th>4</th>\n",
       "      <td>[developing, methods, reconstruct, transmission, histories, viral, outbreaks, could, provide, critical, information, support, locating, sources, disease, transmission, phylogenetic, methods, used, measure, degree, relatedness, among, sequenced, viral, samples, proven, useful, identifying, potential, outbreak, sources, complex, nature, infectious, disease, makes, difficult, assign, rigorously, defined, quantitative, confidence, value, assessing, likelihood, true, direct, transmission, event, using, genetic, data, alone, new, method, presented, calculate, confidence, value, assessing, likelihood, transmission, event, using, phylogenetic, inference, limited, knowledge, incubation, infectious, duration, times, method, applied, simulations, foot, mouth, disease, fmd, outbreak, demonstrate, combination, phylogenetic, epidemiology, data, used, strengthen, assessment, likelihood, direct, transmission, methods, using, phylogenetic, data, infection, timing, data, alone, ...]</td>\n",
       "    </tr>\n",
       "    <tr>\n",
       "      <th>...</th>\n",
       "      <td>...</td>\n",
       "    </tr>\n",
       "    <tr>\n",
       "      <th>95</th>\n",
       "      <td>[bunyaviruses, significant, human, pathogens, causing, diseases, ranging, hemorrhagic, fevers, encephalitis, among, viruses, la, crosse, virus, lacv, member, california, serogroup, circulates, eastern, midwestern, united, states, lacv, infection, often, asymptomatic, dozens, cases, encephalitis, reported, yearly, unfortunately, antivirals, approved, treat, lacv, infection, developed, method, rapidly, test, potential, antivirals, lacv, infection, screen, identified, several, potential, antiviral, molecules, including, known, antivirals, additionally, identified, many, novel, antivirals, exhibited, antiviral, activity, without, affecting, cellular, viability, valinomycin, potassium, ionophore, among, top, targets, found, valinomycin, exhibited, potent, anti-lacv, activity, multiple, cell, types, dose-dependent, manner, valinomycin, affect, particle, stability, infectivity, suggesting, preclude, virus, replication, altering, cellular, potassium, ions, known, determinant, ...]</td>\n",
       "    </tr>\n",
       "    <tr>\n",
       "      <th>96</th>\n",
       "      <td>[since, sars, outbreak, years, ago, large, number, severe, acute, respiratory, syndrome, related, coronaviruses, sarsr-cov, discovered, natural, reservoir, host, bats1-4, previous, studies, indicated, bat, sarsr-covs, potential, infect, humans5-7, report, identification, characterization, novel, coronavirus, ncov-2019, caused, epidemic, acute, respiratory, syndrome, humans, wuhan, china, epidemic, started, december, 2019, caused, laboratory, confirmed, infections, fatal, cases, january, 2020, full-length, genome, sequences, obtained, patients, early, stage, outbreak, almost, identical, share, sequence, identify, sars-cov, furthermore, found, ncov-2019, identical, whole, genome, level, bat, coronavirus, pairwise, protein, sequence, analysis, conserved, non-structural, proteins, show, virus, belongs, species, sarsr-cov, ncov-2019, virus, isolated, bronchoalveolar, lavage, fluid, critically, ill, patient, neutralized, sera, several, ...]</td>\n",
       "    </tr>\n",
       "    <tr>\n",
       "      <th>97</th>\n",
       "      <td>[past, years, several, coronaviruses, crossed, species, barrier, humans, causing, outbreaks, severe, often, fatal, respiratory, illness, since, sars-, cov, first, identified, animal, markets, global, viromics, projects, discovered, thousands, coronavirus, sequences, diverse, animals, geographic, regions, unfortunately, tools, available, functionally, test, novel, viruses, ability, infect, humans, severely, hampered, efforts, predict, next, zoonotic, viral, outbreak, developed, approach, rapidly, screen, lineage, betacoronaviruses, sars-cov, recent, 2019-ncov, receptor, usage, ability, infect, cell, types, different, species, show, host, protease, processing, viral, entry, significant, barrier, several, lineage, viruses, bypassing, barrier, allows, several, lineage, viruses, enter, human, cells, unknown, receptor, also, demonstrate, different, lineage, viruses, recombine, gain, entry, human, cells, ...]</td>\n",
       "    </tr>\n",
       "    <tr>\n",
       "      <th>98</th>\n",
       "      <td>[since, first, identified, epidemic, scale, recently, emerged, novel, coronavirus, 2019-ncov, wuhan, china, increased, rapidly, cases, arising, across, china, countries, regions, using, transmission, model, estimate, basic, reproductive, number, transmissions, must, prevented, stop, increasing, wuhan, case, ascertainment, total, infections, wuhan, january]</td>\n",
       "    </tr>\n",
       "    <tr>\n",
       "      <th>99</th>\n",
       "      <td>[backgroundsan, ongoing, outbreak, novel, coronavirus, 2019-ncov, pneumonia, hit, major, city, china, wuhan, december, 2019, subsequently, reached, provinces, regions, china, countries, present, estimates, basic, reproduction, number, r0, 2019-ncov, early, phase, outbreakmethodsaccounting, impact, variations, disease, reporting, rate, modelled, epidemic, curve, 2019-ncov, cases, time, series, mainland, china, january, january, 2020, exponential, growth, estimated, intrinsic, growth, rate, estimated, r0, using, serial, intervals, si, well-known, coronavirus, diseases, mers, sars, approximations, true, unknown, sifindingsthe, early, outbreak, data, largely, follows, exponential, growth, estimated, mean, r0, ranges, associated, increase, reporting, rate, demonstrated, changes, reporting, rate, substantially, affect, estimates, r0conclusionthe, mean, estimate, r0, 2019-ncov, ranges, significantly, larger, findings, indicate, ...]</td>\n",
       "    </tr>\n",
       "  </tbody>\n",
       "</table>\n",
       "<p>100 rows × 1 columns</p>\n",
       "</div>"
      ],
      "text/plain": [
       "                                                                                                                                                                                                                                                                                                                                                                                                                                                                                                                                                                                                                                                                                                                                                                                                                                                                                                                                                                                                                   index_tokens\n",
       "0                                         [next-generation, sequencing, increasingly, used, study, samples, composed, mixtures, organisms, clinical, applications, presence, pathogen, very, low, abundance, highly, important, present, analytical, method, siann, strain, identification, alignment, near, neighbors, specifically, designed, rapidly, detect, set, target, organisms, mixed, samples, achieves, high, degree, species-, strain-specificity, aligning, short, sequence, reads, genomes, near, neighbor, organisms, well, target, empirical, benchmarking, alongside, current, state-of-the-art, methods, shows, extremely, high, positive, predictive, value, even, very, low, abundances, target, organism, mixed, sample, siann, available, illumina, basespace, app, well, signature, science, llc, siann, results, presented, streamlined, report, designed, comprehensible, non-specialist, user, providing, powerful, tool, rapid, species, detection, mixed, sample, focusing, set, customizable, ...]\n",
       "1                                                                                                                 [emerging, disease, infectious, epidemic, caused, newly, transmissible, pathogen, either, appeared, first, time, already, existed, human, populations, capacity, increase, rapidly, incidence, well, geographic, range, adapting, human, immune, system, emerging, diseases, trigger, large-scale, pandemic, spreading, transnational, spreading, sars, global, outbreak, ah1n1, recent, potential, invasion, avian, influenza, ah7n9, study, dynamics, mediating, transmission, emerging, diseases, spatial, epidemiology, networked, metapopulation, provides, valuable, modeling, framework, takes, spatially, distributed, factors, consideration, review, elaborates, latest, progresses, spatial, metapopulation, dynamics, discusses, empirical, theoretical, findings, verify, validity, networked, metapopulations, application, evaluating, effectiveness, disease, intervention, strategies, well]\n",
       "2                                                                                [germline, variation, immunoglobulin, gene, ig, loci, critical, pathogen-mediated, immunity, establishing, complete, reference, sequences, regions, problematic, segmental, duplications, somatically, rearranged, source, dna, sequenced, bac, clones, essentially, haploid, hydatidiform, mole, chm1, across, light, chain, ig, loci, kappa, igk, lambda, igl, creating, single, haplotype, representations, regions, igl, haplotype, contiguous, sequence, novel, gene, novel, gene, alleles, insertion, igk, haplotype, consists, proximal, distal, contigs, separated, gap, also, present, reference, genome, sequence, effort, added, additional, unique, sequence, extending, gap, igk, haplotype, contains, novel, gene, novel, gene, alleles, region, increased, sequence, identity, igk, contigs, exhibiting, signatures, interlocus, gene, conversion, data, facilitated, first, comparison, nucleotide, diversity, light, ig, ...]\n",
       "3                                   [deep, sequencing, clinical, samples, established, tool, detection, infectious, pathogens, direct, medical, applications, large, amount, data, generated, provides, opportunity, detect, species, even, very, low, levels, provided, computational, tools, effectively, interpret, potentially, complex, metagenomic, mixtures, data, interpretation, complicated, fact, short, sequencing, reads, match, multiple, organisms, lack, completeness, existing, databases, particular, viral, pathogens, interpretation, problem, formulated, statistically, mixture, model, species, origin, read, missing, complete, knowledge, species, present, mixture, helps, individual, reads, assignment, several, analytical, tools, proposed, approximately, solve, computational, problem, show, use, parallel, monte, carlo, markov, chains, mcmc, exploration, species, space, enables, identification, set, species, likely, contribute, mixture, added, accuracy, comes, cost, increased, ...]\n",
       "4           [developing, methods, reconstruct, transmission, histories, viral, outbreaks, could, provide, critical, information, support, locating, sources, disease, transmission, phylogenetic, methods, used, measure, degree, relatedness, among, sequenced, viral, samples, proven, useful, identifying, potential, outbreak, sources, complex, nature, infectious, disease, makes, difficult, assign, rigorously, defined, quantitative, confidence, value, assessing, likelihood, true, direct, transmission, event, using, genetic, data, alone, new, method, presented, calculate, confidence, value, assessing, likelihood, transmission, event, using, phylogenetic, inference, limited, knowledge, incubation, infectious, duration, times, method, applied, simulations, foot, mouth, disease, fmd, outbreak, demonstrate, combination, phylogenetic, epidemiology, data, used, strengthen, assessment, likelihood, direct, transmission, methods, using, phylogenetic, data, infection, timing, data, alone, ...]\n",
       "..                                                                                                                                                                                                                                                                                                                                                                                                                                                                                                                                                                                                                                                                                                                                                                                                                                                                                                                                                                                                                          ...\n",
       "95  [bunyaviruses, significant, human, pathogens, causing, diseases, ranging, hemorrhagic, fevers, encephalitis, among, viruses, la, crosse, virus, lacv, member, california, serogroup, circulates, eastern, midwestern, united, states, lacv, infection, often, asymptomatic, dozens, cases, encephalitis, reported, yearly, unfortunately, antivirals, approved, treat, lacv, infection, developed, method, rapidly, test, potential, antivirals, lacv, infection, screen, identified, several, potential, antiviral, molecules, including, known, antivirals, additionally, identified, many, novel, antivirals, exhibited, antiviral, activity, without, affecting, cellular, viability, valinomycin, potassium, ionophore, among, top, targets, found, valinomycin, exhibited, potent, anti-lacv, activity, multiple, cell, types, dose-dependent, manner, valinomycin, affect, particle, stability, infectivity, suggesting, preclude, virus, replication, altering, cellular, potassium, ions, known, determinant, ...]\n",
       "96                                         [since, sars, outbreak, years, ago, large, number, severe, acute, respiratory, syndrome, related, coronaviruses, sarsr-cov, discovered, natural, reservoir, host, bats1-4, previous, studies, indicated, bat, sarsr-covs, potential, infect, humans5-7, report, identification, characterization, novel, coronavirus, ncov-2019, caused, epidemic, acute, respiratory, syndrome, humans, wuhan, china, epidemic, started, december, 2019, caused, laboratory, confirmed, infections, fatal, cases, january, 2020, full-length, genome, sequences, obtained, patients, early, stage, outbreak, almost, identical, share, sequence, identify, sars-cov, furthermore, found, ncov-2019, identical, whole, genome, level, bat, coronavirus, pairwise, protein, sequence, analysis, conserved, non-structural, proteins, show, virus, belongs, species, sarsr-cov, ncov-2019, virus, isolated, bronchoalveolar, lavage, fluid, critically, ill, patient, neutralized, sera, several, ...]\n",
       "97                                                                          [past, years, several, coronaviruses, crossed, species, barrier, humans, causing, outbreaks, severe, often, fatal, respiratory, illness, since, sars-, cov, first, identified, animal, markets, global, viromics, projects, discovered, thousands, coronavirus, sequences, diverse, animals, geographic, regions, unfortunately, tools, available, functionally, test, novel, viruses, ability, infect, humans, severely, hampered, efforts, predict, next, zoonotic, viral, outbreak, developed, approach, rapidly, screen, lineage, betacoronaviruses, sars-cov, recent, 2019-ncov, receptor, usage, ability, infect, cell, types, different, species, show, host, protease, processing, viral, entry, significant, barrier, several, lineage, viruses, bypassing, barrier, allows, several, lineage, viruses, enter, human, cells, unknown, receptor, also, demonstrate, different, lineage, viruses, recombine, gain, entry, human, cells, ...]\n",
       "98                                                                                                                                                                                                                                                                                                                                                                                                                                                                                                                                                                                                                                                       [since, first, identified, epidemic, scale, recently, emerged, novel, coronavirus, 2019-ncov, wuhan, china, increased, rapidly, cases, arising, across, china, countries, regions, using, transmission, model, estimate, basic, reproductive, number, transmissions, must, prevented, stop, increasing, wuhan, case, ascertainment, total, infections, wuhan, january]\n",
       "99                                                  [backgroundsan, ongoing, outbreak, novel, coronavirus, 2019-ncov, pneumonia, hit, major, city, china, wuhan, december, 2019, subsequently, reached, provinces, regions, china, countries, present, estimates, basic, reproduction, number, r0, 2019-ncov, early, phase, outbreakmethodsaccounting, impact, variations, disease, reporting, rate, modelled, epidemic, curve, 2019-ncov, cases, time, series, mainland, china, january, january, 2020, exponential, growth, estimated, intrinsic, growth, rate, estimated, r0, using, serial, intervals, si, well-known, coronavirus, diseases, mers, sars, approximations, true, unknown, sifindingsthe, early, outbreak, data, largely, follows, exponential, growth, estimated, mean, r0, ranges, associated, increase, reporting, rate, demonstrated, changes, reporting, rate, substantially, affect, estimates, r0conclusionthe, mean, estimate, r0, 2019-ncov, ranges, significantly, larger, findings, indicate, ...]\n",
       "\n",
       "[100 rows x 1 columns]"
      ]
     },
     "execution_count": 5,
     "metadata": {},
     "output_type": "execute_result"
    }
   ],
   "source": [
    "pd.options.display.max_colwidth=2000\n",
    "metadata = research_papers.metadata\n",
    "metadata.head(100).index_tokens.to_frame()"
   ]
  },
  {
   "cell_type": "code",
   "execution_count": null,
   "metadata": {},
   "outputs": [],
   "source": []
  }
 ],
 "metadata": {
  "kernelspec": {
   "display_name": "cord",
   "language": "python",
   "name": "cord"
  },
  "language_info": {
   "codemirror_mode": {
    "name": "ipython",
    "version": 3
   },
   "file_extension": ".py",
   "mimetype": "text/x-python",
   "name": "python",
   "nbconvert_exporter": "python",
   "pygments_lexer": "ipython3",
   "version": "3.7.0"
  }
 },
 "nbformat": 4,
 "nbformat_minor": 4
}
