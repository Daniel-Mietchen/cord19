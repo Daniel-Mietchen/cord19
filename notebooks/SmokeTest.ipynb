{
 "cells": [
  {
   "cell_type": "markdown",
   "metadata": {},
   "source": [
    "# Smoke Test"
   ]
  },
  {
   "cell_type": "code",
   "execution_count": 1,
   "metadata": {},
   "outputs": [],
   "source": [
    "from cord import ResearchPapers\n",
    "import pandas as pd"
   ]
  },
  {
   "cell_type": "code",
   "execution_count": 3,
   "metadata": {},
   "outputs": [
    {
     "name": "stdout",
     "output_type": "stream",
     "text": [
      "Loading metadata from ..\\data\\CORD-19-research-challenge\n",
      "Cleaning metadata\n",
      "Applying tags to metadata\n",
      "\n",
      "Indexing research papers\n",
      "Creating the BM25 index from the text contents of the papers\n",
      "Loading json cache files for comm_use_subset\n"
     ]
    },
    {
     "data": {
      "application/vnd.jupyter.widget-view+json": {
       "model_id": "e5782c4fee8f41a7a66f6b1a5f3607d2",
       "version_major": 2,
       "version_minor": 0
      },
      "text/plain": [
       "HBox(children=(FloatProgress(value=0.0, max=5.0), HTML(value='')))"
      ]
     },
     "metadata": {},
     "output_type": "display_data"
    },
    {
     "name": "stdout",
     "output_type": "stream",
     "text": [
      "\n",
      "Loading json cache files for biorxiv_medrxiv\n",
      "Loading json cache files for noncomm_use_subset\n",
      "Loading json cache files for custom_license\n"
     ]
    },
    {
     "data": {
      "application/vnd.jupyter.widget-view+json": {
       "model_id": "d4789bd121324be68aba7934614d5979",
       "version_major": 2,
       "version_minor": 0
      },
      "text/plain": [
       "HBox(children=(FloatProgress(value=0.0, max=11.0), HTML(value='')))"
      ]
     },
     "metadata": {},
     "output_type": "display_data"
    },
    {
     "name": "stdout",
     "output_type": "stream",
     "text": [
      "\n",
      "Finished Indexing texts in 74.0 seconds\n"
     ]
    }
   ],
   "source": [
    "research_papers = ResearchPapers.load(index='texts')"
   ]
  },
  {
   "cell_type": "code",
   "execution_count": 4,
   "metadata": {},
   "outputs": [
    {
     "data": {
      "text/html": [
       "\n",
       " <h4 class='cord'>Agent-based simulation for weekend-extension strategies to mitigate influenza outbreaks</h4>\n",
       "\n",
       " <span class='authors'>Mao, Liang...</span>\n",
       " <span class='published'>9 years ago</span>\n",
       "  <a href='http://doi.org/10.1186/1471-2458-11-522' target='_new' class='link'>Link</a> \n",
       " <div class='abstract'>However, few strategies have explicitly utilized the weekend effect, which has been widely reported to be capable of reducing influenza infections.\n",
       "This study aims to explore six weekend-extension strategies against seasonal and pandemic flu outbreaks.\n",
       "RESULTS: If the extensions last more than two days, the weekend-extension strategies can remarkably reduce the overall disease attack rate of seasonal flu.\n",
       "For the pandemic flu, the weekend-extension strategies only produce a few mitigation effect...</div>\n",
       "\n",
       "\n",
       " <h4 class='cord'>Network Analysis of Global Influenza Spread</h4>\n",
       "\n",
       " <span class='authors'>Chan, Joseph; Holmes, Antony; Rabadan, Raul...</span>\n",
       " <span class='published'>9 years ago</span>\n",
       "  <a href='http://doi.org/10.1371/journal.pcbi.1001005' target='_new' class='link'>Link</a> \n",
       " <div class='abstract'>Although vaccines pose the best means of preventing influenza infection, strain selection and optimal implementation remain difficult due to antigenic drift and a lack of understanding global spread.\n",
       "Analysis of H3N2 not only confirmed East-Southeast Asia as a source of new seasonal variants, but also increased the resolution of observed transmission to a country level.\n",
       "Network analysis suggested China and Hong Kong as the origins of new seasonal H3N2 strains and the United States as a region wh...</div>\n",
       "\n",
       "\n",
       " <h4 class='cord'>Chapter 21 New Emerging Viruses</h4>\n",
       "\n",
       " <span class='authors'>Ryu, Wang-Shick...</span>\n",
       " <span class='published'>2 years ago</span>\n",
       "  <a href='http://doi.org/10.1016/b978-0-12-800838-6.00021-7' target='_new' class='link'>Link</a> \n",
       " <div class='abstract'>Newly emerging viruses such as the Ebola virus, severe acute respiratory syndrome (SARS)-, Middle East respiratory syndrome (MERS)-coronavirus, and the avian influenza virus are serious threats to public health and have become a global concern.\n",
       "The swine flu pandemic which occurred in 2009 reminded us of the Spanish flu that killed over 40 million people.\n",
       "Newly emerging viruses could be either a novel previously undescribed virus or a variant of a previously known virus.\n",
       "Examples of the novel vi...</div>\n",
       "\n",
       "\n",
       " <h4 class='cord'>Knowledge, Attitudes and Practices (KAP) related to the Pandemic (H1N1) 2009 among Chinese General Population: a Telephone Survey</h4>\n",
       "\n",
       " <span class='authors'>Lin, Yilan; Huang, Lijuan; Nie, Shaofa; Liu, Zengyan; Yu, Hongjie; Yan, Weirong; Xu, Yihua...</span>\n",
       " <span class='published'>9 years ago</span>\n",
       "  <a href='http://doi.org/10.1186/1471-2334-11-128' target='_new' class='link'>Link</a> \n",
       " <div class='abstract'>METHODS: A close-ended questionnaire developed by the Chinese Center for Disease Control and Prevention was applied to assess the knowledge, attitudes and practices (KAP) of pandemic (H1N1) 2009 among 10,669 responders recruited from seven urban and two rural areas of China sampled by using the probability proportional to size (PPS) method.\n",
       "With regard to the behavior of taking up A/H1N1 vaccination, there are several related factors found in the current study population, including the perceptio...</div>\n",
       "\n",
       "\n",
       " <h4 class='cord'>Willingness of Hong Kong healthcare workers to accept pre-pandemic influenza vaccination at different WHO alert levels: two questionnaire surveys</h4>\n",
       "\n",
       " <span class='authors'>Chor, Josette S Y; Ngai, Karry LK; Goggins, William B; Wong, Martin C S; Wong, Samuel Y S; Lee, Nelson; Leung, Ting-fan; Rainer, Timothy H; Griffiths, Sian; Chan, Paul K S...</span>\n",
       " <span class='published'>11 years ago</span>\n",
       "  <a href='http://doi.org/10.1136/bmj.b3391' target='_new' class='link'>Link</a> \n",
       " <div class='abstract'>Objective To assess the acceptability of pre-pandemic influenza vaccination among healthcare workers in public hospitals in Hong Kong and the effect of escalation in the World Health Organization’s alert level for an influenza pandemic.\n",
       "Results The overall willingness to accept pre-pandemic H5N1 vaccine was only 28.4% in the first survey, conducted at WHO influenza pandemic alert phase 3.\n",
       "No significant changes in the level of willingness to accept pre-pandemic H5N1 vaccine were observed despite...</div>\n",
       "\n",
       "\n",
       " <h4 class='cord'>Cohort Profile: The Flu Watch Study</h4>\n",
       "\n",
       " <span class='authors'>Fragaszy, Ellen B; Warren-Gash, Charlotte; Wang, Lili; Copas, Andrew; Dukes, Oliver; Edmunds, W John; Goonetilleke, Nilu; Harvey, Gabrielle; Johnson, Anne M; Kovar, Jana; Lim, Megan SC; McMichael, And...</span>\n",
       " <span class='published'>4 years ago</span>\n",
       "  <a href='http://doi.org/10.1093/ije/dyv370' target='_new' class='link'>Link</a> \n",
       " <div class='abstract'>Cohort Profile: The Flu Watch Study...</div>\n",
       "\n",
       "\n",
       " <h4 class='cord'>Pandemic Influenza: Impact on Perianesthesia Nursing Areas</h4>\n",
       "\n",
       " <span class='authors'>Stannard, Daphne...</span>\n",
       " <span class='published'>11 years ago</span>\n",
       "  <a href='http://doi.org/10.1016/j.jopan.2009.04.002' target='_new' class='link'>Link</a> \n",
       " <div class='abstract'>As our readers are aware, these pages are typically used by the editors.\n",
       "However, in light of the recent events and concerns surrounding the swine flu, the editors have elected to quickly substitute an informative piece regarding influenza for the usual editorial.\n",
       "We thank Dr. Daphne Stannard for her willingness to disseminate her knowledge on the topic.\n",
       "The Editors...</div>\n",
       "\n",
       "\n",
       " <h4 class='cord'>Forecasting the 2013–2014 Influenza Season Using Wikipedia</h4>\n",
       "\n",
       " <span class='authors'>Hickmann, Kyle S.; Fairchild, Geoffrey; Priedhorsky, Reid; Generous, Nicholas; Hyman, James M.; Deshpande, Alina; Del Valle, Sara Y....</span>\n",
       " <span class='published'>5 years ago</span>\n",
       "  <a href='http://doi.org/10.1371/journal.pcbi.1004239' target='_new' class='link'>Link</a> \n",
       " <div class='abstract'>According to the Centers for Disease Control and Prevention (CDC), seasonal influenza affects 5% to 20% of the U.S. population and causes major economic impacts resulting from hospitalization and absenteeism.\n",
       "We combine modern data assimilation methods with Wikipedia access logs and CDC influenza-like illness (ILI) reports to create a weekly forecast for seasonal influenza.\n",
       "Wikipedia article access logs are shown to be highly correlated with historical ILI records and allow for accurate predicti...</div>\n",
       "\n",
       "\n",
       " <h4 class='cord'>Avian Influenza: The Next Pandemic?</h4>\n",
       "\n",
       " <span class='authors'>McFee, Robin B....</span>\n",
       " <span class='published'>13 years ago</span>\n",
       "  <a href='http://doi.org/10.1016/j.disamonth.2007.05.006' target='_new' class='link'>Link</a> \n",
       " <div class='abstract'>Avian Influenza: The Next Pandemic?...</div>\n",
       "\n",
       "\n",
       " <h4 class='cord'>The calendar of epidemics: Seasonal cycles of infectious diseases</h4>\n",
       "\n",
       " <span class='authors'>Martinez, Micaela Elvira...</span>\n",
       " <span class='published'>1 year ago</span>\n",
       "  <a href='http://doi.org/10.1371/journal.ppat.1007327' target='_new' class='link'>Link</a> \n",
       " <div class='abstract'>The calendar of epidemics: Seasonal cycles of infectious diseases...</div>\n",
       "\n",
       "\n",
       "\n",
       "<style>\n",
       ".authors, .published{\n",
       "    padding: 12px 10px 0px 0px;\n",
       "    margin: 12px 0px 5px;\n",
       "}\n",
       ".authors { color: #778899;}\n",
       ".published {color: #2F4F4F; font-weight: bold; font-size: 0.9em;}\n",
       "h2.cord, h3.cord, h4.cord {margin-top: 15px}\n",
       "div.abstract {max-height : 80px; margin-top: 10px}\n",
       ".link-text {color: #808080; font-size: 0.9em}\n",
       "</style>"
      ],
      "text/plain": [
       "<cord.cord19.SearchResults at 0x1ab1be1fa58>"
      ]
     },
     "execution_count": 4,
     "metadata": {},
     "output_type": "execute_result"
    }
   ],
   "source": [
    "research_papers.search('seasonal flu transmission')"
   ]
  },
  {
   "cell_type": "code",
   "execution_count": 4,
   "metadata": {},
   "outputs": [
    {
     "data": {
      "application/vnd.jupyter.widget-view+json": {
       "model_id": "545da45ec55a429497c66a8fe4fc6b0f",
       "version_major": 2,
       "version_minor": 0
      },
      "text/plain": [
       "VBox(children=(HBox(children=(Text(value='', layout=Layout(width='400px')), Button(button_style='primary', des…"
      ]
     },
     "metadata": {},
     "output_type": "display_data"
    },
    {
     "data": {
      "application/vnd.jupyter.widget-view+json": {
       "model_id": "d3ac6a2c8e8749daa7604fe1713648f1",
       "version_major": 2,
       "version_minor": 0
      },
      "text/plain": [
       "Output()"
      ]
     },
     "metadata": {},
     "output_type": "display_data"
    }
   ],
   "source": [
    "research_papers.searchbar()"
   ]
  },
  {
   "cell_type": "code",
   "execution_count": 5,
   "metadata": {},
   "outputs": [
    {
     "data": {
      "text/html": [
       "<div>\n",
       "<style scoped>\n",
       "    .dataframe tbody tr th:only-of-type {\n",
       "        vertical-align: middle;\n",
       "    }\n",
       "\n",
       "    .dataframe tbody tr th {\n",
       "        vertical-align: top;\n",
       "    }\n",
       "\n",
       "    .dataframe thead th {\n",
       "        text-align: right;\n",
       "    }\n",
       "</style>\n",
       "<table border=\"1\" class=\"dataframe\">\n",
       "  <thead>\n",
       "    <tr style=\"text-align: right;\">\n",
       "      <th></th>\n",
       "      <th>index_tokens</th>\n",
       "    </tr>\n",
       "  </thead>\n",
       "  <tbody>\n",
       "    <tr>\n",
       "      <th>0</th>\n",
       "      <td>[next-generation, sequencing, increasingly, used, study, samples, composed, mixtures, organisms, clinical, applications, presence, pathogen, very, low, abundance, highly, important, present, analytical, method, siann, strain, identification, alignment, near, neighbors, specifically, designed, rapidly, detect, set, target, organisms, mixed, samples, achieves, high, degree, species-, strain-specificity, aligning, short, sequence, reads, genomes, near, neighbor, organisms, well, target, empirical, benchmarking, alongside, current, state-of-the-art, methods, shows, extremely, high, positive, predictive, value, even, very, low, abundances, target, organism, mixed, sample, siann, available, illumina, basespace, app, well, signature, science, llc, siann, results, presented, streamlined, report, designed, comprehensible, non-specialist, user, providing, powerful, tool, rapid, species, detection, mixed, sample, focusing, set, customizable, ...]</td>\n",
       "    </tr>\n",
       "    <tr>\n",
       "      <th>1</th>\n",
       "      <td>[emerging, disease, infectious, epidemic, caused, newly, transmissible, pathogen, either, appeared, first, time, already, existed, human, populations, capacity, increase, rapidly, incidence, well, geographic, range, adapting, human, immune, system, emerging, diseases, trigger, large-scale, pandemic, spreading, transnational, spreading, sars, global, outbreak, ah1n1, recent, potential, invasion, avian, influenza, ah7n9, study, dynamics, mediating, transmission, emerging, diseases, spatial, epidemiology, networked, metapopulation, provides, valuable, modeling, framework, takes, spatially, distributed, factors, consideration, review, elaborates, latest, progresses, spatial, metapopulation, dynamics, discusses, empirical, theoretical, findings, verify, validity, networked, metapopulations, application, evaluating, effectiveness, disease, intervention, strategies, well]</td>\n",
       "    </tr>\n",
       "    <tr>\n",
       "      <th>2</th>\n",
       "      <td>[germline, variation, immunoglobulin, gene, ig, loci, critical, pathogen-mediated, immunity, establishing, complete, reference, sequences, regions, problematic, segmental, duplications, somatically, rearranged, source, dna, sequenced, bac, clones, essentially, haploid, hydatidiform, mole, chm1, across, light, chain, ig, loci, kappa, igk, lambda, igl, creating, single, haplotype, representations, regions, igl, haplotype, contiguous, sequence, novel, gene, novel, gene, alleles, insertion, igk, haplotype, consists, proximal, distal, contigs, separated, gap, also, present, reference, genome, sequence, effort, added, additional, unique, sequence, extending, gap, igk, haplotype, contains, novel, gene, novel, gene, alleles, region, increased, sequence, identity, igk, contigs, exhibiting, signatures, interlocus, gene, conversion, data, facilitated, first, comparison, nucleotide, diversity, light, ig, ...]</td>\n",
       "    </tr>\n",
       "    <tr>\n",
       "      <th>3</th>\n",
       "      <td>[deep, sequencing, clinical, samples, established, tool, detection, infectious, pathogens, direct, medical, applications, large, amount, data, generated, provides, opportunity, detect, species, even, very, low, levels, provided, computational, tools, effectively, interpret, potentially, complex, metagenomic, mixtures, data, interpretation, complicated, fact, short, sequencing, reads, match, multiple, organisms, lack, completeness, existing, databases, particular, viral, pathogens, interpretation, problem, formulated, statistically, mixture, model, species, origin, read, missing, complete, knowledge, species, present, mixture, helps, individual, reads, assignment, several, analytical, tools, proposed, approximately, solve, computational, problem, show, use, parallel, monte, carlo, markov, chains, mcmc, exploration, species, space, enables, identification, set, species, likely, contribute, mixture, added, accuracy, comes, cost, increased, ...]</td>\n",
       "    </tr>\n",
       "    <tr>\n",
       "      <th>4</th>\n",
       "      <td>[developing, methods, reconstruct, transmission, histories, viral, outbreaks, could, provide, critical, information, support, locating, sources, disease, transmission, phylogenetic, methods, used, measure, degree, relatedness, among, sequenced, viral, samples, proven, useful, identifying, potential, outbreak, sources, complex, nature, infectious, disease, makes, difficult, assign, rigorously, defined, quantitative, confidence, value, assessing, likelihood, true, direct, transmission, event, using, genetic, data, alone, new, method, presented, calculate, confidence, value, assessing, likelihood, transmission, event, using, phylogenetic, inference, limited, knowledge, incubation, infectious, duration, times, method, applied, simulations, foot, mouth, disease, fmd, outbreak, demonstrate, combination, phylogenetic, epidemiology, data, used, strengthen, assessment, likelihood, direct, transmission, methods, using, phylogenetic, data, infection, timing, data, alone, ...]</td>\n",
       "    </tr>\n",
       "    <tr>\n",
       "      <th>...</th>\n",
       "      <td>...</td>\n",
       "    </tr>\n",
       "    <tr>\n",
       "      <th>95</th>\n",
       "      <td>[bunyaviruses, significant, human, pathogens, causing, diseases, ranging, hemorrhagic, fevers, encephalitis, among, viruses, la, crosse, virus, lacv, member, california, serogroup, circulates, eastern, midwestern, united, states, lacv, infection, often, asymptomatic, dozens, cases, encephalitis, reported, yearly, unfortunately, antivirals, approved, treat, lacv, infection, developed, method, rapidly, test, potential, antivirals, lacv, infection, screen, identified, several, potential, antiviral, molecules, including, known, antivirals, additionally, identified, many, novel, antivirals, exhibited, antiviral, activity, without, affecting, cellular, viability, valinomycin, potassium, ionophore, among, top, targets, found, valinomycin, exhibited, potent, anti-lacv, activity, multiple, cell, types, dose-dependent, manner, valinomycin, affect, particle, stability, infectivity, suggesting, preclude, virus, replication, altering, cellular, potassium, ions, known, determinant, ...]</td>\n",
       "    </tr>\n",
       "    <tr>\n",
       "      <th>96</th>\n",
       "      <td>[since, sars, outbreak, years, ago, large, number, severe, acute, respiratory, syndrome, related, coronaviruses, sarsr-cov, discovered, natural, reservoir, host, bats1-4, previous, studies, indicated, bat, sarsr-covs, potential, infect, humans5-7, report, identification, characterization, novel, coronavirus, ncov-2019, caused, epidemic, acute, respiratory, syndrome, humans, wuhan, china, epidemic, started, december, 2019, caused, laboratory, confirmed, infections, fatal, cases, january, 2020, full-length, genome, sequences, obtained, patients, early, stage, outbreak, almost, identical, share, sequence, identify, sars-cov, furthermore, found, ncov-2019, identical, whole, genome, level, bat, coronavirus, pairwise, protein, sequence, analysis, conserved, non-structural, proteins, show, virus, belongs, species, sarsr-cov, ncov-2019, virus, isolated, bronchoalveolar, lavage, fluid, critically, ill, patient, neutralized, sera, several, ...]</td>\n",
       "    </tr>\n",
       "    <tr>\n",
       "      <th>97</th>\n",
       "      <td>[past, years, several, coronaviruses, crossed, species, barrier, humans, causing, outbreaks, severe, often, fatal, respiratory, illness, since, sars-, cov, first, identified, animal, markets, global, viromics, projects, discovered, thousands, coronavirus, sequences, diverse, animals, geographic, regions, unfortunately, tools, available, functionally, test, novel, viruses, ability, infect, humans, severely, hampered, efforts, predict, next, zoonotic, viral, outbreak, developed, approach, rapidly, screen, lineage, betacoronaviruses, sars-cov, recent, 2019-ncov, receptor, usage, ability, infect, cell, types, different, species, show, host, protease, processing, viral, entry, significant, barrier, several, lineage, viruses, bypassing, barrier, allows, several, lineage, viruses, enter, human, cells, unknown, receptor, also, demonstrate, different, lineage, viruses, recombine, gain, entry, human, cells, ...]</td>\n",
       "    </tr>\n",
       "    <tr>\n",
       "      <th>98</th>\n",
       "      <td>[since, first, identified, epidemic, scale, recently, emerged, novel, coronavirus, 2019-ncov, wuhan, china, increased, rapidly, cases, arising, across, china, countries, regions, using, transmission, model, estimate, basic, reproductive, number, transmissions, must, prevented, stop, increasing, wuhan, case, ascertainment, total, infections, wuhan, january]</td>\n",
       "    </tr>\n",
       "    <tr>\n",
       "      <th>99</th>\n",
       "      <td>[backgroundsan, ongoing, outbreak, novel, coronavirus, 2019-ncov, pneumonia, hit, major, city, china, wuhan, december, 2019, subsequently, reached, provinces, regions, china, countries, present, estimates, basic, reproduction, number, r0, 2019-ncov, early, phase, outbreakmethodsaccounting, impact, variations, disease, reporting, rate, modelled, epidemic, curve, 2019-ncov, cases, time, series, mainland, china, january, january, 2020, exponential, growth, estimated, intrinsic, growth, rate, estimated, r0, using, serial, intervals, si, well-known, coronavirus, diseases, mers, sars, approximations, true, unknown, sifindingsthe, early, outbreak, data, largely, follows, exponential, growth, estimated, mean, r0, ranges, associated, increase, reporting, rate, demonstrated, changes, reporting, rate, substantially, affect, estimates, r0conclusionthe, mean, estimate, r0, 2019-ncov, ranges, significantly, larger, findings, indicate, ...]</td>\n",
       "    </tr>\n",
       "  </tbody>\n",
       "</table>\n",
       "<p>100 rows × 1 columns</p>\n",
       "</div>"
      ],
      "text/plain": [
       "                                                                                                                                                                                                                                                                                                                                                                                                                                                                                                                                                                                                                                                                                                                                                                                                                                                                                                                                                                                                                   index_tokens\n",
       "0                                         [next-generation, sequencing, increasingly, used, study, samples, composed, mixtures, organisms, clinical, applications, presence, pathogen, very, low, abundance, highly, important, present, analytical, method, siann, strain, identification, alignment, near, neighbors, specifically, designed, rapidly, detect, set, target, organisms, mixed, samples, achieves, high, degree, species-, strain-specificity, aligning, short, sequence, reads, genomes, near, neighbor, organisms, well, target, empirical, benchmarking, alongside, current, state-of-the-art, methods, shows, extremely, high, positive, predictive, value, even, very, low, abundances, target, organism, mixed, sample, siann, available, illumina, basespace, app, well, signature, science, llc, siann, results, presented, streamlined, report, designed, comprehensible, non-specialist, user, providing, powerful, tool, rapid, species, detection, mixed, sample, focusing, set, customizable, ...]\n",
       "1                                                                                                                 [emerging, disease, infectious, epidemic, caused, newly, transmissible, pathogen, either, appeared, first, time, already, existed, human, populations, capacity, increase, rapidly, incidence, well, geographic, range, adapting, human, immune, system, emerging, diseases, trigger, large-scale, pandemic, spreading, transnational, spreading, sars, global, outbreak, ah1n1, recent, potential, invasion, avian, influenza, ah7n9, study, dynamics, mediating, transmission, emerging, diseases, spatial, epidemiology, networked, metapopulation, provides, valuable, modeling, framework, takes, spatially, distributed, factors, consideration, review, elaborates, latest, progresses, spatial, metapopulation, dynamics, discusses, empirical, theoretical, findings, verify, validity, networked, metapopulations, application, evaluating, effectiveness, disease, intervention, strategies, well]\n",
       "2                                                                                [germline, variation, immunoglobulin, gene, ig, loci, critical, pathogen-mediated, immunity, establishing, complete, reference, sequences, regions, problematic, segmental, duplications, somatically, rearranged, source, dna, sequenced, bac, clones, essentially, haploid, hydatidiform, mole, chm1, across, light, chain, ig, loci, kappa, igk, lambda, igl, creating, single, haplotype, representations, regions, igl, haplotype, contiguous, sequence, novel, gene, novel, gene, alleles, insertion, igk, haplotype, consists, proximal, distal, contigs, separated, gap, also, present, reference, genome, sequence, effort, added, additional, unique, sequence, extending, gap, igk, haplotype, contains, novel, gene, novel, gene, alleles, region, increased, sequence, identity, igk, contigs, exhibiting, signatures, interlocus, gene, conversion, data, facilitated, first, comparison, nucleotide, diversity, light, ig, ...]\n",
       "3                                   [deep, sequencing, clinical, samples, established, tool, detection, infectious, pathogens, direct, medical, applications, large, amount, data, generated, provides, opportunity, detect, species, even, very, low, levels, provided, computational, tools, effectively, interpret, potentially, complex, metagenomic, mixtures, data, interpretation, complicated, fact, short, sequencing, reads, match, multiple, organisms, lack, completeness, existing, databases, particular, viral, pathogens, interpretation, problem, formulated, statistically, mixture, model, species, origin, read, missing, complete, knowledge, species, present, mixture, helps, individual, reads, assignment, several, analytical, tools, proposed, approximately, solve, computational, problem, show, use, parallel, monte, carlo, markov, chains, mcmc, exploration, species, space, enables, identification, set, species, likely, contribute, mixture, added, accuracy, comes, cost, increased, ...]\n",
       "4           [developing, methods, reconstruct, transmission, histories, viral, outbreaks, could, provide, critical, information, support, locating, sources, disease, transmission, phylogenetic, methods, used, measure, degree, relatedness, among, sequenced, viral, samples, proven, useful, identifying, potential, outbreak, sources, complex, nature, infectious, disease, makes, difficult, assign, rigorously, defined, quantitative, confidence, value, assessing, likelihood, true, direct, transmission, event, using, genetic, data, alone, new, method, presented, calculate, confidence, value, assessing, likelihood, transmission, event, using, phylogenetic, inference, limited, knowledge, incubation, infectious, duration, times, method, applied, simulations, foot, mouth, disease, fmd, outbreak, demonstrate, combination, phylogenetic, epidemiology, data, used, strengthen, assessment, likelihood, direct, transmission, methods, using, phylogenetic, data, infection, timing, data, alone, ...]\n",
       "..                                                                                                                                                                                                                                                                                                                                                                                                                                                                                                                                                                                                                                                                                                                                                                                                                                                                                                                                                                                                                          ...\n",
       "95  [bunyaviruses, significant, human, pathogens, causing, diseases, ranging, hemorrhagic, fevers, encephalitis, among, viruses, la, crosse, virus, lacv, member, california, serogroup, circulates, eastern, midwestern, united, states, lacv, infection, often, asymptomatic, dozens, cases, encephalitis, reported, yearly, unfortunately, antivirals, approved, treat, lacv, infection, developed, method, rapidly, test, potential, antivirals, lacv, infection, screen, identified, several, potential, antiviral, molecules, including, known, antivirals, additionally, identified, many, novel, antivirals, exhibited, antiviral, activity, without, affecting, cellular, viability, valinomycin, potassium, ionophore, among, top, targets, found, valinomycin, exhibited, potent, anti-lacv, activity, multiple, cell, types, dose-dependent, manner, valinomycin, affect, particle, stability, infectivity, suggesting, preclude, virus, replication, altering, cellular, potassium, ions, known, determinant, ...]\n",
       "96                                         [since, sars, outbreak, years, ago, large, number, severe, acute, respiratory, syndrome, related, coronaviruses, sarsr-cov, discovered, natural, reservoir, host, bats1-4, previous, studies, indicated, bat, sarsr-covs, potential, infect, humans5-7, report, identification, characterization, novel, coronavirus, ncov-2019, caused, epidemic, acute, respiratory, syndrome, humans, wuhan, china, epidemic, started, december, 2019, caused, laboratory, confirmed, infections, fatal, cases, january, 2020, full-length, genome, sequences, obtained, patients, early, stage, outbreak, almost, identical, share, sequence, identify, sars-cov, furthermore, found, ncov-2019, identical, whole, genome, level, bat, coronavirus, pairwise, protein, sequence, analysis, conserved, non-structural, proteins, show, virus, belongs, species, sarsr-cov, ncov-2019, virus, isolated, bronchoalveolar, lavage, fluid, critically, ill, patient, neutralized, sera, several, ...]\n",
       "97                                                                          [past, years, several, coronaviruses, crossed, species, barrier, humans, causing, outbreaks, severe, often, fatal, respiratory, illness, since, sars-, cov, first, identified, animal, markets, global, viromics, projects, discovered, thousands, coronavirus, sequences, diverse, animals, geographic, regions, unfortunately, tools, available, functionally, test, novel, viruses, ability, infect, humans, severely, hampered, efforts, predict, next, zoonotic, viral, outbreak, developed, approach, rapidly, screen, lineage, betacoronaviruses, sars-cov, recent, 2019-ncov, receptor, usage, ability, infect, cell, types, different, species, show, host, protease, processing, viral, entry, significant, barrier, several, lineage, viruses, bypassing, barrier, allows, several, lineage, viruses, enter, human, cells, unknown, receptor, also, demonstrate, different, lineage, viruses, recombine, gain, entry, human, cells, ...]\n",
       "98                                                                                                                                                                                                                                                                                                                                                                                                                                                                                                                                                                                                                                                       [since, first, identified, epidemic, scale, recently, emerged, novel, coronavirus, 2019-ncov, wuhan, china, increased, rapidly, cases, arising, across, china, countries, regions, using, transmission, model, estimate, basic, reproductive, number, transmissions, must, prevented, stop, increasing, wuhan, case, ascertainment, total, infections, wuhan, january]\n",
       "99                                                  [backgroundsan, ongoing, outbreak, novel, coronavirus, 2019-ncov, pneumonia, hit, major, city, china, wuhan, december, 2019, subsequently, reached, provinces, regions, china, countries, present, estimates, basic, reproduction, number, r0, 2019-ncov, early, phase, outbreakmethodsaccounting, impact, variations, disease, reporting, rate, modelled, epidemic, curve, 2019-ncov, cases, time, series, mainland, china, january, january, 2020, exponential, growth, estimated, intrinsic, growth, rate, estimated, r0, using, serial, intervals, si, well-known, coronavirus, diseases, mers, sars, approximations, true, unknown, sifindingsthe, early, outbreak, data, largely, follows, exponential, growth, estimated, mean, r0, ranges, associated, increase, reporting, rate, demonstrated, changes, reporting, rate, substantially, affect, estimates, r0conclusionthe, mean, estimate, r0, 2019-ncov, ranges, significantly, larger, findings, indicate, ...]\n",
       "\n",
       "[100 rows x 1 columns]"
      ]
     },
     "execution_count": 5,
     "metadata": {},
     "output_type": "execute_result"
    }
   ],
   "source": [
    "pd.options.display.max_colwidth=2000\n",
    "metadata = research_papers.metadata\n",
    "metadata.head(100).index_tokens.to_frame()"
   ]
  },
  {
   "cell_type": "code",
   "execution_count": 6,
   "metadata": {},
   "outputs": [],
   "source": [
    "covid_papers = research_papers.covid_related()"
   ]
  },
  {
   "cell_type": "code",
   "execution_count": 7,
   "metadata": {},
   "outputs": [
    {
     "data": {
      "text/plain": [
       "2427"
      ]
     },
     "execution_count": 7,
     "metadata": {},
     "output_type": "execute_result"
    }
   ],
   "source": [
    "len(covid_papers)"
   ]
  },
  {
   "cell_type": "code",
   "execution_count": 8,
   "metadata": {},
   "outputs": [
    {
     "data": {
      "text/html": [
       "<h3>CORD 19 Research Papers</h3>\n",
       "<div>\n",
       "<style scoped>\n",
       "    .dataframe tbody tr th:only-of-type {\n",
       "        vertical-align: middle;\n",
       "    }\n",
       "\n",
       "    .dataframe tbody tr th {\n",
       "        vertical-align: top;\n",
       "    }\n",
       "\n",
       "    .dataframe thead th {\n",
       "        text-align: right;\n",
       "    }\n",
       "</style>\n",
       "<table border=\"1\" class=\"dataframe\">\n",
       "  <thead>\n",
       "    <tr style=\"text-align: right;\">\n",
       "      <th></th>\n",
       "      <th>Papers</th>\n",
       "      <th>Oldest</th>\n",
       "      <th>Newest</th>\n",
       "      <th>SARS-COV-2</th>\n",
       "      <th>SARS</th>\n",
       "      <th>Coronavirus</th>\n",
       "      <th>Virus</th>\n",
       "      <th>Antivirals</th>\n",
       "    </tr>\n",
       "  </thead>\n",
       "  <tbody>\n",
       "    <tr>\n",
       "      <th></th>\n",
       "      <td>2427</td>\n",
       "      <td>2019-12-01</td>\n",
       "      <td>2020-12-31</td>\n",
       "      <td>2427</td>\n",
       "      <td>0</td>\n",
       "      <td>1621</td>\n",
       "      <td>1750</td>\n",
       "      <td>70</td>\n",
       "    </tr>\n",
       "  </tbody>\n",
       "</table>\n",
       "</div>\n",
       "<hr/>\n",
       "<div>\n",
       "<style scoped>\n",
       "    .dataframe tbody tr th:only-of-type {\n",
       "        vertical-align: middle;\n",
       "    }\n",
       "\n",
       "    .dataframe tbody tr th {\n",
       "        vertical-align: top;\n",
       "    }\n",
       "\n",
       "    .dataframe thead th {\n",
       "        text-align: right;\n",
       "    }\n",
       "</style>\n",
       "<table border=\"1\" class=\"dataframe\">\n",
       "  <thead>\n",
       "    <tr style=\"text-align: right;\">\n",
       "      <th></th>\n",
       "      <th>title</th>\n",
       "      <th>abstract</th>\n",
       "      <th>journal</th>\n",
       "      <th>authors</th>\n",
       "      <th>published</th>\n",
       "      <th>when</th>\n",
       "    </tr>\n",
       "  </thead>\n",
       "  <tbody>\n",
       "    <tr>\n",
       "      <th>92</th>\n",
       "      <td>A mathematical model for simulating the transmission of Wuhan novel Coronavirus</td>\n",
       "      <td>As reported by the World Health Organization, a novel coronavirus (2019-nCoV) was identified as the causative virus of Wuhan pneumonia of unknown etiology by Chinese authorities on 7 January, 2020. In this study, we developed a Bats-Hosts-Reservoir-People transmission network model for simulating the potential transmission from the infection source (probable be bats) to the human infection. Since the Bats-Hosts-Reservoir network was hard to explore clearly and public concerns were focusing on the transmission from a seafood market (reservoir) to people, we simplified the model as Reservoir-People transmission network model. The basic reproduction number (R0) was calculated from the RP model to assess the transmissibility of the 2019-nCoV.</td>\n",
       "      <td></td>\n",
       "      <td>Tianmu Chen; Jia Rui; Qiupeng Wang; Zeyu Zhao; Jing-An Cui; Ling Yin</td>\n",
       "      <td>2020-01-19</td>\n",
       "      <td>2 months ago</td>\n",
       "    </tr>\n",
       "    <tr>\n",
       "      <th>93</th>\n",
       "      <td>Genomic and protein structure modelling analysis depicts the origin and infectivity of 2019-nCoV, a new coronavirus which caused a pneumonia outbreak in Wuhan, China</td>\n",
       "      <td>Detailed genomic and structure-based analysis of a new coronavirus, namely 2019-nCoV, showed that the new virus is a new type of bat coronavirus and is genetically fairly distant from the human SARS coronavirus. Structure analysis of the spike (S) protein of this new virus showed that its S protein only binds weakly to the ACE2 receptor on human cells whereas the human SARS coronavirus exhibits strongly affinity to the ACE receptor. These findings suggest that the new virus does not readily transmit between humans and should theoretically not able to cause very serious human infection. These data are important to guide design of infection control policy and inform the public on the nature of threat imposed by 2019-nCov when results of direct laboratory tests on this virus are not expected to be available in the near future.</td>\n",
       "      <td></td>\n",
       "      <td>Ning Dong; Xuemei Yang; Lianwei Ye; Kaichao Chen; Edward Wai-Chi Chan; Mengsu Yang; Sheng Chen</td>\n",
       "      <td>2020-01-21</td>\n",
       "      <td>2 months ago</td>\n",
       "    </tr>\n",
       "    <tr>\n",
       "      <th>94</th>\n",
       "      <td>Host and infectivity prediction of Wuhan 2019 novel coronavirus using deep learning algorithm</td>\n",
       "      <td>The recent outbreak of pneumonia in Wuhan, China caused by the 2019 Novel Coronavirus (2019-nCoV) emphasizes the importance of detecting novel viruses and predicting their risks of infecting people. In this report, we introduced the VHP (Virus Host Prediction) to predict the potential hosts of viruses using deep learning algorithm. Our prediction suggests that 2019-nCoV has close infectivity with other human coronaviruses, especially the severe acute respiratory syndrome coronavirus (SARS-CoV), Bat SARS-like Coronaviruses and the Middle East respiratory syndrome coronavirus (MERS-CoV). Based on our prediction, compared to the Coronaviruses infecting other vertebrates, bat coronaviruses are assigned with more similar infectivity patterns with 2019-nCoVs. Furthermore, by comparing the infectivity patterns of all viruses hosted on vertebrates, we found mink viruses show a closer infectivity pattern to 2019-nCov. These consequences of infectivity pattern analysis illustrate that bat and mink may be two candidate reservoirs of 2019-nCov.These results warn us to beware of 2019-nCoV and guide us to further explore the properties and reservoir of it.One Sentence It is of great value to identify whether a newly discovered virus has the risk of infecting human. Guo et al. proposed a virus host prediction method based on deep learning to detect what kind of host a virus can infect with DNA sequence as input. Applied to the Wuhan 2019 Novel Coronavirus, our prediction demonstrated that several vertebrate-infectious coronaviruses have strong potential to infect human. This method will be helpful in future viral analysis and early prevention and control of viral pathogens.</td>\n",
       "      <td></td>\n",
       "      <td>Qian Guo; Mo Li; Chunhui Wang; Peihong Wang; Zhencheng Fang; Jie tan; Shufang Wu; Yonghong Xiao; Huaiqiu Zhu</td>\n",
       "      <td>2020-01-24</td>\n",
       "      <td>2 months ago</td>\n",
       "    </tr>\n",
       "    <tr>\n",
       "      <th>96</th>\n",
       "      <td>Discovery of a novel coronavirus associated with the recent pneumonia outbreak in humans and its potential bat origin</td>\n",
       "      <td>Since the SARS outbreak 18 years ago, a large number of severe acute respiratory syndrome related coronaviruses (SARSr-CoV) have been discovered in their natural reservoir host, bats1-4. Previous studies indicated that some of those bat SARSr-CoVs have the potential to infect humans5-7. Here we report the identification and characterization of a novel coronavirus (nCoV-2019) which caused an epidemic of acute respiratory syndrome in humans, in Wuhan, China. The epidemic, started from December 12th, 2019, has caused 198 laboratory confirmed infections with three fatal cases by January 20th, 2020. Full-length genome sequences were obtained from five patients at the early stage of the outbreak. They are almost identical to each other and share 79.5% sequence identify to SARS-CoV. Furthermore, it was found that nCoV-2019 is 96% identical at the whole genome level to a bat coronavirus. The pairwise protein sequence analysis of seven conserved non-structural proteins show that this virus belongs to the species of SARSr-CoV. The nCoV-2019 virus was then isolated from the bronchoalveolar lavage fluid of a critically ill patient, which can be neutralized by sera from several patients. Importantly, we have confirmed that this novel CoV uses the same cell entry receptor, ACE2, as SARS-CoV.</td>\n",
       "      <td></td>\n",
       "      <td>Peng Zhou; Xing-Lou Yang; Xian-Guang Wang; Ben Hu; Lei Zhang; Wei Zhang; Hao-Rui Si; Yan Zhu; Bei Li; Chao-Lin Huang; Hui-Dong Chen; Jing Chen; Yun Luo; Hua Guo; Ren-Di Jiang; Mei-Qin Liu; Ying Chen; Xu-Rui Shen; Xi Wang; Xiao-Shuang Zheng; Kai Zhao; Quan-Jiao Chen; Fei Deng; Lin-Lin Liu; Bing Yan; Fa-Xian Zhan; Yan-Yi Wang; Geng-Fu Xiao; Zheng-Li Shi</td>\n",
       "      <td>2020-01-23</td>\n",
       "      <td>2 months ago</td>\n",
       "    </tr>\n",
       "    <tr>\n",
       "      <th>97</th>\n",
       "      <td>Functional assessment of cell entry and receptor usage for lineage B β-coronaviruses, including 2019-nCoV</td>\n",
       "      <td>Over the past 20 years, several coronaviruses have crossed the species barrier into humans, causing outbreaks of severe, and often fatal, respiratory illness. Since SARS- CoV was first identified in animal markets, global viromics projects have discovered thousands of coronavirus sequences in diverse animals and geographic regions. Unfortunately, there are few tools available to functionally test these novel viruses for their ability to infect humans, which has severely hampered efforts to predict the next zoonotic viral outbreak. Here we developed an approach to rapidly screen lineage B betacoronaviruses, such as SARS-CoV and the recent 2019-nCoV, for receptor usage and their ability to infect cell types from different species. We show that host protease processing during viral entry is a significant barrier for several lineage B viruses and that bypassing this barrier allows several lineage B viruses to enter human cells through an unknown receptor. We also demonstrate how different lineage B viruses can recombine to gain entry into human cells and confirm that human ACE2 is the receptor for the recently emerging 2019-nCoV.</td>\n",
       "      <td></td>\n",
       "      <td>Michael Letko; Vincent Munster</td>\n",
       "      <td>2020-01-22</td>\n",
       "      <td>2 months ago</td>\n",
       "    </tr>\n",
       "    <tr>\n",
       "      <th>...</th>\n",
       "      <td>...</td>\n",
       "      <td>...</td>\n",
       "      <td>...</td>\n",
       "      <td>...</td>\n",
       "      <td>...</td>\n",
       "      <td>...</td>\n",
       "    </tr>\n",
       "    <tr>\n",
       "      <th>45746</th>\n",
       "      <td>Comments on \"Preliminary estimation of the basic reproduction number of novel Coronavirus (2019-nCoV) in China, from 2019 to 2020: A data-driven Analysis in the early phase of the outbreak\"</td>\n",
       "      <td>Comments on \"Preliminary estimation of the basic reproduction number of novel Coronavirus (2019-nCoV) in China, from 2019 to 2020: A data-driven Analysis in the early phase of the outbreak\"</td>\n",
       "      <td>International Journal of Infectious Diseases</td>\n",
       "      <td>Dhungana, Hom Nath</td>\n",
       "      <td>2020-02-20</td>\n",
       "      <td>1 month ago</td>\n",
       "    </tr>\n",
       "    <tr>\n",
       "      <th>45747</th>\n",
       "      <td>Quantitative computed tomography analysis for stratifying the severity of Coronavirus Disease 2019</td>\n",
       "      <td>Purpose To examine the feasibility of using a computer tool for stratifying the severity of Coronavirus Disease 2019 (COVID-19) based on computed tomography (CT) images. Materials and methods We retrospectively examined 44 confirmed COVID-19 cases. All cases were evaluated separately by radiologists (visually) and through an in-house computer software. The degree of lesions was visually scored by the radiologist, as follows, for each of the 5 lung lobes: 0, no lesion present; 1, &lt;1/3 involvement; 2, &gt;1/3 and &lt; 2/3 involvement; and 3, &gt;2/3 involvement. Lesion density was assessed based on the proportion of ground-glass opacity (GGO), consolidation and fibrosis of the lesions. The parameters obtained using the computer tool included lung volume (mL), lesion volume (mL), lesion percentage (%), and mean lesion density (HU) of the whole lung, right lung, left lung, and each lobe. The scores obtained by the radiologists and quantitative results generated by the computer software were tested for correlation. A Chi-square test was used to test the consistency of radiologist- and computer-derived lesion percentage in the right/left lung, upper/lower lobe, and each of the 5 lobes. Result The results showed a strong to moderate correlation between lesion percentage scores obtained by radiologists and the computer software (r ranged from 0.7679 to 0.8373, P &lt; 0.05), and a moderate correlation between the proportion of GGO and mean lesion density (r = −0.5894, P &lt; 0.05), and proportion of consolidation and mean lesion density (r = 0.6282, P &lt; 0.05). Computer-aided quantification showed a statistical significant higher lesion percentage for lower lobes than that assessed by the radiologists (χ2 = 8.160, P = 0.004). Conclusions Our experiments demonstrated that the computer tool could reliably and accurately assess the severity and distribution of pneumonia on CT scans.</td>\n",
       "      <td>Journal of Pharmaceutical Analysis</td>\n",
       "      <td>Shen, Cong; Yu, Nan; Cai, Shubo; Zhou, Jie; Sheng, Jiexin; Liu, Kang; Zhou, Heping; Guo, Youmin; Niu, Gang</td>\n",
       "      <td>2020-03-06</td>\n",
       "      <td>4 weeks ago</td>\n",
       "    </tr>\n",
       "    <tr>\n",
       "      <th>45753</th>\n",
       "      <td>The SARS-CoV-2 outbreak from a one health perspective</td>\n",
       "      <td>The SARS-CoV-2 is a new human coronavirus candidate recently detected in China that is now reported in people on inhabited continents. The virus shares a high level of identity with some bat coronaviruses and is recognised as a potentially zoonotic virus. We are utilizing the One Health concept to understand the emergence of the virus, as well as to point to some possible control strategies that might reduce the spread of the virus across the globe; thus, containment of such virus would be possible.</td>\n",
       "      <td>One Health</td>\n",
       "      <td>Hemida, Maged Gomaa; Ba Abduallah, Mohammed M.</td>\n",
       "      <td>2020-03-16</td>\n",
       "      <td>2 weeks ago</td>\n",
       "    </tr>\n",
       "    <tr>\n",
       "      <th>45755</th>\n",
       "      <td>Histopathologic Changes and SARS–CoV-2 Immunostaining in the Lung of a Patient With COVID-19</td>\n",
       "      <td>Histopathologic Changes and SARS–CoV-2 Immunostaining in the Lung of a Patient With COVID-19</td>\n",
       "      <td>Ann Intern Med</td>\n",
       "      <td>Zhang, Huilan; Zhou, Peng; Wei, Yanqiu; Yue, Huihui; Wang, Yi; Hu, Ming; Zhang, Shu; Cao, Tanze; Yang, Chengqing; Li, Ming; Guo, Guangyun; Chen, Xianxiang; Chen, Ying; Lei, Mei; Liu, Huiguo; Zhao, Jianping; Peng, Peng; Wang, Cong-Yi; Du, Ronghui</td>\n",
       "      <td>2020-03-12</td>\n",
       "      <td>3 weeks ago</td>\n",
       "    </tr>\n",
       "    <tr>\n",
       "      <th>45771</th>\n",
       "      <td>Why the WHO won't use the p-word</td>\n",
       "      <td>There are no criteria for a pandemic, but covid-19 looks like one, says Debora MacKenzie</td>\n",
       "      <td>New Scientist</td>\n",
       "      <td>MacKenzie, Debora</td>\n",
       "      <td>2020-03-07</td>\n",
       "      <td>4 weeks ago</td>\n",
       "    </tr>\n",
       "  </tbody>\n",
       "</table>\n",
       "<p>2427 rows × 6 columns</p>\n",
       "</div>\n",
       "<style>\n",
       "h3 {color: #4169E1}\n",
       "</style>"
      ],
      "text/plain": [
       "<cord.cord19.ResearchPapers at 0x1ee11c558d0>"
      ]
     },
     "execution_count": 8,
     "metadata": {},
     "output_type": "execute_result"
    }
   ],
   "source": [
    "covid_papers"
   ]
  },
  {
   "cell_type": "code",
   "execution_count": 9,
   "metadata": {},
   "outputs": [
    {
     "name": "stdout",
     "output_type": "stream",
     "text": [
      "Loading metadata from ..\\data\\CORD-19-research-challenge\n",
      "Cleaning metadata\n",
      "Applying tags to metadata\n",
      "\n",
      "Indexing research papers\n",
      "Creating the BM25 index from the text contents of the papers\n"
     ]
    },
    {
     "ename": "TypeError",
     "evalue": "load_json_texts() got an unexpected keyword argument 'data_path'",
     "output_type": "error",
     "traceback": [
      "\u001b[1;31m---------------------------------------------------------------------------\u001b[0m",
      "\u001b[1;31mTypeError\u001b[0m                                 Traceback (most recent call last)",
      "\u001b[1;32m<ipython-input-9-48764a5bf93c>\u001b[0m in \u001b[0;36m<module>\u001b[1;34m\u001b[0m\n\u001b[1;32m----> 1\u001b[1;33m \u001b[0mresearch_papers\u001b[0m \u001b[1;33m=\u001b[0m \u001b[0mResearchPapers\u001b[0m\u001b[1;33m.\u001b[0m\u001b[0mload\u001b[0m\u001b[1;33m(\u001b[0m\u001b[0mindex\u001b[0m\u001b[1;33m=\u001b[0m\u001b[1;34m'texts'\u001b[0m\u001b[1;33m)\u001b[0m\u001b[1;33m\u001b[0m\u001b[0m\n\u001b[0m",
      "\u001b[1;32md:\\projects\\cord19\\cord\\cord19.py\u001b[0m in \u001b[0;36mload\u001b[1;34m(cls, data_dir, index)\u001b[0m\n\u001b[0;32m    399\u001b[0m             \u001b[0mdata_path\u001b[0m \u001b[1;33m=\u001b[0m \u001b[0mfind_data_dir\u001b[0m\u001b[1;33m(\u001b[0m\u001b[1;33m)\u001b[0m\u001b[1;33m\u001b[0m\u001b[0m\n\u001b[0;32m    400\u001b[0m         \u001b[0mmetadata\u001b[0m \u001b[1;33m=\u001b[0m \u001b[0mcls\u001b[0m\u001b[1;33m.\u001b[0m\u001b[0mload_metadata\u001b[0m\u001b[1;33m(\u001b[0m\u001b[0mdata_path\u001b[0m\u001b[1;33m)\u001b[0m\u001b[1;33m\u001b[0m\u001b[0m\n\u001b[1;32m--> 401\u001b[1;33m         \u001b[1;32mreturn\u001b[0m \u001b[0mcls\u001b[0m\u001b[1;33m(\u001b[0m\u001b[0mmetadata\u001b[0m\u001b[1;33m,\u001b[0m \u001b[0mdata_path\u001b[0m\u001b[1;33m,\u001b[0m \u001b[0mindex\u001b[0m\u001b[1;33m=\u001b[0m\u001b[0mindex\u001b[0m\u001b[1;33m)\u001b[0m\u001b[1;33m\u001b[0m\u001b[0m\n\u001b[0m\u001b[0;32m    402\u001b[0m \u001b[1;33m\u001b[0m\u001b[0m\n\u001b[0;32m    403\u001b[0m     \u001b[1;33m@\u001b[0m\u001b[0mstaticmethod\u001b[0m\u001b[1;33m\u001b[0m\u001b[0m\n",
      "\u001b[1;32md:\\projects\\cord19\\cord\\cord19.py\u001b[0m in \u001b[0;36m__init__\u001b[1;34m(self, metadata, data_dir, index, view)\u001b[0m\n\u001b[0;32m    233\u001b[0m             \u001b[0mprint\u001b[0m\u001b[1;33m(\u001b[0m\u001b[1;34m'\\nIndexing research papers'\u001b[0m\u001b[1;33m)\u001b[0m\u001b[1;33m\u001b[0m\u001b[0m\n\u001b[0;32m    234\u001b[0m             \u001b[1;32mif\u001b[0m \u001b[0many\u001b[0m\u001b[1;33m(\u001b[0m\u001b[1;33m[\u001b[0m\u001b[0mindex\u001b[0m \u001b[1;33m==\u001b[0m \u001b[0mt\u001b[0m \u001b[1;32mfor\u001b[0m \u001b[0mt\u001b[0m \u001b[1;32min\u001b[0m \u001b[1;33m[\u001b[0m\u001b[1;34m'text'\u001b[0m\u001b[1;33m,\u001b[0m \u001b[1;34m'texts'\u001b[0m\u001b[1;33m,\u001b[0m \u001b[1;34m'content'\u001b[0m\u001b[1;33m,\u001b[0m \u001b[1;34m'contents'\u001b[0m\u001b[1;33m]\u001b[0m\u001b[1;33m]\u001b[0m\u001b[1;33m)\u001b[0m\u001b[1;33m:\u001b[0m\u001b[1;33m\u001b[0m\u001b[0m\n\u001b[1;32m--> 235\u001b[1;33m                 \u001b[0m_set_index_from_text\u001b[0m\u001b[1;33m(\u001b[0m\u001b[0mself\u001b[0m\u001b[1;33m.\u001b[0m\u001b[0mmetadata\u001b[0m\u001b[1;33m,\u001b[0m \u001b[0mdata_dir\u001b[0m\u001b[1;33m)\u001b[0m\u001b[1;33m\u001b[0m\u001b[0m\n\u001b[0m\u001b[0;32m    236\u001b[0m             \u001b[1;32melse\u001b[0m\u001b[1;33m:\u001b[0m\u001b[1;33m\u001b[0m\u001b[0m\n\u001b[0;32m    237\u001b[0m                 \u001b[0mprint\u001b[0m\u001b[1;33m(\u001b[0m\u001b[1;34m'Creating the BM25 index from the abstracts of the papers'\u001b[0m\u001b[1;33m)\u001b[0m\u001b[1;33m\u001b[0m\u001b[0m\n",
      "\u001b[1;32md:\\projects\\cord19\\cord\\cord19.py\u001b[0m in \u001b[0;36m_set_index_from_text\u001b[1;34m(metadata, data_dir)\u001b[0m\n\u001b[0;32m    202\u001b[0m \u001b[1;33m\u001b[0m\u001b[0m\n\u001b[0;32m    203\u001b[0m         \u001b[1;31m# Load the json catalog\u001b[0m\u001b[1;33m\u001b[0m\u001b[1;33m\u001b[0m\u001b[0m\n\u001b[1;32m--> 204\u001b[1;33m         \u001b[0mjson_papers\u001b[0m \u001b[1;33m=\u001b[0m \u001b[0mload_json_texts\u001b[0m\u001b[1;33m(\u001b[0m\u001b[0mjson_dirs\u001b[0m\u001b[1;33m=\u001b[0m\u001b[0mcatalog\u001b[0m\u001b[1;33m,\u001b[0m \u001b[0mdata_path\u001b[0m\u001b[1;33m=\u001b[0m\u001b[0mdata_dir\u001b[0m\u001b[1;33m,\u001b[0m \u001b[0mtokenize\u001b[0m\u001b[1;33m=\u001b[0m\u001b[1;32mTrue\u001b[0m\u001b[1;33m)\u001b[0m\u001b[1;33m\u001b[0m\u001b[0m\n\u001b[0m\u001b[0;32m    205\u001b[0m \u001b[1;33m\u001b[0m\u001b[0m\n\u001b[0;32m    206\u001b[0m         \u001b[1;31m# Set the index tokens from the json_papers to the metadata\u001b[0m\u001b[1;33m\u001b[0m\u001b[1;33m\u001b[0m\u001b[0m\n",
      "\u001b[1;31mTypeError\u001b[0m: load_json_texts() got an unexpected keyword argument 'data_path'"
     ]
    }
   ],
   "source": [
    "research_papers = ResearchPapers.load(index='texts')"
   ]
  },
  {
   "cell_type": "code",
   "execution_count": null,
   "metadata": {},
   "outputs": [],
   "source": []
  }
 ],
 "metadata": {
  "kernelspec": {
   "display_name": "cord",
   "language": "python",
   "name": "cord"
  },
  "language_info": {
   "codemirror_mode": {
    "name": "ipython",
    "version": 3
   },
   "file_extension": ".py",
   "mimetype": "text/x-python",
   "name": "python",
   "nbconvert_exporter": "python",
   "pygments_lexer": "ipython3",
   "version": "3.7.0"
  }
 },
 "nbformat": 4,
 "nbformat_minor": 4
}
