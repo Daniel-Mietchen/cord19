{
 "cells": [
  {
   "cell_type": "markdown",
   "metadata": {},
   "source": [
    "# Smoke Test"
   ]
  },
  {
   "cell_type": "code",
   "execution_count": 1,
   "metadata": {},
   "outputs": [],
   "source": [
    "from cord import ResearchPapers\n",
    "import pandas as pd"
   ]
  },
  {
   "cell_type": "code",
   "execution_count": 2,
   "metadata": {},
   "outputs": [
    {
     "name": "stdout",
     "output_type": "stream",
     "text": [
      "Loading metadata from ..\\data\\CORD-19-research-challenge\n",
      "Cleaning metadata\n",
      "Applying tags to metadata\n",
      "\n",
      "Indexing research papers\n",
      "Creating the BM25 index from the abstracts of the papers\n",
      "Use index=\"text\" if you want to index the texts of the paper instead\n",
      "Finished Indexing in 35.0 seconds\n"
     ]
    }
   ],
   "source": [
    "research_papers = ResearchPapers.load()"
   ]
  },
  {
   "cell_type": "code",
   "execution_count": 3,
   "metadata": {},
   "outputs": [
    {
     "data": {
      "text/html": [
       "\n",
       " <h4 class='cord'>Initial psychological responses to Influenza A, H1N1 (\"Swine flu\")</h4>\n",
       "\n",
       " <div class='abstract'>Measures assessed changes in transport usage, purchase of preparatory goods for a pandemic, perceived risk groups, indicators of anxiety, assessed estimated mortality rates for seasonal flu, effectiveness of seasonal flu vaccination, and changes in pork consumption RESULTS: 26% of the respondents were 'very concerned' about being a flu victim (42% Malaysians, 5% Europeans, p < .001).\n",
       "In data collected only in Europe, 64% greatly underestimated the mortality rates of seasonal flu, 26% believed se...</div>\n",
       " <div id=\"published_when\">\n",
       " <span class='published'>10 years ago</span>\n",
       "  <a href='http://doi.org/10.1186/1471-2334-9-166' target='_new' class='link'>Link</a> \n",
       " </div>\n",
       " <div class='authors'>Goodwin, Robin; Haque, Shamsul; Neto, Felix; Myers, Lynn B</div>\n",
       "\n",
       " <h4 class='cord'>The Influenza Virus Enigma</h4>\n",
       "\n",
       " <div class='abstract'>Both seasonal and pandemic influenza continue to challenge both scientists and clinicians.\n",
       "Drug-resistant H1N1 influenza viruses have dominated the 2009 flu season, and the H5N1 avian influenza virus continues to kill both people and poultry in Eurasia.\n",
       "Here, we discuss the pathogenesis and transmissibility of influenza viruses and we emphasize the need to find better predictors of both seasonal and potentially pandemic influenza.</div>\n",
       " <div id=\"published_when\">\n",
       " <span class='published'>11 years ago</span>\n",
       "  <a href='http://doi.org/10.1016/j.cell.2009.01.029' target='_new' class='link'>Link</a> \n",
       " </div>\n",
       " <div class='authors'>Salomon, Rachelle; Webster, Robert G.</div>\n",
       "\n",
       " <h4 class='cord'>Transmission parameters of the A/H1N1 (2009) influenza virus pandemic: a review</h4>\n",
       "\n",
       " <div class='abstract'>(2011) Transmission parameters of the A/H1N1 (2009) influenza virus pandemic: a review.\n",
       "Methods We reviewed all studies presenting estimates of the serial interval or generation time and the reproduction number of the A/H1N1 (2009) virus infection.\n",
       "Results Thirteen studies documented the serial interval from household or close‐contact studies, with overall mean 3 days (95% CI: 2·4, 3·6); taking into account tertiary transmission reduced this estimate to 2·6 days.\n",
       "Accounting for under‐reporting i...</div>\n",
       " <div id=\"published_when\">\n",
       " <span class='published'>9 years ago</span>\n",
       "  <a href='http://doi.org/10.1111/j.1750-2659.2011.00234.x' target='_new' class='link'>Link</a> \n",
       " </div>\n",
       " <div class='authors'>Boëlle, Pierre‐Yves; Ansart, Séverine; Cori, Anne; Valleron, Alain‐Jacques</div>\n",
       "\n",
       " <h4 class='cord'>The contribution of respiratory pathogens to the seasonality of NHS Direct calls</h4>\n",
       "\n",
       " <div class='abstract'>We describe the seasonal variation in NHS Direct respiratory calls (a new source of primary care data) and estimate the contribution of specific respiratory pathogens to this variation.\n",
       "Methods Linear regression models were used to estimate the weekly contribution of specific respiratory pathogens to the volume of NHS Direct respiratory calls (England and Wales, 2002–2004, all ages and 0–4years).\n",
       "Conclusions It is estimated that respiratory viruses, notably influenza and RSV, are responsible for...</div>\n",
       " <div id=\"published_when\">\n",
       " <span class='published'>12 years ago</span>\n",
       "  <a href='http://doi.org/10.1016/j.jinf.2007.04.353' target='_new' class='link'>Link</a> \n",
       " </div>\n",
       " <div class='authors'>Cooper, D.L.; Smith, G.E.; Edmunds, W.J.; Joseph, C.; Gerard, E.; George, R.C.</div>\n",
       "\n",
       " <h4 class='cord'>Public views of the uk media and government reaction to the 2009 swine flu pandemic</h4>\n",
       "\n",
       " <div class='abstract'>: The first cases of influenza A/H1N1 (swine flu) were confirmed in the UK on 27th April 2009, after a novel virus first identified in Mexico rapidly evolved into a pandemic.\n",
       "RESULTS: These discussions showed that there was little evidence of the public over-reacting, that people believed the threat of contracting swine flu was inevitable, and that they assessed their own self-efficacy for protecting against it to be low.\n",
       "More generally, people were confused about the difference between seasonal...</div>\n",
       " <div id=\"published_when\">\n",
       " <span class='published'>9 years ago</span>\n",
       "  <a href='http://doi.org/10.1186/1471-2458-10-697' target='_new' class='link'>Link</a> \n",
       " </div>\n",
       " <div class='authors'>Hilton, Shona; Smith, Emily</div>\n",
       "\n",
       " <h4 class='cord'>Difference in immune response in vaccinated and unvaccinated Swedish individuals after the 2009 influenza pandemic</h4>\n",
       "\n",
       " <div class='abstract'>: Previous exposures to flu and subsequent immune responses may impact on 2009/2010 pandemic flu vaccine responses and clinical symptoms upon infection with the 2009 pandemic H1N1 influenza strain.\n",
       "We designed a longitudinal study to examine influenza- (flu-) specific immune responses and the association between pre-existing flu responses, symptoms of influenza-like illness (ILI), impact of pandemic flu infection, and pandemic flu vaccination in a cohort of 2,040 individuals in Sweden in 2009–20...</div>\n",
       " <div id=\"published_when\">\n",
       " <span class='published'>6 years ago</span>\n",
       "  <a href='http://doi.org/10.1186/1471-2334-14-319' target='_new' class='link'>Link</a> \n",
       " </div>\n",
       " <div class='authors'>Magalhaes, Isabelle; Eriksson, Mikael; Linde, Charlotte; Muhammad, Rashid; Rane, Lalit; Ambati, Aditya; Axelsson-Robertson, Rebecca; Khalaj, Bahareh; Alvarez-Corrales, Nancy; Lapini, Giulia; Montomoli...</div>\n",
       "\n",
       " <h4 class='cord'>Agent-based simulation for weekend-extension strategies to mitigate influenza outbreaks</h4>\n",
       "\n",
       " <div class='abstract'>However, few strategies have explicitly utilized the weekend effect, which has been widely reported to be capable of reducing influenza infections.\n",
       "This study aims to explore six weekend-extension strategies against seasonal and pandemic flu outbreaks.\n",
       "RESULTS: If the extensions last more than two days, the weekend-extension strategies can remarkably reduce the overall disease attack rate of seasonal flu.\n",
       "For the pandemic flu, the weekend-extension strategies only produce a few mitigation effect...</div>\n",
       " <div id=\"published_when\">\n",
       " <span class='published'>9 years ago</span>\n",
       "  <a href='http://doi.org/10.1186/1471-2458-11-522' target='_new' class='link'>Link</a> \n",
       " </div>\n",
       " <div class='authors'>Mao, Liang</div>\n",
       "\n",
       " <h4 class='cord'>Global response to pandemic flu: more research needed on a critical front</h4>\n",
       "\n",
       " <div class='abstract'>If and when sustained human-to-human transmission of H5N1 becomes a reality, the world will no longer be dealing with sporadic avian flu borne along migratory flight paths of birds, but aviation flu – winged at subsonic speed along commercial air conduits to every corner of planet Earth.\n",
       "Given that air transportation is the one feature that most differentiates present day transmission scenarios from those in 1918, our present inability to prevent spread of influenza by international air travel, ...</div>\n",
       " <div id=\"published_when\">\n",
       " <span class='published'>13 years ago</span>\n",
       "  <a href='http://doi.org/10.1186/1478-4505-4-8' target='_new' class='link'>Link</a> \n",
       " </div>\n",
       " <div class='authors'>Lim, Meng-Kin</div>\n",
       "\n",
       " <h4 class='cord'>Human temperatures for syndromic surveillance in the emergency department: data from the autumn wave of the 2009 swine flu (H1N1) pandemic and a seasonal influenza outbreak</h4>\n",
       "\n",
       " <div class='abstract'>Here, we describe a new technology that automatically collects body temperatures during triage.\n",
       "The technology was tested in an ED as an approach to monitoring diseases that cause fever, such as seasonal flu and some pandemics.\n",
       "The data were summarized in terms of rates of fever (temperatures ≥100.4 °F [≥38.0 °C]) and were qualitatively compared with regional disease surveillance programs in Massachusetts.\n",
       "RESULTS: From September 2009 through August 2011, 71,865 body temperatures were collected ...</div>\n",
       " <div id=\"published_when\">\n",
       " <span class='published'>4 years ago</span>\n",
       "  <a href='http://doi.org/10.1186/s12873-016-0080-7' target='_new' class='link'>Link</a> \n",
       " </div>\n",
       " <div class='authors'>Bordonaro, Samantha F.; McGillicuddy, Daniel C.; Pompei, Francesco; Burmistrov, Dmitriy; Harding, Charles; Sanchez, Leon D.</div>\n",
       "\n",
       " <h4 class='cord'>Clinical Accuracy of a PLEX-ID Flu Device for Simultaneous Detection and Identification of Influenza Viruses A and B</h4>\n",
       "\n",
       " <div class='abstract'>Positive percent agreements (PPAs) and negative percent agreements (NPAs) of the PLEX-ID Flu assay were 94.5% and 99.0% for influenza A virus and 96.0% and 99.9% for influenza B virus, respectively.\n",
       "For the influenza A virus subtyping characterization, the PLEX-ID Flu assay had PPAs and NPAs of 98.3% and 97.5% for H1N1-p, 88.6% and 100.0% for H1N1-s, and 98.0% and 99.9% for H3N2, respectively.\n",
       "Bidirectional Sanger sequencing analysis revealed that 87.5% of 96 discrepant results between the PLEX-...</div>\n",
       " <div id=\"published_when\">\n",
       " <span class='published'>7 years ago</span>\n",
       "  <a href='http://doi.org/10.1128/jcm.01978-12' target='_new' class='link'>Link</a> \n",
       " </div>\n",
       " <div class='authors'>Tang, Yi-Wei; Lowery, Kristin S.; Valsamakis, Alexandra; Schaefer, Virginia C.; Chappell, James D.; White-Abell, Jill; Quinn, Criziel D.; Li, Haijing; Washington, Cicely A.; Cromwell, Jenna; Giamanco,...</div>\n",
       "\n",
       "\n",
       "<style>\n",
       ".authors{\n",
       "    margin: 4px 0px 15px;\n",
       "}\n",
       ".authors { color: #778899}\n",
       ".published {color: #2F4F4F; font-weight: bold; font-size: 0.9em; margin-right: 10px}\n",
       "h2.cord, h3.cord, h4.cord {margin: 15px 0px 8px 0px}\n",
       "h4.cord{color:#008B8B; font-size: 1.1em; margin-top: 15px}\n",
       "div.abstract {max-height : 80px; margin: 8px 0px 2px}\n",
       "div#pubished_when{margin: 0px}\n",
       ".link-text {color: #808080; font-size: 0.9em}\n",
       "</style>"
      ],
      "text/plain": [
       "<cord.cord19.SearchResults at 0x1fc0e1512b0>"
      ]
     },
     "execution_count": 3,
     "metadata": {},
     "output_type": "execute_result"
    }
   ],
   "source": [
    "research_papers.search('seasonal flu transmission')"
   ]
  },
  {
   "cell_type": "code",
   "execution_count": 4,
   "metadata": {},
   "outputs": [
    {
     "data": {
      "application/vnd.jupyter.widget-view+json": {
       "model_id": "2885fdc9a39b4e9382ba7c2076a0e0b2",
       "version_major": 2,
       "version_minor": 0
      },
      "text/plain": [
       "VBox(children=(HBox(children=(Text(value='', layout=Layout(width='400px')), Button(button_style='primary', des…"
      ]
     },
     "metadata": {},
     "output_type": "display_data"
    },
    {
     "data": {
      "application/vnd.jupyter.widget-view+json": {
       "model_id": "4f9c1798e25b4cee9461943afae1d024",
       "version_major": 2,
       "version_minor": 0
      },
      "text/plain": [
       "Output()"
      ]
     },
     "metadata": {},
     "output_type": "display_data"
    }
   ],
   "source": [
    "research_papers.searchbar()"
   ]
  },
  {
   "cell_type": "code",
   "execution_count": 5,
   "metadata": {},
   "outputs": [
    {
     "data": {
      "text/html": [
       "<div>\n",
       "<style scoped>\n",
       "    .dataframe tbody tr th:only-of-type {\n",
       "        vertical-align: middle;\n",
       "    }\n",
       "\n",
       "    .dataframe tbody tr th {\n",
       "        vertical-align: top;\n",
       "    }\n",
       "\n",
       "    .dataframe thead th {\n",
       "        text-align: right;\n",
       "    }\n",
       "</style>\n",
       "<table border=\"1\" class=\"dataframe\">\n",
       "  <thead>\n",
       "    <tr style=\"text-align: right;\">\n",
       "      <th></th>\n",
       "      <th>index_tokens</th>\n",
       "    </tr>\n",
       "  </thead>\n",
       "  <tbody>\n",
       "    <tr>\n",
       "      <th>0</th>\n",
       "      <td>[next-generation, sequencing, increasingly, used, study, samples, composed, mixtures, organisms, clinical, applications, presence, pathogen, very, low, abundance, highly, important, present, analytical, method, siann, strain, identification, alignment, near, neighbors, specifically, designed, rapidly, detect, set, target, organisms, mixed, samples, achieves, high, degree, species-, strain-specificity, aligning, short, sequence, reads, genomes, near, neighbor, organisms, well, target, empirical, benchmarking, alongside, current, state-of-the-art, methods, shows, extremely, high, positive, predictive, value, even, very, low, abundances, target, organism, mixed, sample, siann, available, illumina, basespace, app, well, signature, science, llc, siann, results, presented, streamlined, report, designed, comprehensible, non-specialist, user, providing, powerful, tool, rapid, species, detection, mixed, sample, focusing, set, customizable, ...]</td>\n",
       "    </tr>\n",
       "    <tr>\n",
       "      <th>1</th>\n",
       "      <td>[emerging, disease, infectious, epidemic, caused, newly, transmissible, pathogen, either, appeared, first, time, already, existed, human, populations, capacity, increase, rapidly, incidence, well, geographic, range, adapting, human, immune, system, emerging, diseases, trigger, large-scale, pandemic, spreading, transnational, spreading, sars, global, outbreak, ah1n1, recent, potential, invasion, avian, influenza, ah7n9, study, dynamics, mediating, transmission, emerging, diseases, spatial, epidemiology, networked, metapopulation, provides, valuable, modeling, framework, takes, spatially, distributed, factors, consideration, review, elaborates, latest, progresses, spatial, metapopulation, dynamics, discusses, empirical, theoretical, findings, verify, validity, networked, metapopulations, application, evaluating, effectiveness, disease, intervention, strategies, well]</td>\n",
       "    </tr>\n",
       "    <tr>\n",
       "      <th>2</th>\n",
       "      <td>[germline, variation, immunoglobulin, gene, ig, loci, critical, pathogen-mediated, immunity, establishing, complete, reference, sequences, regions, problematic, segmental, duplications, somatically, rearranged, source, dna, sequenced, bac, clones, essentially, haploid, hydatidiform, mole, chm1, across, light, chain, ig, loci, kappa, igk, lambda, igl, creating, single, haplotype, representations, regions, igl, haplotype, contiguous, sequence, novel, gene, novel, gene, alleles, insertion, igk, haplotype, consists, proximal, distal, contigs, separated, gap, also, present, reference, genome, sequence, effort, added, additional, unique, sequence, extending, gap, igk, haplotype, contains, novel, gene, novel, gene, alleles, region, increased, sequence, identity, igk, contigs, exhibiting, signatures, interlocus, gene, conversion, data, facilitated, first, comparison, nucleotide, diversity, light, ig, ...]</td>\n",
       "    </tr>\n",
       "    <tr>\n",
       "      <th>3</th>\n",
       "      <td>[deep, sequencing, clinical, samples, established, tool, detection, infectious, pathogens, direct, medical, applications, large, amount, data, generated, provides, opportunity, detect, species, even, very, low, levels, provided, computational, tools, effectively, interpret, potentially, complex, metagenomic, mixtures, data, interpretation, complicated, fact, short, sequencing, reads, match, multiple, organisms, lack, completeness, existing, databases, particular, viral, pathogens, interpretation, problem, formulated, statistically, mixture, model, species, origin, read, missing, complete, knowledge, species, present, mixture, helps, individual, reads, assignment, several, analytical, tools, proposed, approximately, solve, computational, problem, show, use, parallel, monte, carlo, markov, chains, mcmc, exploration, species, space, enables, identification, set, species, likely, contribute, mixture, added, accuracy, comes, cost, increased, ...]</td>\n",
       "    </tr>\n",
       "    <tr>\n",
       "      <th>4</th>\n",
       "      <td>[developing, methods, reconstruct, transmission, histories, viral, outbreaks, could, provide, critical, information, support, locating, sources, disease, transmission, phylogenetic, methods, used, measure, degree, relatedness, among, sequenced, viral, samples, proven, useful, identifying, potential, outbreak, sources, complex, nature, infectious, disease, makes, difficult, assign, rigorously, defined, quantitative, confidence, value, assessing, likelihood, true, direct, transmission, event, using, genetic, data, alone, new, method, presented, calculate, confidence, value, assessing, likelihood, transmission, event, using, phylogenetic, inference, limited, knowledge, incubation, infectious, duration, times, method, applied, simulations, foot, mouth, disease, fmd, outbreak, demonstrate, combination, phylogenetic, epidemiology, data, used, strengthen, assessment, likelihood, direct, transmission, methods, using, phylogenetic, data, infection, timing, data, alone, ...]</td>\n",
       "    </tr>\n",
       "    <tr>\n",
       "      <th>...</th>\n",
       "      <td>...</td>\n",
       "    </tr>\n",
       "    <tr>\n",
       "      <th>95</th>\n",
       "      <td>[bunyaviruses, significant, human, pathogens, causing, diseases, ranging, hemorrhagic, fevers, encephalitis, among, viruses, la, crosse, virus, lacv, member, california, serogroup, circulates, eastern, midwestern, united, states, lacv, infection, often, asymptomatic, dozens, cases, encephalitis, reported, yearly, unfortunately, antivirals, approved, treat, lacv, infection, developed, method, rapidly, test, potential, antivirals, lacv, infection, screen, identified, several, potential, antiviral, molecules, including, known, antivirals, additionally, identified, many, novel, antivirals, exhibited, antiviral, activity, without, affecting, cellular, viability, valinomycin, potassium, ionophore, among, top, targets, found, valinomycin, exhibited, potent, anti-lacv, activity, multiple, cell, types, dose-dependent, manner, valinomycin, affect, particle, stability, infectivity, suggesting, preclude, virus, replication, altering, cellular, potassium, ions, known, determinant, ...]</td>\n",
       "    </tr>\n",
       "    <tr>\n",
       "      <th>96</th>\n",
       "      <td>[since, sars, outbreak, years, ago, large, number, severe, acute, respiratory, syndrome, related, coronaviruses, sarsr-cov, discovered, natural, reservoir, host, bats1-4, previous, studies, indicated, bat, sarsr-covs, potential, infect, humans5-7, report, identification, characterization, novel, coronavirus, ncov-2019, caused, epidemic, acute, respiratory, syndrome, humans, wuhan, china, epidemic, started, december, 2019, caused, laboratory, confirmed, infections, fatal, cases, january, 2020, full-length, genome, sequences, obtained, patients, early, stage, outbreak, almost, identical, share, sequence, identify, sars-cov, furthermore, found, ncov-2019, identical, whole, genome, level, bat, coronavirus, pairwise, protein, sequence, analysis, conserved, non-structural, proteins, show, virus, belongs, species, sarsr-cov, ncov-2019, virus, isolated, bronchoalveolar, lavage, fluid, critically, ill, patient, neutralized, sera, several, ...]</td>\n",
       "    </tr>\n",
       "    <tr>\n",
       "      <th>97</th>\n",
       "      <td>[past, years, several, coronaviruses, crossed, species, barrier, humans, causing, outbreaks, severe, often, fatal, respiratory, illness, since, sars-, cov, first, identified, animal, markets, global, viromics, projects, discovered, thousands, coronavirus, sequences, diverse, animals, geographic, regions, unfortunately, tools, available, functionally, test, novel, viruses, ability, infect, humans, severely, hampered, efforts, predict, next, zoonotic, viral, outbreak, developed, approach, rapidly, screen, lineage, betacoronaviruses, sars-cov, recent, 2019-ncov, receptor, usage, ability, infect, cell, types, different, species, show, host, protease, processing, viral, entry, significant, barrier, several, lineage, viruses, bypassing, barrier, allows, several, lineage, viruses, enter, human, cells, unknown, receptor, also, demonstrate, different, lineage, viruses, recombine, gain, entry, human, cells, ...]</td>\n",
       "    </tr>\n",
       "    <tr>\n",
       "      <th>98</th>\n",
       "      <td>[since, first, identified, epidemic, scale, recently, emerged, novel, coronavirus, 2019-ncov, wuhan, china, increased, rapidly, cases, arising, across, china, countries, regions, using, transmission, model, estimate, basic, reproductive, number, transmissions, must, prevented, stop, increasing, wuhan, case, ascertainment, total, infections, wuhan, january]</td>\n",
       "    </tr>\n",
       "    <tr>\n",
       "      <th>99</th>\n",
       "      <td>[backgroundsan, ongoing, outbreak, novel, coronavirus, 2019-ncov, pneumonia, hit, major, city, china, wuhan, december, 2019, subsequently, reached, provinces, regions, china, countries, present, estimates, basic, reproduction, number, r0, 2019-ncov, early, phase, outbreakmethodsaccounting, impact, variations, disease, reporting, rate, modelled, epidemic, curve, 2019-ncov, cases, time, series, mainland, china, january, january, 2020, exponential, growth, estimated, intrinsic, growth, rate, estimated, r0, using, serial, intervals, si, well-known, coronavirus, diseases, mers, sars, approximations, true, unknown, sifindingsthe, early, outbreak, data, largely, follows, exponential, growth, estimated, mean, r0, ranges, associated, increase, reporting, rate, demonstrated, changes, reporting, rate, substantially, affect, estimates, r0conclusionthe, mean, estimate, r0, 2019-ncov, ranges, significantly, larger, findings, indicate, ...]</td>\n",
       "    </tr>\n",
       "  </tbody>\n",
       "</table>\n",
       "<p>100 rows × 1 columns</p>\n",
       "</div>"
      ],
      "text/plain": [
       "                                                                                                                                                                                                                                                                                                                                                                                                                                                                                                                                                                                                                                                                                                                                                                                                                                                                                                                                                                                                                   index_tokens\n",
       "0                                         [next-generation, sequencing, increasingly, used, study, samples, composed, mixtures, organisms, clinical, applications, presence, pathogen, very, low, abundance, highly, important, present, analytical, method, siann, strain, identification, alignment, near, neighbors, specifically, designed, rapidly, detect, set, target, organisms, mixed, samples, achieves, high, degree, species-, strain-specificity, aligning, short, sequence, reads, genomes, near, neighbor, organisms, well, target, empirical, benchmarking, alongside, current, state-of-the-art, methods, shows, extremely, high, positive, predictive, value, even, very, low, abundances, target, organism, mixed, sample, siann, available, illumina, basespace, app, well, signature, science, llc, siann, results, presented, streamlined, report, designed, comprehensible, non-specialist, user, providing, powerful, tool, rapid, species, detection, mixed, sample, focusing, set, customizable, ...]\n",
       "1                                                                                                                 [emerging, disease, infectious, epidemic, caused, newly, transmissible, pathogen, either, appeared, first, time, already, existed, human, populations, capacity, increase, rapidly, incidence, well, geographic, range, adapting, human, immune, system, emerging, diseases, trigger, large-scale, pandemic, spreading, transnational, spreading, sars, global, outbreak, ah1n1, recent, potential, invasion, avian, influenza, ah7n9, study, dynamics, mediating, transmission, emerging, diseases, spatial, epidemiology, networked, metapopulation, provides, valuable, modeling, framework, takes, spatially, distributed, factors, consideration, review, elaborates, latest, progresses, spatial, metapopulation, dynamics, discusses, empirical, theoretical, findings, verify, validity, networked, metapopulations, application, evaluating, effectiveness, disease, intervention, strategies, well]\n",
       "2                                                                                [germline, variation, immunoglobulin, gene, ig, loci, critical, pathogen-mediated, immunity, establishing, complete, reference, sequences, regions, problematic, segmental, duplications, somatically, rearranged, source, dna, sequenced, bac, clones, essentially, haploid, hydatidiform, mole, chm1, across, light, chain, ig, loci, kappa, igk, lambda, igl, creating, single, haplotype, representations, regions, igl, haplotype, contiguous, sequence, novel, gene, novel, gene, alleles, insertion, igk, haplotype, consists, proximal, distal, contigs, separated, gap, also, present, reference, genome, sequence, effort, added, additional, unique, sequence, extending, gap, igk, haplotype, contains, novel, gene, novel, gene, alleles, region, increased, sequence, identity, igk, contigs, exhibiting, signatures, interlocus, gene, conversion, data, facilitated, first, comparison, nucleotide, diversity, light, ig, ...]\n",
       "3                                   [deep, sequencing, clinical, samples, established, tool, detection, infectious, pathogens, direct, medical, applications, large, amount, data, generated, provides, opportunity, detect, species, even, very, low, levels, provided, computational, tools, effectively, interpret, potentially, complex, metagenomic, mixtures, data, interpretation, complicated, fact, short, sequencing, reads, match, multiple, organisms, lack, completeness, existing, databases, particular, viral, pathogens, interpretation, problem, formulated, statistically, mixture, model, species, origin, read, missing, complete, knowledge, species, present, mixture, helps, individual, reads, assignment, several, analytical, tools, proposed, approximately, solve, computational, problem, show, use, parallel, monte, carlo, markov, chains, mcmc, exploration, species, space, enables, identification, set, species, likely, contribute, mixture, added, accuracy, comes, cost, increased, ...]\n",
       "4           [developing, methods, reconstruct, transmission, histories, viral, outbreaks, could, provide, critical, information, support, locating, sources, disease, transmission, phylogenetic, methods, used, measure, degree, relatedness, among, sequenced, viral, samples, proven, useful, identifying, potential, outbreak, sources, complex, nature, infectious, disease, makes, difficult, assign, rigorously, defined, quantitative, confidence, value, assessing, likelihood, true, direct, transmission, event, using, genetic, data, alone, new, method, presented, calculate, confidence, value, assessing, likelihood, transmission, event, using, phylogenetic, inference, limited, knowledge, incubation, infectious, duration, times, method, applied, simulations, foot, mouth, disease, fmd, outbreak, demonstrate, combination, phylogenetic, epidemiology, data, used, strengthen, assessment, likelihood, direct, transmission, methods, using, phylogenetic, data, infection, timing, data, alone, ...]\n",
       "..                                                                                                                                                                                                                                                                                                                                                                                                                                                                                                                                                                                                                                                                                                                                                                                                                                                                                                                                                                                                                          ...\n",
       "95  [bunyaviruses, significant, human, pathogens, causing, diseases, ranging, hemorrhagic, fevers, encephalitis, among, viruses, la, crosse, virus, lacv, member, california, serogroup, circulates, eastern, midwestern, united, states, lacv, infection, often, asymptomatic, dozens, cases, encephalitis, reported, yearly, unfortunately, antivirals, approved, treat, lacv, infection, developed, method, rapidly, test, potential, antivirals, lacv, infection, screen, identified, several, potential, antiviral, molecules, including, known, antivirals, additionally, identified, many, novel, antivirals, exhibited, antiviral, activity, without, affecting, cellular, viability, valinomycin, potassium, ionophore, among, top, targets, found, valinomycin, exhibited, potent, anti-lacv, activity, multiple, cell, types, dose-dependent, manner, valinomycin, affect, particle, stability, infectivity, suggesting, preclude, virus, replication, altering, cellular, potassium, ions, known, determinant, ...]\n",
       "96                                         [since, sars, outbreak, years, ago, large, number, severe, acute, respiratory, syndrome, related, coronaviruses, sarsr-cov, discovered, natural, reservoir, host, bats1-4, previous, studies, indicated, bat, sarsr-covs, potential, infect, humans5-7, report, identification, characterization, novel, coronavirus, ncov-2019, caused, epidemic, acute, respiratory, syndrome, humans, wuhan, china, epidemic, started, december, 2019, caused, laboratory, confirmed, infections, fatal, cases, january, 2020, full-length, genome, sequences, obtained, patients, early, stage, outbreak, almost, identical, share, sequence, identify, sars-cov, furthermore, found, ncov-2019, identical, whole, genome, level, bat, coronavirus, pairwise, protein, sequence, analysis, conserved, non-structural, proteins, show, virus, belongs, species, sarsr-cov, ncov-2019, virus, isolated, bronchoalveolar, lavage, fluid, critically, ill, patient, neutralized, sera, several, ...]\n",
       "97                                                                          [past, years, several, coronaviruses, crossed, species, barrier, humans, causing, outbreaks, severe, often, fatal, respiratory, illness, since, sars-, cov, first, identified, animal, markets, global, viromics, projects, discovered, thousands, coronavirus, sequences, diverse, animals, geographic, regions, unfortunately, tools, available, functionally, test, novel, viruses, ability, infect, humans, severely, hampered, efforts, predict, next, zoonotic, viral, outbreak, developed, approach, rapidly, screen, lineage, betacoronaviruses, sars-cov, recent, 2019-ncov, receptor, usage, ability, infect, cell, types, different, species, show, host, protease, processing, viral, entry, significant, barrier, several, lineage, viruses, bypassing, barrier, allows, several, lineage, viruses, enter, human, cells, unknown, receptor, also, demonstrate, different, lineage, viruses, recombine, gain, entry, human, cells, ...]\n",
       "98                                                                                                                                                                                                                                                                                                                                                                                                                                                                                                                                                                                                                                                       [since, first, identified, epidemic, scale, recently, emerged, novel, coronavirus, 2019-ncov, wuhan, china, increased, rapidly, cases, arising, across, china, countries, regions, using, transmission, model, estimate, basic, reproductive, number, transmissions, must, prevented, stop, increasing, wuhan, case, ascertainment, total, infections, wuhan, january]\n",
       "99                                                  [backgroundsan, ongoing, outbreak, novel, coronavirus, 2019-ncov, pneumonia, hit, major, city, china, wuhan, december, 2019, subsequently, reached, provinces, regions, china, countries, present, estimates, basic, reproduction, number, r0, 2019-ncov, early, phase, outbreakmethodsaccounting, impact, variations, disease, reporting, rate, modelled, epidemic, curve, 2019-ncov, cases, time, series, mainland, china, january, january, 2020, exponential, growth, estimated, intrinsic, growth, rate, estimated, r0, using, serial, intervals, si, well-known, coronavirus, diseases, mers, sars, approximations, true, unknown, sifindingsthe, early, outbreak, data, largely, follows, exponential, growth, estimated, mean, r0, ranges, associated, increase, reporting, rate, demonstrated, changes, reporting, rate, substantially, affect, estimates, r0conclusionthe, mean, estimate, r0, 2019-ncov, ranges, significantly, larger, findings, indicate, ...]\n",
       "\n",
       "[100 rows x 1 columns]"
      ]
     },
     "execution_count": 5,
     "metadata": {},
     "output_type": "execute_result"
    }
   ],
   "source": [
    "pd.options.display.max_colwidth=2000\n",
    "metadata = research_papers.metadata\n",
    "metadata.head(100).index_tokens.to_frame()"
   ]
  },
  {
   "cell_type": "code",
   "execution_count": 6,
   "metadata": {},
   "outputs": [],
   "source": [
    "covid_papers = research_papers.covid_related()"
   ]
  },
  {
   "cell_type": "code",
   "execution_count": 7,
   "metadata": {},
   "outputs": [
    {
     "data": {
      "text/plain": [
       "2427"
      ]
     },
     "execution_count": 7,
     "metadata": {},
     "output_type": "execute_result"
    }
   ],
   "source": [
    "len(covid_papers)"
   ]
  },
  {
   "cell_type": "code",
   "execution_count": 8,
   "metadata": {},
   "outputs": [
    {
     "data": {
      "text/html": [
       "<h3>CORD 19 Research Papers</h3>\n",
       "<div>\n",
       "<style scoped>\n",
       "    .dataframe tbody tr th:only-of-type {\n",
       "        vertical-align: middle;\n",
       "    }\n",
       "\n",
       "    .dataframe tbody tr th {\n",
       "        vertical-align: top;\n",
       "    }\n",
       "\n",
       "    .dataframe thead th {\n",
       "        text-align: right;\n",
       "    }\n",
       "</style>\n",
       "<table border=\"1\" class=\"dataframe\">\n",
       "  <thead>\n",
       "    <tr style=\"text-align: right;\">\n",
       "      <th></th>\n",
       "      <th>Papers</th>\n",
       "      <th>Oldest</th>\n",
       "      <th>Newest</th>\n",
       "      <th>SARS-COV-2</th>\n",
       "      <th>SARS</th>\n",
       "      <th>Coronavirus</th>\n",
       "      <th>Virus</th>\n",
       "      <th>Antivirals</th>\n",
       "    </tr>\n",
       "  </thead>\n",
       "  <tbody>\n",
       "    <tr>\n",
       "      <th></th>\n",
       "      <td>2427</td>\n",
       "      <td>2019-12-01</td>\n",
       "      <td>2020-12-31</td>\n",
       "      <td>2427</td>\n",
       "      <td>0</td>\n",
       "      <td>1621</td>\n",
       "      <td>1750</td>\n",
       "      <td>70</td>\n",
       "    </tr>\n",
       "  </tbody>\n",
       "</table>\n",
       "</div>\n",
       "<hr/>\n",
       "<div>\n",
       "<style scoped>\n",
       "    .dataframe tbody tr th:only-of-type {\n",
       "        vertical-align: middle;\n",
       "    }\n",
       "\n",
       "    .dataframe tbody tr th {\n",
       "        vertical-align: top;\n",
       "    }\n",
       "\n",
       "    .dataframe thead th {\n",
       "        text-align: right;\n",
       "    }\n",
       "</style>\n",
       "<table border=\"1\" class=\"dataframe\">\n",
       "  <thead>\n",
       "    <tr style=\"text-align: right;\">\n",
       "      <th></th>\n",
       "      <th>title</th>\n",
       "      <th>abstract</th>\n",
       "      <th>journal</th>\n",
       "      <th>authors</th>\n",
       "      <th>published</th>\n",
       "      <th>when</th>\n",
       "    </tr>\n",
       "  </thead>\n",
       "  <tbody>\n",
       "    <tr>\n",
       "      <th>92</th>\n",
       "      <td>A mathematical model for simulating the transmission of Wuhan novel Coronavirus</td>\n",
       "      <td>As reported by the World Health Organization, a novel coronavirus (2019-nCoV) was identified as the causative virus of Wuhan pneumonia of unknown etiology by Chinese authorities on 7 January, 2020. In this study, we developed a Bats-Hosts-Reservoir-People transmission network model for simulating the potential transmission from the infection source (probable be bats) to the human infection. Since the Bats-Hosts-Reservoir network was hard to explore clearly and public concerns were focusing on the transmission from a seafood market (reservoir) to people, we simplified the model as Reservoir-People transmission network model. The basic reproduction number (R0) was calculated from the RP model to assess the transmissibility of the 2019-nCoV.</td>\n",
       "      <td></td>\n",
       "      <td>Tianmu Chen; Jia Rui; Qiupeng Wang; Zeyu Zhao; Jing-An Cui; Ling Yin</td>\n",
       "      <td>2020-01-19</td>\n",
       "      <td>2 months ago</td>\n",
       "    </tr>\n",
       "    <tr>\n",
       "      <th>93</th>\n",
       "      <td>Genomic and protein structure modelling analysis depicts the origin and infectivity of 2019-nCoV, a new coronavirus which caused a pneumonia outbreak in Wuhan, China</td>\n",
       "      <td>Detailed genomic and structure-based analysis of a new coronavirus, namely 2019-nCoV, showed that the new virus is a new type of bat coronavirus and is genetically fairly distant from the human SARS coronavirus. Structure analysis of the spike (S) protein of this new virus showed that its S protein only binds weakly to the ACE2 receptor on human cells whereas the human SARS coronavirus exhibits strongly affinity to the ACE receptor. These findings suggest that the new virus does not readily transmit between humans and should theoretically not able to cause very serious human infection. These data are important to guide design of infection control policy and inform the public on the nature of threat imposed by 2019-nCov when results of direct laboratory tests on this virus are not expected to be available in the near future.</td>\n",
       "      <td></td>\n",
       "      <td>Ning Dong; Xuemei Yang; Lianwei Ye; Kaichao Chen; Edward Wai-Chi Chan; Mengsu Yang; Sheng Chen</td>\n",
       "      <td>2020-01-21</td>\n",
       "      <td>2 months ago</td>\n",
       "    </tr>\n",
       "    <tr>\n",
       "      <th>94</th>\n",
       "      <td>Host and infectivity prediction of Wuhan 2019 novel coronavirus using deep learning algorithm</td>\n",
       "      <td>The recent outbreak of pneumonia in Wuhan, China caused by the 2019 Novel Coronavirus (2019-nCoV) emphasizes the importance of detecting novel viruses and predicting their risks of infecting people. In this report, we introduced the VHP (Virus Host Prediction) to predict the potential hosts of viruses using deep learning algorithm. Our prediction suggests that 2019-nCoV has close infectivity with other human coronaviruses, especially the severe acute respiratory syndrome coronavirus (SARS-CoV), Bat SARS-like Coronaviruses and the Middle East respiratory syndrome coronavirus (MERS-CoV). Based on our prediction, compared to the Coronaviruses infecting other vertebrates, bat coronaviruses are assigned with more similar infectivity patterns with 2019-nCoVs. Furthermore, by comparing the infectivity patterns of all viruses hosted on vertebrates, we found mink viruses show a closer infectivity pattern to 2019-nCov. These consequences of infectivity pattern analysis illustrate that bat and mink may be two candidate reservoirs of 2019-nCov.These results warn us to beware of 2019-nCoV and guide us to further explore the properties and reservoir of it.One Sentence It is of great value to identify whether a newly discovered virus has the risk of infecting human. Guo et al. proposed a virus host prediction method based on deep learning to detect what kind of host a virus can infect with DNA sequence as input. Applied to the Wuhan 2019 Novel Coronavirus, our prediction demonstrated that several vertebrate-infectious coronaviruses have strong potential to infect human. This method will be helpful in future viral analysis and early prevention and control of viral pathogens.</td>\n",
       "      <td></td>\n",
       "      <td>Qian Guo; Mo Li; Chunhui Wang; Peihong Wang; Zhencheng Fang; Jie tan; Shufang Wu; Yonghong Xiao; Huaiqiu Zhu</td>\n",
       "      <td>2020-01-24</td>\n",
       "      <td>2 months ago</td>\n",
       "    </tr>\n",
       "    <tr>\n",
       "      <th>96</th>\n",
       "      <td>Discovery of a novel coronavirus associated with the recent pneumonia outbreak in humans and its potential bat origin</td>\n",
       "      <td>Since the SARS outbreak 18 years ago, a large number of severe acute respiratory syndrome related coronaviruses (SARSr-CoV) have been discovered in their natural reservoir host, bats1-4. Previous studies indicated that some of those bat SARSr-CoVs have the potential to infect humans5-7. Here we report the identification and characterization of a novel coronavirus (nCoV-2019) which caused an epidemic of acute respiratory syndrome in humans, in Wuhan, China. The epidemic, started from December 12th, 2019, has caused 198 laboratory confirmed infections with three fatal cases by January 20th, 2020. Full-length genome sequences were obtained from five patients at the early stage of the outbreak. They are almost identical to each other and share 79.5% sequence identify to SARS-CoV. Furthermore, it was found that nCoV-2019 is 96% identical at the whole genome level to a bat coronavirus. The pairwise protein sequence analysis of seven conserved non-structural proteins show that this virus belongs to the species of SARSr-CoV. The nCoV-2019 virus was then isolated from the bronchoalveolar lavage fluid of a critically ill patient, which can be neutralized by sera from several patients. Importantly, we have confirmed that this novel CoV uses the same cell entry receptor, ACE2, as SARS-CoV.</td>\n",
       "      <td></td>\n",
       "      <td>Peng Zhou; Xing-Lou Yang; Xian-Guang Wang; Ben Hu; Lei Zhang; Wei Zhang; Hao-Rui Si; Yan Zhu; Bei Li; Chao-Lin Huang; Hui-Dong Chen; Jing Chen; Yun Luo; Hua Guo; Ren-Di Jiang; Mei-Qin Liu; Ying Chen; Xu-Rui Shen; Xi Wang; Xiao-Shuang Zheng; Kai Zhao; Quan-Jiao Chen; Fei Deng; Lin-Lin Liu; Bing Yan; Fa-Xian Zhan; Yan-Yi Wang; Geng-Fu Xiao; Zheng-Li Shi</td>\n",
       "      <td>2020-01-23</td>\n",
       "      <td>2 months ago</td>\n",
       "    </tr>\n",
       "    <tr>\n",
       "      <th>97</th>\n",
       "      <td>Functional assessment of cell entry and receptor usage for lineage B β-coronaviruses, including 2019-nCoV</td>\n",
       "      <td>Over the past 20 years, several coronaviruses have crossed the species barrier into humans, causing outbreaks of severe, and often fatal, respiratory illness. Since SARS- CoV was first identified in animal markets, global viromics projects have discovered thousands of coronavirus sequences in diverse animals and geographic regions. Unfortunately, there are few tools available to functionally test these novel viruses for their ability to infect humans, which has severely hampered efforts to predict the next zoonotic viral outbreak. Here we developed an approach to rapidly screen lineage B betacoronaviruses, such as SARS-CoV and the recent 2019-nCoV, for receptor usage and their ability to infect cell types from different species. We show that host protease processing during viral entry is a significant barrier for several lineage B viruses and that bypassing this barrier allows several lineage B viruses to enter human cells through an unknown receptor. We also demonstrate how different lineage B viruses can recombine to gain entry into human cells and confirm that human ACE2 is the receptor for the recently emerging 2019-nCoV.</td>\n",
       "      <td></td>\n",
       "      <td>Michael Letko; Vincent Munster</td>\n",
       "      <td>2020-01-22</td>\n",
       "      <td>2 months ago</td>\n",
       "    </tr>\n",
       "    <tr>\n",
       "      <th>...</th>\n",
       "      <td>...</td>\n",
       "      <td>...</td>\n",
       "      <td>...</td>\n",
       "      <td>...</td>\n",
       "      <td>...</td>\n",
       "      <td>...</td>\n",
       "    </tr>\n",
       "    <tr>\n",
       "      <th>45746</th>\n",
       "      <td>Comments on \"Preliminary estimation of the basic reproduction number of novel Coronavirus (2019-nCoV) in China, from 2019 to 2020: A data-driven Analysis in the early phase of the outbreak\"</td>\n",
       "      <td>Comments on \"Preliminary estimation of the basic reproduction number of novel Coronavirus (2019-nCoV) in China, from 2019 to 2020: A data-driven Analysis in the early phase of the outbreak\"</td>\n",
       "      <td>International Journal of Infectious Diseases</td>\n",
       "      <td>Dhungana, Hom Nath</td>\n",
       "      <td>2020-02-20</td>\n",
       "      <td>1 month ago</td>\n",
       "    </tr>\n",
       "    <tr>\n",
       "      <th>45747</th>\n",
       "      <td>Quantitative computed tomography analysis for stratifying the severity of Coronavirus Disease 2019</td>\n",
       "      <td>Purpose To examine the feasibility of using a computer tool for stratifying the severity of Coronavirus Disease 2019 (COVID-19) based on computed tomography (CT) images. Materials and methods We retrospectively examined 44 confirmed COVID-19 cases. All cases were evaluated separately by radiologists (visually) and through an in-house computer software. The degree of lesions was visually scored by the radiologist, as follows, for each of the 5 lung lobes: 0, no lesion present; 1, &lt;1/3 involvement; 2, &gt;1/3 and &lt; 2/3 involvement; and 3, &gt;2/3 involvement. Lesion density was assessed based on the proportion of ground-glass opacity (GGO), consolidation and fibrosis of the lesions. The parameters obtained using the computer tool included lung volume (mL), lesion volume (mL), lesion percentage (%), and mean lesion density (HU) of the whole lung, right lung, left lung, and each lobe. The scores obtained by the radiologists and quantitative results generated by the computer software were tested for correlation. A Chi-square test was used to test the consistency of radiologist- and computer-derived lesion percentage in the right/left lung, upper/lower lobe, and each of the 5 lobes. Result The results showed a strong to moderate correlation between lesion percentage scores obtained by radiologists and the computer software (r ranged from 0.7679 to 0.8373, P &lt; 0.05), and a moderate correlation between the proportion of GGO and mean lesion density (r = −0.5894, P &lt; 0.05), and proportion of consolidation and mean lesion density (r = 0.6282, P &lt; 0.05). Computer-aided quantification showed a statistical significant higher lesion percentage for lower lobes than that assessed by the radiologists (χ2 = 8.160, P = 0.004). Conclusions Our experiments demonstrated that the computer tool could reliably and accurately assess the severity and distribution of pneumonia on CT scans.</td>\n",
       "      <td>Journal of Pharmaceutical Analysis</td>\n",
       "      <td>Shen, Cong; Yu, Nan; Cai, Shubo; Zhou, Jie; Sheng, Jiexin; Liu, Kang; Zhou, Heping; Guo, Youmin; Niu, Gang</td>\n",
       "      <td>2020-03-06</td>\n",
       "      <td>4 weeks ago</td>\n",
       "    </tr>\n",
       "    <tr>\n",
       "      <th>45753</th>\n",
       "      <td>The SARS-CoV-2 outbreak from a one health perspective</td>\n",
       "      <td>The SARS-CoV-2 is a new human coronavirus candidate recently detected in China that is now reported in people on inhabited continents. The virus shares a high level of identity with some bat coronaviruses and is recognised as a potentially zoonotic virus. We are utilizing the One Health concept to understand the emergence of the virus, as well as to point to some possible control strategies that might reduce the spread of the virus across the globe; thus, containment of such virus would be possible.</td>\n",
       "      <td>One Health</td>\n",
       "      <td>Hemida, Maged Gomaa; Ba Abduallah, Mohammed M.</td>\n",
       "      <td>2020-03-16</td>\n",
       "      <td>3 weeks ago</td>\n",
       "    </tr>\n",
       "    <tr>\n",
       "      <th>45755</th>\n",
       "      <td>Histopathologic Changes and SARS–CoV-2 Immunostaining in the Lung of a Patient With COVID-19</td>\n",
       "      <td>Histopathologic Changes and SARS–CoV-2 Immunostaining in the Lung of a Patient With COVID-19</td>\n",
       "      <td>Ann Intern Med</td>\n",
       "      <td>Zhang, Huilan; Zhou, Peng; Wei, Yanqiu; Yue, Huihui; Wang, Yi; Hu, Ming; Zhang, Shu; Cao, Tanze; Yang, Chengqing; Li, Ming; Guo, Guangyun; Chen, Xianxiang; Chen, Ying; Lei, Mei; Liu, Huiguo; Zhao, Jianping; Peng, Peng; Wang, Cong-Yi; Du, Ronghui</td>\n",
       "      <td>2020-03-12</td>\n",
       "      <td>3 weeks ago</td>\n",
       "    </tr>\n",
       "    <tr>\n",
       "      <th>45771</th>\n",
       "      <td>Why the WHO won't use the p-word</td>\n",
       "      <td>There are no criteria for a pandemic, but covid-19 looks like one, says Debora MacKenzie</td>\n",
       "      <td>New Scientist</td>\n",
       "      <td>MacKenzie, Debora</td>\n",
       "      <td>2020-03-07</td>\n",
       "      <td>4 weeks ago</td>\n",
       "    </tr>\n",
       "  </tbody>\n",
       "</table>\n",
       "<p>2427 rows × 6 columns</p>\n",
       "</div>\n",
       "<style>\n",
       "h3 {color: #4169E1}\n",
       "</style>"
      ],
      "text/plain": [
       "<cord.cord19.ResearchPapers at 0x1fc12591978>"
      ]
     },
     "execution_count": 8,
     "metadata": {},
     "output_type": "execute_result"
    }
   ],
   "source": [
    "covid_papers"
   ]
  },
  {
   "cell_type": "code",
   "execution_count": 9,
   "metadata": {},
   "outputs": [
    {
     "name": "stdout",
     "output_type": "stream",
     "text": [
      "Loading metadata from ..\\data\\CORD-19-research-challenge\n",
      "Cleaning metadata\n",
      "Applying tags to metadata\n",
      "\n",
      "Indexing research papers\n",
      "Creating the BM25 index from the text contents of the papers\n",
      "Loading json cache files for comm_use_subset\n"
     ]
    },
    {
     "data": {
      "application/vnd.jupyter.widget-view+json": {
       "model_id": "b9318b34116e4c258c2b2272e9587ea8",
       "version_major": 2,
       "version_minor": 0
      },
      "text/plain": [
       "HBox(children=(FloatProgress(value=0.0, max=5.0), HTML(value='')))"
      ]
     },
     "metadata": {},
     "output_type": "display_data"
    },
    {
     "name": "stdout",
     "output_type": "stream",
     "text": [
      "Loading json cache files for biorxiv_medrxiv\n",
      "Loading json cache files for noncomm_use_subset\n",
      "Loading json cache files for custom_license\n"
     ]
    },
    {
     "data": {
      "application/vnd.jupyter.widget-view+json": {
       "model_id": "6292e927b3474f5e9a1b12ded4faa389",
       "version_major": 2,
       "version_minor": 0
      },
      "text/plain": [
       "HBox(children=(FloatProgress(value=0.0, max=11.0), HTML(value='')))"
      ]
     },
     "metadata": {},
     "output_type": "display_data"
    },
    {
     "name": "stdout",
     "output_type": "stream",
     "text": [
      "Finished Indexing texts in 69.0 seconds\n"
     ]
    }
   ],
   "source": [
    "research_papers = ResearchPapers.load(index='texts')"
   ]
  },
  {
   "cell_type": "code",
   "execution_count": 10,
   "metadata": {},
   "outputs": [
    {
     "data": {
      "text/html": [
       "\n",
       " <h4 class='cord'>Estimation of incubation period distribution of COVID-19 using disease onset forward time: a novel cross-sectional and forward follow-up study</h4>\n",
       "\n",
       " <div class='abstract'>Different estimates of the incubation period of COVID-19 were reported in recent published studies, but all have their own limitations.\n",
       "In this study, we propose a novel low-cost and accurate method to estimate the incubation distribution.\n",
       "The renewal process is hence adopted by considering the incubation period as a renewal and the duration between departure and symptom onset as a forward recurrence time.\n",
       "Under mild assumptions, the observations of selected forward times can be used to consiste...</div>\n",
       " <div id=\"published_when\">\n",
       " <span class='published'>3 weeks ago</span>\n",
       "  <a href='http://doi.org/10.1101/2020.03.06.20032417' target='_new' class='link'>Link</a> \n",
       " </div>\n",
       " <div class='authors'>Qin Jing; Chong You; Qiushi Lin; Taojun Hu; Shicheng Yu; Xiao-Hua Zhou</div>\n",
       "\n",
       " <h4 class='cord'>Evaluation of the potential incidence of COVID-19 and effectiveness of contention measures in Spain: a data-driven approach</h4>\n",
       "\n",
       " <div class='abstract'>Our society is currently experiencing an unprecedented challenge, managing and containing an outbreak of a new coronavirus disease known as COVID-19.\n",
       "While China - were the outbreak started - seems to have been able to contain the growth of the epidemic, different outbreaks are nowadays being detected in multiple countries.\n",
       "Much is currently unknown about the natural history of the disease, such as a possible asymptomatic spreading or the role of age in both the susceptibility and mortality of t...</div>\n",
       " <div id=\"published_when\">\n",
       " <span class='published'>4 weeks ago</span>\n",
       "  <a href='http://doi.org/10.1101/2020.03.01.20029801' target='_new' class='link'>Link</a> \n",
       " </div>\n",
       " <div class='authors'>Alberto Aleta; Yamir Moreno</div>\n",
       "\n",
       " <h4 class='cord'>Systematic Comparison of Two Animal-to-Human Transmitted Human Coronaviruses: SARS-CoV-2 and SARS-CoV</h4>\n",
       "\n",
       " <div class='abstract'>After the outbreak of the severe acute respiratory syndrome (SARS) in the world in 2003, human coronaviruses (HCoVs) have been reported as pathogens that cause severe symptoms in respiratory tract infections.\n",
       "Recently, a new emerged HCoV isolated from the respiratory epithelium of unexplained pneumonia patients in the Wuhan seafood market caused a major disease outbreak and has been named the severe acute respiratory syndrome coronavirus 2 (SARS-CoV-2).\n",
       "This virus causes acute lung symptoms, lea...</div>\n",
       " <div id=\"published_when\">\n",
       " <span class='published'>3 months ago</span>\n",
       "  <a href='http://doi.org/10.3390/v12020244' target='_new' class='link'>Link</a> \n",
       " </div>\n",
       " <div class='authors'>Xu, Jiabao; Zhao, Shizhe; Teng, Tieshan; Abdalla, Abualgasim Elgaili; Zhu, Wan; Xie, Longxiang; Wang, Yunlong; Guo, Xiangqian</div>\n",
       "\n",
       " <h4 class='cord'>The effect of travel restrictions on the spread of the 2019 novel coronavirus (2019-nCoV) outbreak</h4>\n",
       "\n",
       " <div class='abstract'>The model is calibrated on the evidence of internationally imported cases before the implementation of the travel quarantine of Wuhan.\n",
       "The median estimate for number of cases before the travel ban implementation on January 23, 2020 is 58,956 [90% CI 40,759 - 87,471] in Wuhan and 3,491 [90% CI 1,924 - 7,360] in other locations in Mainland China.\n",
       "The model shows that as of January 23, most Chinese cities had already received a considerable number of infected cases, and the travel quarantine delays...</div>\n",
       " <div id=\"published_when\">\n",
       " <span class='published'>1 month ago</span>\n",
       "  <a href='http://doi.org/10.1101/2020.02.09.20021261' target='_new' class='link'>Link</a> \n",
       " </div>\n",
       " <div class='authors'>Matteo Chinazzi; Jessica T. Davis; Marco Ajelli; Corrado Gioannini; Maria Litvinova; Stefano Merler; Ana Pastore y Piontti; Luca Rossi; Kaiyuan Sun; Cécile Viboud; Xinyue Xiong; Hongjie Yu; M. Elizabe...</div>\n",
       "\n",
       " <h4 class='cord'>Beware of asymptomatic transmission: Study on 2019-nCoV prevention and control measures based on extended SEIR model</h4>\n",
       "\n",
       " <div class='abstract'>In the early stage, people knows little about the 2019-nCoV virus was not clear, and the spread period was encountering China’s annual spring migration, which made the epidemic spread rapidly from Wuhan to almost all provinces in China.MethodsThis study builds a SEIRD model that considers the movement of people across regions, revealing the effects of three measures on controlling the spread of the epidemic.Based on MATLAB R2017a, computational experiments were performed to simulate the epidemic...</div>\n",
       " <div id=\"published_when\">\n",
       " <span class='published'>2 months ago</span>\n",
       "  <a href='http://doi.org/10.1101/2020.01.28.923169' target='_new' class='link'>Link</a> \n",
       " </div>\n",
       " <div class='authors'>Peng Shao; Yingji Shan</div>\n",
       "\n",
       " <h4 class='cord'>Estimation of the epidemic properties of the 2019 novel coronavirus: A mathematical modeling study</h4>\n",
       "\n",
       " <div class='abstract'>Methods We conducted a mathematical modeling study using five independent methods to assess the basic reproduction number (R0) of COVID-19, using data on confirmed cases obtained from the China National Health Commission for the period 10th January to 8th February.\n",
       "We analyzed the data for the period before the closure of Wuhan city (10th January to 23rd January) and the post-closure period (23rd January to 8th February) and for the whole period, to assess both the epidemic risk of the virus and...</div>\n",
       " <div id=\"published_when\">\n",
       " <span class='published'>1 month ago</span>\n",
       "  <a href='http://doi.org/10.1101/2020.02.18.20024315' target='_new' class='link'>Link</a> \n",
       " </div>\n",
       " <div class='authors'>Jinghua Li; Yijing Wang; Stuart Gilmour; Mengying Wang; Daisuke Yoneoka; Ying Wang; Xinyi You; Jing Gu; Chun Hao; Liping Peng; Zhicheng Du; Dong Roman Xu; Yuantao Hao</div>\n",
       "\n",
       " <h4 class='cord'>Epidemiology and Transmission of COVID-19 in Shenzhen China: Analysis of 391 cases and 1,286 of their close contacts</h4>\n",
       "\n",
       " <div class='abstract'>The resulting data provide a rare opportunity to measure key metrics of disease course, transmission, and the impact of control.\n",
       "We compare cases identified through symptomatic surveillance and contact tracing, and estimate the time from symptom onset to confirmation, isolation, and hospitalization.\n",
       "Interpretation Our data on cases as well as their infected and uninfected close contacts provide key insights into SARS-CoV-2 epidemiology.\n",
       "This work shows that heightened surveillance and isolation,...</div>\n",
       " <div id=\"published_when\">\n",
       " <span class='published'>1 month ago</span>\n",
       "  <a href='http://doi.org/10.1101/2020.03.03.20028423' target='_new' class='link'>Link</a> \n",
       " </div>\n",
       " <div class='authors'>Qifang Bi; Yongsheng Wu; Shujiang Mei; Chenfei Ye; Xuan Zou; Zhen Zhang; Xiaojian Liu; Lan Wei; Shaun A Truelove; Tong Zhang; Wei Gao; Cong Cheng; Xiujuan Tang; Xiaoliang Wu; Yu Wu; Binbin Sun; Suli H...</div>\n",
       "\n",
       " <h4 class='cord'>A review of the 2019 Novel Coronavirus (COVID-19) based on current evidence</h4>\n",
       "\n",
       " <div class='abstract'>The pneumonia caused by novel coronavirus (SARS-CoV-2) in Wuhan, China in December 2019 is a highly contagious disease.\n",
       "The World Health Organization (WHO) has declared the ongoing outbreak as a global public health emergency.\n",
       "Currently, the research on novel coronavirus is still in the primary stage.\n",
       "Based on the current published evidence, we systematically summarizes the epidemiology, clinical characteristics, diagnosis, treatment and prevention of knowledge surrounding COVID-19.\n",
       "This review ...</div>\n",
       " <div id=\"published_when\">\n",
       " <span class='published'>2 weeks ago</span>\n",
       "  <a href='http://doi.org/10.1016/j.ijantimicag.2020.105948' target='_new' class='link'>Link</a> \n",
       " </div>\n",
       " <div class='authors'>Wang, Li-sheng; Wang, Yi-ru; Ye, Da-wei; Liu, Qing-quan</div>\n",
       "\n",
       " <h4 class='cord'>Estimating the Asymptomatic Proportion of 2019 Novel Coronavirus onboard the Princess Cruises Ship, 2020</h4>\n",
       "\n",
       " <div class='abstract'>The potential infectiousness of asymptomatic COVID-19 cases together with a substantial fraction of asymptomatic infections among all infections, have been highlighted in clinical studies.\n",
       "We conducted statistical modeling analysis to derive the delay-adjusted asymptomatic proportion of the positive COVID-19 infections onboard the Princess Cruises ship along with the timeline of infections.\n",
       "We estimated the asymptomatic proportion at 17.9% (95% CrI: 15.5%-20.2%), with most of the infections occu...</div>\n",
       " <div id=\"published_when\">\n",
       " <span class='published'>1 month ago</span>\n",
       "  <a href='http://doi.org/10.1101/2020.02.20.20025866' target='_new' class='link'>Link</a> \n",
       " </div>\n",
       " <div class='authors'>Kenji Mizumoto; Katsushi Kagaya; Alexander Zarebski; Gerardo Chowell</div>\n",
       "\n",
       " <h4 class='cord'>Effective containment explains sub-exponential growth in confirmed cases of recent COVID-19 outbreak in Mainland China</h4>\n",
       "\n",
       " <div class='abstract'>The recent outbreak of COVID-19 in Mainland China is characterized by a distinctive algebraic, sub-exponential increase of confirmed cases with time during the early phase of the epidemic, contrasting an initial exponential growth expected for an unconstrained outbreak with sufficiently large reproduction rate.\n",
       "Although case counts vary significantly between affected provinces in Mainland China, the scaling law t^μ is surprisingly universal, with a range of exponents μ = 2.1 ± 0.3.\n",
       "To this end w...</div>\n",
       " <div id=\"published_when\">\n",
       " <span class='published'>1 month ago</span>\n",
       "  <a href='http://doi.org/10.1101/2020.02.18.20024414' target='_new' class='link'>Link</a> \n",
       " </div>\n",
       " <div class='authors'>Benjamin F Maier; Dirk Brockmann</div>\n",
       "\n",
       "\n",
       "<style>\n",
       ".authors{\n",
       "    margin: 4px 0px 15px;\n",
       "}\n",
       ".authors { color: #778899}\n",
       ".published {color: #2F4F4F; font-weight: bold; font-size: 0.9em; margin-right: 10px}\n",
       "h2.cord, h3.cord, h4.cord {margin: 15px 0px 8px 0px}\n",
       "h4.cord{color:#008B8B; font-size: 1.1em; margin-top: 15px}\n",
       "div.abstract {max-height : 80px; margin: 8px 0px 2px}\n",
       "div#pubished_when{margin: 0px}\n",
       ".link-text {color: #808080; font-size: 0.9em}\n",
       "</style>"
      ],
      "text/plain": [
       "<cord.cord19.SearchResults at 0x1fc3ac4eb00>"
      ]
     },
     "execution_count": 10,
     "metadata": {},
     "output_type": "execute_result"
    }
   ],
   "source": [
    "query = \"\"\"\n",
    "Range of incubation periods for the disease in humans (and how this varies across age and health status) \n",
    "and how long individuals are contagious, even after recovery\n",
    "\"\"\"\n",
    "research_papers.search(query, covid_related=True)"
   ]
  },
  {
   "cell_type": "code",
   "execution_count": null,
   "metadata": {},
   "outputs": [],
   "source": []
  },
  {
   "cell_type": "code",
   "execution_count": null,
   "metadata": {},
   "outputs": [],
   "source": []
  }
 ],
 "metadata": {
  "kernelspec": {
   "display_name": "cord",
   "language": "python",
   "name": "cord"
  },
  "language_info": {
   "codemirror_mode": {
    "name": "ipython",
    "version": 3
   },
   "file_extension": ".py",
   "mimetype": "text/x-python",
   "name": "python",
   "nbconvert_exporter": "python",
   "pygments_lexer": "ipython3",
   "version": "3.7.0"
  }
 },
 "nbformat": 4,
 "nbformat_minor": 4
}
