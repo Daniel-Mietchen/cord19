{
 "cells": [
  {
   "cell_type": "markdown",
   "metadata": {},
   "source": [
    "# Find Data Dir"
   ]
  },
  {
   "cell_type": "code",
   "execution_count": 1,
   "metadata": {},
   "outputs": [],
   "source": [
    "%load_ext autoreload\n",
    "%autoreload 2\n",
    "from pathlib import Path\n",
    "import cord\n",
    "from cord.core import KAGGLE_INPUT, NON_KAGGLE_DATA_DIR, is_kaggle, CORD_CHALLENGE_PATH\n",
    "from cord import ResearchPapers"
   ]
  },
  {
   "cell_type": "markdown",
   "metadata": {},
   "source": [
    "## Find Input Dir"
   ]
  },
  {
   "cell_type": "code",
   "execution_count": 11,
   "metadata": {},
   "outputs": [
    {
     "data": {
      "text/plain": [
       "(WindowsPath('D:/Projects/cord19/notebooks'),\n",
       " WindowsPath('D:/Projects/cord19'))"
      ]
     },
     "execution_count": 11,
     "metadata": {},
     "output_type": "execute_result"
    }
   ],
   "source": [
    "here, parent = Path(), Path('..')\n",
    "here.resolve(), parent.resolve()"
   ]
  },
  {
   "cell_type": "code",
   "execution_count": 24,
   "metadata": {},
   "outputs": [
    {
     "data": {
      "text/plain": [
       "'..\\\\data\\\\CORD-19-research-challenge'"
      ]
     },
     "execution_count": 24,
     "metadata": {},
     "output_type": "execute_result"
    }
   ],
   "source": [
    "def find_data_dir():\n",
    "    input_dir = KAGGLE_INPUT if is_kaggle() else NON_KAGGLE_DATA_DIR\n",
    "    input_path = Path() / input_dir\n",
    "    if input_path.exists():\n",
    "        return str(input_path / CORD_CHALLENGE_PATH)\n",
    "    else:\n",
    "        input_path = Path('..') / input_dir\n",
    "        if input_path.exists():\n",
    "            return str(input_path / CORD_CHALLENGE_PATH)\n",
    "    assert input_path.exists(), f'Cannot find the input dir should be {input_dir}'\n",
    "    \n",
    "find_data_dir()"
   ]
  },
  {
   "cell_type": "code",
   "execution_count": 2,
   "metadata": {},
   "outputs": [
    {
     "name": "stdout",
     "output_type": "stream",
     "text": [
      "Loading metadata from ..\\data\\CORD-19-research-challenge\n",
      "Cleaning metadata\n",
      "\n",
      "Indexing research papers\n",
      "Creating the BM25 index from the abstracts of the papers\n",
      "Use index=\"text\" if you want to index the texts of the paper instead\n",
      "Finished Indexing in 36.0 seconds\n"
     ]
    }
   ],
   "source": [
    "ResearchPapers = ResearchPapers.load()"
   ]
  },
  {
   "cell_type": "code",
   "execution_count": null,
   "metadata": {},
   "outputs": [],
   "source": []
  }
 ],
 "metadata": {
  "kernelspec": {
   "display_name": "cord",
   "language": "python",
   "name": "cord"
  },
  "language_info": {
   "codemirror_mode": {
    "name": "ipython",
    "version": 3
   },
   "file_extension": ".py",
   "mimetype": "text/x-python",
   "name": "python",
   "nbconvert_exporter": "python",
   "pygments_lexer": "ipython3",
   "version": "3.7.0"
  }
 },
 "nbformat": 4,
 "nbformat_minor": 4
}
