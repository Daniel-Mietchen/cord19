{
 "cells": [
  {
   "cell_type": "markdown",
   "metadata": {},
   "source": [
    "# Doc vectors"
   ]
  },
  {
   "cell_type": "code",
   "execution_count": 1,
   "metadata": {},
   "outputs": [],
   "source": [
    "%load_ext autoreload\n",
    "%autoreload 2"
   ]
  },
  {
   "cell_type": "code",
   "execution_count": 17,
   "metadata": {},
   "outputs": [],
   "source": [
    "from cord.jsonpaper import load_json_cache\n",
    "from cord.core import JSON_CATALOGS, BIORXIV_MEDRXIV, NONCOMM_USE_SUBSET, COMM_USE_SUBSET\n",
    "import nltk\n",
    "from sklearn.feature_extraction.text import HashingVectorizer"
   ]
  },
  {
   "cell_type": "code",
   "execution_count": 21,
   "metadata": {},
   "outputs": [
    {
     "name": "stdout",
     "output_type": "stream",
     "text": [
      "Loading json cache files for biorxiv_medrxiv\n"
     ]
    }
   ],
   "source": [
    "bio = load_json_cache(BIORXIV_MEDRXIV)"
   ]
  },
  {
   "cell_type": "code",
   "execution_count": 27,
   "metadata": {},
   "outputs": [
    {
     "name": "stdout",
     "output_type": "stream",
     "text": [
      "(1342, 16)\n",
      "Wall time: 1.71 s\n"
     ]
    }
   ],
   "source": [
    "def get_token_vector(index_tokens):\n",
    "    vectorizer = HashingVectorizer(n_features=2**4)\n",
    "    sentences = index_tokens.apply(lambda t: ' '.join(t))\n",
    "    token_vectors = vectorizer.fit_transform(sentences)\n",
    "    print(token_vectors.shape)\n",
    "    return token_vectors\n",
    "    \n",
    "%time bio['token_vector'] = get_token_vector(bio.index_tokens)"
   ]
  },
  {
   "cell_type": "code",
   "execution_count": 38,
   "metadata": {},
   "outputs": [
    {
     "data": {
      "text/plain": [
       "(1342, 16)"
      ]
     },
     "execution_count": 38,
     "metadata": {},
     "output_type": "execute_result"
    }
   ],
   "source": [
    "bio.loc[0].token_vector.shape"
   ]
  },
  {
   "cell_type": "code",
   "execution_count": 30,
   "metadata": {},
   "outputs": [],
   "source": [
    "from annoy import AnnoyIndex"
   ]
  },
  {
   "cell_type": "code",
   "execution_count": 32,
   "metadata": {},
   "outputs": [],
   "source": [
    "index = AnnoyIndex(16, 'angular')"
   ]
  },
  {
   "cell_type": "code",
   "execution_count": null,
   "metadata": {},
   "outputs": [],
   "source": [
    "from gensim.models import Sent2Vec\n",
    "from gensim.test.utils import common_texts\n",
    "\n",
    "model = Sent2Vec(common_texts, size=100, min_count=1)\n",
    "model.build_vocab(bio.index_tokens, update=True)\n",
    "model.train(bio.index_tokens, total_examples=model.corpus_count, epochs=model.epochs)"
   ]
  },
  {
   "cell_type": "code",
   "execution_count": 44,
   "metadata": {},
   "outputs": [],
   "source": [
    "from gensim.models.doc2vec import Doc2Vec, TaggedDocument\n",
    "documents = [TaggedDocument(doc, [i]) for i, doc in enumerate(bio.index_tokens)]\n",
    "model = Doc2Vec(documents, vector_size=20, window=2, min_count=1, workers=4)"
   ]
  }
 ],
 "metadata": {
  "kernelspec": {
   "display_name": "cord",
   "language": "python",
   "name": "cord"
  },
  "language_info": {
   "codemirror_mode": {
    "name": "ipython",
    "version": 3
   },
   "file_extension": ".py",
   "mimetype": "text/x-python",
   "name": "python",
   "nbconvert_exporter": "python",
   "pygments_lexer": "ipython3",
   "version": "3.7.0"
  }
 },
 "nbformat": 4,
 "nbformat_minor": 4
}
