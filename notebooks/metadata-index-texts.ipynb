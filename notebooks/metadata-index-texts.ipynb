{
 "cells": [
  {
   "cell_type": "code",
   "execution_count": 60,
   "metadata": {},
   "outputs": [],
   "source": [
    "%load_ext autoreload\n",
    "%autoreload 2\n",
    "from cord.jsonpaper import load_json_texts\n",
    "from cord import ResearchPapers\n",
    "from cord.core import NONCOMM_USE_SUBSET, BIORXIV_MEDRXIV, lookup_by_sha\n",
    "from cord.jsonpaper import json_cache_exists, load_json_cache\n",
    "from cord.text import preprocess\n",
    "import numpy as np\n",
    "from IPython.display import display"
   ]
  },
  {
   "cell_type": "code",
   "execution_count": 4,
   "metadata": {},
   "outputs": [],
   "source": [
    "catalog = NONCOMM_USE_SUBSET\n",
    "papers = ResearchPapers.from_pickle()\n",
    "metadata = papers.metadata"
   ]
  },
  {
   "cell_type": "code",
   "execution_count": 59,
   "metadata": {},
   "outputs": [
    {
     "name": "stdout",
     "output_type": "stream",
     "text": [
      "Loading json cache files for noncomm_use_subset\n",
      "Json document tokens loaded from cache\n",
      "There are 7 papers in noncomm_use_subset that cannot be indexed by text .. using abstracts\n",
      "Completed 8.89266586303711\n"
     ]
    }
   ],
   "source": [
    "import time\n",
    "tick = time.time()\n",
    "for catalog in [NONCOMM_USE_SUBSET]:\n",
    "    catalog_idx = metadata.full_text_file == catalog\n",
    "    metadata_papers = metadata.loc[catalog_idx, ['sha', 'pmcid']].copy().reset_index()\n",
    "\n",
    "    # Load the json catalog\n",
    "    if json_cache_exists():\n",
    "        json_papers = load_json_cache(catalog)\n",
    "    else:\n",
    "        json_papers = load_json_texts(json_dirs=catalog, tokenize=True)\n",
    "    \n",
    "    print('Json document tokens loaded from cache')\n",
    "    # New since April 4th - some json files are in PMCXXXX.xml.json files so we need the PCMID\n",
    "    json_papers['pmcid'] = json_papers.sha.str.extract('(PMC[0-9]+)\\.xml')\n",
    "    json_papers.loc[~json_papers.pmcid.isnull(), 'sha'] = np.nan\n",
    "        \n",
    "    sha_token_map = json_papers.loc[~json_papers.sha.isnull(),\n",
    "                                        ['sha', 'index_tokens']].set_index('sha').to_dict()['index_tokens']\n",
    "    # Create a dataframe with the same shape and index as the metadata papers.\n",
    "    # The column index is the original index for the full metadata\n",
    "    sha_token_df = metadata_papers.merge(json_papers.dropna(subset=['sha']), \n",
    "                                         how='left', on='sha').set_index('index')\n",
    "    # Now lookup the index_tokens using the sha\n",
    "    sha_token_df['index_tokens'] = sha_token_df.sha.apply(lambda sha: \n",
    "                                                          lookup_by_sha(sha, sha_token_map, not_found=np.nan))\n",
    "    \n",
    "    # Create the pmc lookup dict\n",
    "    pmc_token_dict = json_papers.loc[~json_papers.pmcid.isnull(),\n",
    "                                        ['pmcid', 'index_tokens']].set_index('pmcid').to_dict()['index_tokens']\n",
    "    # Create a dataframe with the same shape and index as the metadata papers.\n",
    "    pmc_token_df = metadata_papers.merge(json_papers.dropna(subset=['pmcid']), \n",
    "                                         how='left', on='pmcid').set_index('index')\n",
    "    pmc_token_df['index_tokens'] = pmc_token_df.pmcid.apply(lambda sha:\n",
    "                                                            lookup_by_sha(sha, pmc_token_dict, not_found=np.nan))\n",
    "\n",
    "    # Now set the index tokens\n",
    "    metadata.loc[catalog_idx, 'index_tokens'] = sha_token_df.index_tokens.fillna(pmc_token_df.index_tokens)\n",
    "    \n",
    "    # If the index tokens are still null .. use the abstracts\n",
    "    null_tokens = catalog_idx & metadata.index_tokens.isnull()\n",
    "    print('There are', null_tokens.sum(), 'papers in', catalog,\n",
    "          'that cannot be indexed by text .. using abstracts')\n",
    "    metadata.loc[null_tokens, 'index_tokens'] = metadata.loc[null_tokens].abstract.apply(preprocess)\n",
    "    missing_index_tokens = len(metadata.loc[catalog_idx & metadata.index_tokens.isnull()])\n",
    "    if missing_index_tokens > 0:\n",
    "        print('There still are', missing_index_tokens,  'index tokens')\n",
    "    \n",
    "tock = time.time()\n",
    "print('Completed', tock - tick)"
   ]
  },
  {
   "cell_type": "code",
   "execution_count": null,
   "metadata": {},
   "outputs": [],
   "source": [
    "papers = ResearchPapers.load(index='text')"
   ]
  },
  {
   "cell_type": "code",
   "execution_count": 67,
   "metadata": {},
   "outputs": [
    {
     "name": "stdout",
     "output_type": "stream",
     "text": [
      "Loading json from noncomm_use_subset\n"
     ]
    },
    {
     "data": {
      "application/vnd.jupyter.widget-view+json": {
       "model_id": "a2fc83de8e8848d0bf0ad4b2df267bf3",
       "version_major": 2,
       "version_minor": 0
      },
      "text/plain": [
       "HBox(children=(FloatProgress(value=0.0, max=4470.0), HTML(value='')))"
      ]
     },
     "metadata": {},
     "output_type": "display_data"
    },
    {
     "data": {
      "text/html": [
       "<div>\n",
       "<style scoped>\n",
       "    .dataframe tbody tr th:only-of-type {\n",
       "        vertical-align: middle;\n",
       "    }\n",
       "\n",
       "    .dataframe tbody tr th {\n",
       "        vertical-align: top;\n",
       "    }\n",
       "\n",
       "    .dataframe thead th {\n",
       "        text-align: right;\n",
       "    }\n",
       "</style>\n",
       "<table border=\"1\" class=\"dataframe\">\n",
       "  <thead>\n",
       "    <tr style=\"text-align: right;\">\n",
       "      <th></th>\n",
       "      <th>sha</th>\n",
       "      <th>pmcid</th>\n",
       "      <th>text</th>\n",
       "    </tr>\n",
       "  </thead>\n",
       "  <tbody>\n",
       "    <tr>\n",
       "      <th>0</th>\n",
       "      <td>0036b28fddf7e93da0970303672934ea2f9944e7</td>\n",
       "      <td>NaN</td>\n",
       "      <td>\\n\\nhuman type 1 DM. The aim of this study was...</td>\n",
       "    </tr>\n",
       "    <tr>\n",
       "      <th>1</th>\n",
       "      <td>005c43980edf3fcc2a4d12ee7ad630ddb651ce6e</td>\n",
       "      <td>NaN</td>\n",
       "      <td>Introduction\\n\\nAvian influenza (AI) viruses a...</td>\n",
       "    </tr>\n",
       "    <tr>\n",
       "      <th>2</th>\n",
       "      <td>00676f1131e03ca8defe523e79bc1635cc933909</td>\n",
       "      <td>NaN</td>\n",
       "      <td>Introduction\\n\\nDromedary camels (Camelus drom...</td>\n",
       "    </tr>\n",
       "    <tr>\n",
       "      <th>3</th>\n",
       "      <td>006be99e337c84b8758591a54f0362353b24dfde</td>\n",
       "      <td>NaN</td>\n",
       "      <td>\\n\\nAbstract. The half-time for secretion of t...</td>\n",
       "    </tr>\n",
       "    <tr>\n",
       "      <th>4</th>\n",
       "      <td>00a00d0edc750db4a0c299dd1ec0c6871f5a4f24</td>\n",
       "      <td>NaN</td>\n",
       "      <td>Editorial\\n\\nThis is an Open Access article di...</td>\n",
       "    </tr>\n",
       "    <tr>\n",
       "      <th>...</th>\n",
       "      <td>...</td>\n",
       "      <td>...</td>\n",
       "      <td>...</td>\n",
       "    </tr>\n",
       "    <tr>\n",
       "      <th>4465</th>\n",
       "      <td>NaN</td>\n",
       "      <td>PMC7093742</td>\n",
       "      <td>Introduction\\n\\nListeria monocytogenes is a gr...</td>\n",
       "    </tr>\n",
       "    <tr>\n",
       "      <th>4466</th>\n",
       "      <td>NaN</td>\n",
       "      <td>PMC7097833</td>\n",
       "      <td>Introduction\\n\\nOn January 9 2020, the World H...</td>\n",
       "    </tr>\n",
       "    <tr>\n",
       "      <th>4467</th>\n",
       "      <td>NaN</td>\n",
       "      <td>PMC7097845</td>\n",
       "      <td>Introduction\\n\\nAs of Feb 5, 2020, more than 2...</td>\n",
       "    </tr>\n",
       "    <tr>\n",
       "      <th>4468</th>\n",
       "      <td>NaN</td>\n",
       "      <td>PMC7099174</td>\n",
       "      <td></td>\n",
       "    </tr>\n",
       "    <tr>\n",
       "      <th>4469</th>\n",
       "      <td>NaN</td>\n",
       "      <td>PMC7100527</td>\n",
       "      <td>Main\\n\\nHigh-dose corticosteroid therapy for i...</td>\n",
       "    </tr>\n",
       "  </tbody>\n",
       "</table>\n",
       "<p>4470 rows × 3 columns</p>\n",
       "</div>"
      ],
      "text/plain": [
       "                                           sha       pmcid  \\\n",
       "0     0036b28fddf7e93da0970303672934ea2f9944e7         NaN   \n",
       "1     005c43980edf3fcc2a4d12ee7ad630ddb651ce6e         NaN   \n",
       "2     00676f1131e03ca8defe523e79bc1635cc933909         NaN   \n",
       "3     006be99e337c84b8758591a54f0362353b24dfde         NaN   \n",
       "4     00a00d0edc750db4a0c299dd1ec0c6871f5a4f24         NaN   \n",
       "...                                        ...         ...   \n",
       "4465                                       NaN  PMC7093742   \n",
       "4466                                       NaN  PMC7097833   \n",
       "4467                                       NaN  PMC7097845   \n",
       "4468                                       NaN  PMC7099174   \n",
       "4469                                       NaN  PMC7100527   \n",
       "\n",
       "                                                   text  \n",
       "0     \\n\\nhuman type 1 DM. The aim of this study was...  \n",
       "1     Introduction\\n\\nAvian influenza (AI) viruses a...  \n",
       "2     Introduction\\n\\nDromedary camels (Camelus drom...  \n",
       "3     \\n\\nAbstract. The half-time for secretion of t...  \n",
       "4     Editorial\\n\\nThis is an Open Access article di...  \n",
       "...                                                 ...  \n",
       "4465  Introduction\\n\\nListeria monocytogenes is a gr...  \n",
       "4466  Introduction\\n\\nOn January 9 2020, the World H...  \n",
       "4467  Introduction\\n\\nAs of Feb 5, 2020, more than 2...  \n",
       "4468                                                     \n",
       "4469  Main\\n\\nHigh-dose corticosteroid therapy for i...  \n",
       "\n",
       "[4470 rows x 3 columns]"
      ]
     },
     "execution_count": 67,
     "metadata": {},
     "output_type": "execute_result"
    }
   ],
   "source": [
    "df = load_json_texts(NONCOMM_USE_SUBSET)\n",
    "df"
   ]
  },
  {
   "cell_type": "code",
   "execution_count": null,
   "metadata": {},
   "outputs": [],
   "source": [
    "df.query(\"~pmcid.isnull()\")"
   ]
  }
 ],
 "metadata": {
  "kernelspec": {
   "display_name": "cord",
   "language": "python",
   "name": "cord"
  },
  "language_info": {
   "codemirror_mode": {
    "name": "ipython",
    "version": 3
   },
   "file_extension": ".py",
   "mimetype": "text/x-python",
   "name": "python",
   "nbconvert_exporter": "python",
   "pygments_lexer": "ipython3",
   "version": "3.7.0"
  }
 },
 "nbformat": 4,
 "nbformat_minor": 4
}
