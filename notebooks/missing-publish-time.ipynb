{
 "cells": [
  {
   "cell_type": "code",
   "execution_count": 1,
   "metadata": {},
   "outputs": [],
   "source": [
    "%load_ext autoreload\n",
    "%autoreload 2\n",
    "from cord import ResearchPapers\n",
    "from cord.core import describe_dataframe, find_data_dir\n",
    "from pathlib import Path, PurePath\n",
    "import pandas as pd\n",
    "pd.options.display.max_colwidth = 2000\n",
    "#metadata = ResearchPapers.load_metadata()\n",
    "#metadata = pd.read_csv(PurePath(find_data_dir()) / 'metadata.csv')\n",
    "#COLS = ['cord_uid', 'sha', 'doi', 'abstract', 'journal', 'publish_time', 'url']\n",
    "#metadata[metadata.publish_time.isnull()].to_csv('metadata_missing.csv')"
   ]
  },
  {
   "cell_type": "code",
   "execution_count": 2,
   "metadata": {},
   "outputs": [
    {
     "name": "stdout",
     "output_type": "stream",
     "text": [
      "Loading metadata from data\\CORD-19-research-challenge\n",
      "Cleaning metadata\n",
      "Applying tags to metadata\n",
      "\n",
      "Indexing research papers\n",
      "Creating the BM25 index from the abstracts of the papers\n",
      "Use index=\"text\" if you want to index the texts of the paper instead\n",
      "Finished Indexing in 37.0 seconds\n"
     ]
    }
   ],
   "source": [
    "research_papers = ResearchPapers.load()"
   ]
  },
  {
   "cell_type": "code",
   "execution_count": 3,
   "metadata": {},
   "outputs": [],
   "source": [
    "metadata = research_papers.metadata"
   ]
  },
  {
   "cell_type": "code",
   "execution_count": 4,
   "metadata": {},
   "outputs": [],
   "source": [
    "metadata_lookup_path = Path(find_data_dir()) / '../research-metadata'\n",
    "metadata_csv = PurePath(metadata_lookup_path) / 'metadata_missing.csv'"
   ]
  },
  {
   "cell_type": "code",
   "execution_count": 5,
   "metadata": {},
   "outputs": [],
   "source": [
    "metadata_lookup = pd.read_csv(metadata_csv, encoding='latin-1', \n",
    "                              parse_dates=['publish_time'],\n",
    "                              index_col='cord_uid').to_dict('index')\n",
    "published_missing = metadata.published.isnull()"
   ]
  },
  {
   "cell_type": "code",
   "execution_count": 87,
   "metadata": {},
   "outputs": [],
   "source": [
    "metadata.loc[published_missing, 'publised'] \\\n",
    "        = metadata.loc[published_missing] \\\n",
    "                .apply(lambda row: metadata_lookup[row.cord_uid]['publish_time'], axis=1)"
   ]
  },
  {
   "cell_type": "code",
   "execution_count": 6,
   "metadata": {},
   "outputs": [
    {
     "data": {
      "text/plain": [
       "43096   NaT\n",
       "43704   NaT\n",
       "43705   NaT\n",
       "43706   NaT\n",
       "43719   NaT\n",
       "43727   NaT\n",
       "43871   NaT\n",
       "43943   NaT\n",
       "43966   NaT\n",
       "Name: published, dtype: datetime64[ns]"
      ]
     },
     "execution_count": 6,
     "metadata": {},
     "output_type": "execute_result"
    }
   ],
   "source": [
    "metadata.loc[published_missing, 'published']"
   ]
  },
  {
   "cell_type": "code",
   "execution_count": 8,
   "metadata": {},
   "outputs": [
    {
     "data": {
      "text/plain": [
       "{'nlp': ['allennlp', 'torch===1.4.0'],\n",
       " 'ui': ['streamlit'],\n",
       " 'all': ['allennlp', 'torch===1.4.0', 'streamlit']}"
      ]
     },
     "execution_count": 8,
     "metadata": {},
     "output_type": "execute_result"
    }
   ],
   "source": [
    "EXTRAS_REQUIRES = {'nlp': ['allennlp', 'torch==1.4.0'],\n",
    "                   'ui': ['streamlit']}\n",
    "EXTRAS_REQUIRES['all'] = EXTRAS_REQUIRES['nlp'] + EXTRAS_REQUIRES['ui']\n",
    "\n",
    "EXTRAS_REQUIRES"
   ]
  },
  {
   "cell_type": "code",
   "execution_count": null,
   "metadata": {},
   "outputs": [],
   "source": []
  }
 ],
 "metadata": {
  "kernelspec": {
   "display_name": "cord",
   "language": "python",
   "name": "cord"
  },
  "language_info": {
   "codemirror_mode": {
    "name": "ipython",
    "version": 3
   },
   "file_extension": ".py",
   "mimetype": "text/x-python",
   "name": "python",
   "nbconvert_exporter": "python",
   "pygments_lexer": "ipython3",
   "version": "3.7.0"
  }
 },
 "nbformat": 4,
 "nbformat_minor": 4
}
