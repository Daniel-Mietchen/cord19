{
 "cells": [
  {
   "cell_type": "markdown",
   "metadata": {},
   "source": [
    "# JSON Catalog"
   ]
  },
  {
   "cell_type": "code",
   "execution_count": 1,
   "metadata": {},
   "outputs": [],
   "source": [
    "%load_ext autoreload\n",
    "%autoreload 2\n",
    "from cord.jsonpaper import JsonCatalog\n",
    "from cord.core import BIORXIV_MEDRXIV"
   ]
  },
  {
   "cell_type": "code",
   "execution_count": 2,
   "metadata": {},
   "outputs": [
    {
     "name": "stdout",
     "output_type": "stream",
     "text": [
      "Loading json from biorxiv_medrxiv\n"
     ]
    },
    {
     "data": {
      "application/vnd.jupyter.widget-view+json": {
       "model_id": "490d2a0045484d4781fd160cc0d04d7e",
       "version_major": 2,
       "version_minor": 0
      },
      "text/plain": [
       "HBox(children=(FloatProgress(value=0.0, max=1053.0), HTML(value='')))"
      ]
     },
     "metadata": {},
     "output_type": "display_data"
    }
   ],
   "source": [
    "catalog = JsonCatalog.load(BIORXIV_MEDRXIV)"
   ]
  },
  {
   "cell_type": "code",
   "execution_count": 3,
   "metadata": {},
   "outputs": [
    {
     "data": {
      "text/html": [
       "<div>\n",
       "<style scoped>\n",
       "    .dataframe tbody tr th:only-of-type {\n",
       "        vertical-align: middle;\n",
       "    }\n",
       "\n",
       "    .dataframe tbody tr th {\n",
       "        vertical-align: top;\n",
       "    }\n",
       "\n",
       "    .dataframe thead th {\n",
       "        text-align: right;\n",
       "    }\n",
       "</style>\n",
       "<table border=\"1\" class=\"dataframe\">\n",
       "  <thead>\n",
       "    <tr style=\"text-align: right;\">\n",
       "      <th></th>\n",
       "      <th>title</th>\n",
       "      <th>abstract</th>\n",
       "      <th>authors</th>\n",
       "    </tr>\n",
       "  </thead>\n",
       "  <tbody>\n",
       "    <tr>\n",
       "      <th>0</th>\n",
       "      <td>The RNA pseudoknots in foot-and-mouth disease ...</td>\n",
       "      <td>Abstract\\n\\nword count: 194 22 Text word count...</td>\n",
       "      <td>Joseph C Ward Lidia Lasecka-Dykes Chris Neil O...</td>\n",
       "    </tr>\n",
       "    <tr>\n",
       "      <th>1</th>\n",
       "      <td>Analysis Title: Regaining perspective on SARS-...</td>\n",
       "      <td>Abstract\\n\\nDuring the past three months, a ne...</td>\n",
       "      <td>Carla Mavian Simone Marini Costanza Manes Ilar...</td>\n",
       "    </tr>\n",
       "    <tr>\n",
       "      <th>2</th>\n",
       "      <td>Healthcare-resource-adjusted vulnerabilities t...</td>\n",
       "      <td></td>\n",
       "      <td>Hanchu Zhou Jiannan Yang Kaicheng Tang †  Qing...</td>\n",
       "    </tr>\n",
       "    <tr>\n",
       "      <th>3</th>\n",
       "      <td>Real-time, MinION-based, amplicon sequencing f...</td>\n",
       "      <td>Abstract\\n\\nInfectious bronchitis (IB) causes ...</td>\n",
       "      <td>Salman L Butt Eric C Erwood Jian Zhang Holly S...</td>\n",
       "    </tr>\n",
       "    <tr>\n",
       "      <th>4</th>\n",
       "      <td>A Combined Evidence Approach to Prioritize Nip...</td>\n",
       "      <td>Abstract\\n\\nNipah Virus (NiV) came into limeli...</td>\n",
       "      <td>Nishi Kumari Ayush Upadhyay Kishan Kalia Rakes...</td>\n",
       "    </tr>\n",
       "    <tr>\n",
       "      <th>...</th>\n",
       "      <td>...</td>\n",
       "      <td>...</td>\n",
       "      <td>...</td>\n",
       "    </tr>\n",
       "    <tr>\n",
       "      <th>1048</th>\n",
       "      <td>Increased Neurite Orientation-Dispersion and D...</td>\n",
       "      <td>Abstract\\n\\nExtracellular β-amyloid (Aβ) plaqu...</td>\n",
       "      <td>Interleukin-6  Luis M Colon-Perez Kristen R Ib...</td>\n",
       "    </tr>\n",
       "    <tr>\n",
       "      <th>1049</th>\n",
       "      <td>SENTINEL EVENT SURVEILLANCE TO ESTIMATE TOTAL ...</td>\n",
       "      <td>Abstract\\n\\nHuman infections with a novel coro...</td>\n",
       "      <td>Andrew A Lover Thomas Mcandrew</td>\n",
       "    </tr>\n",
       "    <tr>\n",
       "      <th>1050</th>\n",
       "      <td>Title: Estimation of COVID-2019 burden and pot...</td>\n",
       "      <td></td>\n",
       "      <td>Ashleigh R Tuite Isaac I Bogoch Ryan Sherbo Al...</td>\n",
       "    </tr>\n",
       "    <tr>\n",
       "      <th>1051</th>\n",
       "      <td>Planning horizon affects prophylactic decision...</td>\n",
       "      <td>Abstract\\n\\nHuman behavior can change the spre...</td>\n",
       "      <td>Luis G Nardin Craig R Miller Benjamin J Ridenh...</td>\n",
       "    </tr>\n",
       "    <tr>\n",
       "      <th>1052</th>\n",
       "      <td>Nucleotide Analogues as Inhibitors of Viral Po...</td>\n",
       "      <td>Abstract\\n\\nCoronaviruses such as the newly di...</td>\n",
       "      <td>Jingyue Ju Shiv Kumar Xiaoxu Li Steffen Jockus...</td>\n",
       "    </tr>\n",
       "  </tbody>\n",
       "</table>\n",
       "<p>1053 rows × 3 columns</p>\n",
       "</div>"
      ],
      "text/plain": [
       "<cord.jsonpaper.JsonCatalog at 0x1f500a47f98>"
      ]
     },
     "execution_count": 3,
     "metadata": {},
     "output_type": "execute_result"
    }
   ],
   "source": [
    "catalog"
   ]
  },
  {
   "cell_type": "code",
   "execution_count": 4,
   "metadata": {},
   "outputs": [
    {
     "data": {
      "text/html": [
       "<h4>An exploratory randomized, controlled study on the efficacy and safety of lopinavir/ritonavir or arbidol treating adult patients hospitalized with mild/moderate COVID-19 (ELACOI)</h4>\n",
       "<div style=\"max-height:160px; padding: 20px 10px\">Abstract\n",
       "\n",
       "The novel coronavirus pneumonia outbreak has caused a global pandemic, however, effective antiviral therapeutics are still unavailable.\n",
       "\n",
       "Our study (NCT04252885), designated as ELACOI, was an exploratory randomized (2:2:1) and controlled one, exploring the efficacy and safety of lopinavir/ritonavir (LPV/r) or arbidol monotherapy treating mild/moderate COVID-19 patients.\n",
       "\n",
       "Results: This study successful enrolled 44 patients with mild/moderate COVID-19, with 21 randomly assigned to receive LPV/r, 16 to arbidol and 7 to no antiviral medication as control. Baseline characteristics of three groups were comparable. The median time of positive-to-negative conversion of SARS-CoV-2 nucleic acid was 8.5 (IQR 3, 13) days in the LPV/r group, 7 (IQR 3, 10.5) days in the arbidol group and 4 (IQR 3, 10.5) days in the control group (P=0.751).\n",
       "\n",
       "The positive-to-negative conversion rates of SARS-CoV-2 nucleic acid at day 7 and 14 did not show significant differences in the LPV/r group (42.9%, 76.2%), the arbidol group (62.5%, 87.5%) and the control group (71.4%, 71.4%) (all P>0.53). No statistical differences were found among three groups in the rates of antipyresis, cough alleviation, improvement of chest CT or the deterioration rate of clinical status (all P > 0.05). Overall, 5 (23.8%) patients in the LPV/r All rights reserved. No reuse allowed without permission. the author/funder, who has granted medRxiv a license to display the preprint in perpetuity.\n",
       "\n",
       "<div>"
      ],
      "text/plain": [
       "JsonPaper"
      ]
     },
     "execution_count": 4,
     "metadata": {},
     "output_type": "execute_result"
    }
   ],
   "source": [
    "catalog[1000]"
   ]
  },
  {
   "cell_type": "code",
   "execution_count": 5,
   "metadata": {},
   "outputs": [
    {
     "data": {
      "text/html": [
       "<h4>The RNA pseudoknots in foot-and-mouth disease virus are dispensable for genome replication but essential for the production of infectious virus. 2 3</h4>\n",
       "<div style=\"max-height:160px; padding: 20px 10px\">Abstract\n",
       "\n",
       "word count: 194 22 Text word count: 5168 23 24 25 author/funder. All rights reserved. No reuse allowed without permission. Abstract 27 The positive stranded RNA genomes of picornaviruses comprise a single large open reading 28 frame flanked by 5′ and 3′ untranslated regions (UTRs). Foot-and-mouth disease virus (FMDV) 29 has an unusually large 5′ UTR (1.3 kb) containing five structural domains. These include the 30 internal ribosome entry site (IRES), which facilitates initiation of translation, and the cis-acting 31 replication element (cre). Less well characterised structures are a 5′ terminal 360 nucleotide 32 stem-loop, a variable length poly-C-tract of approximately 100-200 nucleotides and a series of 33 two to four tandemly repeated pseudoknots (PKs). We investigated the structures of the PKs 34 by selective 2′ hydroxyl acetylation analysed by primer extension (SHAPE) analysis and 35 determined their contribution to genome replication by mutation and deletion experiments. 36 SHAPE and mutation experiments confirmed the importance of the previously predicted PK 37 structures for their function. Deletion experiments showed that although PKs are not essential 38\n",
       "\n",
       "for replication, they provide genomes with a competitive advantage. However, although 39 replicons and full-length genomes lacking all PKs were replication competent, no infectious 40 virus was rescued from genomes containing less than one PK copy. This is consistent with our 41 earlier report describing the presence of putative packaging signals in the PK region. 42 43 author/funder. All rights reserved. No reuse allowed without permission.\n",
       "\n",
       "<div>"
      ],
      "text/plain": [
       "JsonPaper"
      ]
     },
     "execution_count": 5,
     "metadata": {},
     "output_type": "execute_result"
    }
   ],
   "source": [
    "paper = catalog.get_paper('0015023cc06b5362d332b3baf348d11567ca2fbb')\n",
    "paper"
   ]
  },
  {
   "cell_type": "code",
   "execution_count": 6,
   "metadata": {},
   "outputs": [
    {
     "data": {
      "text/html": [
       "<h4>The RNA pseudoknots in foot-and-mouth disease virus are dispensable for genome replication but essential for the production of infectious virus. 2 3</h4>\n",
       "<div style=\"max-height:160px; padding: 20px 10px\">Abstract\n",
       "\n",
       "word count: 194 22 Text word count: 5168 23 24 25 author/funder. All rights reserved. No reuse allowed without permission. Abstract 27 The positive stranded RNA genomes of picornaviruses comprise a single large open reading 28 frame flanked by 5′ and 3′ untranslated regions (UTRs). Foot-and-mouth disease virus (FMDV) 29 has an unusually large 5′ UTR (1.3 kb) containing five structural domains. These include the 30 internal ribosome entry site (IRES), which facilitates initiation of translation, and the cis-acting 31 replication element (cre). Less well characterised structures are a 5′ terminal 360 nucleotide 32 stem-loop, a variable length poly-C-tract of approximately 100-200 nucleotides and a series of 33 two to four tandemly repeated pseudoknots (PKs). We investigated the structures of the PKs 34 by selective 2′ hydroxyl acetylation analysed by primer extension (SHAPE) analysis and 35 determined their contribution to genome replication by mutation and deletion experiments. 36 SHAPE and mutation experiments confirmed the importance of the previously predicted PK 37 structures for their function. Deletion experiments showed that although PKs are not essential 38\n",
       "\n",
       "for replication, they provide genomes with a competitive advantage. However, although 39 replicons and full-length genomes lacking all PKs were replication competent, no infectious 40 virus was rescued from genomes containing less than one PK copy. This is consistent with our 41 earlier report describing the presence of putative packaging signals in the PK region. 42 43 author/funder. All rights reserved. No reuse allowed without permission.\n",
       "\n",
       "<div>"
      ],
      "text/plain": [
       "JsonPaper"
      ]
     },
     "execution_count": 6,
     "metadata": {},
     "output_type": "execute_result"
    }
   ],
   "source": [
    "catalog['0015023cc06b5362d332b3baf348d11567ca2fbb']"
   ]
  },
  {
   "cell_type": "code",
   "execution_count": null,
   "metadata": {},
   "outputs": [],
   "source": []
  }
 ],
 "metadata": {
  "kernelspec": {
   "display_name": "cord",
   "language": "python",
   "name": "cord"
  },
  "language_info": {
   "codemirror_mode": {
    "name": "ipython",
    "version": 3
   },
   "file_extension": ".py",
   "mimetype": "text/x-python",
   "name": "python",
   "nbconvert_exporter": "python",
   "pygments_lexer": "ipython3",
   "version": "3.7.0"
  }
 },
 "nbformat": 4,
 "nbformat_minor": 4
}
