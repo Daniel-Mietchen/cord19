{
 "cells": [
  {
   "cell_type": "markdown",
   "metadata": {},
   "source": [
    "# JSON Paper"
   ]
  },
  {
   "cell_type": "code",
   "execution_count": 2,
   "metadata": {},
   "outputs": [
    {
     "name": "stdout",
     "output_type": "stream",
     "text": [
      "The autoreload extension is already loaded. To reload it, use:\n",
      "  %reload_ext autoreload\n"
     ]
    }
   ],
   "source": [
    "%load_ext autoreload\n",
    "%autoreload 2\n",
    "from cord import ResearchPapers\n",
    "from cord.jsonpaper import load_json_paper\n",
    "from IPython.display import display"
   ]
  },
  {
   "cell_type": "code",
   "execution_count": 3,
   "metadata": {},
   "outputs": [
    {
     "name": "stdout",
     "output_type": "stream",
     "text": [
      "Loading metadata from data\\CORD-19-research-challenge\n",
      "Cleaning metadata\n",
      "Applying tags to metadata\n",
      "\n",
      "Indexing research papers\n",
      "Creating the BM25 index from the abstracts of the papers\n",
      "Use index=\"text\" if you want to index the texts of the paper instead\n",
      "Finished Indexing in 37.0 seconds\n"
     ]
    }
   ],
   "source": [
    "papers = ResearchPapers.load()"
   ]
  },
  {
   "cell_type": "code",
   "execution_count": 4,
   "metadata": {},
   "outputs": [],
   "source": [
    "pmc_papers = papers.query(\"~pmcid.isnull()\")"
   ]
  },
  {
   "cell_type": "code",
   "execution_count": 5,
   "metadata": {},
   "outputs": [
    {
     "data": {
      "text/plain": [
       "(WindowsPath('data/CORD-19-research-challenge/custom_license/custom_license/pmc_json/PMC140314.xml.json'),\n",
       " True)"
      ]
     },
     "execution_count": 5,
     "metadata": {},
     "output_type": "execute_result"
    }
   ],
   "source": [
    "paper = pmc_papers[0]\n",
    "paper.sha\n",
    "path = paper.get_pmc_path()\n",
    "paper.get_pmc_path(), paper.get_pmc_path().exists()"
   ]
  },
  {
   "cell_type": "markdown",
   "metadata": {},
   "source": [
    "## Load with Sha"
   ]
  },
  {
   "cell_type": "code",
   "execution_count": 8,
   "metadata": {},
   "outputs": [
    {
     "data": {
      "text/plain": [
       "(WindowsPath('data/CORD-19-research-challenge/custom_license/custom_license/pdf_json/1e1286db212100993d03cc22374b624f7caee956.json'),\n",
       " True)"
      ]
     },
     "execution_count": 8,
     "metadata": {},
     "output_type": "execute_result"
    }
   ],
   "source": [
    "paper.get_sha_path(), paper.get_sha_path().exists()"
   ]
  },
  {
   "cell_type": "code",
   "execution_count": 16,
   "metadata": {},
   "outputs": [
    {
     "data": {
      "text/plain": [
       "'Abstract\\n\\nBackground: Rhinovirus, the most common cause of upper respiratory tract infections, has been implicated in asthma exacerbations and possibly asthma deaths. Although the method of transmission of rhinoviruses is disputed, several studies have demonstrated that aerosol transmission is a likely method of transmission among adults. As a first step in studies of possible airborne rhinovirus transmission, we developed methods to detect aerosolized rhinovirus by extending existing technology for detecting infectious agents in nasal specimens.\\n\\nWe aerosolized rhinovirus in a small aerosol chamber. Experiments were conducted with decreasing concentrations of rhinovirus. To determine the effect of UV irradiation on detection of rhinoviral aerosols, we also conducted experiments in which we exposed aerosols to a UV dose of 684 mJ/m 2 . Aerosols were collected on Teflon filters and rhinovirus recovered in Qiagen AVL buffer using the Qiagen QIAamp Viral RNA Kit (Qiagen Corp., Valencia, California) followed by semi-nested RT-PCR and detection by gel electrophoresis.\\n\\nWe obtained positive results from filter samples that had collected at least 1.3 TCID 50 of aerosolized rhinovirus. Ultraviolet irradiation of airborne virus at doses much greater than those used in upper-room UV germicidal irradiation applications did not inhibit subsequent detection with the RT-PCR assay.\\n\\nThe air sampling and extraction methodology developed in this study should be applicable to the detection of rhinovirus and other airborne viruses in the indoor air of offices and schools. This method, however, cannot distinguish UV inactivated virus from infectious viral particles.\\n\\n'"
      ]
     },
     "execution_count": 16,
     "metadata": {},
     "output_type": "execute_result"
    }
   ],
   "source": [
    "paper.get_sha_json()"
   ]
  },
  {
   "cell_type": "markdown",
   "metadata": {},
   "source": [
    "## Load with PMC"
   ]
  },
  {
   "cell_type": "code",
   "execution_count": 10,
   "metadata": {},
   "outputs": [
    {
     "data": {
      "text/plain": [
       "WindowsPath('data/CORD-19-research-challenge/custom_license/custom_license/pmc_json/PMC140314.xml.json')"
      ]
     },
     "execution_count": 10,
     "metadata": {},
     "output_type": "execute_result"
    }
   ],
   "source": [
    "paper.get_pmc_path()"
   ]
  },
  {
   "cell_type": "code",
   "execution_count": 13,
   "metadata": {},
   "outputs": [
    {
     "data": {
      "text/plain": [
       "'Background\\n\\nRhinoviruses have been associated with 40% to 65% of \"common colds\" studied by methods of virus culture [1,2]. With the use of reverse transcriptase – polymerase chain reaction (RT-PCR), rhinovirus has been shown to be associated with 53% of all colds throughout the year and up to 92% of colds during the autumn outbreak period [3]. Rhinviruses have been implicated in the exacerbation of asthma symptoms [4] and may even play a role in asthma related deaths [5]. Due to their role in the exacerbation of asthma symptoms, rhinoviruses are a major cause of pediatric hospitalizations [6].\\n\\nAlthough rhinoviruses have been thought to be transmitted via large droplets or contact [7], studies in the 1980\\'s demonstrated that fomites are not an effective means of transmitting rhinovirus infections [8-10]. While direct inoculation of respiratory secretions has been shown to transmit infection, this is not a likely route of transmission in older children and adults as survival on hands is brief [9]. Airborne transmission of infection was clearly demonstrated in one experimental study on adults [8]. However, in the absence of epidemiological studies designed to conclusively identify modes of transmission, the role of airborne transmission in viral respiratory infection remains controversial.\\n\\nAn impediment to future studies of airborne transmission of respiratory infections is the lack of established methods for the detection of airborne respiratory microorganisms appropriate for epidemiological studies. Several laboratory studies have been conducted in which aerosolized respiratory viruses have been collected and quantified with culture based methods [11-13]. These studies were conducted to determine the effects of temperature and relative humidity on the infectivity of respiratory viruses, but their methods are not suitable for the extremely low concentrations of virus in field experiments. PCR based assays have been employed to detect airborne respiratory viruses in a number of small studies conducted in hospital rooms of infected patients [14-17] and in pig houses [18].\\n\\nTo determine if airborne microorganisms can be inactivated, and therefore, prevent infection transmission, studies during the 1940\\'s–1970\\'s used ultraviolet germicidal irradation (UVGI) to inactivated airborne microorganisms under experimental conditions [19-22] and reduced airborne infections in a number of settings, such as hospitals [23], military housing [24], and classrooms [25]. However, UVGI was not effective against the highly contagious measles virus when children had extensive contact in buses and crowded tenements [26,27]. Thus, it fell into disfavor and has not been extensively employed nor has it been studied using molecular methods of detecting its efficacy.\\n\\nBecause we anticipate future studies of UVGI will use PCR based detection methods, it is important to determine how PCR assays react to UVGI damaged genetic material. In DNA, UVGI predominately produces damage in the form of cyclobutylpyrimidine dimers and (6–4) photoproducts. These photoproducts disrupt the replication of the genetic material and, therefore, inhibit the replication. There is limited information regarding the effect of UVGI on RNA. There are conflicting studies on viruses with RNA genomes that have attempted to determine if PCR assays are inhibited by UVGI. Two studies involving hepatitis A virus (single-stranded positive sense RNA genome) and rotavirus (double-stranded RNA genome), showed their PCR assays to be inhibited by UV inactivation of the viruses [28,29]. Conversely, Ma et al showed no effect of UV on a PCR assay when they irradiated poliovirus (single-stranded positive sense RNA genome) [30]. In this study, we present an extremely sensitive PCR based assay to detect airborne rhinovirus and demonstrate the effect of ultraviolet irradiation on the assay.\\n\\nOrganism ::: Methods\\n\\nWe obtained rhinovirus 16 strain 11757 from ATCC (Manassas, Virginia) with a titer of 107.25 particles per 0.2 ml. The suspension was diluted with phosphate buffered saline (PBS) to create four different concentrations to be used in the experiment.\\n\\nAerosolization and chamber description ::: Methods\\n\\nWe generated a rhinoviral aerosol with a 6-jet Collison nebulizer (model CN-38, BGI, Waltham, MA), which generates 2-μm mass-median diameter (MMD) droplets when run at 20 psig of air pressure [31]. The nebulizing solution consists of PBS, diluted virus, and 0.05 g/l uranine. We used the uranine as a fluorescent tracer, so that some filters could be used to determine the percentage of actual collection versus theoretical collection. The aerosol was generated in a specially designed aerosolization chamber that had been used in studies of UV sensitivity of Serratia marcescens and bacilli Calmette-Guérin (Figure 1) [32].\\n\\nThe chamber consists of four parts: a drying jar, a 165 mm square duct where the aerosol first enters the chamber, a UV exposure chamber, and sampling ports. We attached a Collison nebulizer to the drying jar, where the aerosol is given time to dry, before entering the square duct through a 9-port manifold, which creates a uniformly distributed aerosol. The aerosol next enters the UV exposure chamber. The UV exposure chamber is comprised of a fused quartz UV exposure window (279 × 254 mm), on which a UV fixture containing six 36-watt UV lamps (Lumalier, Memphis, Tennessee) sits. We inserted two types of screens beneath the UV fixture to adjust the level of irradiance. Downstream of the exposure chamber a slide contains three ports. One port is used to collect the aerosol sample with our sampling filters (Teflo 2.0 μm pore, Pall Gelman, Ann Arbor, Michigan) mounted in filter cassettes (Millipore Corp., Bedford, Massachusetts) while the other ports can be loaded with two Teflo filters in series, to allow a bypass while changing sampling filters. Two filters were used in the bypass to ensure that no aerosol escaped the chamber. The multiple ports allow changing of filters without interrupting the aerosol flow. Makeup air passes through a Teflon filter prior to entering the chamber to prevent environmental microorganisms from entering the chamber.\\n\\nFiltered air was pumped through the chamber at a rate of 8.5 l/min monitored by a rotameter. To provide additional protection, the experimental chamber was housed within a Class II, Type A biosafety cabinet. Although temperature and %RH were not controlled, they were measured with continuous monitors (HOBO H08-004-02 four channel data loggers, Onset Computer Corp., Bourne, Massachusetts) downstream of the sampling filters.\\n\\nAerosol procedures ::: Methods\\n\\nAirflow through the chamber was maintained at 8.5 l/min for 10 minutes. We then began the aerosolization of the rhinoviral solution and allowed the aerosol to flow through the bypass filter for 20 minutes. Air samples were then collected for 10 minutes. For sampling runs that included testing for effects of UV exposure, the UV radiation was turned on and allowed to warm up for 10 minutes while airflow was directed through the bypass filter. An air sample was then collected for 10 minutes. Three replicates of UV exposed and nonexposed particle samples were collected during each sampling run. Aerosols were exposed to an irradiance level of 30 mW/m2 for 22.8 s for a UV dose of 684 mJ/m2.\\n\\nSpiking experiments ::: Methods\\n\\nPrior to the aerosol experiments, we spiked filters with progressively more dilute viral suspensions to determine the limit of detection of our extraction and semi-nested RT-PCR assay. For spiking, 1 μl methanol was placed on the filter as a wetting agent followed by 1 μl of diluted virus. Filters were and allowed to dry prior to extraction. We also spiked one filter prior to each aerosol chamber run as a positive control. To test the stability of virus on the filters, a test was conducted in which spiked filters were used to collect air samples for one week in our laboratory, which has single pass air and is therefore an unlikely source of rhinovirus.\\n\\nFilter extraction ::: Methods\\n\\nWe placed the filters face down in a 60 mm petri dish using sterile forceps. We then added 560 μl of prepared AVL buffer containing carrier RNA (Qiagen QIAamp Viral RNA Mini Kit) and 140 μl phosphate buffered saline (PBS). After placing the lids on the dishes, the dishes were secured to an orbital tabletop shaker (VWR Scientific Products, Thorofare, New Jersey) and rotated for 20 minutes at 360 RPM. After shaking, we pipeted the eluted material from the petri dish into a sterile microfuge tube.\\n\\nRNA extraction ::: Methods\\n\\nWe extracted the RNA from the filter samples with the Qiagen QIAamp Viral RNA Mini Kit following manufacturer\\'s protocol. The use of the Qiagen QIAamp Viral RNA Mini Kit resulted in 80 μl of purified viral RNA.\\n\\nSemi-nested RT-PCR amplification ::: Methods\\n\\nFollowing extraction, we first amplified the picornavirus RNA using primers OL26 (5\\'-GCA CTT CTG TTT CCC C-3\\') [33] and OL27 (5\\'-CGG ACA CCC AAA GTA G-3\\') [33] using the Invitrogen SuperScript One-Step RT-PCR with PLATINUM Taq Kit (Invitrogen Corp., Carlsbad, California). The PCR mixture contained 2 × reaction buffer (0.4 mM of each dNTP, 2.4 mM MgSO4), 1 μl of each primer (0.2 μM), 1 μl RT/PLATINUM Taq Mix and 10 μl of the RNA template in a final volume of 50 μl. We conducted the PCR reaction in a MJ Research (Watertown, Massachusetts) PTC-200 Peltier Thermal Cycler programmed with an initial cDNA synthesis and pre-denaturation step of 50°C for 30 minutes and 94°C for 2 minutes followed by then 36 cycles of denature, annealing and extension (15 s at 94°C, 30 s at 55°C, 30 s at 68°C).\\n\\nWe then amplified the PCR products from the RT-PCR step using primers OL26 (5\\'-GCA CTT CTG TTT CCC C-3\\') and JWA-1b (5\\'-CAT TCA GGG GCC GGA GGA-3\\') [34]. The PCR mixture contained 2 × reaction buffer (0.4 mM of each dNTP, 2.4 mM MgSO4), 1 μl of each primer (0.2 μM), 0.25 μl AmpliTaq (Applied Biosystems, Foster City, California) and 10 μl of RT-PCR product in a final volume of 50 μl. We conducted the PCR reaction for 36 cycles of denature, annealing and extension (15 s at 94°C, 30 s at 55°C, 30 s at 68°C), followed by a final extension of 4 min at 72°C.\\n\\nGel electrophoresis ::: Methods\\n\\nAmplified products were detected by electrophoresis analysis on 2% agarose gel containing 8 μl of ethidium bromide per 200 ml of gel followed by examination under UV light.\\n\\nPCR products ::: Methods\\n\\nThe OL26 and OL27 primer pair generates a 388 base pair amplicon from a region of the 5\\' noncoding region of the picornavirus genome. The semi-nested primer pair of OL26 and JWA-1b generates an amplicon of ~292 base pairs from within the original amplicon. The 292 bp amplicon does not differentiate between rhinovirus and enterovirus [34].\\n\\nUranine analysis ::: Methods\\n\\nUranine was used as a fluorescent tracer, which allowed us to determine a percent yield for each sampling run. To determine the amount of aerosol collected on each filter, uranine analysis was conducted on three filters per sampling run, one each from the beginning, middle and end of each run. The filters used for uranine analysis were removed from cassette holders and placed into a 100 mm test tube with sterile forceps. We added 5 ml of PBS to each tube and sonicated for an hour with vortexing every 15 minutes. We also collected samples of the nebulizing fluid before and after nebulization. Filter samples and nebulizing fluid samples were diluted with 0.01 N NaOH and analyzed with a spectrofluorometer (excitation 485 nm and emission 535 nm) (Tecan Corp. Spectrafluor Plus, Mannedorf, Switzerland). We averaged the results of the three filters to calculate an estimated percent yield for the sampling run.\\n\\nData analysis ::: Methods\\n\\nThe amount of uranine nebulized during each sampling run was determined by measuring the amount of fluid consumed and by measuring the fluorescence of nebulizing fluid before and after each sampling run. Using the total aerosolization time during the sampling run, we determined the amount of uranine that theoretically would be on each filter if we collected 100% of the aerosol generated during the 10-minute exposure of each filter. Using the filter samples that were analyzed for uranine, we determined the actual amount of uranine collected per sample. We averaged the three filter samples per run and divided by the total amount of uranine consumed to determine a percent yield (observed/expected) for the sampling run.\\n\\nWe computed the expected number of TCID50 on each filter sample from the known TCID50 and fluid volume added to the nebulizer, the amount of nebulizing fluid consumed per minute, and the sampling time. The expected TCID50 was adjusted for the yield for the uranine samples.\\n\\nResults\\n\\nWe were able to obtain from the dilution gradient filter spiking experiments a positive band from a 1:500,000 dilution of virus, which translates into a detected amount of approximately 0.77 TCID50 or 0.39 PFU\\'s per filter. The stability tests, in which, filters spiked with 25 TCID50/filter were used to collect air samples for 40 hours did not display any difference in band strength compared to control filters. Figure 2 displays the results from the aerosol experiments with the lowest concentration of virus detected.\\n\\nTable 1 summarizes results of the aerosol experiments, including the expected TCID50 captured on each filter during each sampling run and the number of filters that produced positive RT-PCR results. The limit of detection of our semi-nested RT-PCR assay with primers OL26, OL27 and JWA-1b is in the range of 1.3 TCID50/filter, yielding a clearly visible 292 bp band. No signal was detected from samples with 0.5 TCID50/filter. The percent yields for each sampling run, were low, ranging from 4% to 10%. Temperature and relative humidity were recorded in the air downstream of the chamber. The average temperature inside the chamber was very consistent, ranging from 26.4°C to 27°C and the %RH ranged from 24.9 to 50.7.\\n\\nFigure 3 shows the results from test of the effect of UV exposure on aerosolized rhinovirus. Lanes 5 and 6 contain PCR products from filters containing UV exposed aerosol. No difference was detected between the UV exposed and nonexposed filter samples.\\n\\nIn order to determine if the uranine in the viral suspension was inhibiting the extraction and detection assay, two otherwise identical runs were conducted – one with and one without uranine. Each sampling run was conducted with nebulizing solution containing 10.1 TCID50 per ml. Results of the two runs were identical, demonstrating that the uranine was not inhibitory to the extraction or RT-PCR assay.\\n\\nDiscussion\\n\\nThe majority of rhinoviral transmission among adults is thought to occur via airborne infectious droplet nuclei [8-10]. This study was conducted to assess the ability to detect airborne rhinovirus on air sampling filters and documents the first successful attempt to detect airborne rhinovirus using RT-PCR amplification-based techniques. These techniques allow for a highly sensitive method to conduct air sampling for rhinovirus. This assay also is capable of detecting aerosolized enterovirus, although future studies are necessary to confirm the limit of detection for enteroviral aerosols\\n\\nOur limit of detection for the collection, extraction and amplification of aerosolized rhinovirus was 1.3 TCID50. The spiking experiments we conducted had a limit of detection of approximately 0.8 TCID50 or 60% of what was detected when the virus was aerosolized. These results can be interpreted in several ways. One possibility is that the virus may be damaged during the process of aerosolization in the Collison nebulizer, and that the RNA from the damaged virus cannot be amplified. This explanation would account for the results shown in Figure 2 where the nebulization solution prior to aerosolization yielded a positive result while after aerosolization we obtained a negative result. Another possible explanation is that it is easier to extract the virus from a dried liquid droplet, as was done in the spiking experiments, than from an aerosol spread uniformly over the filter surface.\\n\\nWe were unable to recover the majority of aerosol that was expelled into the chamber. The main reason for the low yields appears to be the result of large droplets falling out in the drying jar prior to entry into the exposure chamber. Because the yields were the same regardless of the UV status, the low yields should not affect our results.\\n\\nPrevious studies have shown that UV inhibits PCR assays in single and double stranded RNA viruses,[28,29] while our RT-PCR method did not detect a difference between UV exposed and nonexposed rhinoviral aerosols. The most likely reason for this is a matter of dose, although it is possible that characteristics of the particular viruses and PCR methods could also explain the results. Neither of the previous studies were conducted on aerosolized virus and the dose of UV was several orders of magnitude greater. This study, did not determine whether the rhinovirus aerosol was capable of infection after exposure to the high UV dose used in these experiments. It is possible that the UV irradiation damaged other regions of the viral RNA and not the region that our primers amplified, or that the amount of damage required to prevent RT-PCR amplification is greater than the amount of damage sufficient to prevent infection. This suggests possible future studies to investigate the relationship between UV damage, infectiousness, and detection by RT-PCR of various regions of the rhinovirus genome.\\n\\nThe limit of detection of our assay must be put into context with the amount of virus shed by an infectious individual. A study of rhinoviral shedding detected a titer of at least 1,600 TCID50 per ml of nasopharngeal wash in 17 out of 26 infected volunteers [35]. So it is clear that infected people can produce a large amount of virus, but it is unknown how much of that virus becomes airborne through coughs, sneezes, respiration and talking.\\n\\nTwo studies have attempted to determine the infectious dose 50% (ID50) of rhinovirus for humans [36,37]. The ID50 for microorganisms depend on at least four criteria: (1) the strain of the organism, (2) the route of transmission, (3) the method of inoculation, and (4) host immunity. In a study published in 1966, investigators from the U.S. Army Biological Laboratories and the National Institute of Allergy and Infectious Disease, conducted a series of tests designed to determine if respiratory viral agents were transmitted via the aerosol route. Using rhinovirus type 15, they inoculated volunteers in the nose with both nasal drops and an aerosol (particle size 0.3 to 2.5 μm). The authors estimated a human ID50 of 0.032 TCID50 for nasal drops and 0.68 TCID50 for aerosols [36]. In a study conducted in 1984, researchers inoculated volunteers with rhinovirus type 16 with droplets of viral suspension in several locations. The authors determined the ID50 for nasal drops was 0.28 TCID50 [37]. If we assume that the infectious dose is acquired through an aerosol, the aerosol data from 1966 suggests that our assay can detect an amount approximately equal to twice the ID50 in humans. But, if the spiking experiment is a better estimate of actual detection limit due to the inactivation by the nebulizer, then our detection limit is approximately equal to the ID50.\\n\\nCaution must be taken when interpreting results from PCR-based air samples. Nucleic acid detection methods, such as the one presented here, are capable of detecting very small quantities of microorganisms, but these techniques cannot determine if the microorganism is infectious at the time of detection.\\n\\nConclusions\\n\\nThe filter collection and PCR-based detection methods developed here offers some clear advantages over the use of more traditional methods such as impinger collection and cell culture based detection. The use of filter collection allows for a much longer sample time, while impingers cannot be used for longer than 15–20 minutes. As was demonstrated here, filters can be used to collect at least 40-hour samples without reduced ability to detect virus on the filter. Cell culture methods, while useful in determining the amount of infectious virus, could not be used to detect the very low levels of infectious virus present in room air because collection of viable virus over long sampling times is not currently feasible. Therefore, the use of filter collection and PCR based detection is the only method presently available to detect low concentrations of respiratory virus in air. However, at UV doses much higher than typically used in upper room UV applications, this method was unable to distinguish between UV irradiated aerosols and nonexposed aerosols.\\n\\nAbbreviations\\n\\nPBS – Phosphate buffered saline\\n\\nMMD – Mass-median diameter\\n\\nRT-PCR – Reverse-transcriptase polymerase chain reaction\\n\\nTCID50 – Tissue culture infectious dose 50%\\n\\nUVGI – Ultraviolet germicidal irradiation\\n\\nCompeting interests\\n\\nNone declared\\n\\nAuthors\\' contributions\\n\\nTM participated in the study design, the modification of the chamber, and performed the aerosol experiments and molecular assays. SJ participated in development of the molecular assays and study design. SR participated in the design of the study and modification of the chamber. DM participated in study design and coordination of the study.\\n\\nPre-publication history\\n\\nThe pre-publication history for this paper can be accessed here:\\n\\n\\n\\n'"
      ]
     },
     "execution_count": 13,
     "metadata": {},
     "output_type": "execute_result"
    }
   ],
   "source": [
    "paper.get_pmc_json()"
   ]
  },
  {
   "cell_type": "code",
   "execution_count": 11,
   "metadata": {},
   "outputs": [
    {
     "data": {
      "text/plain": [
       "{'paper_id': 'PMC140314',\n",
       " 'metadata': {'title': 'Airborne rhinovirus detection and effect of ultraviolet irradiation on detection by a semi-nested RT-PCR assay',\n",
       "  'authors': [{'first': 'Theodore',\n",
       "    'middle': ['A'],\n",
       "    'last': 'Myatt',\n",
       "    'suffix': '',\n",
       "    'email': 'tmyatt@hsph.harvard.edu',\n",
       "    'affiliation': {}},\n",
       "   {'first': 'Sebastian',\n",
       "    'middle': ['L'],\n",
       "    'last': 'Johnston',\n",
       "    'suffix': '',\n",
       "    'email': 's.johnston@ic.ac.uk',\n",
       "    'affiliation': {}},\n",
       "   {'first': 'Stephen',\n",
       "    'middle': [],\n",
       "    'last': 'Rudnick',\n",
       "    'suffix': '',\n",
       "    'email': 'srudnick@hsph.harvard.edu',\n",
       "    'affiliation': {}},\n",
       "   {'first': 'Donald',\n",
       "    'middle': ['K'],\n",
       "    'last': 'Milton',\n",
       "    'suffix': '',\n",
       "    'email': 'dmilton@hsph.harvard.edu',\n",
       "    'affiliation': {}}]},\n",
       " 'body_text': [{'text': 'Rhinoviruses have been associated with 40% to 65% of \"common colds\" studied by methods of virus culture [1,2]. With the use of reverse transcriptase – polymerase chain reaction (RT-PCR), rhinovirus has been shown to be associated with 53% of all colds throughout the year and up to 92% of colds during the autumn outbreak period [3]. Rhinviruses have been implicated in the exacerbation of asthma symptoms [4] and may even play a role in asthma related deaths [5]. Due to their role in the exacerbation of asthma symptoms, rhinoviruses are a major cause of pediatric hospitalizations [6].',\n",
       "   'cite_spans': [{'start': 105,\n",
       "     'end': 106,\n",
       "     'mention': '1',\n",
       "     'ref_id': 'BIBREF0'},\n",
       "    {'start': 107, 'end': 108, 'mention': '2', 'ref_id': 'BIBREF11'},\n",
       "    {'start': 330, 'end': 331, 'mention': '3', 'ref_id': 'BIBREF22'},\n",
       "    {'start': 407, 'end': 408, 'mention': '4', 'ref_id': 'BIBREF31'},\n",
       "    {'start': 461, 'end': 462, 'mention': '5', 'ref_id': 'BIBREF32'},\n",
       "    {'start': 585, 'end': 586, 'mention': '6', 'ref_id': 'BIBREF33'}],\n",
       "   'section': 'Background',\n",
       "   'ref_spans': []},\n",
       "  {'text': \"Although rhinoviruses have been thought to be transmitted via large droplets or contact [7], studies in the 1980's demonstrated that fomites are not an effective means of transmitting rhinovirus infections [8-10]. While direct inoculation of respiratory secretions has been shown to transmit infection, this is not a likely route of transmission in older children and adults as survival on hands is brief [9]. Airborne transmission of infection was clearly demonstrated in one experimental study on adults [8]. However, in the absence of epidemiological studies designed to conclusively identify modes of transmission, the role of airborne transmission in viral respiratory infection remains controversial.\",\n",
       "   'cite_spans': [{'start': 89,\n",
       "     'end': 90,\n",
       "     'mention': '7',\n",
       "     'ref_id': 'BIBREF34'},\n",
       "    {'start': 207, 'end': 208, 'mention': '8', 'ref_id': 'BIBREF35'},\n",
       "    {'start': 209, 'end': 211, 'mention': '10', 'ref_id': 'BIBREF1'},\n",
       "    {'start': 406, 'end': 407, 'mention': '9', 'ref_id': 'BIBREF36'},\n",
       "    {'start': 507, 'end': 508, 'mention': '8', 'ref_id': 'BIBREF35'}],\n",
       "   'section': 'Background',\n",
       "   'ref_spans': []},\n",
       "  {'text': 'An impediment to future studies of airborne transmission of respiratory infections is the lack of established methods for the detection of airborne respiratory microorganisms appropriate for epidemiological studies. Several laboratory studies have been conducted in which aerosolized respiratory viruses have been collected and quantified with culture based methods [11-13]. These studies were conducted to determine the effects of temperature and relative humidity on the infectivity of respiratory viruses, but their methods are not suitable for the extremely low concentrations of virus in field experiments. PCR based assays have been employed to detect airborne respiratory viruses in a number of small studies conducted in hospital rooms of infected patients [14-17] and in pig houses [18].',\n",
       "   'cite_spans': [{'start': 367,\n",
       "     'end': 369,\n",
       "     'mention': '11',\n",
       "     'ref_id': 'BIBREF2'},\n",
       "    {'start': 370, 'end': 372, 'mention': '13', 'ref_id': 'BIBREF4'},\n",
       "    {'start': 766, 'end': 768, 'mention': '14', 'ref_id': 'BIBREF5'},\n",
       "    {'start': 769, 'end': 771, 'mention': '17', 'ref_id': 'BIBREF8'},\n",
       "    {'start': 792, 'end': 794, 'mention': '18', 'ref_id': 'BIBREF9'}],\n",
       "   'section': 'Background',\n",
       "   'ref_spans': []},\n",
       "  {'text': \"To determine if airborne microorganisms can be inactivated, and therefore, prevent infection transmission, studies during the 1940's–1970's used ultraviolet germicidal irradation (UVGI) to inactivated airborne microorganisms under experimental conditions [19-22] and reduced airborne infections in a number of settings, such as hospitals [23], military housing [24], and classrooms [25]. However, UVGI was not effective against the highly contagious measles virus when children had extensive contact in buses and crowded tenements [26,27]. Thus, it fell into disfavor and has not been extensively employed nor has it been studied using molecular methods of detecting its efficacy.\",\n",
       "   'cite_spans': [{'start': 256,\n",
       "     'end': 258,\n",
       "     'mention': '19',\n",
       "     'ref_id': 'BIBREF10'},\n",
       "    {'start': 259, 'end': 261, 'mention': '22', 'ref_id': 'BIBREF14'},\n",
       "    {'start': 339, 'end': 341, 'mention': '23', 'ref_id': 'BIBREF15'},\n",
       "    {'start': 362, 'end': 364, 'mention': '24', 'ref_id': 'BIBREF16'},\n",
       "    {'start': 383, 'end': 385, 'mention': '25', 'ref_id': 'BIBREF17'},\n",
       "    {'start': 532, 'end': 534, 'mention': '26', 'ref_id': 'BIBREF18'},\n",
       "    {'start': 535, 'end': 537, 'mention': '27', 'ref_id': 'BIBREF19'}],\n",
       "   'section': 'Background',\n",
       "   'ref_spans': []},\n",
       "  {'text': 'Because we anticipate future studies of UVGI will use PCR based detection methods, it is important to determine how PCR assays react to UVGI damaged genetic material. In DNA, UVGI predominately produces damage in the form of cyclobutylpyrimidine dimers and (6–4) photoproducts. These photoproducts disrupt the replication of the genetic material and, therefore, inhibit the replication. There is limited information regarding the effect of UVGI on RNA. There are conflicting studies on viruses with RNA genomes that have attempted to determine if PCR assays are inhibited by UVGI. Two studies involving hepatitis A virus (single-stranded positive sense RNA genome) and rotavirus (double-stranded RNA genome), showed their PCR assays to be inhibited by UV inactivation of the viruses [28,29]. Conversely, Ma et al showed no effect of UV on a PCR assay when they irradiated poliovirus (single-stranded positive sense RNA genome) [30]. In this study, we present an extremely sensitive PCR based assay to detect airborne rhinovirus and demonstrate the effect of ultraviolet irradiation on the assay.',\n",
       "   'cite_spans': [{'start': 784,\n",
       "     'end': 786,\n",
       "     'mention': '28',\n",
       "     'ref_id': 'BIBREF20'},\n",
       "    {'start': 787, 'end': 789, 'mention': '29', 'ref_id': 'BIBREF21'},\n",
       "    {'start': 928, 'end': 930, 'mention': '30', 'ref_id': 'BIBREF23'}],\n",
       "   'section': 'Background',\n",
       "   'ref_spans': []},\n",
       "  {'text': 'We obtained rhinovirus 16 strain 11757 from ATCC (Manassas, Virginia) with a titer of 107.25 particles per 0.2 ml. The suspension was diluted with phosphate buffered saline (PBS) to create four different concentrations to be used in the experiment.',\n",
       "   'cite_spans': [],\n",
       "   'section': 'Organism ::: Methods',\n",
       "   'ref_spans': []},\n",
       "  {'text': 'We generated a rhinoviral aerosol with a 6-jet Collison nebulizer (model CN-38, BGI, Waltham, MA), which generates 2-μm mass-median diameter (MMD) droplets when run at 20 psig of air pressure [31]. The nebulizing solution consists of PBS, diluted virus, and 0.05 g/l uranine. We used the uranine as a fluorescent tracer, so that some filters could be used to determine the percentage of actual collection versus theoretical collection. The aerosol was generated in a specially designed aerosolization chamber that had been used in studies of UV sensitivity of Serratia marcescens and bacilli Calmette-Guérin (Figure 1) [32].',\n",
       "   'cite_spans': [{'start': 193,\n",
       "     'end': 195,\n",
       "     'mention': '31',\n",
       "     'ref_id': 'BIBREF24'},\n",
       "    {'start': 620, 'end': 622, 'mention': '32', 'ref_id': 'BIBREF25'}],\n",
       "   'section': 'Aerosolization and chamber description ::: Methods',\n",
       "   'ref_spans': [{'start': 616,\n",
       "     'end': 617,\n",
       "     'mention': '1',\n",
       "     'ref_id': 'FIGREF0'}]},\n",
       "  {'text': 'The chamber consists of four parts: a drying jar, a 165 mm square duct where the aerosol first enters the chamber, a UV exposure chamber, and sampling ports. We attached a Collison nebulizer to the drying jar, where the aerosol is given time to dry, before entering the square duct through a 9-port manifold, which creates a uniformly distributed aerosol. The aerosol next enters the UV exposure chamber. The UV exposure chamber is comprised of a fused quartz UV exposure window (279 × 254 mm), on which a UV fixture containing six 36-watt UV lamps (Lumalier, Memphis, Tennessee) sits. We inserted two types of screens beneath the UV fixture to adjust the level of irradiance. Downstream of the exposure chamber a slide contains three ports. One port is used to collect the aerosol sample with our sampling filters (Teflo 2.0 μm pore, Pall Gelman, Ann Arbor, Michigan) mounted in filter cassettes (Millipore Corp., Bedford, Massachusetts) while the other ports can be loaded with two Teflo filters in series, to allow a bypass while changing sampling filters. Two filters were used in the bypass to ensure that no aerosol escaped the chamber. The multiple ports allow changing of filters without interrupting the aerosol flow. Makeup air passes through a Teflon filter prior to entering the chamber to prevent environmental microorganisms from entering the chamber.',\n",
       "   'cite_spans': [],\n",
       "   'section': 'Aerosolization and chamber description ::: Methods',\n",
       "   'ref_spans': []},\n",
       "  {'text': 'Filtered air was pumped through the chamber at a rate of 8.5 l/min monitored by a rotameter. To provide additional protection, the experimental chamber was housed within a Class II, Type A biosafety cabinet. Although temperature and %RH were not controlled, they were measured with continuous monitors (HOBO H08-004-02 four channel data loggers, Onset Computer Corp., Bourne, Massachusetts) downstream of the sampling filters.',\n",
       "   'cite_spans': [],\n",
       "   'section': 'Aerosolization and chamber description ::: Methods',\n",
       "   'ref_spans': []},\n",
       "  {'text': 'Airflow through the chamber was maintained at 8.5 l/min for 10 minutes. We then began the aerosolization of the rhinoviral solution and allowed the aerosol to flow through the bypass filter for 20 minutes. Air samples were then collected for 10 minutes. For sampling runs that included testing for effects of UV exposure, the UV radiation was turned on and allowed to warm up for 10 minutes while airflow was directed through the bypass filter. An air sample was then collected for 10 minutes. Three replicates of UV exposed and nonexposed particle samples were collected during each sampling run. Aerosols were exposed to an irradiance level of 30 mW/m2 for 22.8 s for a UV dose of 684 mJ/m2.',\n",
       "   'cite_spans': [],\n",
       "   'section': 'Aerosol procedures ::: Methods',\n",
       "   'ref_spans': []},\n",
       "  {'text': 'Prior to the aerosol experiments, we spiked filters with progressively more dilute viral suspensions to determine the limit of detection of our extraction and semi-nested RT-PCR assay. For spiking, 1 μl methanol was placed on the filter as a wetting agent followed by 1 μl of diluted virus. Filters were and allowed to dry prior to extraction. We also spiked one filter prior to each aerosol chamber run as a positive control. To test the stability of virus on the filters, a test was conducted in which spiked filters were used to collect air samples for one week in our laboratory, which has single pass air and is therefore an unlikely source of rhinovirus.',\n",
       "   'cite_spans': [],\n",
       "   'section': 'Spiking experiments ::: Methods',\n",
       "   'ref_spans': []},\n",
       "  {'text': 'We placed the filters face down in a 60 mm petri dish using sterile forceps. We then added 560 μl of prepared AVL buffer containing carrier RNA (Qiagen QIAamp Viral RNA Mini Kit) and 140 μl phosphate buffered saline (PBS). After placing the lids on the dishes, the dishes were secured to an orbital tabletop shaker (VWR Scientific Products, Thorofare, New Jersey) and rotated for 20 minutes at 360 RPM. After shaking, we pipeted the eluted material from the petri dish into a sterile microfuge tube.',\n",
       "   'cite_spans': [],\n",
       "   'section': 'Filter extraction ::: Methods',\n",
       "   'ref_spans': []},\n",
       "  {'text': \"We extracted the RNA from the filter samples with the Qiagen QIAamp Viral RNA Mini Kit following manufacturer's protocol. The use of the Qiagen QIAamp Viral RNA Mini Kit resulted in 80 μl of purified viral RNA.\",\n",
       "   'cite_spans': [],\n",
       "   'section': 'RNA extraction ::: Methods',\n",
       "   'ref_spans': []},\n",
       "  {'text': \"Following extraction, we first amplified the picornavirus RNA using primers OL26 (5'-GCA CTT CTG TTT CCC C-3') [33] and OL27 (5'-CGG ACA CCC AAA GTA G-3') [33] using the Invitrogen SuperScript One-Step RT-PCR with PLATINUM Taq Kit (Invitrogen Corp., Carlsbad, California). The PCR mixture contained 2 × reaction buffer (0.4 mM of each dNTP, 2.4 mM MgSO4), 1 μl of each primer (0.2 μM), 1 μl RT/PLATINUM Taq Mix and 10 μl of the RNA template in a final volume of 50 μl. We conducted the PCR reaction in a MJ Research (Watertown, Massachusetts) PTC-200 Peltier Thermal Cycler programmed with an initial cDNA synthesis and pre-denaturation step of 50°C for 30 minutes and 94°C for 2 minutes followed by then 36 cycles of denature, annealing and extension (15 s at 94°C, 30 s at 55°C, 30 s at 68°C).\",\n",
       "   'cite_spans': [{'start': 112,\n",
       "     'end': 114,\n",
       "     'mention': '33',\n",
       "     'ref_id': 'BIBREF26'},\n",
       "    {'start': 156, 'end': 158, 'mention': '33', 'ref_id': 'BIBREF26'}],\n",
       "   'section': 'Semi-nested RT-PCR amplification ::: Methods',\n",
       "   'ref_spans': []},\n",
       "  {'text': \"We then amplified the PCR products from the RT-PCR step using primers OL26 (5'-GCA CTT CTG TTT CCC C-3') and JWA-1b (5'-CAT TCA GGG GCC GGA GGA-3') [34]. The PCR mixture contained 2 × reaction buffer (0.4 mM of each dNTP, 2.4 mM MgSO4), 1 μl of each primer (0.2 μM), 0.25 μl AmpliTaq (Applied Biosystems, Foster City, California) and 10 μl of RT-PCR product in a final volume of 50 μl. We conducted the PCR reaction for 36 cycles of denature, annealing and extension (15 s at 94°C, 30 s at 55°C, 30 s at 68°C), followed by a final extension of 4 min at 72°C.\",\n",
       "   'cite_spans': [{'start': 149,\n",
       "     'end': 151,\n",
       "     'mention': '34',\n",
       "     'ref_id': 'BIBREF27'}],\n",
       "   'section': 'Semi-nested RT-PCR amplification ::: Methods',\n",
       "   'ref_spans': []},\n",
       "  {'text': 'Amplified products were detected by electrophoresis analysis on 2% agarose gel containing 8 μl of ethidium bromide per 200 ml of gel followed by examination under UV light.',\n",
       "   'cite_spans': [],\n",
       "   'section': 'Gel electrophoresis ::: Methods',\n",
       "   'ref_spans': []},\n",
       "  {'text': \"The OL26 and OL27 primer pair generates a 388 base pair amplicon from a region of the 5' noncoding region of the picornavirus genome. The semi-nested primer pair of OL26 and JWA-1b generates an amplicon of ~292 base pairs from within the original amplicon. The 292 bp amplicon does not differentiate between rhinovirus and enterovirus [34].\",\n",
       "   'cite_spans': [{'start': 336,\n",
       "     'end': 338,\n",
       "     'mention': '34',\n",
       "     'ref_id': 'BIBREF27'}],\n",
       "   'section': 'PCR products ::: Methods',\n",
       "   'ref_spans': []},\n",
       "  {'text': 'Uranine was used as a fluorescent tracer, which allowed us to determine a percent yield for each sampling run. To determine the amount of aerosol collected on each filter, uranine analysis was conducted on three filters per sampling run, one each from the beginning, middle and end of each run. The filters used for uranine analysis were removed from cassette holders and placed into a 100 mm test tube with sterile forceps. We added 5 ml of PBS to each tube and sonicated for an hour with vortexing every 15 minutes. We also collected samples of the nebulizing fluid before and after nebulization. Filter samples and nebulizing fluid samples were diluted with 0.01 N NaOH and analyzed with a spectrofluorometer (excitation 485 nm and emission 535 nm) (Tecan Corp. Spectrafluor Plus, Mannedorf, Switzerland). We averaged the results of the three filters to calculate an estimated percent yield for the sampling run.',\n",
       "   'cite_spans': [],\n",
       "   'section': 'Uranine analysis ::: Methods',\n",
       "   'ref_spans': []},\n",
       "  {'text': 'The amount of uranine nebulized during each sampling run was determined by measuring the amount of fluid consumed and by measuring the fluorescence of nebulizing fluid before and after each sampling run. Using the total aerosolization time during the sampling run, we determined the amount of uranine that theoretically would be on each filter if we collected 100% of the aerosol generated during the 10-minute exposure of each filter. Using the filter samples that were analyzed for uranine, we determined the actual amount of uranine collected per sample. We averaged the three filter samples per run and divided by the total amount of uranine consumed to determine a percent yield (observed/expected) for the sampling run.',\n",
       "   'cite_spans': [],\n",
       "   'section': 'Data analysis ::: Methods',\n",
       "   'ref_spans': []},\n",
       "  {'text': 'We computed the expected number of TCID50 on each filter sample from the known TCID50 and fluid volume added to the nebulizer, the amount of nebulizing fluid consumed per minute, and the sampling time. The expected TCID50 was adjusted for the yield for the uranine samples.',\n",
       "   'cite_spans': [],\n",
       "   'section': 'Data analysis ::: Methods',\n",
       "   'ref_spans': []},\n",
       "  {'text': \"We were able to obtain from the dilution gradient filter spiking experiments a positive band from a 1:500,000 dilution of virus, which translates into a detected amount of approximately 0.77 TCID50 or 0.39 PFU's per filter. The stability tests, in which, filters spiked with 25 TCID50/filter were used to collect air samples for 40 hours did not display any difference in band strength compared to control filters. Figure 2 displays the results from the aerosol experiments with the lowest concentration of virus detected.\",\n",
       "   'cite_spans': [],\n",
       "   'section': 'Results',\n",
       "   'ref_spans': [{'start': 422,\n",
       "     'end': 423,\n",
       "     'mention': '2',\n",
       "     'ref_id': 'FIGREF1'}]},\n",
       "  {'text': 'Table 1 summarizes results of the aerosol experiments, including the expected TCID50 captured on each filter during each sampling run and the number of filters that produced positive RT-PCR results. The limit of detection of our semi-nested RT-PCR assay with primers OL26, OL27 and JWA-1b is in the range of 1.3 TCID50/filter, yielding a clearly visible 292 bp band. No signal was detected from samples with 0.5 TCID50/filter. The percent yields for each sampling run, were low, ranging from 4% to 10%. Temperature and relative humidity were recorded in the air downstream of the chamber. The average temperature inside the chamber was very consistent, ranging from 26.4°C to 27°C and the %RH ranged from 24.9 to 50.7.',\n",
       "   'cite_spans': [],\n",
       "   'section': 'Results',\n",
       "   'ref_spans': [{'start': 6, 'end': 7, 'mention': '1', 'ref_id': 'TABREF0'}]},\n",
       "  {'text': 'Figure 3 shows the results from test of the effect of UV exposure on aerosolized rhinovirus. Lanes 5 and 6 contain PCR products from filters containing UV exposed aerosol. No difference was detected between the UV exposed and nonexposed filter samples.',\n",
       "   'cite_spans': [],\n",
       "   'section': 'Results',\n",
       "   'ref_spans': [{'start': 7, 'end': 8, 'mention': '3', 'ref_id': 'FIGREF2'}]},\n",
       "  {'text': 'In order to determine if the uranine in the viral suspension was inhibiting the extraction and detection assay, two otherwise identical runs were conducted – one with and one without uranine. Each sampling run was conducted with nebulizing solution containing 10.1 TCID50 per ml. Results of the two runs were identical, demonstrating that the uranine was not inhibitory to the extraction or RT-PCR assay.',\n",
       "   'cite_spans': [],\n",
       "   'section': 'Results',\n",
       "   'ref_spans': []},\n",
       "  {'text': 'The majority of rhinoviral transmission among adults is thought to occur via airborne infectious droplet nuclei [8-10]. This study was conducted to assess the ability to detect airborne rhinovirus on air sampling filters and documents the first successful attempt to detect airborne rhinovirus using RT-PCR amplification-based techniques. These techniques allow for a highly sensitive method to conduct air sampling for rhinovirus. This assay also is capable of detecting aerosolized enterovirus, although future studies are necessary to confirm the limit of detection for enteroviral aerosols',\n",
       "   'cite_spans': [{'start': 113,\n",
       "     'end': 114,\n",
       "     'mention': '8',\n",
       "     'ref_id': 'BIBREF35'},\n",
       "    {'start': 115, 'end': 117, 'mention': '10', 'ref_id': 'BIBREF1'}],\n",
       "   'section': 'Discussion',\n",
       "   'ref_spans': []},\n",
       "  {'text': 'Our limit of detection for the collection, extraction and amplification of aerosolized rhinovirus was 1.3 TCID50. The spiking experiments we conducted had a limit of detection of approximately 0.8 TCID50 or 60% of what was detected when the virus was aerosolized. These results can be interpreted in several ways. One possibility is that the virus may be damaged during the process of aerosolization in the Collison nebulizer, and that the RNA from the damaged virus cannot be amplified. This explanation would account for the results shown in Figure 2 where the nebulization solution prior to aerosolization yielded a positive result while after aerosolization we obtained a negative result. Another possible explanation is that it is easier to extract the virus from a dried liquid droplet, as was done in the spiking experiments, than from an aerosol spread uniformly over the filter surface.',\n",
       "   'cite_spans': [],\n",
       "   'section': 'Discussion',\n",
       "   'ref_spans': [{'start': 551,\n",
       "     'end': 552,\n",
       "     'mention': '2',\n",
       "     'ref_id': 'FIGREF1'}]},\n",
       "  {'text': 'We were unable to recover the majority of aerosol that was expelled into the chamber. The main reason for the low yields appears to be the result of large droplets falling out in the drying jar prior to entry into the exposure chamber. Because the yields were the same regardless of the UV status, the low yields should not affect our results.',\n",
       "   'cite_spans': [],\n",
       "   'section': 'Discussion',\n",
       "   'ref_spans': []},\n",
       "  {'text': 'Previous studies have shown that UV inhibits PCR assays in single and double stranded RNA viruses,[28,29] while our RT-PCR method did not detect a difference between UV exposed and nonexposed rhinoviral aerosols. The most likely reason for this is a matter of dose, although it is possible that characteristics of the particular viruses and PCR methods could also explain the results. Neither of the previous studies were conducted on aerosolized virus and the dose of UV was several orders of magnitude greater. This study, did not determine whether the rhinovirus aerosol was capable of infection after exposure to the high UV dose used in these experiments. It is possible that the UV irradiation damaged other regions of the viral RNA and not the region that our primers amplified, or that the amount of damage required to prevent RT-PCR amplification is greater than the amount of damage sufficient to prevent infection. This suggests possible future studies to investigate the relationship between UV damage, infectiousness, and detection by RT-PCR of various regions of the rhinovirus genome.',\n",
       "   'cite_spans': [{'start': 99,\n",
       "     'end': 101,\n",
       "     'mention': '28',\n",
       "     'ref_id': 'BIBREF20'},\n",
       "    {'start': 102, 'end': 104, 'mention': '29', 'ref_id': 'BIBREF21'}],\n",
       "   'section': 'Discussion',\n",
       "   'ref_spans': []},\n",
       "  {'text': 'The limit of detection of our assay must be put into context with the amount of virus shed by an infectious individual. A study of rhinoviral shedding detected a titer of at least 1,600 TCID50 per ml of nasopharngeal wash in 17 out of 26 infected volunteers [35]. So it is clear that infected people can produce a large amount of virus, but it is unknown how much of that virus becomes airborne through coughs, sneezes, respiration and talking.',\n",
       "   'cite_spans': [{'start': 259,\n",
       "     'end': 261,\n",
       "     'mention': '35',\n",
       "     'ref_id': 'BIBREF28'}],\n",
       "   'section': 'Discussion',\n",
       "   'ref_spans': []},\n",
       "  {'text': 'Two studies have attempted to determine the infectious dose 50% (ID50) of rhinovirus for humans [36,37]. The ID50 for microorganisms depend on at least four criteria: (1) the strain of the organism, (2) the route of transmission, (3) the method of inoculation, and (4) host immunity. In a study published in 1966, investigators from the U.S. Army Biological Laboratories and the National Institute of Allergy and Infectious Disease, conducted a series of tests designed to determine if respiratory viral agents were transmitted via the aerosol route. Using rhinovirus type 15, they inoculated volunteers in the nose with both nasal drops and an aerosol (particle size 0.3 to 2.5 μm). The authors estimated a human ID50 of 0.032 TCID50 for nasal drops and 0.68 TCID50 for aerosols [36]. In a study conducted in 1984, researchers inoculated volunteers with rhinovirus type 16 with droplets of viral suspension in several locations. The authors determined the ID50 for nasal drops was 0.28 TCID50 [37]. If we assume that the infectious dose is acquired through an aerosol, the aerosol data from 1966 suggests that our assay can detect an amount approximately equal to twice the ID50 in humans. But, if the spiking experiment is a better estimate of actual detection limit due to the inactivation by the nebulizer, then our detection limit is approximately equal to the ID50.',\n",
       "   'cite_spans': [{'start': 97,\n",
       "     'end': 99,\n",
       "     'mention': '36',\n",
       "     'ref_id': 'BIBREF29'},\n",
       "    {'start': 100, 'end': 102, 'mention': '37', 'ref_id': 'BIBREF30'},\n",
       "    {'start': 781, 'end': 783, 'mention': '36', 'ref_id': 'BIBREF29'},\n",
       "    {'start': 995, 'end': 997, 'mention': '37', 'ref_id': 'BIBREF30'}],\n",
       "   'section': 'Discussion',\n",
       "   'ref_spans': []},\n",
       "  {'text': 'Caution must be taken when interpreting results from PCR-based air samples. Nucleic acid detection methods, such as the one presented here, are capable of detecting very small quantities of microorganisms, but these techniques cannot determine if the microorganism is infectious at the time of detection.',\n",
       "   'cite_spans': [],\n",
       "   'section': 'Discussion',\n",
       "   'ref_spans': []},\n",
       "  {'text': 'The filter collection and PCR-based detection methods developed here offers some clear advantages over the use of more traditional methods such as impinger collection and cell culture based detection. The use of filter collection allows for a much longer sample time, while impingers cannot be used for longer than 15–20 minutes. As was demonstrated here, filters can be used to collect at least 40-hour samples without reduced ability to detect virus on the filter. Cell culture methods, while useful in determining the amount of infectious virus, could not be used to detect the very low levels of infectious virus present in room air because collection of viable virus over long sampling times is not currently feasible. Therefore, the use of filter collection and PCR based detection is the only method presently available to detect low concentrations of respiratory virus in air. However, at UV doses much higher than typically used in upper room UV applications, this method was unable to distinguish between UV irradiated aerosols and nonexposed aerosols.',\n",
       "   'cite_spans': [],\n",
       "   'section': 'Conclusions',\n",
       "   'ref_spans': []},\n",
       "  {'text': 'PBS – Phosphate buffered saline',\n",
       "   'cite_spans': [],\n",
       "   'section': 'Abbreviations',\n",
       "   'ref_spans': []},\n",
       "  {'text': 'MMD – Mass-median diameter',\n",
       "   'cite_spans': [],\n",
       "   'section': 'Abbreviations',\n",
       "   'ref_spans': []},\n",
       "  {'text': 'RT-PCR – Reverse-transcriptase polymerase chain reaction',\n",
       "   'cite_spans': [],\n",
       "   'section': 'Abbreviations',\n",
       "   'ref_spans': []},\n",
       "  {'text': 'TCID50 – Tissue culture infectious dose 50%',\n",
       "   'cite_spans': [],\n",
       "   'section': 'Abbreviations',\n",
       "   'ref_spans': []},\n",
       "  {'text': 'UVGI – Ultraviolet germicidal irradiation',\n",
       "   'cite_spans': [],\n",
       "   'section': 'Abbreviations',\n",
       "   'ref_spans': []},\n",
       "  {'text': 'None declared',\n",
       "   'cite_spans': [],\n",
       "   'section': 'Competing interests',\n",
       "   'ref_spans': []},\n",
       "  {'text': 'TM participated in the study design, the modification of the chamber, and performed the aerosol experiments and molecular assays. SJ participated in development of the molecular assays and study design. SR participated in the design of the study and modification of the chamber. DM participated in study design and coordination of the study.',\n",
       "   'cite_spans': [],\n",
       "   'section': \"Authors' contributions\",\n",
       "   'ref_spans': []},\n",
       "  {'text': 'The pre-publication history for this paper can be accessed here:',\n",
       "   'cite_spans': [],\n",
       "   'section': 'Pre-publication history',\n",
       "   'ref_spans': []},\n",
       "  {'text': '',\n",
       "   'cite_spans': [],\n",
       "   'section': 'Pre-publication history',\n",
       "   'ref_spans': []}],\n",
       " 'ref_entries': {'TABREF0': {'text': 'Table 1: Detection of Experimental Rhinovirus 16 Aerosols by Semi-nested RT-PCR of Filter Samples\\naSampling time of each filter (10 minutes) divided by total run time. bFluorescence yield (observed/expected) for sampling run. cPredicted = TCID50 per ml * Total ml nebulized * Fractional sampling time per filter * Yield.',\n",
       "   'type': 'table'},\n",
       "  'FIGREF0': {'text': 'Figure 1: Schematic diagram of the experimental chamber. a: Teflon filter; b: manifold; c: baffles; d: UV fixture; e: UV exposure chamber; f: sampling slide; g: air valve; h: port with the same features as the port below; i: drying jar; j: Collison nebulizer; k: pressure regulator; l: air valve; m: vacuum pump; n: rotameter; o: temperature and RH sensor',\n",
       "   'type': 'figure'},\n",
       "  'FIGREF1': {'text': 'Figure 2: PCR analysis of experimental contaminated air samples from VA Run 13 Lane 1: Marker; Lane 2:Nebulizer solution before run; Lane 3: Nebulizer solution after run; Lane 4: Filter sample; Lane 5: Filter sample; Lane 6: Spiked filter; Lane 7: Filter sample; Lane 8: Blank filter; Lane 9: Positive control; Lane 10: Negative control.',\n",
       "   'type': 'figure'},\n",
       "  'FIGREF2': {'text': 'Figure 3: PCR analysis of experimental contaminated air samples from VA Run 17 Lane 1: Marker; Lane 2:Nebulizer solution before run; Lane 3: Nebulizer solution after run; Lane 4: Filter without UV exposure; Lane 5: UV exposed filter; Lane 6: UV exposed filter; Lane 7: Filter without UV exposure; Lane 8: Spiked filter Lane 9: Filter without UV exposure; Lane 10: Blank filter; Lane 11: Positive control; Lane 12: Negative control.',\n",
       "   'type': 'figure'}},\n",
       " 'back_matter': [],\n",
       " 'bib_entries': {'BIBREF0': {'title': 'The Jeremiah Metzger Lecture: climatology and the common cold.',\n",
       "   'authors': [{'first': 'J', 'middle': [], 'last': 'Gwaltney', 'suffix': ''}],\n",
       "   'year': 1984,\n",
       "   'venue': 'Trans Am Clin Climatol Assoc',\n",
       "   'volume': '96',\n",
       "   'issn': '',\n",
       "   'pages': '159-175',\n",
       "   'other_ids': {'DOI': []}},\n",
       "  'BIBREF1': {'title': 'A model for obtaining predictable natural transmission of rhinoviruses in human volunteers.',\n",
       "   'authors': [{'first': 'CK',\n",
       "     'middle': [],\n",
       "     'last': 'Meschievitz',\n",
       "     'suffix': ''},\n",
       "    {'first': 'SB', 'middle': [], 'last': 'Schultz', 'suffix': ''},\n",
       "    {'first': 'EC', 'middle': [], 'last': 'Dick', 'suffix': ''}],\n",
       "   'year': 1984,\n",
       "   'venue': 'J Infect Dis',\n",
       "   'volume': '150',\n",
       "   'issn': '',\n",
       "   'pages': '195-201',\n",
       "   'other_ids': {'DOI': []}},\n",
       "  'BIBREF2': {'title': 'Effect of relative humidity on the airborne survival of rhinovirus-14.',\n",
       "   'authors': [{'first': 'YG', 'middle': [], 'last': 'Karim', 'suffix': ''},\n",
       "    {'first': 'MK', 'middle': [], 'last': 'Ijaz', 'suffix': ''},\n",
       "    {'first': 'SA', 'middle': [], 'last': 'Sattar', 'suffix': ''},\n",
       "    {'first': 'CM', 'middle': [], 'last': 'Johnson-Lussenburg', 'suffix': ''}],\n",
       "   'year': 1985,\n",
       "   'venue': 'Can J Microbiol',\n",
       "   'volume': '31',\n",
       "   'issn': '',\n",
       "   'pages': '1058-61',\n",
       "   'other_ids': {'DOI': []}},\n",
       "  'BIBREF3': {'title': 'Survival characteristics of airborne human coronavirus 229E.',\n",
       "   'authors': [{'first': 'MK', 'middle': [], 'last': 'Ijaz', 'suffix': ''},\n",
       "    {'first': 'AH', 'middle': [], 'last': 'Brunner', 'suffix': ''},\n",
       "    {'first': 'SA', 'middle': [], 'last': 'Sattar', 'suffix': ''},\n",
       "    {'first': 'RC', 'middle': [], 'last': 'Nair', 'suffix': ''},\n",
       "    {'first': 'CM', 'middle': [], 'last': 'Johnson-Lussenburg', 'suffix': ''}],\n",
       "   'year': 1985,\n",
       "   'venue': 'J Gen Virol',\n",
       "   'volume': '66',\n",
       "   'issn': '',\n",
       "   'pages': '2743-8',\n",
       "   'other_ids': {'DOI': []}},\n",
       "  'BIBREF4': {'title': 'Development of methods to study the survival of airborne viruses.',\n",
       "   'authors': [{'first': 'MK', 'middle': [], 'last': 'Ijaz', 'suffix': ''},\n",
       "    {'first': 'YG', 'middle': [], 'last': 'Karim', 'suffix': ''},\n",
       "    {'first': 'SA', 'middle': [], 'last': 'Sattar', 'suffix': ''},\n",
       "    {'first': 'CM', 'middle': [], 'last': 'Johnson-Lussenburg', 'suffix': ''}],\n",
       "   'year': 1987,\n",
       "   'venue': 'J Virol Methods',\n",
       "   'volume': '18',\n",
       "   'issn': '',\n",
       "   'pages': '2-3',\n",
       "   'other_ids': {'DOI': []}},\n",
       "  'BIBREF5': {'title': 'Detection of Bordetella pertussis and respiratory synctial virus in air samples from hospital rooms.',\n",
       "   'authors': [{'first': 'N',\n",
       "     'middle': [],\n",
       "     'last': 'Aintablian',\n",
       "     'suffix': ''},\n",
       "    {'first': 'P', 'middle': [], 'last': 'Walpita', 'suffix': ''},\n",
       "    {'first': 'MH', 'middle': [], 'last': 'Sawyer', 'suffix': ''}],\n",
       "   'year': 1998,\n",
       "   'venue': 'Infect Control Hosp Epidemiol',\n",
       "   'volume': '19',\n",
       "   'issn': '',\n",
       "   'pages': '918-23',\n",
       "   'other_ids': {'DOI': []}},\n",
       "  'BIBREF6': {'title': 'The detection of airborne Mycobacterium tuberculosis using Micropore membrane air sampling and polymerase chain reaction.',\n",
       "   'authors': [{'first': 'S',\n",
       "     'middle': [],\n",
       "     'last': 'Mastorides',\n",
       "     'suffix': ''},\n",
       "    {'first': 'R', 'middle': [], 'last': 'Oehler', 'suffix': ''},\n",
       "    {'first': 'J', 'middle': [], 'last': 'Greene', 'suffix': ''},\n",
       "    {'first': 'J', 'middle': [], 'last': 'Sinnott', 'suffix': ''},\n",
       "    {'first': 'M', 'middle': [], 'last': 'Kranik', 'suffix': ''},\n",
       "    {'first': 'R', 'middle': [], 'last': 'Sandin', 'suffix': ''}],\n",
       "   'year': 1999,\n",
       "   'venue': 'Chest',\n",
       "   'volume': '115',\n",
       "   'issn': '',\n",
       "   'pages': '19-25',\n",
       "   'other_ids': {'DOI': ['10.1378/chest.115.1.19']}},\n",
       "  'BIBREF7': {'title': 'Detection of airborne cytomegalovirus in hospital rooms of immunocompromised patients.',\n",
       "   'authors': [{'first': 'R', 'middle': [], 'last': 'McCluskey', 'suffix': ''},\n",
       "    {'first': 'R', 'middle': [], 'last': 'Sandin', 'suffix': ''},\n",
       "    {'first': 'J', 'middle': [], 'last': 'Greene', 'suffix': ''}],\n",
       "   'year': 1996,\n",
       "   'venue': 'Journal of Virological Methods',\n",
       "   'volume': '56',\n",
       "   'issn': '',\n",
       "   'pages': '115-118',\n",
       "   'other_ids': {'DOI': ['10.1016/0166-0934(95)01955-3']}},\n",
       "  'BIBREF8': {'title': 'Detection of Varicella-Zoster Virus DNA in air samples from hospital rooms.',\n",
       "   'authors': [{'first': 'MH', 'middle': [], 'last': 'Sawyer', 'suffix': ''},\n",
       "    {'first': 'CJ', 'middle': [], 'last': 'Chamberlin', 'suffix': ''},\n",
       "    {'first': 'YN', 'middle': [], 'last': 'Wu', 'suffix': ''},\n",
       "    {'first': 'N', 'middle': [], 'last': 'Aintablian', 'suffix': ''},\n",
       "    {'first': 'MR', 'middle': [], 'last': 'Wallace', 'suffix': ''}],\n",
       "   'year': 1994,\n",
       "   'venue': 'The Journal of Infectious Diseases',\n",
       "   'volume': '169',\n",
       "   'issn': '',\n",
       "   'pages': '91-94',\n",
       "   'other_ids': {'DOI': []}},\n",
       "  'BIBREF9': {'title': 'Detection of Mycoplasma hyopneumoniae by air sampling with a nested PCR assay.',\n",
       "   'authors': [{'first': 'KD', 'middle': [], 'last': 'Stark', 'suffix': ''},\n",
       "    {'first': 'J', 'middle': [], 'last': 'Nicolet', 'suffix': ''},\n",
       "    {'first': 'J', 'middle': [], 'last': 'Frey', 'suffix': ''}],\n",
       "   'year': 1998,\n",
       "   'venue': 'Appl Environ Microbiol',\n",
       "   'volume': '64',\n",
       "   'issn': '',\n",
       "   'pages': '543-8',\n",
       "   'other_ids': {'DOI': []}},\n",
       "  'BIBREF10': {'title': 'Ultraviolet light inactivation and photoreactivation in the Mycobacteria.',\n",
       "   'authors': [{'first': 'D', 'middle': [], 'last': 'David', 'suffix': ''},\n",
       "    {'first': 'W', 'middle': [], 'last': 'Jones', 'suffix': ''},\n",
       "    {'first': 'C', 'middle': [], 'last': 'Newman', 'suffix': ''}],\n",
       "   'year': 1971,\n",
       "   'venue': 'Infect Immun',\n",
       "   'volume': '4',\n",
       "   'issn': '',\n",
       "   'pages': '318-319',\n",
       "   'other_ids': {'DOI': []}},\n",
       "  'BIBREF11': {'title': 'Intranasal recombinant alfa-2b interferon treatment of naturally occurring common colds.',\n",
       "   'authors': [{'first': 'F', 'middle': [], 'last': 'Hayden', 'suffix': ''},\n",
       "    {'first': 'D', 'middle': [], 'last': 'Kaiser', 'suffix': ''},\n",
       "    {'first': 'J', 'middle': [], 'last': 'Albrecht', 'suffix': ''}],\n",
       "   'year': 1988,\n",
       "   'venue': 'Anitmicrob Agents Chemother',\n",
       "   'volume': '32',\n",
       "   'issn': '',\n",
       "   'pages': '224-230',\n",
       "   'other_ids': {'DOI': []}},\n",
       "  'BIBREF12': {'title': 'Ultraviolet susceptibility of BCG and virulent tubercule bacilli.',\n",
       "   'authors': [{'first': 'R', 'middle': [], 'last': 'Riley', 'suffix': ''},\n",
       "    {'first': 'M', 'middle': [], 'last': 'Knight', 'suffix': ''},\n",
       "    {'first': 'G', 'middle': [], 'last': 'Middlebrook', 'suffix': ''}],\n",
       "   'year': 1976,\n",
       "   'venue': 'Am Rev Res Dis',\n",
       "   'volume': '113',\n",
       "   'issn': '',\n",
       "   'pages': '413-418',\n",
       "   'other_ids': {'DOI': []}},\n",
       "  'BIBREF13': {'title': 'Studies of air-borne virus infections.',\n",
       "   'authors': [{'first': 'D', 'middle': [], 'last': 'Edward', 'suffix': ''},\n",
       "    {'first': 'W', 'middle': [], 'last': 'Elford', 'suffix': ''},\n",
       "    {'first': 'P', 'middle': [], 'last': 'Laidlaw', 'suffix': ''}],\n",
       "   'year': 1943,\n",
       "   'venue': 'J Hyg (Lond)',\n",
       "   'volume': '43',\n",
       "   'issn': '',\n",
       "   'pages': '1-15',\n",
       "   'other_ids': {'DOI': []}},\n",
       "  'BIBREF14': {'title': 'Inactivation of airborne viruses by ultraviolet irradiation.',\n",
       "   'authors': [{'first': 'M', 'middle': [], 'last': 'Jensen', 'suffix': ''}],\n",
       "   'year': 1964,\n",
       "   'venue': 'Appl Microbiol',\n",
       "   'volume': '12',\n",
       "   'issn': '',\n",
       "   'pages': '418-420',\n",
       "   'other_ids': {'DOI': []}},\n",
       "  'BIBREF15': {'title': 'General discussion: the mechanism of spread of asian influenza. Presented at the International Conference of Asian Influenza, Bethesda, MD.',\n",
       "   'authors': [{'first': 'R', 'middle': [], 'last': 'McLean', 'suffix': ''}],\n",
       "   'year': 1961,\n",
       "   'venue': 'American Review of Respiratory Disease',\n",
       "   'volume': '83',\n",
       "   'issn': '',\n",
       "   'pages': '36-38',\n",
       "   'other_ids': {'DOI': []}},\n",
       "  'BIBREF16': {'title': 'Studies of the control of acute respiratory diseases among naval recruits I. A review of a four-year experience with ultraviolet irradiation and dust supressive measures, 1943–1947.',\n",
       "   'authors': [{'first': 'T', 'middle': [], 'last': 'Willmon', 'suffix': ''},\n",
       "    {'first': 'L', 'middle': [], 'last': 'Hollaender', 'suffix': ''},\n",
       "    {'first': 'A', 'middle': [], 'last': 'Langmuir', 'suffix': ''}],\n",
       "   'year': 1948,\n",
       "   'venue': 'Am J Hyg',\n",
       "   'volume': '48',\n",
       "   'issn': '',\n",
       "   'pages': '227-232',\n",
       "   'other_ids': {'DOI': []}},\n",
       "  'BIBREF17': {'title': 'Ventilation in the flow of measles and chickenpox through a community: progress report, January 1, 1946 to June 14, 1949 – Airborne Infection Study, Westchester County Department of Health.',\n",
       "   'authors': [{'first': 'W', 'middle': [], 'last': 'Wells', 'suffix': ''},\n",
       "    {'first': 'W', 'middle': [], 'last': 'Holla', 'suffix': ''}],\n",
       "   'year': 1950,\n",
       "   'venue': 'Journal of the American Medical Association',\n",
       "   'volume': '142',\n",
       "   'issn': '',\n",
       "   'pages': '1337-1344',\n",
       "   'other_ids': {'DOI': []}},\n",
       "  'BIBREF18': {'title': 'Effect of ultra-violet irradiation on classrooms on spread of measles in large rural central schools.',\n",
       "   'authors': [{'first': 'J', 'middle': [], 'last': 'Perkins', 'suffix': ''},\n",
       "    {'first': 'A', 'middle': [], 'last': 'Bahlke', 'suffix': ''},\n",
       "    {'first': 'H', 'middle': [], 'last': 'Silverman', 'suffix': ''}],\n",
       "   'year': 1947,\n",
       "   'venue': 'Am J Public Health',\n",
       "   'volume': '37',\n",
       "   'issn': '',\n",
       "   'pages': '529-537',\n",
       "   'other_ids': {'DOI': []}},\n",
       "  'BIBREF19': {'title': 'Air disinfection with ultraviolet irradiation: Its effect on illness in school-age children.',\n",
       "   'authors': [{'first': 'M', 'middle': [], 'last': 'Council', 'suffix': ''}],\n",
       "   'year': 1954,\n",
       "   'venue': \"London, Her Majesty's Stationary Office\",\n",
       "   'volume': '',\n",
       "   'issn': '',\n",
       "   'pages': None,\n",
       "   'other_ids': {'DOI': []}},\n",
       "  'BIBREF20': {'title': 'Antigenicity of hepatitis A virus after ultra-violet inactivation.',\n",
       "   'authors': [{'first': 'C-H', 'middle': [], 'last': 'Wang', 'suffix': ''},\n",
       "    {'first': 'S-Y', 'middle': [], 'last': 'Tschen', 'suffix': ''},\n",
       "    {'first': 'B', 'middle': [], 'last': 'Flehmig', 'suffix': ''}],\n",
       "   'year': 1995,\n",
       "   'venue': 'Vaccine',\n",
       "   'volume': '13',\n",
       "   'issn': '',\n",
       "   'pages': '835-840',\n",
       "   'other_ids': {'DOI': ['10.1016/0264-410X(94)00054-Q']}},\n",
       "  'BIBREF21': {'title': 'Evaulation of the effects of disinfectants on rotovirus RNA and infectivity by the polymerase chain reaction and cell-culture methods.',\n",
       "   'authors': [{'first': 'C', 'middle': [], 'last': 'Ojeh', 'suffix': ''},\n",
       "    {'first': 'T', 'middle': [], 'last': 'Cusack', 'suffix': ''},\n",
       "    {'first': 'R', 'middle': [], 'last': 'Yolken', 'suffix': ''}],\n",
       "   'year': 1995,\n",
       "   'venue': 'Molecular and Celluar Probes',\n",
       "   'volume': '9',\n",
       "   'issn': '',\n",
       "   'pages': '341-346',\n",
       "   'other_ids': {'DOI': []}},\n",
       "  'BIBREF22': {'title': 'Viruses and bacteria in the etiology of the common cold.',\n",
       "   'authors': [{'first': 'MJ', 'middle': [], 'last': 'Makela', 'suffix': ''},\n",
       "    {'first': 'T', 'middle': [], 'last': 'Puhakka', 'suffix': ''},\n",
       "    {'first': 'O', 'middle': [], 'last': 'Ruuskanen', 'suffix': ''},\n",
       "    {'first': 'M', 'middle': [], 'last': 'Leinonen', 'suffix': ''},\n",
       "    {'first': 'P', 'middle': [], 'last': 'Saikku', 'suffix': ''},\n",
       "    {'first': 'M', 'middle': [], 'last': 'Kimpimaki', 'suffix': ''},\n",
       "    {'first': 'S', 'middle': [], 'last': 'Blomqvist', 'suffix': ''},\n",
       "    {'first': 'T', 'middle': [], 'last': 'Hyypia', 'suffix': ''},\n",
       "    {'first': 'P', 'middle': [], 'last': 'Arstila', 'suffix': ''}],\n",
       "   'year': 1998,\n",
       "   'venue': 'J Clin Microbiol',\n",
       "   'volume': '36',\n",
       "   'issn': '',\n",
       "   'pages': '539-42',\n",
       "   'other_ids': {'DOI': []}},\n",
       "  'BIBREF23': {'title': 'Cell culture and PCR Determination of poliovirus inactivation by disinfectants.',\n",
       "   'authors': [{'first': 'J-F', 'middle': [], 'last': 'Ma', 'suffix': ''},\n",
       "    {'first': 'T', 'middle': [], 'last': 'Straub', 'suffix': ''},\n",
       "    {'first': 'I', 'middle': [], 'last': 'Pepper', 'suffix': ''},\n",
       "    {'first': 'C', 'middle': [], 'last': 'Gerba', 'suffix': ''}],\n",
       "   'year': 1994,\n",
       "   'venue': 'Appl Environ Microbiol',\n",
       "   'volume': '60',\n",
       "   'issn': '',\n",
       "   'pages': '4203-4206',\n",
       "   'other_ids': {'DOI': []}},\n",
       "  'BIBREF24': {'title': 'The Collison nebulizer: description, performance, and application.',\n",
       "   'authors': [{'first': 'K', 'middle': [], 'last': 'May', 'suffix': ''}],\n",
       "   'year': 1973,\n",
       "   'venue': 'J Aerosol Sci',\n",
       "   'volume': '4',\n",
       "   'issn': '',\n",
       "   'pages': None,\n",
       "   'other_ids': {'DOI': ['10.1016/0021-8502(73)90006-2']}},\n",
       "  'BIBREF25': {'title': 'Influence of relative humidity on particle size and UV sensitivity of Serratia marcescens and BCG aerosols.',\n",
       "   'authors': [{'first': 'G', 'middle': [], 'last': 'Ko', 'suffix': ''},\n",
       "    {'first': 'M', 'middle': [], 'last': 'First', 'suffix': ''},\n",
       "    {'first': 'H', 'middle': [], 'last': 'Burge', 'suffix': ''}],\n",
       "   'year': 2000,\n",
       "   'venue': 'Tuber Lung Dis',\n",
       "   'volume': '80',\n",
       "   'issn': '',\n",
       "   'pages': '217-228',\n",
       "   'other_ids': {'DOI': ['10.1054/tuld.2000.0249']}},\n",
       "  'BIBREF26': {'title': 'Amplification of rhinovirus specific nucleic acids from clinical samples using polymerase chain reaction.',\n",
       "   'authors': [{'first': 'R', 'middle': [], 'last': 'Gama', 'suffix': ''},\n",
       "    {'first': 'P', 'middle': [], 'last': 'Horsnell', 'suffix': ''},\n",
       "    {'first': 'P', 'middle': [], 'last': 'Hughes', 'suffix': ''},\n",
       "    {'first': 'C', 'middle': [], 'last': 'North', 'suffix': ''},\n",
       "    {'first': 'C', 'middle': [], 'last': 'Bruce', 'suffix': ''},\n",
       "    {'first': 'W', 'middle': [], 'last': 'Al-Nakib', 'suffix': ''},\n",
       "    {'first': 'G', 'middle': [], 'last': 'Stanway', 'suffix': ''}],\n",
       "   'year': 1989,\n",
       "   'venue': 'J Med Virol',\n",
       "   'volume': '28',\n",
       "   'issn': '',\n",
       "   'pages': '73-77',\n",
       "   'other_ids': {'DOI': []}},\n",
       "  'BIBREF27': {'title': 'Use of polymerase chain reaction for diagnosis of picornavirus infection in subjects with and without respiratory symptoms.',\n",
       "   'authors': [{'first': 'SL', 'middle': [], 'last': 'Johnston', 'suffix': ''},\n",
       "    {'first': 'G', 'middle': [], 'last': 'Sanderson', 'suffix': ''},\n",
       "    {'first': 'PK', 'middle': [], 'last': 'Pattemore', 'suffix': ''},\n",
       "    {'first': 'S', 'middle': [], 'last': 'Smith', 'suffix': ''},\n",
       "    {'first': 'PG', 'middle': [], 'last': 'Bardin', 'suffix': ''},\n",
       "    {'first': 'CB', 'middle': [], 'last': 'Bruce', 'suffix': ''},\n",
       "    {'first': 'PR', 'middle': [], 'last': 'Lambden', 'suffix': ''},\n",
       "    {'first': 'DA', 'middle': [], 'last': 'Tyrrell', 'suffix': ''},\n",
       "    {'first': 'ST', 'middle': [], 'last': 'Holgate', 'suffix': ''}],\n",
       "   'year': 1993,\n",
       "   'venue': 'J Clin Microbiol',\n",
       "   'volume': '31',\n",
       "   'issn': '',\n",
       "   'pages': '111-7',\n",
       "   'other_ids': {'DOI': []}},\n",
       "  'BIBREF28': {'title': 'Quantitative rhinovirus shedding patterns in volunteers.',\n",
       "   'authors': [{'first': 'RG',\n",
       "     'middle': [],\n",
       "     'last': 'Douglas',\n",
       "     'suffix': 'Jr'},\n",
       "    {'first': 'TR', 'middle': [], 'last': 'Cate', 'suffix': ''},\n",
       "    {'first': 'PJ', 'middle': [], 'last': 'Gerone', 'suffix': ''},\n",
       "    {'first': 'RB', 'middle': [], 'last': 'Couch', 'suffix': ''}],\n",
       "   'year': 1966,\n",
       "   'venue': 'Am Rev Respir Dis',\n",
       "   'volume': '94',\n",
       "   'issn': '',\n",
       "   'pages': '159-67',\n",
       "   'other_ids': {'DOI': []}},\n",
       "  'BIBREF29': {'title': 'Effect of route of inoculation on experimental respiratory viral disease in volunteers and evidence for airborne transmission.',\n",
       "   'authors': [{'first': 'R', 'middle': [], 'last': 'Couch', 'suffix': ''},\n",
       "    {'first': 'T', 'middle': [], 'last': 'Cate', 'suffix': ''},\n",
       "    {'first': 'R', 'middle': [], 'last': 'Douglas', 'suffix': ''},\n",
       "    {'first': 'PJ', 'middle': [], 'last': 'Gerone', 'suffix': ''},\n",
       "    {'first': 'V', 'middle': [], 'last': 'Knight', 'suffix': ''}],\n",
       "   'year': 1966,\n",
       "   'venue': 'Bacteriol Rev',\n",
       "   'volume': '30',\n",
       "   'issn': '',\n",
       "   'pages': '517-531',\n",
       "   'other_ids': {'DOI': []}},\n",
       "  'BIBREF30': {'title': 'Short-duration exposure and the transmission of rhinoviral colds.',\n",
       "   'authors': [{'first': 'DJ',\n",
       "     'middle': [],\n",
       "     'last': \"D'Alessio\",\n",
       "     'suffix': ''},\n",
       "    {'first': 'CK', 'middle': [], 'last': 'Meschievitz', 'suffix': ''},\n",
       "    {'first': 'JA', 'middle': [], 'last': 'Peterson', 'suffix': ''},\n",
       "    {'first': 'CR', 'middle': [], 'last': 'Dick', 'suffix': ''},\n",
       "    {'first': 'EC', 'middle': [], 'last': 'Dick', 'suffix': ''}],\n",
       "   'year': 1984,\n",
       "   'venue': 'J Infect Dis',\n",
       "   'volume': '150',\n",
       "   'issn': '',\n",
       "   'pages': '189-94',\n",
       "   'other_ids': {'DOI': []}},\n",
       "  'BIBREF31': {'title': 'The rhinovirus – not such an innocent?',\n",
       "   'authors': [{'first': 'N',\n",
       "     'middle': [],\n",
       "     'last': 'Papadopoulos',\n",
       "     'suffix': ''},\n",
       "    {'first': 'S', 'middle': [], 'last': 'Johnston', 'suffix': ''}],\n",
       "   'year': 2001,\n",
       "   'venue': 'QJM',\n",
       "   'volume': '94',\n",
       "   'issn': '',\n",
       "   'pages': '1-3',\n",
       "   'other_ids': {'DOI': ['10.1093/qjmed/94.1.1']}},\n",
       "  'BIBREF32': {'title': 'Activated, cytotoxic CD8(+) T lymphocytes contribute to the pathology of asthma death.',\n",
       "   'authors': [{'first': 'S',\n",
       "     'middle': [],\n",
       "     'last': \"O'Sullivan\",\n",
       "     'suffix': ''},\n",
       "    {'first': 'L', 'middle': [], 'last': 'Cormican', 'suffix': ''},\n",
       "    {'first': 'JL', 'middle': [], 'last': 'Faul', 'suffix': ''},\n",
       "    {'first': 'S', 'middle': [], 'last': 'Ichinohe', 'suffix': ''},\n",
       "    {'first': 'SL', 'middle': [], 'last': 'Johnston', 'suffix': ''},\n",
       "    {'first': 'CM', 'middle': [], 'last': 'Burke', 'suffix': ''},\n",
       "    {'first': 'LW', 'middle': [], 'last': 'Poulter', 'suffix': ''}],\n",
       "   'year': 2001,\n",
       "   'venue': 'Am J Respir Crit Care Med',\n",
       "   'volume': '164',\n",
       "   'issn': '',\n",
       "   'pages': '560-4',\n",
       "   'other_ids': {'DOI': []}},\n",
       "  'BIBREF33': {'title': 'Community study of role of viral infections in exacerbations of asthma in 9–11 year old children.',\n",
       "   'authors': [{'first': 'SL', 'middle': [], 'last': 'Johnston', 'suffix': ''},\n",
       "    {'first': 'PK', 'middle': [], 'last': 'Pattemore', 'suffix': ''},\n",
       "    {'first': 'G', 'middle': [], 'last': 'Sanderson', 'suffix': ''},\n",
       "    {'first': 'S', 'middle': [], 'last': 'Smith', 'suffix': ''},\n",
       "    {'first': 'F', 'middle': [], 'last': 'Lampe', 'suffix': ''},\n",
       "    {'first': 'L', 'middle': [], 'last': 'Josephs', 'suffix': ''},\n",
       "    {'first': 'P', 'middle': [], 'last': 'Symington', 'suffix': ''},\n",
       "    {'first': 'S', 'middle': [], 'last': \"O'Toole\", 'suffix': ''},\n",
       "    {'first': 'SH', 'middle': [], 'last': 'Myint', 'suffix': ''},\n",
       "    {'first': 'DA', 'middle': [], 'last': 'Tyrrell', 'suffix': ''}],\n",
       "   'year': 1995,\n",
       "   'venue': 'BMJ',\n",
       "   'volume': '310',\n",
       "   'issn': '',\n",
       "   'pages': '1225-9',\n",
       "   'other_ids': {'DOI': []}},\n",
       "  'BIBREF34': {'title': 'Hand-to-hand transmission of rhinovirus colds.',\n",
       "   'authors': [{'first': 'J',\n",
       "     'middle': [],\n",
       "     'last': 'Gwaltney JM',\n",
       "     'suffix': ''},\n",
       "    {'first': 'PB', 'middle': [], 'last': 'Moskalski', 'suffix': ''},\n",
       "    {'first': 'JO', 'middle': [], 'last': 'Hendley', 'suffix': ''}],\n",
       "   'year': 1978,\n",
       "   'venue': 'Ann Intern Med',\n",
       "   'volume': '88',\n",
       "   'issn': '',\n",
       "   'pages': '463-7',\n",
       "   'other_ids': {'DOI': []}},\n",
       "  'BIBREF35': {'title': 'Aerosol transmission of rhinovirus colds.',\n",
       "   'authors': [{'first': 'EC', 'middle': [], 'last': 'Dick', 'suffix': ''},\n",
       "    {'first': 'LC', 'middle': [], 'last': 'Jennings', 'suffix': ''},\n",
       "    {'first': 'KA', 'middle': [], 'last': 'Mink', 'suffix': ''},\n",
       "    {'first': 'CD', 'middle': [], 'last': 'Wartgow', 'suffix': ''},\n",
       "    {'first': 'SL', 'middle': [], 'last': 'Inhorn', 'suffix': ''}],\n",
       "   'year': 1987,\n",
       "   'venue': 'J Infect Dis',\n",
       "   'volume': '156',\n",
       "   'issn': '',\n",
       "   'pages': '442-8',\n",
       "   'other_ids': {'DOI': []}},\n",
       "  'BIBREF36': {'title': 'Near disappearance of rhinovirus along a fomite transmission chain.',\n",
       "   'authors': [{'first': 'LC', 'middle': [], 'last': 'Jennings', 'suffix': ''},\n",
       "    {'first': 'EC', 'middle': [], 'last': 'Dick', 'suffix': ''},\n",
       "    {'first': 'KA', 'middle': [], 'last': 'Mink', 'suffix': ''},\n",
       "    {'first': 'CD', 'middle': [], 'last': 'Wartgow', 'suffix': ''},\n",
       "    {'first': 'SL', 'middle': [], 'last': 'Inhorn', 'suffix': ''}],\n",
       "   'year': 1988,\n",
       "   'venue': 'J Infect Dis',\n",
       "   'volume': '158',\n",
       "   'issn': '',\n",
       "   'pages': '888-92',\n",
       "   'other_ids': {'DOI': []}}}}"
      ]
     },
     "execution_count": 11,
     "metadata": {},
     "output_type": "execute_result"
    }
   ],
   "source": [
    "import simplejson as json\n",
    "with paper.get_pmc_path().open('r') as f:\n",
    "    contents = json.load(f)\n",
    "contents"
   ]
  },
  {
   "cell_type": "code",
   "execution_count": 2,
   "metadata": {},
   "outputs": [],
   "source": [
    "jpath = 'data/CORD-19-research-challenge/custom_license/custom_license/aecbc613ebdab36753235197ffb4f35734b5ca63.json'"
   ]
  },
  {
   "cell_type": "code",
   "execution_count": 3,
   "metadata": {},
   "outputs": [],
   "source": [
    "jpaper = load_json_paper(jpath)"
   ]
  },
  {
   "cell_type": "markdown",
   "metadata": {},
   "source": [
    "## Title"
   ]
  },
  {
   "cell_type": "code",
   "execution_count": 4,
   "metadata": {},
   "outputs": [
    {
     "data": {
      "text/plain": [
       "'Clinical and Immunologic Studies in Identical Twins Discordant for Systemic Lupus Erythematosus'"
      ]
     },
     "execution_count": 4,
     "metadata": {},
     "output_type": "execute_result"
    }
   ],
   "source": [
    "jpaper.title"
   ]
  },
  {
   "cell_type": "markdown",
   "metadata": {},
   "source": [
    "## Text"
   ]
  },
  {
   "cell_type": "code",
   "execution_count": 5,
   "metadata": {},
   "outputs": [
    {
     "data": {
      "text/plain": [
       "'\\n\\nThe patient (Fo, ) was a 58 year old mentally retarded white woman, born in a rural area of southwestern Virginia.\\n\\nIn July 1967 she was referred to the University of Virginia Hospital (UVH) because of edema of the legs and facial swelling of recent onset. She admitted having arthralgias but denied having recent rash, pleurisy or hair loss. Previous medical history revealed that a systolic heart murmur had been heard in 1962. A hemogram and urinalysis at that time were normal. In June 1963 she had been admitted to her local hospital with congestive heart failure attributed to mitral insufficiency.\\n\\nLaboratory studies included a positive lupus erythematosus cell preparation, and she received a brief course of prednisone therapy. A pruritic rash of her neck and trunk was recorded in June 1964.\\n\\nFamily members included a healthy twin sister (Case 2), who was identical in appearance.\\n\\nThe sisters shared the phenotype Gm (3, 5, 13, 14) ; Inv(-l)* and common red blood cell groups (type 0, '"
      ]
     },
     "execution_count": 5,
     "metadata": {},
     "output_type": "execute_result"
    }
   ],
   "source": [
    "jpaper.text[:1000]"
   ]
  },
  {
   "cell_type": "markdown",
   "metadata": {},
   "source": [
    "## Abstract"
   ]
  },
  {
   "cell_type": "code",
   "execution_count": 6,
   "metadata": {},
   "outputs": [
    {
     "data": {
      "text/plain": [
       "'Abstract\\n\\nMiddle-aged female identical twins, one of whom had systemic lupus erythematosus (SLE), were evaluated for immunologic reactivity to previous antigenic challenges, including primary immunization with a foreign antigen, keyhole limpet hemocyanin (KLH). These two women had lived together for all of their 58 years and neither was receiving anti-inflammatory or immunosuppressive drugs at the time of these studies. Both twins demonstrated comparable 7s and 19s humoral antibody response to KLH, as well as similar viral antibody titers. However, the twin with SLE was anergic to common antigens, streptokinase-streptodornase, Trichophyton and Candida; furthermore delayed hypersensitivity to KLH did not develop after immunization. This observed discrepancy between humoral and cellular immunity in genetically similar subjects may be significant in the pathogenesis of SLE.\\n\\nReports of an increased incidence of systemic lupus erythematosus (SLE), other connective tissue diseases, and serologic abnormalities in the families of oatients with SLE have empha-\\n\\n'"
      ]
     },
     "execution_count": 6,
     "metadata": {},
     "output_type": "execute_result"
    }
   ],
   "source": [
    "jpaper.abstract"
   ]
  },
  {
   "cell_type": "markdown",
   "metadata": {},
   "source": [
    "## HTML"
   ]
  },
  {
   "cell_type": "code",
   "execution_count": 7,
   "metadata": {},
   "outputs": [
    {
     "data": {
      "application/vnd.jupyter.widget-view+json": {
       "model_id": "abecc1500d194351b9a9c9c6393cb3ef",
       "version_major": 2,
       "version_minor": 0
      },
      "text/plain": [
       "HTML(value=\"<h3>Clinical and Immunologic Studies in Identical Twins Discordant for Systemic Lupus Erythematosu…"
      ]
     },
     "metadata": {},
     "output_type": "display_data"
    }
   ],
   "source": [
    "jpaper.html"
   ]
  },
  {
   "cell_type": "markdown",
   "metadata": {},
   "source": [
    "## Abstract HTML"
   ]
  },
  {
   "cell_type": "code",
   "execution_count": 8,
   "metadata": {},
   "outputs": [
    {
     "data": {
      "application/vnd.jupyter.widget-view+json": {
       "model_id": "8a7026e4a503413e888402c9b0e3a24c",
       "version_major": 2,
       "version_minor": 0
      },
      "text/plain": [
       "HTML(value='<h3>Clinical and Immunologic Studies in Identical Twins Discordant for Systemic Lupus Erythematosu…"
      ]
     },
     "metadata": {},
     "output_type": "display_data"
    }
   ],
   "source": [
    "jpaper.abstract_html"
   ]
  },
  {
   "cell_type": "markdown",
   "metadata": {},
   "source": [
    "## Authors"
   ]
  },
  {
   "cell_type": "code",
   "execution_count": 9,
   "metadata": {},
   "outputs": [
    {
     "data": {
      "text/plain": [
       "['Carolyn M Brunner',\n",
       " 'A David',\n",
       " ' Horwitz',\n",
       " 'K Mary',\n",
       " ' Shann',\n",
       " 'Benjamin A Sturgill',\n",
       " 'S John',\n",
       " ' Davis',\n",
       " 'Virginia Charlottesville']"
      ]
     },
     "execution_count": 9,
     "metadata": {},
     "output_type": "execute_result"
    }
   ],
   "source": [
    "jpaper.authors"
   ]
  },
  {
   "cell_type": "code",
   "execution_count": 10,
   "metadata": {},
   "outputs": [],
   "source": [
    "jpaper.paper_json;"
   ]
  },
  {
   "cell_type": "code",
   "execution_count": null,
   "metadata": {},
   "outputs": [],
   "source": []
  }
 ],
 "metadata": {
  "kernelspec": {
   "display_name": "cord",
   "language": "python",
   "name": "cord"
  },
  "language_info": {
   "codemirror_mode": {
    "name": "ipython",
    "version": 3
   },
   "file_extension": ".py",
   "mimetype": "text/x-python",
   "name": "python",
   "nbconvert_exporter": "python",
   "pygments_lexer": "ipython3",
   "version": "3.7.0"
  }
 },
 "nbformat": 4,
 "nbformat_minor": 4
}
