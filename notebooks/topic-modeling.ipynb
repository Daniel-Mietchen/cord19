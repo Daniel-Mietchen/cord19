{
 "cells": [
  {
   "cell_type": "markdown",
   "metadata": {},
   "source": [
    "# Topic Modeling"
   ]
  },
  {
   "cell_type": "code",
   "execution_count": 1,
   "metadata": {},
   "outputs": [],
   "source": [
    "%load_ext autoreload\n",
    "%autoreload 2\n",
    "from cord import ResearchPapers\n",
    "import pandas as pd"
   ]
  },
  {
   "cell_type": "code",
   "execution_count": 2,
   "metadata": {},
   "outputs": [
    {
     "name": "stdout",
     "output_type": "stream",
     "text": [
      "Loading metadata from ..\\data\\CORD-19-research-challenge\n",
      "Cleaning metadata\n",
      "\n",
      "Indexing research papers\n",
      "Creating the BM25 index from the abstracts of the papers\n",
      "Use index=\"text\" if you want to index the texts of the paper instead\n",
      "Finished Indexing in 51.0 seconds\n"
     ]
    }
   ],
   "source": [
    "research_papers = ResearchPapers.load()"
   ]
  },
  {
   "cell_type": "code",
   "execution_count": null,
   "metadata": {},
   "outputs": [],
   "source": [
    "research_papers.save()"
   ]
  },
  {
   "cell_type": "code",
   "execution_count": null,
   "metadata": {},
   "outputs": [],
   "source": [
    "import gensim\n",
    "from gensim.models import LdaModel\n",
    "from gensim.models.ldamulticore import LdaMulticore\n",
    "\n",
    "dictionary = gensim.corpora.Dictionary(research_papers.index_tokens)\n",
    "corpus =  [dictionary.doc2bow(text) for text in research_papers.index_tokens]"
   ]
  },
  {
   "cell_type": "code",
   "execution_count": null,
   "metadata": {},
   "outputs": [],
   "source": [
    "%time lda_model: LdaModel = LdaMulticore(corpus, num_topics=6, passes=4)"
   ]
  },
  {
   "cell_type": "code",
   "execution_count": null,
   "metadata": {},
   "outputs": [],
   "source": [
    "def get_topic(tokens):\n",
    "    print(tokens)\n",
    "    bow = dictionary.doc2bow(tokens)\n",
    "    tp =lda_model[bow]\n",
    "    return tp\n",
    "\n",
    "get_topic(research_papers.index_tokens[0])"
   ]
  },
  {
   "cell_type": "code",
   "execution_count": null,
   "metadata": {},
   "outputs": [],
   "source": [
    "lda_model.get_topics()"
   ]
  },
  {
   "cell_type": "markdown",
   "metadata": {},
   "source": [
    "## Coherence Scores"
   ]
  },
  {
   "cell_type": "code",
   "execution_count": null,
   "metadata": {},
   "outputs": [],
   "source": [
    "from gensim.models.coherencemodel import CoherenceModel\n",
    "\n",
    "def get_lda_model(papers, num_topics=4, passes=4):\n",
    "    dictionary = gensim.corpora.Dictionary(papers.index_tokens)\n",
    "    corpus =  [dictionary.doc2bow(text) for text in papers.index_tokens]\n",
    "    lda_model: LdaModel = LdaMulticore(corpus, num_topics=num_topics, passes=4)\n",
    "    return lda_model\n",
    "\n",
    "def calculate_coherence_score(documents, dictionary, model):\n",
    "    coherence_model = CoherenceModel(model=model, texts=documents, dictionary=dictionary,coherence='c_v')\n",
    "    return coherence_model.get_coherence()\n",
    "\n",
    "def get_coherence_scores(papers, start, stop):\n",
    "    dictionary = gensim.corpora.Dictionary(papers.index_tokens)\n",
    "    corpus =  [dictionary.doc2bow(text) for text in papers.index_tokens]\n",
    "    scores = []\n",
    "    for num_topics in range(start, stop):\n",
    "        print('Calculating coherence for', num_topics, 'topics')\n",
    "        l_model = LdaMulticore(corpus, num_topics=num_topics, id2word=dictionary, passes=6)\n",
    "        coherence = calculate_coherence_score(papers.index_tokens, dictionary, l_model)\n",
    "        scores.append({'topics':num_topics, 'coherence': coherence})\n",
    "    return pd.DataFrame(scores)\n",
    "        \n",
    "\n",
    "min_topics, max_topics = 4, 15\n",
    "coherence_scores = get_coherence_scores(research_papers.since_sarscov2(), min_topics,  max_topics)\n",
    "alt.Chart(coherence_scores).mark_line().encode(\n",
    "    x = 'topics',\n",
    "    y = 'coherence'\n",
    ")"
   ]
  },
  {
   "cell_type": "code",
   "execution_count": null,
   "metadata": {},
   "outputs": [],
   "source": [
    "scores = pd.DataFrame({'score': coherence_scores, \n",
    "                       'topics': list(range(min_topics, max_topics))})\n",
    "scores"
   ]
  },
  {
   "cell_type": "code",
   "execution_count": null,
   "metadata": {},
   "outputs": [],
   "source": [
    "def get_lda_model(papers, num_topics=6, passes=4):\n",
    "    dictionary = gensim.corpora.Dictionary(papers.index_tokens)\n",
    "    corpus =  [dictionary.doc2bow(text) for text in papers.index_tokens]\n",
    "    lda_model = LdaMulticore(corpus, num_topics=num_topics, id2word=dictionary, passes=passes)\n",
    "    return lda_model"
   ]
  },
  {
   "cell_type": "code",
   "execution_count": null,
   "metadata": {},
   "outputs": [],
   "source": [
    "a = [(0, 0.2), (1, 0.1), (2, 0.4), (3, 0.05), (4, 0.25)]\n",
    "a.sort(key=lambda tup: tup[1], reverse=True)\n"
   ]
  }
 ],
 "metadata": {
  "kernelspec": {
   "display_name": "cord",
   "language": "python",
   "name": "cord"
  },
  "language_info": {
   "codemirror_mode": {
    "name": "ipython",
    "version": 3
   },
   "file_extension": ".py",
   "mimetype": "text/x-python",
   "name": "python",
   "nbconvert_exporter": "python",
   "pygments_lexer": "ipython3",
   "version": "3.7.0"
  }
 },
 "nbformat": 4,
 "nbformat_minor": 4
}
