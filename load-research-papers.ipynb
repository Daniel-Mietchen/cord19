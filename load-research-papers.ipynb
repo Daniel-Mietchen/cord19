{
 "cells": [
  {
   "cell_type": "markdown",
   "metadata": {},
   "source": [
    "# Load Research Papers"
   ]
  },
  {
   "cell_type": "code",
   "execution_count": 2,
   "metadata": {},
   "outputs": [
    {
     "name": "stderr",
     "output_type": "stream",
     "text": [
      "[nltk_data] Downloading package punkt to\n",
      "[nltk_data]     C:\\Users\\dwight\\AppData\\Roaming\\nltk_data...\n",
      "[nltk_data]   Package punkt is already up-to-date!\n"
     ]
    }
   ],
   "source": [
    "from cord.cord19 import ResearchPapers"
   ]
  },
  {
   "cell_type": "code",
   "execution_count": 2,
   "metadata": {},
   "outputs": [
    {
     "name": "stdout",
     "output_type": "stream",
     "text": [
      "Loading metadata from data\\CORD-19-research-challenge\n",
      "Cleaning metadata\n"
     ]
    },
    {
     "data": {
      "text/html": [
       "<div>\n",
       "<style scoped>\n",
       "    .dataframe tbody tr th:only-of-type {\n",
       "        vertical-align: middle;\n",
       "    }\n",
       "\n",
       "    .dataframe tbody tr th {\n",
       "        vertical-align: top;\n",
       "    }\n",
       "\n",
       "    .dataframe thead th {\n",
       "        text-align: right;\n",
       "    }\n",
       "</style>\n",
       "<table border=\"1\" class=\"dataframe\">\n",
       "  <thead>\n",
       "    <tr style=\"text-align: right;\">\n",
       "      <th></th>\n",
       "      <th>0</th>\n",
       "    </tr>\n",
       "  </thead>\n",
       "  <tbody>\n",
       "    <tr>\n",
       "      <th>Index</th>\n",
       "      <td>128</td>\n",
       "    </tr>\n",
       "    <tr>\n",
       "      <th>sha</th>\n",
       "      <td>353760</td>\n",
       "    </tr>\n",
       "    <tr>\n",
       "      <th>source_x</th>\n",
       "      <td>44596</td>\n",
       "    </tr>\n",
       "    <tr>\n",
       "      <th>title</th>\n",
       "      <td>353760</td>\n",
       "    </tr>\n",
       "    <tr>\n",
       "      <th>doi</th>\n",
       "      <td>353760</td>\n",
       "    </tr>\n",
       "    <tr>\n",
       "      <th>pmcid</th>\n",
       "      <td>353760</td>\n",
       "    </tr>\n",
       "    <tr>\n",
       "      <th>pubmed_id</th>\n",
       "      <td>353760</td>\n",
       "    </tr>\n",
       "    <tr>\n",
       "      <th>license</th>\n",
       "      <td>44964</td>\n",
       "    </tr>\n",
       "    <tr>\n",
       "      <th>abstract</th>\n",
       "      <td>353760</td>\n",
       "    </tr>\n",
       "    <tr>\n",
       "      <th>authors</th>\n",
       "      <td>353760</td>\n",
       "    </tr>\n",
       "    <tr>\n",
       "      <th>journal</th>\n",
       "      <td>283840</td>\n",
       "    </tr>\n",
       "    <tr>\n",
       "      <th>Microsoft Academic Paper ID</th>\n",
       "      <td>115040</td>\n",
       "    </tr>\n",
       "    <tr>\n",
       "      <th>WHO #Covidence</th>\n",
       "      <td>353760</td>\n",
       "    </tr>\n",
       "    <tr>\n",
       "      <th>has_full_text</th>\n",
       "      <td>44220</td>\n",
       "    </tr>\n",
       "    <tr>\n",
       "      <th>full_text_file</th>\n",
       "      <td>44412</td>\n",
       "    </tr>\n",
       "    <tr>\n",
       "      <th>published</th>\n",
       "      <td>353760</td>\n",
       "    </tr>\n",
       "  </tbody>\n",
       "</table>\n",
       "</div>"
      ],
      "text/plain": [
       "                                  0\n",
       "Index                           128\n",
       "sha                          353760\n",
       "source_x                      44596\n",
       "title                        353760\n",
       "doi                          353760\n",
       "pmcid                        353760\n",
       "pubmed_id                    353760\n",
       "license                       44964\n",
       "abstract                     353760\n",
       "authors                      353760\n",
       "journal                      283840\n",
       "Microsoft Academic Paper ID  115040\n",
       "WHO #Covidence               353760\n",
       "has_full_text                 44220\n",
       "full_text_file                44412\n",
       "published                    353760"
      ]
     },
     "execution_count": 2,
     "metadata": {},
     "output_type": "execute_result"
    }
   ],
   "source": [
    "metadata = ResearchPapers.load_metadata()\n",
    "metadata.memory_usage().to_frame()"
   ]
  },
  {
   "cell_type": "code",
   "execution_count": 3,
   "metadata": {
    "scrolled": true
   },
   "outputs": [
    {
     "name": "stdout",
     "output_type": "stream",
     "text": [
      "Loading metadata from data\\CORD-19-research-challenge\n",
      "Cleaning metadata\n",
      "Load JSON from data\\CORD-19-research-challenge\\biorxiv_medrxiv\\biorxiv_medrxiv\n"
     ]
    },
    {
     "data": {
      "application/vnd.jupyter.widget-view+json": {
       "model_id": "2a80e2e3309f455499dd55e12f6102a7",
       "version_major": 2,
       "version_minor": 0
      },
      "text/plain": [
       "HBox(children=(FloatProgress(value=0.0, max=885.0), HTML(value='')))"
      ]
     },
     "metadata": {},
     "output_type": "display_data"
    },
    {
     "name": "stdout",
     "output_type": "stream",
     "text": [
      "Load JSON from data\\CORD-19-research-challenge\\comm_use_subset\\comm_use_subset\n"
     ]
    },
    {
     "data": {
      "application/vnd.jupyter.widget-view+json": {
       "model_id": "517b728906ed41a2875894c5d61d5095",
       "version_major": 2,
       "version_minor": 0
      },
      "text/plain": [
       "HBox(children=(FloatProgress(value=0.0, max=9118.0), HTML(value='')))"
      ]
     },
     "metadata": {},
     "output_type": "display_data"
    },
    {
     "name": "stdout",
     "output_type": "stream",
     "text": [
      "\n",
      "Load JSON from data\\CORD-19-research-challenge\\noncomm_use_subset\\noncomm_use_subset\n"
     ]
    },
    {
     "data": {
      "application/vnd.jupyter.widget-view+json": {
       "model_id": "254bf2c2a5944e009fffaea2c8d0a8a4",
       "version_major": 2,
       "version_minor": 0
      },
      "text/plain": [
       "HBox(children=(FloatProgress(value=0.0, max=2353.0), HTML(value='')))"
      ]
     },
     "metadata": {},
     "output_type": "display_data"
    },
    {
     "name": "stdout",
     "output_type": "stream",
     "text": [
      "Load JSON from data\\CORD-19-research-challenge\\custom_license\\custom_license\n"
     ]
    },
    {
     "data": {
      "application/vnd.jupyter.widget-view+json": {
       "model_id": "712aa2a45af34adda0a66a279bb52976",
       "version_major": 2,
       "version_minor": 0
      },
      "text/plain": [
       "HBox(children=(FloatProgress(value=0.0, max=16959.0), HTML(value='')))"
      ]
     },
     "metadata": {},
     "output_type": "display_data"
    },
    {
     "name": "stdout",
     "output_type": "stream",
     "text": [
      "Indexing research papers\n",
      "Indexing complete\n",
      "Saving to data\\ResearchPapers.pickle\n"
     ]
    }
   ],
   "source": [
    "research_papers = ResearchPapers.from_data_dir()\n",
    "research_papers.save()"
   ]
  },
  {
   "cell_type": "code",
   "execution_count": 2,
   "metadata": {},
   "outputs": [],
   "source": [
    "research_papers = ResearchPapers.from_pickle()"
   ]
  },
  {
   "cell_type": "code",
   "execution_count": 4,
   "metadata": {},
   "outputs": [],
   "source": [
    "metadata = research_papers.metadata"
   ]
  },
  {
   "cell_type": "code",
   "execution_count": 21,
   "metadata": {},
   "outputs": [
    {
     "data": {
      "text/html": [
       "<div>\n",
       "<style scoped>\n",
       "    .dataframe tbody tr th:only-of-type {\n",
       "        vertical-align: middle;\n",
       "    }\n",
       "\n",
       "    .dataframe tbody tr th {\n",
       "        vertical-align: top;\n",
       "    }\n",
       "\n",
       "    .dataframe thead th {\n",
       "        text-align: right;\n",
       "    }\n",
       "</style>\n",
       "<table border=\"1\" class=\"dataframe\">\n",
       "  <thead>\n",
       "    <tr style=\"text-align: right;\">\n",
       "      <th></th>\n",
       "      <th>0</th>\n",
       "    </tr>\n",
       "  </thead>\n",
       "  <tbody>\n",
       "    <tr>\n",
       "      <th>Index</th>\n",
       "      <td>128</td>\n",
       "    </tr>\n",
       "    <tr>\n",
       "      <th>sha</th>\n",
       "      <td>353760</td>\n",
       "    </tr>\n",
       "    <tr>\n",
       "      <th>source_x</th>\n",
       "      <td>353760</td>\n",
       "    </tr>\n",
       "    <tr>\n",
       "      <th>title</th>\n",
       "      <td>353760</td>\n",
       "    </tr>\n",
       "    <tr>\n",
       "      <th>doi</th>\n",
       "      <td>353760</td>\n",
       "    </tr>\n",
       "    <tr>\n",
       "      <th>pmcid</th>\n",
       "      <td>353760</td>\n",
       "    </tr>\n",
       "    <tr>\n",
       "      <th>pubmed_id</th>\n",
       "      <td>353760</td>\n",
       "    </tr>\n",
       "    <tr>\n",
       "      <th>license</th>\n",
       "      <td>44964</td>\n",
       "    </tr>\n",
       "    <tr>\n",
       "      <th>abstract</th>\n",
       "      <td>353760</td>\n",
       "    </tr>\n",
       "    <tr>\n",
       "      <th>authors</th>\n",
       "      <td>353760</td>\n",
       "    </tr>\n",
       "    <tr>\n",
       "      <th>journal</th>\n",
       "      <td>283840</td>\n",
       "    </tr>\n",
       "    <tr>\n",
       "      <th>Microsoft Academic Paper ID</th>\n",
       "      <td>115040</td>\n",
       "    </tr>\n",
       "    <tr>\n",
       "      <th>WHO #Covidence</th>\n",
       "      <td>353760</td>\n",
       "    </tr>\n",
       "    <tr>\n",
       "      <th>has_full_text</th>\n",
       "      <td>44220</td>\n",
       "    </tr>\n",
       "    <tr>\n",
       "      <th>full_text_file</th>\n",
       "      <td>44412</td>\n",
       "    </tr>\n",
       "    <tr>\n",
       "      <th>published</th>\n",
       "      <td>353760</td>\n",
       "    </tr>\n",
       "    <tr>\n",
       "      <th>antivirals</th>\n",
       "      <td>353760</td>\n",
       "    </tr>\n",
       "    <tr>\n",
       "      <th>covid_related</th>\n",
       "      <td>44220</td>\n",
       "    </tr>\n",
       "  </tbody>\n",
       "</table>\n",
       "</div>"
      ],
      "text/plain": [
       "                                  0\n",
       "Index                           128\n",
       "sha                          353760\n",
       "source_x                     353760\n",
       "title                        353760\n",
       "doi                          353760\n",
       "pmcid                        353760\n",
       "pubmed_id                    353760\n",
       "license                       44964\n",
       "abstract                     353760\n",
       "authors                      353760\n",
       "journal                      283840\n",
       "Microsoft Academic Paper ID  115040\n",
       "WHO #Covidence               353760\n",
       "has_full_text                 44220\n",
       "full_text_file                44412\n",
       "published                    353760\n",
       "antivirals                   353760\n",
       "covid_related                 44220"
      ]
     },
     "execution_count": 21,
     "metadata": {},
     "output_type": "execute_result"
    }
   ],
   "source": [
    "metadata.memory_usage().to_frame()"
   ]
  },
  {
   "cell_type": "code",
   "execution_count": 6,
   "metadata": {},
   "outputs": [
    {
     "data": {
      "text/plain": [
       "PMC4808025    1\n",
       "PMC6723397    1\n",
       "PMC2956016    1\n",
       "PMC4622268    1\n",
       "PMC3407925    1\n",
       "             ..\n",
       "PMC4036763    1\n",
       "PMC238183     1\n",
       "PMC4953709    1\n",
       "PMC6962603    1\n",
       "PMC3362132    1\n",
       "Name: pmcid, Length: 23319, dtype: int64"
      ]
     },
     "execution_count": 6,
     "metadata": {},
     "output_type": "execute_result"
    }
   ],
   "source": [
    "metadata.pmcid.value_counts()"
   ]
  },
  {
   "cell_type": "code",
   "execution_count": 13,
   "metadata": {},
   "outputs": [
    {
     "data": {
      "text/html": [
       "<div>\n",
       "<style scoped>\n",
       "    .dataframe tbody tr th:only-of-type {\n",
       "        vertical-align: middle;\n",
       "    }\n",
       "\n",
       "    .dataframe tbody tr th {\n",
       "        vertical-align: top;\n",
       "    }\n",
       "\n",
       "    .dataframe thead th {\n",
       "        text-align: right;\n",
       "    }\n",
       "</style>\n",
       "<table border=\"1\" class=\"dataframe\">\n",
       "  <thead>\n",
       "    <tr style=\"text-align: right;\">\n",
       "      <th></th>\n",
       "      <th>non-null</th>\n",
       "      <th>null</th>\n",
       "      <th>unique</th>\n",
       "      <th>duplicate</th>\n",
       "      <th>most common</th>\n",
       "    </tr>\n",
       "  </thead>\n",
       "  <tbody>\n",
       "    <tr>\n",
       "      <th>covid_related</th>\n",
       "      <td>44220</td>\n",
       "      <td>0</td>\n",
       "      <td>2</td>\n",
       "      <td>44218</td>\n",
       "      <td>False</td>\n",
       "    </tr>\n",
       "    <tr>\n",
       "      <th>has_full_text</th>\n",
       "      <td>44220</td>\n",
       "      <td>0</td>\n",
       "      <td>2</td>\n",
       "      <td>44218</td>\n",
       "      <td>True</td>\n",
       "    </tr>\n",
       "    <tr>\n",
       "      <th>full_text_file</th>\n",
       "      <td>32829</td>\n",
       "      <td>11391</td>\n",
       "      <td>4</td>\n",
       "      <td>32825</td>\n",
       "      <td>custom_license</td>\n",
       "    </tr>\n",
       "    <tr>\n",
       "      <th>source_x</th>\n",
       "      <td>44220</td>\n",
       "      <td>0</td>\n",
       "      <td>7</td>\n",
       "      <td>44213</td>\n",
       "      <td>PMC</td>\n",
       "    </tr>\n",
       "    <tr>\n",
       "      <th>license</th>\n",
       "      <td>44220</td>\n",
       "      <td>0</td>\n",
       "      <td>13</td>\n",
       "      <td>44207</td>\n",
       "      <td>els-covid</td>\n",
       "    </tr>\n",
       "    <tr>\n",
       "      <th>antivirals</th>\n",
       "      <td>44220</td>\n",
       "      <td>0</td>\n",
       "      <td>105</td>\n",
       "      <td>44115</td>\n",
       "      <td></td>\n",
       "    </tr>\n",
       "    <tr>\n",
       "      <th>published</th>\n",
       "      <td>34197</td>\n",
       "      <td>10023</td>\n",
       "      <td>341</td>\n",
       "      <td>33856</td>\n",
       "      <td>2020-01</td>\n",
       "    </tr>\n",
       "    <tr>\n",
       "      <th>Microsoft Academic Paper ID</th>\n",
       "      <td>964</td>\n",
       "      <td>43256</td>\n",
       "      <td>765</td>\n",
       "      <td>199</td>\n",
       "      <td>3006645647</td>\n",
       "    </tr>\n",
       "    <tr>\n",
       "      <th>WHO #Covidence</th>\n",
       "      <td>1767</td>\n",
       "      <td>42453</td>\n",
       "      <td>1767</td>\n",
       "      <td>0</td>\n",
       "      <td>#4514</td>\n",
       "    </tr>\n",
       "    <tr>\n",
       "      <th>journal</th>\n",
       "      <td>33173</td>\n",
       "      <td>11047</td>\n",
       "      <td>3945</td>\n",
       "      <td>29228</td>\n",
       "      <td>PLoS One</td>\n",
       "    </tr>\n",
       "    <tr>\n",
       "      <th>pubmed_id</th>\n",
       "      <td>22943</td>\n",
       "      <td>21277</td>\n",
       "      <td>22943</td>\n",
       "      <td>0</td>\n",
       "      <td>22848548</td>\n",
       "    </tr>\n",
       "    <tr>\n",
       "      <th>pmcid</th>\n",
       "      <td>23319</td>\n",
       "      <td>20901</td>\n",
       "      <td>23319</td>\n",
       "      <td>0</td>\n",
       "      <td>PMC4808025</td>\n",
       "    </tr>\n",
       "    <tr>\n",
       "      <th>sha</th>\n",
       "      <td>28462</td>\n",
       "      <td>15758</td>\n",
       "      <td>28450</td>\n",
       "      <td>12</td>\n",
       "      <td>72a5640aa0c307fbe171ca7ad55d3fda48b53988</td>\n",
       "    </tr>\n",
       "    <tr>\n",
       "      <th>authors</th>\n",
       "      <td>41074</td>\n",
       "      <td>3146</td>\n",
       "      <td>39285</td>\n",
       "      <td>1789</td>\n",
       "      <td>Parry, Jane</td>\n",
       "    </tr>\n",
       "    <tr>\n",
       "      <th>title</th>\n",
       "      <td>44220</td>\n",
       "      <td>0</td>\n",
       "      <td>40737</td>\n",
       "      <td>3483</td>\n",
       "      <td></td>\n",
       "    </tr>\n",
       "    <tr>\n",
       "      <th>doi</th>\n",
       "      <td>40750</td>\n",
       "      <td>3470</td>\n",
       "      <td>40750</td>\n",
       "      <td>0</td>\n",
       "      <td>10.1016/j.meegid.2013.04.025</td>\n",
       "    </tr>\n",
       "    <tr>\n",
       "      <th>abstract</th>\n",
       "      <td>44220</td>\n",
       "      <td>0</td>\n",
       "      <td>41389</td>\n",
       "      <td>2831</td>\n",
       "      <td></td>\n",
       "    </tr>\n",
       "  </tbody>\n",
       "</table>\n",
       "</div>"
      ],
      "text/plain": [
       "                            non-null   null unique duplicate  \\\n",
       "covid_related                  44220      0      2     44218   \n",
       "has_full_text                  44220      0      2     44218   \n",
       "full_text_file                 32829  11391      4     32825   \n",
       "source_x                       44220      0      7     44213   \n",
       "license                        44220      0     13     44207   \n",
       "antivirals                     44220      0    105     44115   \n",
       "published                      34197  10023    341     33856   \n",
       "Microsoft Academic Paper ID      964  43256    765       199   \n",
       "WHO #Covidence                  1767  42453   1767         0   \n",
       "journal                        33173  11047   3945     29228   \n",
       "pubmed_id                      22943  21277  22943         0   \n",
       "pmcid                          23319  20901  23319         0   \n",
       "sha                            28462  15758  28450        12   \n",
       "authors                        41074   3146  39285      1789   \n",
       "title                          44220      0  40737      3483   \n",
       "doi                            40750   3470  40750         0   \n",
       "abstract                       44220      0  41389      2831   \n",
       "\n",
       "                                                          most common  \n",
       "covid_related                                                   False  \n",
       "has_full_text                                                    True  \n",
       "full_text_file                                         custom_license  \n",
       "source_x                                                          PMC  \n",
       "license                                                     els-covid  \n",
       "antivirals                                                             \n",
       "published                                                     2020-01  \n",
       "Microsoft Academic Paper ID                                3006645647  \n",
       "WHO #Covidence                                                  #4514  \n",
       "journal                                                      PLoS One  \n",
       "pubmed_id                                                    22848548  \n",
       "pmcid                                                      PMC4808025  \n",
       "sha                          72a5640aa0c307fbe171ca7ad55d3fda48b53988  \n",
       "authors                                                   Parry, Jane  \n",
       "title                                                                  \n",
       "doi                                      10.1016/j.meegid.2013.04.025  \n",
       "abstract                                                               "
      ]
     },
     "execution_count": 13,
     "metadata": {},
     "output_type": "execute_result"
    }
   ],
   "source": [
    "from cord.core import describe_columns\n",
    "describe_columns(metadata).sort_values('unique')"
   ]
  },
  {
   "cell_type": "code",
   "execution_count": 11,
   "metadata": {},
   "outputs": [
    {
     "data": {
      "text/plain": [
       "353888"
      ]
     },
     "execution_count": 11,
     "metadata": {},
     "output_type": "execute_result"
    }
   ],
   "source": [
    "metadata.source_x.memory_usage()"
   ]
  },
  {
   "cell_type": "code",
   "execution_count": 12,
   "metadata": {},
   "outputs": [
    {
     "data": {
      "text/plain": [
       "44724"
      ]
     },
     "execution_count": 12,
     "metadata": {},
     "output_type": "execute_result"
    }
   ],
   "source": [
    "metadata.source_x.astype('category').memory_usage()"
   ]
  },
  {
   "cell_type": "code",
   "execution_count": 19,
   "metadata": {},
   "outputs": [
    {
     "data": {
      "text/plain": [
       "0         custom_license\n",
       "1         custom_license\n",
       "2         custom_license\n",
       "3         custom_license\n",
       "4         custom_license\n",
       "              ...       \n",
       "44215    comm_use_subset\n",
       "44216     custom_license\n",
       "44217    comm_use_subset\n",
       "44218     custom_license\n",
       "44219    comm_use_subset\n",
       "Name: full_text_file, Length: 44220, dtype: object"
      ]
     },
     "execution_count": 19,
     "metadata": {},
     "output_type": "execute_result"
    }
   ],
   "source": [
    "metadata.full_text_file"
   ]
  },
  {
   "cell_type": "code",
   "execution_count": 25,
   "metadata": {},
   "outputs": [
    {
     "data": {
      "text/html": [
       "<div>\n",
       "<style scoped>\n",
       "    .dataframe tbody tr th:only-of-type {\n",
       "        vertical-align: middle;\n",
       "    }\n",
       "\n",
       "    .dataframe tbody tr th {\n",
       "        vertical-align: top;\n",
       "    }\n",
       "\n",
       "    .dataframe thead th {\n",
       "        text-align: right;\n",
       "    }\n",
       "</style>\n",
       "<table border=\"1\" class=\"dataframe\">\n",
       "  <thead>\n",
       "    <tr style=\"text-align: right;\">\n",
       "      <th></th>\n",
       "      <th>0</th>\n",
       "    </tr>\n",
       "  </thead>\n",
       "  <tbody>\n",
       "    <tr>\n",
       "      <th>Index</th>\n",
       "      <td>128</td>\n",
       "    </tr>\n",
       "    <tr>\n",
       "      <th>has_full_text</th>\n",
       "      <td>44220</td>\n",
       "    </tr>\n",
       "    <tr>\n",
       "      <th>covid_related</th>\n",
       "      <td>44220</td>\n",
       "    </tr>\n",
       "    <tr>\n",
       "      <th>full_text_file</th>\n",
       "      <td>44412</td>\n",
       "    </tr>\n",
       "    <tr>\n",
       "      <th>source_x</th>\n",
       "      <td>44596</td>\n",
       "    </tr>\n",
       "    <tr>\n",
       "      <th>license</th>\n",
       "      <td>44964</td>\n",
       "    </tr>\n",
       "    <tr>\n",
       "      <th>Microsoft Academic Paper ID</th>\n",
       "      <td>115040</td>\n",
       "    </tr>\n",
       "    <tr>\n",
       "      <th>journal</th>\n",
       "      <td>283840</td>\n",
       "    </tr>\n",
       "    <tr>\n",
       "      <th>title</th>\n",
       "      <td>353760</td>\n",
       "    </tr>\n",
       "    <tr>\n",
       "      <th>doi</th>\n",
       "      <td>353760</td>\n",
       "    </tr>\n",
       "    <tr>\n",
       "      <th>pmcid</th>\n",
       "      <td>353760</td>\n",
       "    </tr>\n",
       "    <tr>\n",
       "      <th>pubmed_id</th>\n",
       "      <td>353760</td>\n",
       "    </tr>\n",
       "    <tr>\n",
       "      <th>antivirals</th>\n",
       "      <td>353760</td>\n",
       "    </tr>\n",
       "    <tr>\n",
       "      <th>authors</th>\n",
       "      <td>353760</td>\n",
       "    </tr>\n",
       "    <tr>\n",
       "      <th>WHO #Covidence</th>\n",
       "      <td>353760</td>\n",
       "    </tr>\n",
       "    <tr>\n",
       "      <th>sha</th>\n",
       "      <td>353760</td>\n",
       "    </tr>\n",
       "    <tr>\n",
       "      <th>published</th>\n",
       "      <td>353760</td>\n",
       "    </tr>\n",
       "    <tr>\n",
       "      <th>abstract</th>\n",
       "      <td>353760</td>\n",
       "    </tr>\n",
       "  </tbody>\n",
       "</table>\n",
       "</div>"
      ],
      "text/plain": [
       "                                  0\n",
       "Index                           128\n",
       "has_full_text                 44220\n",
       "covid_related                 44220\n",
       "full_text_file                44412\n",
       "source_x                      44596\n",
       "license                       44964\n",
       "Microsoft Academic Paper ID  115040\n",
       "journal                      283840\n",
       "title                        353760\n",
       "doi                          353760\n",
       "pmcid                        353760\n",
       "pubmed_id                    353760\n",
       "antivirals                   353760\n",
       "authors                      353760\n",
       "WHO #Covidence               353760\n",
       "sha                          353760\n",
       "published                    353760\n",
       "abstract                     353760"
      ]
     },
     "execution_count": 25,
     "metadata": {},
     "output_type": "execute_result"
    }
   ],
   "source": [
    "for col in['license','source_x', 'journal', 'full_text_file', 'Microsoft Academic Paper ID']:\n",
    "    metadata[col] = metadata[col].astype('category')\n",
    "metadata.memory_usage().to_frame().sort_values(0)"
   ]
  },
  {
   "cell_type": "code",
   "execution_count": null,
   "metadata": {},
   "outputs": [],
   "source": []
  }
 ],
 "metadata": {
  "kernelspec": {
   "display_name": "cord",
   "language": "python",
   "name": "cord"
  },
  "language_info": {
   "codemirror_mode": {
    "name": "ipython",
    "version": 3
   },
   "file_extension": ".py",
   "mimetype": "text/x-python",
   "name": "python",
   "nbconvert_exporter": "python",
   "pygments_lexer": "ipython3",
   "version": "3.7.0"
  }
 },
 "nbformat": 4,
 "nbformat_minor": 4
}
