{
 "cells": [
  {
   "cell_type": "markdown",
   "metadata": {},
   "source": [
    "# Topic Modeling"
   ]
  },
  {
   "cell_type": "code",
   "execution_count": 1,
   "metadata": {},
   "outputs": [
    {
     "name": "stderr",
     "output_type": "stream",
     "text": [
      "[nltk_data] Downloading package punkt to\n",
      "[nltk_data]     C:\\Users\\dwight\\AppData\\Roaming\\nltk_data...\n",
      "[nltk_data]   Package punkt is already up-to-date!\n"
     ]
    }
   ],
   "source": [
    "%load_ext autoreload\n",
    "%autoreload 2\n",
    "from cord import ResearchPapers\n",
    "import pandas as pd"
   ]
  },
  {
   "cell_type": "code",
   "execution_count": 9,
   "metadata": {},
   "outputs": [
    {
     "name": "stdout",
     "output_type": "stream",
     "text": [
      "Loading metadata from data\\CORD-19-research-challenge\n",
      "Cleaning metadata\n",
      "Fixing dates that are a list e.g. \"['2020-02-05', '2020-02']\"\n",
      "Fixing dates with the seasons e.g. \"2014 Autumn\"\n",
      "Fixing dates like \"2016 Nov 9 Jan-Feb\"\n",
      "Fixing dates like \"2012 Jan-Mar\"\n",
      "Converting dates like \"2020 Apr 13\"\n",
      "Converting Dates like \"2020 Apr\"\n",
      "Converting dates like \"2020\"\n",
      "Converting Dates like \"2020-01-21\"\n",
      "Indexing research papers\n",
      "Finished Indexing in 61.0 seconds\n",
      "Getting gensim LDA topic model\n",
      "Assigning LDA topics\n"
     ]
    }
   ],
   "source": [
    "research_papers = ResearchPapers.from_data_dir().nlp()"
   ]
  },
  {
   "cell_type": "code",
   "execution_count": 6,
   "metadata": {},
   "outputs": [
    {
     "data": {
      "text/plain": [
       "[0, 0, 0.94046354, 0.055671223, 0, 0]"
      ]
     },
     "execution_count": 6,
     "metadata": {},
     "output_type": "execute_result"
    }
   ],
   "source": [
    "research_papers.metadata.loc[0, 'topic_vector']"
   ]
  },
  {
   "cell_type": "code",
   "execution_count": 7,
   "metadata": {},
   "outputs": [
    {
     "name": "stdout",
     "output_type": "stream",
     "text": [
      "Saving to data\\ResearchPapers.pickle\n"
     ]
    }
   ],
   "source": [
    "research_papers.save()"
   ]
  },
  {
   "cell_type": "code",
   "execution_count": 3,
   "metadata": {},
   "outputs": [],
   "source": [
    "import gensim\n",
    "from gensim.models import LdaModel\n",
    "from gensim.models.ldamulticore import LdaMulticore\n",
    "\n",
    "dictionary = gensim.corpora.Dictionary(research_papers.index_tokens)\n",
    "corpus =  [dictionary.doc2bow(text) for text in research_papers.index_tokens]"
   ]
  },
  {
   "cell_type": "code",
   "execution_count": 4,
   "metadata": {},
   "outputs": [
    {
     "name": "stdout",
     "output_type": "stream",
     "text": [
      "Wall time: 31.8 s\n"
     ]
    }
   ],
   "source": [
    "%time lda_model: LdaModel = LdaMulticore(corpus, num_topics=6, passes=4)"
   ]
  },
  {
   "cell_type": "code",
   "execution_count": 8,
   "metadata": {},
   "outputs": [
    {
     "name": "stdout",
     "output_type": "stream",
     "text": [
      "['etiologic', 'basis', 'vast', 'majority', 'cases', 'congenital', 'heart', 'disease', 'remains', 'largely', 'undefined', 'viruses', 'considered', 'likely', 'candidates', 'since', 'recognition', 'association', 'intrauterine', 'rubella', 'congenital', 'heart', 'disease', 'although', 'pathogenesis', 'cardiovascular', 'defects', 'poorly', 'understood', 'information', 'gained', 'study', 'congenital', 'rubella', 'syndrome', 'suggests', 'mechanisms', 'focal', 'endothelial', 'cell', 'damage', 'resulting', 'obliteration', 'vascular', 'supply', 'decreased', 'growth', 'rate', 'shortened', 'survival', 'time', 'certain', 'cells', 'disturbed', 'dna', 'replication', 'cells', 'whose', 'chromosomes', 'damaged', 'secondary', 'effects', 'virus', 'replication', 'may', 'operative', 'production', 'defects', 'developing', 'fetus', 'addition', 'rubella', 'suggestive', 'conclusive', 'evidence', 'coxsackie', 'b3', 'b4', 'virus', 'infections', 'pregnancy', 'result', 'birth', 'infants', 'variety', 'types', 'congenital', 'heart', 'lesions', 'intrauterine', 'mumps', 'virus', 'infection', 'may', 'etiologically', 'related', 'postnatal', 'development', 'endocardial', 'fibroelastosis', 'efe', 'although', 'number', 'viruses', 'potential', 'etiologic', 'agents', 'congenital', 'heart', 'disease', 'current', 'status', 'information', 'inadequate', 'allow', 'even', 'suggestive', 'associations', 'made', 'profitable', 'areas', 'future', 'investigation', 'appear', 'epidemiology', 'congenital', 'heart', 'disease', 'prospective', 'studies', 'association', 'maternal', 'viral', 'infection', 'abnormal', 'offspring', 'in-depth', 'virologic', 'investigation', 'infant', 'cardiac', 'defect', 'development', 'experimental', 'animal', 'models', 'congenital', 'heart', 'disease', 'successful', 'control', 'virus-induced', 'congenital', 'heart', 'disease', 'depend', 'results', 'investigations', 'development', 'vaccines', 'identified', 'causative', 'viruses', 'safe', 'effective', 'antiviral', 'chemotherapy', 'woman', 'early', 'gestation', 'infected', 'known', 'teratogenic', 'agent']\n"
     ]
    },
    {
     "data": {
      "text/plain": [
       "[(0, 0.56830376), (1, 0.018690336), (2, 0.3718453), (3, 0.03921325)]"
      ]
     },
     "execution_count": 8,
     "metadata": {},
     "output_type": "execute_result"
    }
   ],
   "source": [
    "def get_topic(tokens):\n",
    "    print(tokens)\n",
    "    bow = dictionary.doc2bow(tokens)\n",
    "    tp =lda_model[bow]\n",
    "    return tp\n",
    "\n",
    "get_topic(research_papers.index_tokens[0])"
   ]
  },
  {
   "cell_type": "code",
   "execution_count": 10,
   "metadata": {},
   "outputs": [
    {
     "data": {
      "text/plain": [
       "array([[5.1721145e-05, 6.2091008e-04, 3.3983318e-04, ..., 2.3220653e-07,\n",
       "        2.0875653e-07, 2.1233468e-07],\n",
       "       [1.4734658e-04, 6.6963915e-04, 4.7306938e-04, ..., 3.2604504e-07,\n",
       "        2.6012282e-07, 2.7325012e-07],\n",
       "       [3.4159351e-05, 1.0488856e-03, 3.2214075e-04, ..., 1.6734226e-07,\n",
       "        1.5442777e-07, 1.5418497e-07],\n",
       "       [4.6838486e-05, 5.3613802e-04, 2.3463421e-04, ..., 4.4890251e-07,\n",
       "        4.4080508e-07, 4.4185899e-07],\n",
       "       [3.7095244e-05, 9.1707672e-04, 3.0397286e-04, ..., 4.3560881e-06,\n",
       "        1.2895676e-06, 1.2213334e-06],\n",
       "       [8.1452235e-05, 6.7815394e-04, 3.5938044e-04, ..., 2.3951617e-07,\n",
       "        2.1858223e-07, 2.1954524e-07]], dtype=float32)"
      ]
     },
     "execution_count": 10,
     "metadata": {},
     "output_type": "execute_result"
    }
   ],
   "source": [
    "lda_model.get_topics()"
   ]
  },
  {
   "cell_type": "markdown",
   "metadata": {},
   "source": [
    "## Coherence Scores"
   ]
  },
  {
   "cell_type": "code",
   "execution_count": 13,
   "metadata": {},
   "outputs": [
    {
     "name": "stdout",
     "output_type": "stream",
     "text": [
      "Calculating coherence for 4 topics\n",
      "Calculating coherence for 5 topics\n",
      "Calculating coherence for 6 topics\n",
      "Calculating coherence for 7 topics\n",
      "Calculating coherence for 8 topics\n",
      "Calculating coherence for 9 topics\n",
      "Calculating coherence for 10 topics\n",
      "Calculating coherence for 11 topics\n",
      "Calculating coherence for 12 topics\n",
      "Calculating coherence for 13 topics\n",
      "Calculating coherence for 14 topics\n"
     ]
    },
    {
     "data": {
      "text/html": [
       "\n",
       "<div id=\"altair-viz-0c1019d8b2384be68bfa3fd8a62228e4\"></div>\n",
       "<script type=\"text/javascript\">\n",
       "  (function(spec, embedOpt){\n",
       "    const outputDiv = document.getElementById(\"altair-viz-0c1019d8b2384be68bfa3fd8a62228e4\");\n",
       "    const paths = {\n",
       "      \"vega\": \"https://cdn.jsdelivr.net/npm//vega@5?noext\",\n",
       "      \"vega-lib\": \"https://cdn.jsdelivr.net/npm//vega-lib?noext\",\n",
       "      \"vega-lite\": \"https://cdn.jsdelivr.net/npm//vega-lite@4.0.2?noext\",\n",
       "      \"vega-embed\": \"https://cdn.jsdelivr.net/npm//vega-embed@6?noext\",\n",
       "    };\n",
       "\n",
       "    function loadScript(lib) {\n",
       "      return new Promise(function(resolve, reject) {\n",
       "        var s = document.createElement('script');\n",
       "        s.src = paths[lib];\n",
       "        s.async = true;\n",
       "        s.onload = () => resolve(paths[lib]);\n",
       "        s.onerror = () => reject(`Error loading script: ${paths[lib]}`);\n",
       "        document.getElementsByTagName(\"head\")[0].appendChild(s);\n",
       "      });\n",
       "    }\n",
       "\n",
       "    function showError(err) {\n",
       "      outputDiv.innerHTML = `<div class=\"error\" style=\"color:red;\">${err}</div>`;\n",
       "      throw err;\n",
       "    }\n",
       "\n",
       "    function displayChart(vegaEmbed) {\n",
       "      vegaEmbed(outputDiv, spec, embedOpt)\n",
       "        .catch(err => showError(`Javascript Error: ${err.message}<br>This usually means there's a typo in your chart specification. See the javascript console for the full traceback.`));\n",
       "    }\n",
       "\n",
       "    if(typeof define === \"function\" && define.amd) {\n",
       "      requirejs.config({paths});\n",
       "      require([\"vega-embed\"], displayChart, err => showError(`Error loading script: ${err.message}`));\n",
       "    } else if (typeof vegaEmbed === \"function\") {\n",
       "      displayChart(vegaEmbed);\n",
       "    } else {\n",
       "      loadScript(\"vega\")\n",
       "        .then(() => loadScript(\"vega-lite\"))\n",
       "        .then(() => loadScript(\"vega-embed\"))\n",
       "        .catch(showError)\n",
       "        .then(() => displayChart(vegaEmbed));\n",
       "    }\n",
       "  })({\"config\": {\"view\": {\"continuousWidth\": 400, \"continuousHeight\": 300}}, \"data\": {\"name\": \"data-e27f23c20d5ab2b726d9c9b0ef7dc531\"}, \"mark\": \"line\", \"encoding\": {\"x\": {\"type\": \"quantitative\", \"field\": \"topics\"}, \"y\": {\"type\": \"quantitative\", \"field\": \"coherence\"}}, \"$schema\": \"https://vega.github.io/schema/vega-lite/v4.0.2.json\", \"datasets\": {\"data-e27f23c20d5ab2b726d9c9b0ef7dc531\": [{\"topics\": 4, \"coherence\": 0.4933488039999181}, {\"topics\": 5, \"coherence\": 0.4570215499648861}, {\"topics\": 6, \"coherence\": 0.5039847509209487}, {\"topics\": 7, \"coherence\": 0.4397919626999913}, {\"topics\": 8, \"coherence\": 0.49037418389291715}, {\"topics\": 9, \"coherence\": 0.46604737634025106}, {\"topics\": 10, \"coherence\": 0.45323089007878065}, {\"topics\": 11, \"coherence\": 0.4729258271273338}, {\"topics\": 12, \"coherence\": 0.47520898339424084}, {\"topics\": 13, \"coherence\": 0.4470867437281594}, {\"topics\": 14, \"coherence\": 0.4546773141805967}]}}, {\"mode\": \"vega-lite\"});\n",
       "</script>"
      ],
      "text/plain": [
       "alt.Chart(...)"
      ]
     },
     "execution_count": 13,
     "metadata": {},
     "output_type": "execute_result"
    }
   ],
   "source": [
    "from gensim.models.coherencemodel import CoherenceModel\n",
    "\n",
    "def get_lda_model(papers, num_topics=4, passes=4):\n",
    "    dictionary = gensim.corpora.Dictionary(papers.index_tokens)\n",
    "    corpus =  [dictionary.doc2bow(text) for text in papers.index_tokens]\n",
    "    lda_model: LdaModel = LdaMulticore(corpus, num_topics=num_topics, passes=4)\n",
    "    return lda_model\n",
    "\n",
    "def calculate_coherence_score(documents, dictionary, model):\n",
    "    coherence_model = CoherenceModel(model=model, texts=documents, dictionary=dictionary,coherence='c_v')\n",
    "    return coherence_model.get_coherence()\n",
    "\n",
    "def get_coherence_scores(papers, start, stop):\n",
    "    dictionary = gensim.corpora.Dictionary(papers.index_tokens)\n",
    "    corpus =  [dictionary.doc2bow(text) for text in papers.index_tokens]\n",
    "    scores = []\n",
    "    for num_topics in range(start, stop):\n",
    "        print('Calculating coherence for', num_topics, 'topics')\n",
    "        l_model = LdaMulticore(corpus, num_topics=num_topics, id2word=dictionary, passes=6)\n",
    "        coherence = calculate_coherence_score(papers.index_tokens, dictionary, l_model)\n",
    "        scores.append({'topics':num_topics, 'coherence': coherence})\n",
    "    return pd.DataFrame(scores)\n",
    "        \n",
    "\n",
    "min_topics, max_topics = 4, 15\n",
    "coherence_scores = get_coherence_scores(research_papers.since_sarscov2(), min_topics,  max_topics)\n",
    "alt.Chart(coherence_scores).mark_line().encode(\n",
    "    x = 'topics',\n",
    "    y = 'coherence'\n",
    ")"
   ]
  },
  {
   "cell_type": "code",
   "execution_count": 8,
   "metadata": {},
   "outputs": [
    {
     "data": {
      "text/html": [
       "<div>\n",
       "<style scoped>\n",
       "    .dataframe tbody tr th:only-of-type {\n",
       "        vertical-align: middle;\n",
       "    }\n",
       "\n",
       "    .dataframe tbody tr th {\n",
       "        vertical-align: top;\n",
       "    }\n",
       "\n",
       "    .dataframe thead th {\n",
       "        text-align: right;\n",
       "    }\n",
       "</style>\n",
       "<table border=\"1\" class=\"dataframe\">\n",
       "  <thead>\n",
       "    <tr style=\"text-align: right;\">\n",
       "      <th></th>\n",
       "      <th>score</th>\n",
       "      <th>topics</th>\n",
       "    </tr>\n",
       "  </thead>\n",
       "  <tbody>\n",
       "    <tr>\n",
       "      <th>0</th>\n",
       "      <td>0.439198</td>\n",
       "      <td>3</td>\n",
       "    </tr>\n",
       "    <tr>\n",
       "      <th>1</th>\n",
       "      <td>0.465439</td>\n",
       "      <td>4</td>\n",
       "    </tr>\n",
       "    <tr>\n",
       "      <th>2</th>\n",
       "      <td>0.454378</td>\n",
       "      <td>5</td>\n",
       "    </tr>\n",
       "    <tr>\n",
       "      <th>3</th>\n",
       "      <td>0.438360</td>\n",
       "      <td>6</td>\n",
       "    </tr>\n",
       "    <tr>\n",
       "      <th>4</th>\n",
       "      <td>0.437134</td>\n",
       "      <td>7</td>\n",
       "    </tr>\n",
       "    <tr>\n",
       "      <th>5</th>\n",
       "      <td>0.466303</td>\n",
       "      <td>8</td>\n",
       "    </tr>\n",
       "    <tr>\n",
       "      <th>6</th>\n",
       "      <td>0.468629</td>\n",
       "      <td>9</td>\n",
       "    </tr>\n",
       "    <tr>\n",
       "      <th>7</th>\n",
       "      <td>0.454754</td>\n",
       "      <td>10</td>\n",
       "    </tr>\n",
       "    <tr>\n",
       "      <th>8</th>\n",
       "      <td>0.460549</td>\n",
       "      <td>11</td>\n",
       "    </tr>\n",
       "  </tbody>\n",
       "</table>\n",
       "</div>"
      ],
      "text/plain": [
       "      score  topics\n",
       "0  0.439198       3\n",
       "1  0.465439       4\n",
       "2  0.454378       5\n",
       "3  0.438360       6\n",
       "4  0.437134       7\n",
       "5  0.466303       8\n",
       "6  0.468629       9\n",
       "7  0.454754      10\n",
       "8  0.460549      11"
      ]
     },
     "execution_count": 8,
     "metadata": {},
     "output_type": "execute_result"
    }
   ],
   "source": [
    "scores = pd.DataFrame({'score': coherence_scores, \n",
    "                       'topics': list(range(min_topics, max_topics))})\n",
    "scores"
   ]
  },
  {
   "cell_type": "code",
   "execution_count": 9,
   "metadata": {},
   "outputs": [
    {
     "data": {
      "text/html": [
       "\n",
       "<div id=\"altair-viz-664f91d2d92941efa03409a65458f72d\"></div>\n",
       "<script type=\"text/javascript\">\n",
       "  (function(spec, embedOpt){\n",
       "    const outputDiv = document.getElementById(\"altair-viz-664f91d2d92941efa03409a65458f72d\");\n",
       "    const paths = {\n",
       "      \"vega\": \"https://cdn.jsdelivr.net/npm//vega@5?noext\",\n",
       "      \"vega-lib\": \"https://cdn.jsdelivr.net/npm//vega-lib?noext\",\n",
       "      \"vega-lite\": \"https://cdn.jsdelivr.net/npm//vega-lite@4.0.2?noext\",\n",
       "      \"vega-embed\": \"https://cdn.jsdelivr.net/npm//vega-embed@6?noext\",\n",
       "    };\n",
       "\n",
       "    function loadScript(lib) {\n",
       "      return new Promise(function(resolve, reject) {\n",
       "        var s = document.createElement('script');\n",
       "        s.src = paths[lib];\n",
       "        s.async = true;\n",
       "        s.onload = () => resolve(paths[lib]);\n",
       "        s.onerror = () => reject(`Error loading script: ${paths[lib]}`);\n",
       "        document.getElementsByTagName(\"head\")[0].appendChild(s);\n",
       "      });\n",
       "    }\n",
       "\n",
       "    function showError(err) {\n",
       "      outputDiv.innerHTML = `<div class=\"error\" style=\"color:red;\">${err}</div>`;\n",
       "      throw err;\n",
       "    }\n",
       "\n",
       "    function displayChart(vegaEmbed) {\n",
       "      vegaEmbed(outputDiv, spec, embedOpt)\n",
       "        .catch(err => showError(`Javascript Error: ${err.message}<br>This usually means there's a typo in your chart specification. See the javascript console for the full traceback.`));\n",
       "    }\n",
       "\n",
       "    if(typeof define === \"function\" && define.amd) {\n",
       "      requirejs.config({paths});\n",
       "      require([\"vega-embed\"], displayChart, err => showError(`Error loading script: ${err.message}`));\n",
       "    } else if (typeof vegaEmbed === \"function\") {\n",
       "      displayChart(vegaEmbed);\n",
       "    } else {\n",
       "      loadScript(\"vega\")\n",
       "        .then(() => loadScript(\"vega-lite\"))\n",
       "        .then(() => loadScript(\"vega-embed\"))\n",
       "        .catch(showError)\n",
       "        .then(() => displayChart(vegaEmbed));\n",
       "    }\n",
       "  })({\"config\": {\"view\": {\"continuousWidth\": 400, \"continuousHeight\": 300}}, \"data\": {\"name\": \"data-1b587ce72e5038b0cb1c90e950d0faa4\"}, \"mark\": \"line\", \"encoding\": {\"x\": {\"type\": \"quantitative\", \"field\": \"topics\"}, \"y\": {\"type\": \"quantitative\", \"field\": \"score\"}}, \"$schema\": \"https://vega.github.io/schema/vega-lite/v4.0.2.json\", \"datasets\": {\"data-1b587ce72e5038b0cb1c90e950d0faa4\": [{\"score\": 0.4391981057647054, \"topics\": 3}, {\"score\": 0.46543887937337014, \"topics\": 4}, {\"score\": 0.45437754830668825, \"topics\": 5}, {\"score\": 0.43836023439306954, \"topics\": 6}, {\"score\": 0.437133999057243, \"topics\": 7}, {\"score\": 0.46630347352414064, \"topics\": 8}, {\"score\": 0.46862851367862857, \"topics\": 9}, {\"score\": 0.4547539435197641, \"topics\": 10}, {\"score\": 0.46054912953098054, \"topics\": 11}]}}, {\"mode\": \"vega-lite\"});\n",
       "</script>"
      ],
      "text/plain": [
       "alt.Chart(...)"
      ]
     },
     "execution_count": 9,
     "metadata": {},
     "output_type": "execute_result"
    }
   ],
   "source": [
    "def get_lda_model(papers, num_topics=6, passes=4):\n",
    "    dictionary = gensim.corpora.Dictionary(papers.index_tokens)\n",
    "    corpus =  [dictionary.doc2bow(text) for text in papers.index_tokens]\n",
    "    lda_model = LdaMulticore(corpus, num_topics=num_topics, id2word=dictionary, passes=passes)\n",
    "    return lda_model"
   ]
  },
  {
   "cell_type": "code",
   "execution_count": 18,
   "metadata": {},
   "outputs": [],
   "source": [
    "a = [(0, 0.2), (1, 0.1), (2, 0.4), (3, 0.05), (4, 0.25)]\n",
    "a.sort(key=lambda tup: tup[1], reverse=True)\n"
   ]
  },
  {
   "cell_type": "code",
   "execution_count": null,
   "metadata": {},
   "outputs": [],
   "source": []
  }
 ],
 "metadata": {
  "kernelspec": {
   "display_name": "cord",
   "language": "python",
   "name": "cord"
  },
  "language_info": {
   "codemirror_mode": {
    "name": "ipython",
    "version": 3
   },
   "file_extension": ".py",
   "mimetype": "text/x-python",
   "name": "python",
   "nbconvert_exporter": "python",
   "pygments_lexer": "ipython3",
   "version": "3.7.0"
  }
 },
 "nbformat": 4,
 "nbformat_minor": 4
}
