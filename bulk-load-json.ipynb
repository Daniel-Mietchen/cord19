{
 "cells": [
  {
   "cell_type": "markdown",
   "metadata": {},
   "source": [
    "# Bulk Load Json"
   ]
  },
  {
   "cell_type": "code",
   "execution_count": 1,
   "metadata": {},
   "outputs": [
    {
     "name": "stderr",
     "output_type": "stream",
     "text": [
      "[nltk_data] Downloading package punkt to\n",
      "[nltk_data]     C:\\Users\\dwight\\AppData\\Roaming\\nltk_data...\n",
      "[nltk_data]   Package punkt is already up-to-date!\n"
     ]
    }
   ],
   "source": [
    "%load_ext autoreload\n",
    "%autoreload 2\n",
    "from cord import *\n",
    "from cord.core import *\n",
    "from cord.text import preprocess"
   ]
  },
  {
   "cell_type": "markdown",
   "metadata": {},
   "source": [
    "# JSON Catalog"
   ]
  },
  {
   "cell_type": "code",
   "execution_count": 19,
   "metadata": {},
   "outputs": [
    {
     "data": {
      "application/vnd.jupyter.widget-view+json": {
       "model_id": "c84114dfc0b7415fad55531700baaadb",
       "version_major": 2,
       "version_minor": 0
      },
      "text/plain": [
       "HBox(children=(FloatProgress(value=0.0, max=9118.0), HTML(value='')))"
      ]
     },
     "metadata": {},
     "output_type": "display_data"
    },
    {
     "name": "stdout",
     "output_type": "stream",
     "text": [
      "Creating index tokens\n",
      "Wall time: 3min 51s\n",
      "Saving to data\\JsonCatalog_comm_use_subset.pickle\n"
     ]
    },
    {
     "data": {
      "application/vnd.jupyter.widget-view+json": {
       "model_id": "e886a92defce44eeaad97b84d7a40735",
       "version_major": 2,
       "version_minor": 0
      },
      "text/plain": [
       "HBox(children=(FloatProgress(value=0.0, max=885.0), HTML(value='')))"
      ]
     },
     "metadata": {},
     "output_type": "display_data"
    },
    {
     "name": "stdout",
     "output_type": "stream",
     "text": [
      "Creating index tokens\n",
      "Wall time: 13.1 s\n",
      "Saving to data\\JsonCatalog_biorxiv_medrxiv.pickle\n"
     ]
    },
    {
     "data": {
      "application/vnd.jupyter.widget-view+json": {
       "model_id": "fc9a8894efb841558b906416b13c3370",
       "version_major": 2,
       "version_minor": 0
      },
      "text/plain": [
       "HBox(children=(FloatProgress(value=0.0, max=2353.0), HTML(value='')))"
      ]
     },
     "metadata": {},
     "output_type": "display_data"
    },
    {
     "name": "stdout",
     "output_type": "stream",
     "text": [
      "Creating index tokens\n",
      "Wall time: 46.2 s\n",
      "Saving to data\\JsonCatalog_noncomm_use_subset.pickle\n"
     ]
    },
    {
     "data": {
      "application/vnd.jupyter.widget-view+json": {
       "model_id": "425d94a39612476d892798b3fb54f3aa",
       "version_major": 2,
       "version_minor": 0
      },
      "text/plain": [
       "HBox(children=(FloatProgress(value=0.0, max=16959.0), HTML(value='')))"
      ]
     },
     "metadata": {},
     "output_type": "display_data"
    },
    {
     "name": "stdout",
     "output_type": "stream",
     "text": [
      "Creating index tokens\n",
      "Wall time: 7min 22s\n",
      "Saving to data\\JsonCatalog_custom_license.pickle\n"
     ]
    }
   ],
   "source": [
    "for subset in [COMM_USE_SUBSET, BIORXIV_MEDRXIV, NONCOMM_USE_SUBSET, CUSTOM_LICENSE]:\n",
    "    json_catalog = JCatalog.load(subset)\n",
    "    %time json_catalog.nlp()\n",
    "    json_catalog.save(subset)"
   ]
  },
  {
   "cell_type": "code",
   "execution_count": 20,
   "metadata": {},
   "outputs": [
    {
     "name": "stdout",
     "output_type": "stream",
     "text": [
      "Loading catalog biorxiv_medrxiv\n"
     ]
    }
   ],
   "source": [
    "#for catalog in JSON_CATALOGS:\n",
    "#    json_catalog = JCatalog.from_pickle(catalog)\n",
    "#json_catalog = JCatalog.load(BIORXIV_MEDRXIV)\n",
    "#json_catalog.nlp()\n",
    "#json_catalog.save(BIORXIV_MEDRXIV)\n",
    "json_catalog = JCatalog.from_pickle(BIORXIV_MEDRXIV)"
   ]
  },
  {
   "cell_type": "markdown",
   "metadata": {},
   "source": [
    "## Research Papers"
   ]
  },
  {
   "cell_type": "code",
   "execution_count": 64,
   "metadata": {},
   "outputs": [
    {
     "name": "stdout",
     "output_type": "stream",
     "text": [
      "Loading metadata from data\\CORD-19-research-challenge\n",
      "Cleaning metadata\n",
      "Fixing dates that are a list e.g. \"['2020-02-05', '2020-02']\"\n",
      "Fixing dates with the seasons e.g. \"2014 Autumn\"\n",
      "Fixing dates like \"2016 Nov 9 Jan-Feb\"\n",
      "Fixing dates like \"2012 Jan-Mar\"\n",
      "Converting dates like \"2020 Apr 13\"\n",
      "Converting Dates like \"2020 Apr\"\n",
      "Converting dates like \"2020\"\n",
      "Converting Dates like \"2020-01-21\"\n",
      "Indexing research papers\n",
      "Finished Indexing in 80.0 seconds\n"
     ]
    }
   ],
   "source": [
    "research_papers = ResearchPapers.from_data_dir()\n"
   ]
  },
  {
   "cell_type": "code",
   "execution_count": 6,
   "metadata": {},
   "outputs": [
    {
     "data": {
      "text/plain": [
       "0      [vp3, vp0, processed, vp2, vp4, virus, assembl...\n",
       "1      [introduction, 2019-ncov, epidemic, spread, ac...\n",
       "2      [introduction, infectious, bronchitis, ib, cau...\n",
       "3      [introduction, nipah, infectious, negative-sen...\n",
       "4      [introduction, december, cluster, patients, pn...\n",
       "                             ...                        \n",
       "880    [regulates, innate, immune, response, clinical...\n",
       "881    [introduction, excess, production, oligomeriza...\n",
       "882    [cc-by-nc-nd, international, license, made, av...\n",
       "883    [introduction, infected, eg, wearing, mask, wa...\n",
       "884    [virus-based, host-based, treatment, options, ...\n",
       "Name: index_tokens, Length: 885, dtype: object"
      ]
     },
     "execution_count": 6,
     "metadata": {},
     "output_type": "execute_result"
    }
   ],
   "source": [
    "json_catalog.papers.index_tokens"
   ]
  },
  {
   "cell_type": "code",
   "execution_count": 31,
   "metadata": {},
   "outputs": [],
   "source": [
    "metadata = research_papers.metadata"
   ]
  },
  {
   "cell_type": "code",
   "execution_count": 8,
   "metadata": {},
   "outputs": [],
   "source": [
    "metadata = research_papers.metadata\n",
    "multiple_papers = metadata.sha.fillna('').str.contains(';')\n",
    "no_papers = metadata.sha.isnull()\n",
    "one_paper = ~(no_papers) & ~(multiple_papers)\n",
    "metadata = metadata.loc[one_paper]"
   ]
  },
  {
   "cell_type": "code",
   "execution_count": 33,
   "metadata": {},
   "outputs": [
    {
     "data": {
      "text/plain": [
       "39181    [next-generation, sequencing, increasingly, us...\n",
       "39182    [emerging, disease, one, infectious, epidemic,...\n",
       "39183    [germline, variation, immunoglobulin, gene, ig...\n",
       "39184    [deep, sequencing, clinical, samples, establis...\n",
       "39185    [backgrounddeveloping, methods, reconstruct, t...\n",
       "                               ...                        \n",
       "40226    [governments, around, world, must, rapidly, mo...\n",
       "40227    [2019-novel-coronavirus, covid-19, affected, c...\n",
       "40228    [object, meteorological, parameters, important...\n",
       "40229    [background, monitoring, time-varying, reprodu...\n",
       "40230    [report, temporal, patterns, viral, shedding, ...\n",
       "Name: index_tokens, Length: 1020, dtype: object"
      ]
     },
     "execution_count": 33,
     "metadata": {},
     "output_type": "execute_result"
    }
   ],
   "source": [
    "metadata.index_tokens"
   ]
  },
  {
   "cell_type": "code",
   "execution_count": 18,
   "metadata": {},
   "outputs": [],
   "source": [
    "metadata_tokens = metadata.merge(json_catalog.papers, how='left', on='sha').index_tokens"
   ]
  },
  {
   "cell_type": "code",
   "execution_count": 35,
   "metadata": {},
   "outputs": [
    {
     "data": {
      "text/plain": [
       "0      [vp3, vp0, processed, vp2, vp4, virus, assembl...\n",
       "1      [introduction, 2019-ncov, epidemic, spread, ac...\n",
       "2      [introduction, infectious, bronchitis, ib, cau...\n",
       "3      [introduction, nipah, infectious, negative-sen...\n",
       "4      [introduction, december, cluster, patients, pn...\n",
       "                             ...                        \n",
       "880    [regulates, innate, immune, response, clinical...\n",
       "881    [introduction, excess, production, oligomeriza...\n",
       "882    [cc-by-nc-nd, international, license, made, av...\n",
       "883    [introduction, infected, eg, wearing, mask, wa...\n",
       "884    [virus-based, host-based, treatment, options, ...\n",
       "Name: index_tokens, Length: 885, dtype: object"
      ]
     },
     "execution_count": 35,
     "metadata": {},
     "output_type": "execute_result"
    }
   ],
   "source": [
    "json_catalog.papers.index_tokens"
   ]
  },
  {
   "cell_type": "code",
   "execution_count": 43,
   "metadata": {},
   "outputs": [],
   "source": [
    "from IPython.display import display\n",
    "def set_index_tokens(metadata, json_papers):\n",
    "    multiple_papers = metadata.sha.fillna('').str.contains(';')\n",
    "    one_paper = ~( metadata.sha.isnull()) & ~(multiple_papers)\n",
    "    old_tokens = metadata.index_tokens.copy()\n",
    "    sha_index_tokens = ['sha', 'index_tokens']\n",
    "    metadata = metadata[['sha']].merge(json_papers, how='left', on='sha').fillna(old_tokens).index_tokens\n",
    "    display(mrg)\n",
    "    \n",
    "set_index_tokens(metadata, json_catalog.papers)"
   ]
  },
  {
   "cell_type": "code",
   "execution_count": 22,
   "metadata": {},
   "outputs": [],
   "source": [
    "from IPython.display import display"
   ]
  },
  {
   "cell_type": "code",
   "execution_count": 62,
   "metadata": {},
   "outputs": [
    {
     "name": "stdout",
     "output_type": "stream",
     "text": [
      "Loading catalog comm_use_subset\n",
      "Loading catalog biorxiv_medrxiv\n",
      "Loading catalog noncomm_use_subset\n",
      "Loading catalog custom_license\n"
     ]
    }
   ],
   "source": [
    "research_papers = ResearchPapers.from_pickle()\n",
    "metadata = research_papers.metadata\n",
    "\n",
    "def lookup_tokens(shas, token_map):\n",
    "    if not isinstance(shas, str): return []\n",
    "    for sha in shas.split(';'):\n",
    "        tokens = token_map.get(sha.strip())\n",
    "        if tokens:\n",
    "            return tokens\n",
    "        \n",
    "for catalog in JSON_CATALOGS:\n",
    "    # Subset the metadata\n",
    "    catalog_idx = research_papers.metadata.full_text_file == catalog\n",
    "    metadata_papers = metadata.loc[catalog_idx, ['sha']].copy().reset_index()\n",
    "    \n",
    "    # Load the json catalog\n",
    "    json_catalog = JCatalog.from_pickle(catalog)\n",
    "    json_papers = json_catalog.papers[['sha', 'index_tokens']].reset_index(drop=True)\n",
    "    \n",
    "    # Set the index tokens from the json_papers to the metadata\n",
    "    sha_tokens = metadata_papers.merge(json_papers, how='left', on='sha').set_index('index')\n",
    "    \n",
    "    # Handle records with multiple shas\n",
    "    has_multiple = (sha_tokens.sha.fillna('').str.contains(';'))\n",
    "    token_map = json_papers[['sha', 'index_tokens']].set_index('sha').to_dict()['index_tokens']\n",
    "    sha_tokens.loc[has_multiple, 'index_tokens']  \\\n",
    "            = sha_tokens.loc[has_multiple, 'sha'].apply(lambda sha: lookup_tokens(sha, token_map) )\n",
    "    \n",
    "    metadata.loc[catalog_idx, 'index_tokens'] = sha_tokens.index_tokens"
   ]
  },
  {
   "cell_type": "code",
   "execution_count": 63,
   "metadata": {},
   "outputs": [
    {
     "name": "stdout",
     "output_type": "stream",
     "text": [
      "Indexing research papers\n"
     ]
    },
    {
     "ename": "TypeError",
     "evalue": "object of type 'float' has no len()",
     "output_type": "error",
     "traceback": [
      "\u001b[1;31m---------------------------------------------------------------------------\u001b[0m",
      "\u001b[1;31mTypeError\u001b[0m                                 Traceback (most recent call last)",
      "\u001b[1;32m<ipython-input-63-a47acfc2bb86>\u001b[0m in \u001b[0;36m<module>\u001b[1;34m\u001b[0m\n\u001b[1;32m----> 1\u001b[1;33m \u001b[0mresearch_papers\u001b[0m\u001b[1;33m.\u001b[0m\u001b[0mget_papers\u001b[0m\u001b[1;33m(\u001b[0m\u001b[0mCUSTOM_LICENSE\u001b[0m\u001b[1;33m)\u001b[0m\u001b[1;33m\u001b[0m\u001b[0m\n\u001b[0m",
      "\u001b[1;32mD:\\Projects\\cord19\\cord\\cord19.py\u001b[0m in \u001b[0;36mget_papers\u001b[1;34m(self, sub_catalog)\u001b[0m\n\u001b[0;32m    239\u001b[0m \u001b[1;33m\u001b[0m\u001b[0m\n\u001b[0;32m    240\u001b[0m     \u001b[1;32mdef\u001b[0m \u001b[0mget_papers\u001b[0m\u001b[1;33m(\u001b[0m\u001b[0mself\u001b[0m\u001b[1;33m,\u001b[0m \u001b[0msub_catalog\u001b[0m\u001b[1;33m)\u001b[0m\u001b[1;33m:\u001b[0m\u001b[1;33m\u001b[0m\u001b[0m\n\u001b[1;32m--> 241\u001b[1;33m         \u001b[1;32mreturn\u001b[0m \u001b[0mself\u001b[0m\u001b[1;33m.\u001b[0m\u001b[0mquery\u001b[0m\u001b[1;33m(\u001b[0m\u001b[1;34mf'full_text_file ==\"{sub_catalog}\"'\u001b[0m\u001b[1;33m)\u001b[0m\u001b[1;33m\u001b[0m\u001b[0m\n\u001b[0m\u001b[0;32m    242\u001b[0m \u001b[1;33m\u001b[0m\u001b[0m\n\u001b[0;32m    243\u001b[0m     \u001b[1;32mdef\u001b[0m \u001b[0msince_sars\u001b[0m\u001b[1;33m(\u001b[0m\u001b[0mself\u001b[0m\u001b[1;33m,\u001b[0m \u001b[0minclude_null_dates\u001b[0m\u001b[1;33m=\u001b[0m\u001b[1;32mFalse\u001b[0m\u001b[1;33m)\u001b[0m\u001b[1;33m:\u001b[0m\u001b[1;33m\u001b[0m\u001b[0m\n",
      "\u001b[1;32mD:\\Projects\\cord19\\cord\\cord19.py\u001b[0m in \u001b[0;36mquery\u001b[1;34m(self, query)\u001b[0m\n\u001b[0;32m    224\u001b[0m     \u001b[1;32mdef\u001b[0m \u001b[0mquery\u001b[0m\u001b[1;33m(\u001b[0m\u001b[0mself\u001b[0m\u001b[1;33m,\u001b[0m \u001b[0mquery\u001b[0m\u001b[1;33m)\u001b[0m\u001b[1;33m:\u001b[0m\u001b[1;33m\u001b[0m\u001b[0m\n\u001b[0;32m    225\u001b[0m         \u001b[0mdata\u001b[0m \u001b[1;33m=\u001b[0m \u001b[0mself\u001b[0m\u001b[1;33m.\u001b[0m\u001b[0mmetadata\u001b[0m\u001b[1;33m.\u001b[0m\u001b[0mquery\u001b[0m\u001b[1;33m(\u001b[0m\u001b[0mquery\u001b[0m\u001b[1;33m)\u001b[0m\u001b[1;33m\u001b[0m\u001b[0m\n\u001b[1;32m--> 226\u001b[1;33m         \u001b[1;32mreturn\u001b[0m \u001b[0mself\u001b[0m\u001b[1;33m.\u001b[0m\u001b[0m_make_copy\u001b[0m\u001b[1;33m(\u001b[0m\u001b[0mdata\u001b[0m\u001b[1;33m)\u001b[0m\u001b[1;33m\u001b[0m\u001b[0m\n\u001b[0m\u001b[0;32m    227\u001b[0m \u001b[1;33m\u001b[0m\u001b[0m\n\u001b[0;32m    228\u001b[0m     \u001b[1;32mdef\u001b[0m \u001b[0mafter\u001b[0m\u001b[1;33m(\u001b[0m\u001b[0mself\u001b[0m\u001b[1;33m,\u001b[0m \u001b[0mdate\u001b[0m\u001b[1;33m,\u001b[0m \u001b[0minclude_null_dates\u001b[0m\u001b[1;33m=\u001b[0m\u001b[1;32mFalse\u001b[0m\u001b[1;33m)\u001b[0m\u001b[1;33m:\u001b[0m\u001b[1;33m\u001b[0m\u001b[0m\n",
      "\u001b[1;32mD:\\Projects\\cord19\\cord\\cord19.py\u001b[0m in \u001b[0;36m_make_copy\u001b[1;34m(self, new_data)\u001b[0m\n\u001b[0;32m    220\u001b[0m     \u001b[1;32mdef\u001b[0m \u001b[0m_make_copy\u001b[0m\u001b[1;33m(\u001b[0m\u001b[0mself\u001b[0m\u001b[1;33m,\u001b[0m \u001b[0mnew_data\u001b[0m\u001b[1;33m)\u001b[0m\u001b[1;33m:\u001b[0m\u001b[1;33m\u001b[0m\u001b[0m\n\u001b[0;32m    221\u001b[0m         return ResearchPapers(metadata=new_data.copy(),\n\u001b[1;32m--> 222\u001b[1;33m                               data_dir=self.data_path)\n\u001b[0m\u001b[0;32m    223\u001b[0m \u001b[1;33m\u001b[0m\u001b[0m\n\u001b[0;32m    224\u001b[0m     \u001b[1;32mdef\u001b[0m \u001b[0mquery\u001b[0m\u001b[1;33m(\u001b[0m\u001b[0mself\u001b[0m\u001b[1;33m,\u001b[0m \u001b[0mquery\u001b[0m\u001b[1;33m)\u001b[0m\u001b[1;33m:\u001b[0m\u001b[1;33m\u001b[0m\u001b[0m\n",
      "\u001b[1;32mD:\\Projects\\cord19\\cord\\cord19.py\u001b[0m in \u001b[0;36m__init__\u001b[1;34m(self, metadata, data_dir)\u001b[0m\n\u001b[0;32m    172\u001b[0m                                     lambda tokens: sum([_COVID_KEYWORDS[token] for token in tokens\n\u001b[0;32m    173\u001b[0m                                                         if token in _COVID_KEYWORDS]) > 50)\n\u001b[1;32m--> 174\u001b[1;33m         \u001b[0mself\u001b[0m\u001b[1;33m.\u001b[0m\u001b[0mbm25\u001b[0m \u001b[1;33m=\u001b[0m \u001b[0m_get_bm25Okapi\u001b[0m\u001b[1;33m(\u001b[0m\u001b[0mself\u001b[0m\u001b[1;33m.\u001b[0m\u001b[0mmetadata\u001b[0m\u001b[1;33m.\u001b[0m\u001b[0mindex_tokens\u001b[0m\u001b[1;33m)\u001b[0m\u001b[1;33m\u001b[0m\u001b[0m\n\u001b[0m\u001b[0;32m    175\u001b[0m         \u001b[0mtock\u001b[0m \u001b[1;33m=\u001b[0m \u001b[0mtime\u001b[0m\u001b[1;33m.\u001b[0m\u001b[0mtime\u001b[0m\u001b[1;33m(\u001b[0m\u001b[1;33m)\u001b[0m\u001b[1;33m\u001b[0m\u001b[0m\n\u001b[0;32m    176\u001b[0m         \u001b[0mprint\u001b[0m\u001b[1;33m(\u001b[0m\u001b[1;34m'Finished Indexing in'\u001b[0m\u001b[1;33m,\u001b[0m \u001b[0mround\u001b[0m\u001b[1;33m(\u001b[0m\u001b[0mtock\u001b[0m \u001b[1;33m-\u001b[0m \u001b[0mtick\u001b[0m\u001b[1;33m,\u001b[0m \u001b[1;36m0\u001b[0m\u001b[1;33m)\u001b[0m\u001b[1;33m,\u001b[0m \u001b[1;34m'seconds'\u001b[0m\u001b[1;33m)\u001b[0m\u001b[1;33m\u001b[0m\u001b[0m\n",
      "\u001b[1;32mD:\\Projects\\cord19\\cord\\cord19.py\u001b[0m in \u001b[0;36m_get_bm25Okapi\u001b[1;34m(index_tokens)\u001b[0m\n\u001b[0;32m    145\u001b[0m \u001b[1;33m\u001b[0m\u001b[0m\n\u001b[0;32m    146\u001b[0m \u001b[1;32mdef\u001b[0m \u001b[0m_get_bm25Okapi\u001b[0m\u001b[1;33m(\u001b[0m\u001b[0mindex_tokens\u001b[0m\u001b[1;33m)\u001b[0m\u001b[1;33m:\u001b[0m\u001b[1;33m\u001b[0m\u001b[0m\n\u001b[1;32m--> 147\u001b[1;33m     \u001b[0mhas_tokens\u001b[0m \u001b[1;33m=\u001b[0m \u001b[0mindex_tokens\u001b[0m\u001b[1;33m.\u001b[0m\u001b[0mapply\u001b[0m\u001b[1;33m(\u001b[0m\u001b[0mlen\u001b[0m\u001b[1;33m)\u001b[0m\u001b[1;33m.\u001b[0m\u001b[0msum\u001b[0m\u001b[1;33m(\u001b[0m\u001b[1;33m)\u001b[0m \u001b[1;33m>\u001b[0m \u001b[1;36m0\u001b[0m\u001b[1;33m\u001b[0m\u001b[0m\n\u001b[0m\u001b[0;32m    148\u001b[0m     \u001b[1;32mif\u001b[0m \u001b[1;32mnot\u001b[0m \u001b[0mhas_tokens\u001b[0m\u001b[1;33m:\u001b[0m\u001b[1;33m\u001b[0m\u001b[0m\n\u001b[0;32m    149\u001b[0m         \u001b[0mindex_tokens\u001b[0m\u001b[1;33m.\u001b[0m\u001b[0mloc\u001b[0m\u001b[1;33m[\u001b[0m\u001b[1;36m0\u001b[0m\u001b[1;33m]\u001b[0m \u001b[1;33m=\u001b[0m \u001b[1;33m[\u001b[0m\u001b[1;34m'no'\u001b[0m\u001b[1;33m,\u001b[0m \u001b[1;34m'tokens'\u001b[0m\u001b[1;33m]\u001b[0m\u001b[1;33m\u001b[0m\u001b[0m\n",
      "\u001b[1;32m~\\.virtualenvs\\cord19\\lib\\site-packages\\pandas\\core\\series.py\u001b[0m in \u001b[0;36mapply\u001b[1;34m(self, func, convert_dtype, args, **kwds)\u001b[0m\n\u001b[0;32m   3846\u001b[0m             \u001b[1;32melse\u001b[0m\u001b[1;33m:\u001b[0m\u001b[1;33m\u001b[0m\u001b[0m\n\u001b[0;32m   3847\u001b[0m                 \u001b[0mvalues\u001b[0m \u001b[1;33m=\u001b[0m \u001b[0mself\u001b[0m\u001b[1;33m.\u001b[0m\u001b[0mastype\u001b[0m\u001b[1;33m(\u001b[0m\u001b[0mobject\u001b[0m\u001b[1;33m)\u001b[0m\u001b[1;33m.\u001b[0m\u001b[0mvalues\u001b[0m\u001b[1;33m\u001b[0m\u001b[0m\n\u001b[1;32m-> 3848\u001b[1;33m                 \u001b[0mmapped\u001b[0m \u001b[1;33m=\u001b[0m \u001b[0mlib\u001b[0m\u001b[1;33m.\u001b[0m\u001b[0mmap_infer\u001b[0m\u001b[1;33m(\u001b[0m\u001b[0mvalues\u001b[0m\u001b[1;33m,\u001b[0m \u001b[0mf\u001b[0m\u001b[1;33m,\u001b[0m \u001b[0mconvert\u001b[0m\u001b[1;33m=\u001b[0m\u001b[0mconvert_dtype\u001b[0m\u001b[1;33m)\u001b[0m\u001b[1;33m\u001b[0m\u001b[0m\n\u001b[0m\u001b[0;32m   3849\u001b[0m \u001b[1;33m\u001b[0m\u001b[0m\n\u001b[0;32m   3850\u001b[0m         \u001b[1;32mif\u001b[0m \u001b[0mlen\u001b[0m\u001b[1;33m(\u001b[0m\u001b[0mmapped\u001b[0m\u001b[1;33m)\u001b[0m \u001b[1;32mand\u001b[0m \u001b[0misinstance\u001b[0m\u001b[1;33m(\u001b[0m\u001b[0mmapped\u001b[0m\u001b[1;33m[\u001b[0m\u001b[1;36m0\u001b[0m\u001b[1;33m]\u001b[0m\u001b[1;33m,\u001b[0m \u001b[0mSeries\u001b[0m\u001b[1;33m)\u001b[0m\u001b[1;33m:\u001b[0m\u001b[1;33m\u001b[0m\u001b[0m\n",
      "\u001b[1;32mpandas\\_libs\\lib.pyx\u001b[0m in \u001b[0;36mpandas._libs.lib.map_infer\u001b[1;34m()\u001b[0m\n",
      "\u001b[1;31mTypeError\u001b[0m: object of type 'float' has no len()"
     ]
    }
   ],
   "source": [
    "research_papers.get_papers(CUSTOM_LICENSE)"
   ]
  },
  {
   "cell_type": "code",
   "execution_count": 10,
   "metadata": {},
   "outputs": [],
   "source": [
    "token_map = cat.papers[['sha', 'index_tokens']].set_index('sha').to_dict()['index_tokens']"
   ]
  },
  {
   "cell_type": "code",
   "execution_count": 13,
   "metadata": {},
   "outputs": [
    {
     "name": "stdout",
     "output_type": "stream",
     "text": [
      "Indexing research papers\n",
      "Finished Indexing in 12.0 seconds\n"
     ]
    }
   ],
   "source": [
    "token_map['000b7d1517ceebb34e1e3e817695b6de03e2fa78'];\n",
    "research_papers = ResearchPapers.from_pickle()\n",
    "research_papers = research_papers.get_papers(COMM_USE_SUBSET)\n",
    "metadata = research_papers.metadata\n"
   ]
  },
  {
   "cell_type": "code",
   "execution_count": 20,
   "metadata": {},
   "outputs": [
    {
     "data": {
      "text/plain": [
       "40237    [temperature, dependence, yeast, invertase-fpc...\n",
       "40242    [introduction, influenza, virus, notable, publ...\n",
       "40259    [supplementary, note, -host-pathogen, interact...\n",
       "40287    [서론, introduction, 2012년, 감사의, acknowledgement...\n",
       "40291    [supplementary, figure, comparison, mers-cov, ...\n",
       "                               ...                        \n",
       "43919    [date, full-length, genome, sequence, caastv, ...\n",
       "43921    [introduction, use, extracorporeal, membrane, ...\n",
       "43924    [cell-specific, marker, gene, analysis, first,...\n",
       "43928    [background, pneumonia, leading, cause, morbid...\n",
       "43930    [viral, etiology, hospitalized, acute, lower, ...\n",
       "Name: sha, Length: 375, dtype: object"
      ]
     },
     "execution_count": 20,
     "metadata": {},
     "output_type": "execute_result"
    }
   ],
   "source": [
    "has_multiple = metadata.sha.fillna('').str.contains(';')\n",
    "\n",
    "def lookup_tokens(shas):\n",
    "    for sha in shas.split(';'):\n",
    "        tokens = token_map.get(sha.strip())\n",
    "        if tokens:\n",
    "            return tokens\n",
    "        \n",
    "tokens = metadata.loc[has_multiple, ['sha']].sha.apply(lookup_tokens)\n",
    "tokens"
   ]
  },
  {
   "cell_type": "code",
   "execution_count": 21,
   "metadata": {},
   "outputs": [
    {
     "data": {
      "text/plain": [
       "False"
      ]
     },
     "execution_count": 21,
     "metadata": {},
     "output_type": "execute_result"
    }
   ],
   "source": [
    "tokens.isnull().any()"
   ]
  },
  {
   "cell_type": "code",
   "execution_count": 40,
   "metadata": {},
   "outputs": [],
   "source": [
    "pd.options.display.max_colwidth = 120"
   ]
  },
  {
   "cell_type": "code",
   "execution_count": null,
   "metadata": {},
   "outputs": [],
   "source": []
  }
 ],
 "metadata": {
  "kernelspec": {
   "display_name": "cord",
   "language": "python",
   "name": "cord"
  },
  "language_info": {
   "codemirror_mode": {
    "name": "ipython",
    "version": 3
   },
   "file_extension": ".py",
   "mimetype": "text/x-python",
   "name": "python",
   "nbconvert_exporter": "python",
   "pygments_lexer": "ipython3",
   "version": "3.7.0"
  }
 },
 "nbformat": 4,
 "nbformat_minor": 4
}
