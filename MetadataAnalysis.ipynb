{
 "cells": [
  {
   "cell_type": "markdown",
   "metadata": {},
   "source": [
    "# Metadata Analysis"
   ]
  },
  {
   "cell_type": "code",
   "execution_count": 1,
   "metadata": {},
   "outputs": [],
   "source": [
    "import pandas as pd\n",
    "import numpy as np\n",
    "import re\n",
    "%load_ext autoreload\n",
    "%autoreload 2\n",
    "from cord.cord19 import ResearchPapers\n",
    "from pathlib import Path, PurePath\n",
    "from IPython.display import display\n",
    "\n",
    "pd.options.display.max_colwidth=200\n",
    "pd.options.display.max_rows = 4000"
   ]
  },
  {
   "cell_type": "code",
   "execution_count": 2,
   "metadata": {},
   "outputs": [],
   "source": [
    "data_path = Path('data') / 'CORD-19-research-challenge'\n",
    "metadata_path = PurePath(data_path) / 'metadata.csv'"
   ]
  },
  {
   "cell_type": "markdown",
   "metadata": {},
   "source": [
    "## Load Metadata"
   ]
  },
  {
   "cell_type": "code",
   "execution_count": 3,
   "metadata": {},
   "outputs": [
    {
     "name": "stdout",
     "output_type": "stream",
     "text": [
      "Loading metadata from data\\CORD-19-research-challenge\n",
      "Cleaning metadata\n",
      "\n",
      "Indexing research papers\n",
      "Creating the BM25 index from the abstracts of the papers\n",
      "Use index=\"text\" if you want to index the texts of the paper instead\n",
      "Finished Indexing in 36.0 seconds\n"
     ]
    }
   ],
   "source": [
    "research_papers = ResearchPapers.load()"
   ]
  },
  {
   "cell_type": "code",
   "execution_count": 4,
   "metadata": {},
   "outputs": [
    {
     "name": "stdout",
     "output_type": "stream",
     "text": [
      "\n",
      "Indexing research papers\n"
     ]
    },
    {
     "data": {
      "text/html": [
       "<div>\n",
       "<style scoped>\n",
       "    .dataframe tbody tr th:only-of-type {\n",
       "        vertical-align: middle;\n",
       "    }\n",
       "\n",
       "    .dataframe tbody tr th {\n",
       "        vertical-align: top;\n",
       "    }\n",
       "\n",
       "    .dataframe thead th {\n",
       "        text-align: right;\n",
       "    }\n",
       "</style>\n",
       "<table border=\"1\" class=\"dataframe\">\n",
       "  <thead>\n",
       "    <tr style=\"text-align: right;\">\n",
       "      <th></th>\n",
       "      <th>title</th>\n",
       "      <th>abstract</th>\n",
       "      <th>journal</th>\n",
       "      <th>authors</th>\n",
       "      <th>published</th>\n",
       "      <th>when</th>\n",
       "    </tr>\n",
       "  </thead>\n",
       "  <tbody>\n",
       "    <tr>\n",
       "      <th>0</th>\n",
       "      <td>SIANN: Strain Identification by Alignment to Near Neighbors</td>\n",
       "      <td>Next-generation sequencing is increasingly being used to study samples composed of mixtures of organisms, such as in clinical applications where the presence of a pathogen at very low abundance ma...</td>\n",
       "      <td></td>\n",
       "      <td>Samuel Minot; Stephen D Turner; Krista L Ternus; Dana R Kadavy</td>\n",
       "      <td>2014-01-10</td>\n",
       "      <td>6 years ago</td>\n",
       "    </tr>\n",
       "    <tr>\n",
       "      <th>1</th>\n",
       "      <td>Spatial epidemiology of networked metapopulation: An overview</td>\n",
       "      <td>An emerging disease is one infectious epidemic caused by a newly transmissible pathogen, which has either appeared for the first time or already existed in human populations, having the capacity t...</td>\n",
       "      <td></td>\n",
       "      <td>Lin WANG; Xiang Li</td>\n",
       "      <td>2014-06-04</td>\n",
       "      <td>6 years ago</td>\n",
       "    </tr>\n",
       "    <tr>\n",
       "      <th>2</th>\n",
       "      <td>Sequencing of the human IG light chain loci from a hydatidiform mole BAC library reveals locus-specific signatures of genetic diversity</td>\n",
       "      <td>Germline variation at immunoglobulin gene (IG) loci is critical for pathogen-mediated immunity, but establishing complete reference sequences in these regions is problematic because of segmental d...</td>\n",
       "      <td></td>\n",
       "      <td>Corey T Watson; Karyn Meltz Steinberg; Tina A Graves-Lindsay; Rene L Warren; Maika Malig; Jacqueline E Schein; Richard K Wilson; Rob Holt; Evan Eichler; Felix Breden</td>\n",
       "      <td>2014-07-03</td>\n",
       "      <td>6 years ago</td>\n",
       "    </tr>\n",
       "    <tr>\n",
       "      <th>3</th>\n",
       "      <td>Bayesian mixture analysis for metagenomic community profiling.</td>\n",
       "      <td>Deep sequencing of clinical samples is now an established tool for the detection of infectious pathogens, with direct medical applications. The large amount of data generated provides an opportuni...</td>\n",
       "      <td></td>\n",
       "      <td>Sofia Morfopoulou; Vincent Plagnol</td>\n",
       "      <td>2014-07-25</td>\n",
       "      <td>6 years ago</td>\n",
       "    </tr>\n",
       "    <tr>\n",
       "      <th>4</th>\n",
       "      <td>Mapping a viral phylogeny onto outbreak trees to improve host transmission inference</td>\n",
       "      <td>Developing methods to reconstruct transmission histories for viral outbreaks could provide critical information to support locating sources of disease transmission. Phylogenetic methods used to me...</td>\n",
       "      <td></td>\n",
       "      <td>Stephen P Velsko; Jonathan E Allen</td>\n",
       "      <td>2014-11-11</td>\n",
       "      <td>5 years ago</td>\n",
       "    </tr>\n",
       "    <tr>\n",
       "      <th>...</th>\n",
       "      <td>...</td>\n",
       "      <td>...</td>\n",
       "      <td>...</td>\n",
       "      <td>...</td>\n",
       "      <td>...</td>\n",
       "      <td>...</td>\n",
       "    </tr>\n",
       "    <tr>\n",
       "      <th>45769</th>\n",
       "      <td>Personal Protective Equipment: Protecting Health Care Providers in an Ebola Outbreak</td>\n",
       "      <td>Purpose The recent Ebola epidemic that devastated West Africa has infected and killed more health care providers than any other outbreak in the history of this virus. An improved understanding of...</td>\n",
       "      <td>Clinical Therapeutics</td>\n",
       "      <td>Fischer, William A.; Weber, David J.; Wohl, David A.</td>\n",
       "      <td>2015-11-01</td>\n",
       "      <td>4 years ago</td>\n",
       "    </tr>\n",
       "    <tr>\n",
       "      <th>45770</th>\n",
       "      <td>Viruses and asthma</td>\n",
       "      <td>Background Viral respiratory infection has long been known to influence the occurrence of asthma exacerbations. Over the last 20years much effort has been put into clarifying the role that viral ...</td>\n",
       "      <td>Biochimica et Biophysica Acta (BBA) - General Subjects</td>\n",
       "      <td>Dulek, Daniel E.; Peebles, R. Stokes</td>\n",
       "      <td>2011-11-30</td>\n",
       "      <td>8 years ago</td>\n",
       "    </tr>\n",
       "    <tr>\n",
       "      <th>45771</th>\n",
       "      <td>Why the WHO won't use the p-word</td>\n",
       "      <td>There are no criteria for a pandemic, but covid-19 looks like one, says Debora MacKenzie</td>\n",
       "      <td>New Scientist</td>\n",
       "      <td>MacKenzie, Debora</td>\n",
       "      <td>2020-03-07</td>\n",
       "      <td>3 weeks ago</td>\n",
       "    </tr>\n",
       "    <tr>\n",
       "      <th>45772</th>\n",
       "      <td>Communication, transparency key as Canada faces new coronavirus threat</td>\n",
       "      <td>Communication, transparency key as Canada faces new coronavirus threat</td>\n",
       "      <td>Canadian Medical Association Journal</td>\n",
       "      <td>Glauser, Wendy</td>\n",
       "      <td>2020-02-17</td>\n",
       "      <td>1 month ago</td>\n",
       "    </tr>\n",
       "    <tr>\n",
       "      <th>45773</th>\n",
       "      <td>Searching for animal models and potential target species for emerging pathogens: Experience gained from Middle East respiratory syndrome (MERS) coronavirus</td>\n",
       "      <td>Emerging and re-emerging pathogens represent a substantial threat to public health, as demonstrated with numerous outbreaks over the past years, including the 2013–2016 outbreak of Ebola virus in ...</td>\n",
       "      <td>One Health</td>\n",
       "      <td>Vergara-Alert, Júlia; Vidal, Enric; Bensaid, Albert; Segalés, Joaquim</td>\n",
       "      <td>2017-03-03</td>\n",
       "      <td>3 years ago</td>\n",
       "    </tr>\n",
       "  </tbody>\n",
       "</table>\n",
       "<p>40324 rows × 6 columns</p>\n",
       "</div>"
      ],
      "text/plain": [
       "<cord.cord19.ResearchPapers at 0x1fb0029a0b8>"
      ]
     },
     "execution_count": 4,
     "metadata": {},
     "output_type": "execute_result"
    }
   ],
   "source": [
    "research_papers.since_sars()"
   ]
  },
  {
   "cell_type": "code",
   "execution_count": null,
   "metadata": {},
   "outputs": [],
   "source": []
  }
 ],
 "metadata": {
  "kernelspec": {
   "display_name": "cord",
   "language": "python",
   "name": "cord"
  },
  "language_info": {
   "codemirror_mode": {
    "name": "ipython",
    "version": 3
   },
   "file_extension": ".py",
   "mimetype": "text/x-python",
   "name": "python",
   "nbconvert_exporter": "python",
   "pygments_lexer": "ipython3",
   "version": "3.7.0"
  }
 },
 "nbformat": 4,
 "nbformat_minor": 4
}
