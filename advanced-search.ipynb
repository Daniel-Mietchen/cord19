{
 "cells": [
  {
   "cell_type": "markdown",
   "metadata": {},
   "source": [
    "# Advanced Search"
   ]
  },
  {
   "cell_type": "code",
   "execution_count": 2,
   "metadata": {},
   "outputs": [],
   "source": [
    "%load_ext autoreload\n",
    "%autoreload 2\n",
    "from cord import ResearchPapers\n",
    "from ipywidgets import TwoByTwoLayout, Text, Layout, Label, VBox, HBox, Checkbox, IntSlider\n",
    "import ipywidgets as widgets\n",
    "import pandas as pd\n",
    "pd.options.display.max_colwidth=1200"
   ]
  },
  {
   "cell_type": "code",
   "execution_count": 7,
   "metadata": {},
   "outputs": [
    {
     "name": "stdout",
     "output_type": "stream",
     "text": [
      "Loading metadata from data\\CORD-19-research-challenge\n",
      "Cleaning metadata\n",
      "Applying tags to metadata\n",
      "\n",
      "Indexing research papers\n",
      "Creating the BM25 index from the text contents of the papers\n",
      "Loading json cache files for comm_use_subset\n"
     ]
    },
    {
     "data": {
      "application/vnd.jupyter.widget-view+json": {
       "model_id": "6466b3bb89c84b7ca87d1b753214b959",
       "version_major": 2,
       "version_minor": 0
      },
      "text/plain": [
       "HBox(children=(FloatProgress(value=0.0, max=10.0), HTML(value='')))"
      ]
     },
     "metadata": {},
     "output_type": "display_data"
    },
    {
     "name": "stdout",
     "output_type": "stream",
     "text": [
      "Loaded comm_use_subset json cache in 31 seconds\n",
      "Json document tokens loaded from cache\n",
      "Loading json cache files for biorxiv_medrxiv\n",
      "Loaded biorxiv_medrxiv json cache in 1 seconds\n",
      "Json document tokens loaded from cache\n",
      "Loading json cache files for noncomm_use_subset\n",
      "Loaded noncomm_use_subset json cache in 7 seconds\n",
      "Json document tokens loaded from cache\n",
      "Loading json cache files for custom_license\n"
     ]
    },
    {
     "data": {
      "application/vnd.jupyter.widget-view+json": {
       "model_id": "c5e837a79cbc4014b663dec4bab7a876",
       "version_major": 2,
       "version_minor": 0
      },
      "text/plain": [
       "HBox(children=(FloatProgress(value=0.0, max=14.0), HTML(value='')))"
      ]
     },
     "metadata": {},
     "output_type": "display_data"
    },
    {
     "name": "stdout",
     "output_type": "stream",
     "text": [
      "Loaded custom_license json cache in 58 seconds\n",
      "Json document tokens loaded from cache\n",
      "There are 13015 papers that will be indexed using abstract instead of textx\n",
      "Finished indexing in 109 seconds\n"
     ]
    }
   ],
   "source": [
    "research_papers = ResearchPapers.load(index='texts')"
   ]
  },
  {
   "cell_type": "code",
   "execution_count": 10,
   "metadata": {},
   "outputs": [
    {
     "name": "stdout",
     "output_type": "stream",
     "text": [
      "Saving to data\\CORD-19-research-challenge\\..\\cordsupport\\ResearchPapers.pickle\n"
     ]
    }
   ],
   "source": [
    "research_papers.save()"
   ]
  },
  {
   "cell_type": "code",
   "execution_count": 8,
   "metadata": {},
   "outputs": [
    {
     "data": {
      "text/html": [
       "<style  type=\"text/css\" >\n",
       "    #T_31f6d6d2_7938_11ea_96c2_7470fd726a31row0_col0 {\n",
       "            font-size:  1.2em;\n",
       "             color:  #008B8B;\n",
       "             font-weight:  bold;\n",
       "        }    #T_31f6d6d2_7938_11ea_96c2_7470fd726a31row1_col0 {\n",
       "            font-size:  1.2em;\n",
       "             color:  #008B8B;\n",
       "             font-weight:  bold;\n",
       "        }    #T_31f6d6d2_7938_11ea_96c2_7470fd726a31row2_col0 {\n",
       "            font-size:  1.2em;\n",
       "             color:  #008B8B;\n",
       "             font-weight:  bold;\n",
       "        }    #T_31f6d6d2_7938_11ea_96c2_7470fd726a31row3_col0 {\n",
       "            font-size:  1.2em;\n",
       "             color:  #008B8B;\n",
       "             font-weight:  bold;\n",
       "        }    #T_31f6d6d2_7938_11ea_96c2_7470fd726a31row4_col0 {\n",
       "            font-size:  1.2em;\n",
       "             color:  #008B8B;\n",
       "             font-weight:  bold;\n",
       "        }    #T_31f6d6d2_7938_11ea_96c2_7470fd726a31row5_col0 {\n",
       "            font-size:  1.2em;\n",
       "             color:  #008B8B;\n",
       "             font-weight:  bold;\n",
       "        }    #T_31f6d6d2_7938_11ea_96c2_7470fd726a31row6_col0 {\n",
       "            font-size:  1.2em;\n",
       "             color:  #008B8B;\n",
       "             font-weight:  bold;\n",
       "        }    #T_31f6d6d2_7938_11ea_96c2_7470fd726a31row7_col0 {\n",
       "            font-size:  1.2em;\n",
       "             color:  #008B8B;\n",
       "             font-weight:  bold;\n",
       "        }    #T_31f6d6d2_7938_11ea_96c2_7470fd726a31row8_col0 {\n",
       "            font-size:  1.2em;\n",
       "             color:  #008B8B;\n",
       "             font-weight:  bold;\n",
       "        }</style><table id=\"T_31f6d6d2_7938_11ea_96c2_7470fd726a31\" ><thead>    <tr>        <th class=\"blank level0\" ></th>        <th class=\"col_heading level0 col0\" >title</th>        <th class=\"col_heading level0 col1\" >summary</th>        <th class=\"col_heading level0 col2\" >when</th>    </tr></thead><tbody>\n",
       "                <tr>\n",
       "                        <th id=\"T_31f6d6d2_7938_11ea_96c2_7470fd726a31level0_row0\" class=\"row_heading level0 row0\" >45567</th>\n",
       "                        <td id=\"T_31f6d6d2_7938_11ea_96c2_7470fd726a31row0_col0\" class=\"data row0 col0\" >Policies on the use of respiratory protection for hospital health workers to protect from coronavirus disease (COVID-19)</td>\n",
       "                        <td id=\"T_31f6d6d2_7938_11ea_96c2_7470fd726a31row0_col1\" class=\"data row0 col1\" >Policies on the use of respiratory protection for hospital health workers to protect from coronavirus disease (COVID-19)</td>\n",
       "                        <td id=\"T_31f6d6d2_7938_11ea_96c2_7470fd726a31row0_col2\" class=\"data row0 col2\" >in 1 month</td>\n",
       "            </tr>\n",
       "            <tr>\n",
       "                        <th id=\"T_31f6d6d2_7938_11ea_96c2_7470fd726a31level0_row1\" class=\"row_heading level0 row1\" >43537</th>\n",
       "                        <td id=\"T_31f6d6d2_7938_11ea_96c2_7470fd726a31row1_col0\" class=\"data row1 col0\" >Thoughts and suggestions on modern construction of disease prevention and control system</td>\n",
       "                        <td id=\"T_31f6d6d2_7938_11ea_96c2_7470fd726a31row1_col1\" class=\"data row1 col1\" >The critical period for the prevention and control of novel coronavirus pneumonia (NCP) in China, in response to requirements for accelerating the modernization of the disease prevention and control system, we analyzed and summarized the current situation, existing problems, and deficiencies in China's modernization of disease prevention and control system.\n",
       "In addition, we put forward the contents and countermeasures for the modernization of the disease prevention and control system.\n",
       "The modernization of the disease prevention and control system should be built around governance modernization, talent modernization, equipment modernization, scientific research modernization, and modernization of the regulatory system.\n",
       "The countermeasures and suggestions need to reposition the disease prevention and control system, rationalize the management system and operating mechanism, strengthen the modernization of talents and equipment, strengthen scientific research on disease prevention and control, and further improve the disease prevention and control legal system.</td>\n",
       "                        <td id=\"T_31f6d6d2_7938_11ea_96c2_7470fd726a31row1_col2\" class=\"data row1 col2\" >3 months ago</td>\n",
       "            </tr>\n",
       "            <tr>\n",
       "                        <th id=\"T_31f6d6d2_7938_11ea_96c2_7470fd726a31level0_row2\" class=\"row_heading level0 row2\" >44342</th>\n",
       "                        <td id=\"T_31f6d6d2_7938_11ea_96c2_7470fd726a31row2_col0\" class=\"data row2 col0\" >Characteristics of and Public Health Responses to the Coronavirus Disease 2019 Outbreak in China</td>\n",
       "                        <td id=\"T_31f6d6d2_7938_11ea_96c2_7470fd726a31row2_col1\" class=\"data row2 col1\" >Human-to-human transmission is confirmed, and this disease (named COVID-19 by World Health Organization (WHO)) spread rapidly around the country and the world.\n",
       "As of 18 February 2020, the number of confirmed cases had reached 75,199 with 2009 fatalities.\n",
       "The COVID-19 resulted in a much lower case-fatality rate (about 2.67%) among the confirmed cases, compared with Severe Acute Respiratory Syndrome (SARS) and Middle East Respiratory Syndrome (MERS).\n",
       "Among the symptom composition of the 45 fatality cases collected from the released official reports, the top four are fever, cough, short of breath, and chest tightness/pain.\n",
       "Meanwhile, it is also crucial to speed up the development of vaccines and drugs for treatment, which will enable us to defeat COVID-19 as soon as possible.</td>\n",
       "                        <td id=\"T_31f6d6d2_7938_11ea_96c2_7470fd726a31row2_col2\" class=\"data row2 col2\" >1 month ago</td>\n",
       "            </tr>\n",
       "            <tr>\n",
       "                        <th id=\"T_31f6d6d2_7938_11ea_96c2_7470fd726a31level0_row3\" class=\"row_heading level0 row3\" >46666</th>\n",
       "                        <td id=\"T_31f6d6d2_7938_11ea_96c2_7470fd726a31row3_col0\" class=\"data row3 col0\" >Lessons learned from the 2019-nCoV epidemic on prevention of future infectious diseases</td>\n",
       "                        <td id=\"T_31f6d6d2_7938_11ea_96c2_7470fd726a31row3_col1\" class=\"data row3 col1\" >This put enormous pressure on the Chinese government, medical healthcare provider, and the general public, but also made the international community deeply nervous.\n",
       "On the 25th day after the outbreak, the Chinese government implemented strict traffic restrictions on the area where the 2019-nCoV had originated—Hubei province, whose capital city is Wuhan.\n",
       "These preliminary data suggest the effectiveness of a traffic restriction policy for this pandemic thus far.\n",
       "These measures were motivated by the need to provide effective treatment of patients, and involved consultation with three major groups in policy formulation—public health experts, the government, and the general public.\n",
       "This experience will provide China and other countries with valuable lessons for quickly coordinating and coping with future public health emergencies.</td>\n",
       "                        <td id=\"T_31f6d6d2_7938_11ea_96c2_7470fd726a31row3_col2\" class=\"data row3 col2\" >1 week ago</td>\n",
       "            </tr>\n",
       "            <tr>\n",
       "                        <th id=\"T_31f6d6d2_7938_11ea_96c2_7470fd726a31level0_row4\" class=\"row_heading level0 row4\" >45596</th>\n",
       "                        <td id=\"T_31f6d6d2_7938_11ea_96c2_7470fd726a31row4_col0\" class=\"data row4 col0\" >Taking the right measures to control COVID-19</td>\n",
       "                        <td id=\"T_31f6d6d2_7938_11ea_96c2_7470fd726a31row4_col1\" class=\"data row4 col1\" >The widespread practice of spraying disinfectant and alcohol in the sky, on roads, vehicles, and personnel has no value; moreover, large quantities of alcohol and disinfectant are potentially harmful to humans and should be avoided.3 , 4 Second, in the use of personal protective equipment, we should try to distinguish different risk factors, adopt different epidemic prevention measures, and reduce the waste of personal protective equipment, as these resources are already in short supply.\n",
       "Although surgical masks are in widespread use by the general population, there is no evidence that these masks prevent the acquisition of COVID-19, although they might slightly reduce the spread from an infected patient.\n",
       "Misinformation spreads panic among the general population and is not conducive to implementation of epidemic control measures.8 Fifth, WHO has made it clear that there are currently no known effective treatments for COVID-19 and does not recommend the use of antiviral drugs, antibiotics, glucocorticoids, or traditional Chinese medicine.</td>\n",
       "                        <td id=\"T_31f6d6d2_7938_11ea_96c2_7470fd726a31row4_col2\" class=\"data row4 col2\" >1 month ago</td>\n",
       "            </tr>\n",
       "            <tr>\n",
       "                        <th id=\"T_31f6d6d2_7938_11ea_96c2_7470fd726a31level0_row5\" class=\"row_heading level0 row5\" >42897</th>\n",
       "                        <td id=\"T_31f6d6d2_7938_11ea_96c2_7470fd726a31row5_col0\" class=\"data row5 col0\" >Science in the fight against the novel coronavirus disease</td>\n",
       "                        <td id=\"T_31f6d6d2_7938_11ea_96c2_7470fd726a31row5_col1\" class=\"data row5 col1\" >Science in the fight against the novel coronavirus disease</td>\n",
       "                        <td id=\"T_31f6d6d2_7938_11ea_96c2_7470fd726a31row5_col2\" class=\"data row5 col2\" >3 months ago</td>\n",
       "            </tr>\n",
       "            <tr>\n",
       "                        <th id=\"T_31f6d6d2_7938_11ea_96c2_7470fd726a31level0_row6\" class=\"row_heading level0 row6\" >45039</th>\n",
       "                        <td id=\"T_31f6d6d2_7938_11ea_96c2_7470fd726a31row6_col0\" class=\"data row6 col0\" >Clinical considerations for patients with diabetes in times of COVID-19 epidemic</td>\n",
       "                        <td id=\"T_31f6d6d2_7938_11ea_96c2_7470fd726a31row6_col1\" class=\"data row6 col1\" >Clinical considerations for patients with diabetes in times of COVID-19 epidemic</td>\n",
       "                        <td id=\"T_31f6d6d2_7938_11ea_96c2_7470fd726a31row6_col2\" class=\"data row6 col2\" >in 2 months</td>\n",
       "            </tr>\n",
       "            <tr>\n",
       "                        <th id=\"T_31f6d6d2_7938_11ea_96c2_7470fd726a31level0_row7\" class=\"row_heading level0 row7\" >15210</th>\n",
       "                        <td id=\"T_31f6d6d2_7938_11ea_96c2_7470fd726a31row7_col0\" class=\"data row7 col0\" >Pay attention to situation of SARS-CoV-2 and TCM advantages in treatment of novel coronavirus infection</td>\n",
       "                        <td id=\"T_31f6d6d2_7938_11ea_96c2_7470fd726a31row7_col1\" class=\"data row7 col1\" >Since the outbreak of the new coronavirus epidemic, novel coronavirus has infected nearly 100,000 people in more than 110 countries.\n",
       "How to face this new coronavirus epidemic outbreak is an important issue.\n",
       "Epidemiology dynamics is a mathematical model based on a susceptibility-infection-recovery epidemic model.\n",
       "Researchers analyzed the epidemiological benefits of different transmission rates for the establishment of effective strategy in prevention and control strategies for epidemic infectious diseases.\n",
       "Many TCM formulas and products have wide application in treating infectious and non-infectious diseases.\n",
       "The TCM theoretical system of treating epidemic diseases with TCM and the treatment scheme of integrated Chinese and Western medicine have proved their effectiveness in clinical practice.</td>\n",
       "                        <td id=\"T_31f6d6d2_7938_11ea_96c2_7470fd726a31row7_col2\" class=\"data row7 col2\" >1 week ago</td>\n",
       "            </tr>\n",
       "            <tr>\n",
       "                        <th id=\"T_31f6d6d2_7938_11ea_96c2_7470fd726a31level0_row8\" class=\"row_heading level0 row8\" >6633</th>\n",
       "                        <td id=\"T_31f6d6d2_7938_11ea_96c2_7470fd726a31row8_col0\" class=\"data row8 col0\" >COVID-19: towards controlling of a pandemic</td>\n",
       "                        <td id=\"T_31f6d6d2_7938_11ea_96c2_7470fd726a31row8_col1\" class=\"data row8 col1\" >COVID-19: towards controlling of a pandemic</td>\n",
       "                        <td id=\"T_31f6d6d2_7938_11ea_96c2_7470fd726a31row8_col2\" class=\"data row8 col2\" >3 weeks ago</td>\n",
       "            </tr>\n",
       "    </tbody></table>"
      ],
      "text/plain": [
       "<pandas.io.formats.style.Styler at 0x1bcf9a7c5c0>"
      ]
     },
     "execution_count": 8,
     "metadata": {},
     "output_type": "execute_result"
    }
   ],
   "source": [
    "results = research_papers.search('prevention of disease', \n",
    "                                 view='table', \n",
    "                                 covid_related=True)\n",
    "def highlight_cols(s):\n",
    "    color = 'grey'\n",
    "    return 'font-size: 1.2em; color: #008B8B; font-weight: bold'\n",
    "\n",
    "pd.options.display.max_colwidth=1200\n",
    "df = results.get_results_df()\n",
    "df.style.applymap(highlight_cols, subset=pd.IndexSlice[:, ['title']])"
   ]
  },
  {
   "cell_type": "code",
   "execution_count": 9,
   "metadata": {},
   "outputs": [
    {
     "data": {
      "text/html": [
       "\n",
       " <h4 class='cord'>Estimation of incubation period distribution of COVID-19 using disease onset forward time: a novel cross-sectional and forward follow-up study</h4>\n",
       " <div id=\"published_when\">\n",
       "     <span class='published'>4 weeks ago</span>\n",
       "     \n",
       "        <a href='http://doi.org/10.1101/2020.03.06.20032417' rel=\"noopener noreferrer\" target=\"_blank\" class='link'>Link</a> <span id='cord_uid'>it4ka7v0</span>\n",
       "     \n",
       " </div>\n",
       " <div class='abstract'>Different estimates of the incubation period of COVID-19 were reported in recent published studies, but all have their own limitations.\n",
       "In this study, we propose a novel low-cost and accurate method to estimate the incubation distribution.\n",
       "The renewal process is hence adopted by considering the incubation period as a renewal and the duration between departure and symptom onset as a forward recurrence time.\n",
       "Under mild assumptions, the observations of selected forward times can be used to consiste...</div>\n",
       " <div class='authors'>Qin Jing; Chong You; Qiushi Lin; Taojun Hu; Shicheng Yu; Xiao-Hua Zhou</div>\n",
       "\n",
       "\n",
       " <h4 class='cord'>COVID-19: what has been learned and to be learned about the novel coronavirus disease</h4>\n",
       " <div id=\"published_when\">\n",
       "     <span class='published'>3 weeks ago</span>\n",
       "     \n",
       "        <a href='http://doi.org/10.7150/ijbs.45134' rel=\"noopener noreferrer\" target=\"_blank\" class='link'>Link</a> <span id='cord_uid'>t8azymo7</span>\n",
       "     \n",
       " </div>\n",
       " <div class='abstract'>The outbreak of Coronavirus disease 2019 (COVID-19), caused by severe acute respiratory syndrome (SARS) coronavirus 2 (SARS-CoV-2), has thus far killed over 3,000 people and infected over 80,000 in China and elsewhere in the world, resulting in catastrophe for humans.\n",
       "However, COVID-19 has lower severity and mortality than SARS but is much more transmissive and affects more elderly individuals than youth and more men than women.\n",
       "In response to the rapidly increasing number of publications on the...</div>\n",
       " <div class='authors'>Yi, Ye; Lagniton, Philip N.P.; Ye, Sen; Li, Enqin; Xu, Ren-He</div>\n",
       "\n",
       "\n",
       " <h4 class='cord'>Evaluation of the potential incidence of COVID-19 and effectiveness of contention measures in Spain: a data-driven approach</h4>\n",
       " <div id=\"published_when\">\n",
       "     <span class='published'>1 month ago</span>\n",
       "     \n",
       "        <a href='http://doi.org/10.1101/2020.03.01.20029801' rel=\"noopener noreferrer\" target=\"_blank\" class='link'>Link</a> <span id='cord_uid'>38f8ftmh</span>\n",
       "     \n",
       " </div>\n",
       " <div class='abstract'>Our society is currently experiencing an unprecedented challenge, managing and containing an outbreak of a new coronavirus disease known as COVID-19.\n",
       "While China - were the outbreak started - seems to have been able to contain the growth of the epidemic, different outbreaks are nowadays being detected in multiple countries.\n",
       "Much is currently unknown about the natural history of the disease, such as a possible asymptomatic spreading or the role of age in both the susceptibility and mortality of t...</div>\n",
       " <div class='authors'>Alberto Aleta; Yamir Moreno</div>\n",
       "\n",
       "\n",
       " <h4 class='cord'>Why estimating population-based case fatality rates during epidemics may be misleading</h4>\n",
       " <div id=\"published_when\">\n",
       "     <span class='published'>1 week ago</span>\n",
       "     \n",
       "        <a href='http://doi.org/10.1101/2020.03.26.20044693' rel=\"noopener noreferrer\" target=\"_blank\" class='link'>Link</a> <span id='cord_uid'>embnko1q</span>\n",
       "     \n",
       " </div>\n",
       " <div class='abstract'>Different ways of calculating mortality ratios during epidemics can yield widely different results, particularly during the COVID-19 pandemic.\n",
       "We formulate both a survival probability model and an associated infection duration-dependent SIR model to define individual- and population-based estimates of dynamic mortality ratios.\n",
       "The key parameters that affect the dynamics of the different mortality estimates are the incubation period and the length of time individuals were infected before confirma...</div>\n",
       " <div class='authors'>Lucas Böttcher; Mingtao Xia; Tom Chou</div>\n",
       "\n",
       "\n",
       " <h4 class='cord'>Systematic Comparison of Two Animal-to-Human Transmitted Human Coronaviruses: SARS-CoV-2 and SARS-CoV</h4>\n",
       " <div id=\"published_when\">\n",
       "     <span class='published'>3 months ago</span>\n",
       "     \n",
       "        <a href='http://doi.org/10.3390/v12020244' rel=\"noopener noreferrer\" target=\"_blank\" class='link'>Link</a> <span id='cord_uid'>73a7uvyz</span>\n",
       "     \n",
       " </div>\n",
       " <div class='abstract'>After the outbreak of the severe acute respiratory syndrome (SARS) in the world in 2003, human coronaviruses (HCoVs) have been reported as pathogens that cause severe symptoms in respiratory tract infections.\n",
       "Recently, a new emerged HCoV isolated from the respiratory epithelium of unexplained pneumonia patients in the Wuhan seafood market caused a major disease outbreak and has been named the severe acute respiratory syndrome coronavirus 2 (SARS-CoV-2).\n",
       "This virus causes acute lung symptoms, lea...</div>\n",
       " <div class='authors'>Xu, Jiabao; Zhao, Shizhe; Teng, Tieshan; Abdalla, Abualgasim Elgaili; Zhu, Wan; Xie, Longxiang; Wang, Yunlong; Guo, Xiangqian</div>\n",
       "\n",
       "\n",
       " <h4 class='cord'>The effect of travel restrictions on the spread of the 2019 novel coronavirus (2019-nCoV) outbreak</h4>\n",
       " <div id=\"published_when\">\n",
       "     <span class='published'>2 months ago</span>\n",
       "     \n",
       "        <a href='http://doi.org/10.1101/2020.02.09.20021261' rel=\"noopener noreferrer\" target=\"_blank\" class='link'>Link</a> <span id='cord_uid'>f87h5qh6</span>\n",
       "     \n",
       " </div>\n",
       " <div class='abstract'>The model is calibrated on the evidence of internationally imported cases before the implementation of the travel quarantine of Wuhan.\n",
       "The median estimate for number of cases before the travel ban implementation on January 23, 2020 is 58,956 [90% CI 40,759 - 87,471] in Wuhan and 3,491 [90% CI 1,924 - 7,360] in other locations in Mainland China.\n",
       "The model shows that as of January 23, most Chinese cities had already received a considerable number of infected cases, and the travel quarantine delays...</div>\n",
       " <div class='authors'>Matteo Chinazzi; Jessica T. Davis; Marco Ajelli; Corrado Gioannini; Maria Litvinova; Stefano Merler; Ana Pastore y Piontti; Luca Rossi; Kaiyuan Sun; Cécile Viboud; Xinyue Xiong; Hongjie Yu; M. Elizabe...</div>\n",
       "\n",
       "\n",
       " <h4 class='cord'>Beware of asymptomatic transmission: Study on 2019-nCoV prevention and control measures based on extended SEIR model</h4>\n",
       " <div id=\"published_when\">\n",
       "     <span class='published'>2 months ago</span>\n",
       "     \n",
       "        <a href='http://doi.org/10.1101/2020.01.28.923169' rel=\"noopener noreferrer\" target=\"_blank\" class='link'>Link</a> <span id='cord_uid'>x443k65a</span>\n",
       "     \n",
       " </div>\n",
       " <div class='abstract'>In the early stage, people knows little about the 2019-nCoV virus was not clear, and the spread period was encountering China’s annual spring migration, which made the epidemic spread rapidly from Wuhan to almost all provinces in China.MethodsThis study builds a SEIRD model that considers the movement of people across regions, revealing the effects of three measures on controlling the spread of the epidemic.Based on MATLAB R2017a, computational experiments were performed to simulate the epidemic...</div>\n",
       " <div class='authors'>Peng Shao; Yingji Shan</div>\n",
       "\n",
       "\n",
       " <h4 class='cord'>Estimation of the epidemic properties of the 2019 novel coronavirus: A mathematical modeling study</h4>\n",
       " <div id=\"published_when\">\n",
       "     <span class='published'>1 month ago</span>\n",
       "     \n",
       "        <a href='http://doi.org/10.1101/2020.02.18.20024315' rel=\"noopener noreferrer\" target=\"_blank\" class='link'>Link</a> <span id='cord_uid'>nzynerfu</span>\n",
       "     \n",
       " </div>\n",
       " <div class='abstract'>Methods We conducted a mathematical modeling study using five independent methods to assess the basic reproduction number (R0) of COVID-19, using data on confirmed cases obtained from the China National Health Commission for the period 10th January to 8th February.\n",
       "We analyzed the data for the period before the closure of Wuhan city (10th January to 23rd January) and the post-closure period (23rd January to 8th February) and for the whole period, to assess both the epidemic risk of the virus and...</div>\n",
       " <div class='authors'>Jinghua Li; Yijing Wang; Stuart Gilmour; Mengying Wang; Daisuke Yoneoka; Ying Wang; Xinyi You; Jing Gu; Chun Hao; Liping Peng; Zhicheng Du; Dong Roman Xu; Yuantao Hao</div>\n",
       "\n",
       "\n",
       " <h4 class='cord'>Epidemiology and Transmission of COVID-19 in Shenzhen China: Analysis of 391 cases and 1,286 of their close contacts</h4>\n",
       " <div id=\"published_when\">\n",
       "     <span class='published'>1 month ago</span>\n",
       "     \n",
       "        <a href='http://doi.org/10.1101/2020.03.03.20028423' rel=\"noopener noreferrer\" target=\"_blank\" class='link'>Link</a> <span id='cord_uid'>hnx213kp</span>\n",
       "     \n",
       " </div>\n",
       " <div class='abstract'>The resulting data provide a rare opportunity to measure key metrics of disease course, transmission, and the impact of control.\n",
       "We compare cases identified through symptomatic surveillance and contact tracing, and estimate the time from symptom onset to confirmation, isolation, and hospitalization.\n",
       "Interpretation Our data on cases as well as their infected and uninfected close contacts provide key insights into SARS-CoV-2 epidemiology.\n",
       "This work shows that heightened surveillance and isolation,...</div>\n",
       " <div class='authors'>Qifang Bi; Yongsheng Wu; Shujiang Mei; Chenfei Ye; Xuan Zou; Zhen Zhang; Xiaojian Liu; Lan Wei; Shaun A Truelove; Tong Zhang; Wei Gao; Cong Cheng; Xiujuan Tang; Xiaoliang Wu; Yu Wu; Binbin Sun; Suli H...</div>\n",
       "\n",
       "\n",
       " <h4 class='cord'>The effect of control strategies to reduce social mixing on outcomes of the COVID-19 epidemic in Wuhan, China: a modelling study</h4>\n",
       " <div id=\"published_when\">\n",
       "     <span class='published'>2 weeks ago</span>\n",
       "     \n",
       "        <a href='http://doi.org/10.1016/s2468-2667(20)30073-6' rel=\"noopener noreferrer\" target=\"_blank\" class='link'>Link</a> <span id='cord_uid'>rvxkt60m</span>\n",
       "     \n",
       " </div>\n",
       " <div class='abstract'>Using these matrices and the latest estimates of the epidemiological parameters of the Wuhan outbreak, we simulated the ongoing trajectory of an outbreak in Wuhan using an age-structured susceptible-exposed-infected-removed (SEIR) model for several physical distancing measures.\n",
       "We fitted the latest estimates of epidemic parameters from a transmission model to data on local and internationally exported cases from Wuhan in an age-structured epidemic framework and investigated the age distribution ...</div>\n",
       " <div class='authors'>Prem, Kiesha; Liu, Yang; Russell, Timothy W; Kucharski, Adam J; Eggo, Rosalind M; Davies, Nicholas; Jit, Mark; Klepac, Petra; Flasche, Stefan; Clifford, Samuel; Pearson, Carl A B; Munday, James D; Abb...</div>\n",
       "\n",
       "\n",
       "\n",
       "<style>\n",
       ".authors{\n",
       "    margin: 4px 0px 15px;\n",
       "}\n",
       ".authors { color: #778899}\n",
       ".published {color: #2F4F4F; font-weight: bold; font-size: 0.9em; margin-right: 10px}\n",
       "#cord_uid{margin-left: 10px; font-weight: bold; font-size: 0.9em;}\n",
       "h2.cord, h3.cord, h4.cord {margin: 15px 0px 8px 0px}\n",
       "h4.cord{color:#008B8B; font-size: 1.1em; margin-top: 25px}\n",
       "div.abstract { margin: 10px 0px 2px}\n",
       "div#pubished_when{margin: 10px; display: block}\n",
       ".link-text {color: #808080; font-size: 0.9em}\n",
       "</style>"
      ],
      "text/plain": [
       "<cord.cord19.SearchResults at 0x1bcf9adedd8>"
      ]
     },
     "execution_count": 9,
     "metadata": {},
     "output_type": "execute_result"
    }
   ],
   "source": [
    "query = \"\"\"\n",
    "Range of incubation periods for the disease in humans (and how this varies across age and health status) \n",
    "and how long individuals are contagious, even after recovery\n",
    "\"\"\"\n",
    "research_papers.search(query, covid_related=True)"
   ]
  },
  {
   "cell_type": "code",
   "execution_count": null,
   "metadata": {},
   "outputs": [],
   "source": []
  }
 ],
 "metadata": {
  "kernelspec": {
   "display_name": "cord",
   "language": "python",
   "name": "cord"
  },
  "language_info": {
   "codemirror_mode": {
    "name": "ipython",
    "version": 3
   },
   "file_extension": ".py",
   "mimetype": "text/x-python",
   "name": "python",
   "nbconvert_exporter": "python",
   "pygments_lexer": "ipython3",
   "version": "3.7.0"
  }
 },
 "nbformat": 4,
 "nbformat_minor": 4
}
