{
 "cells": [
  {
   "cell_type": "markdown",
   "metadata": {},
   "source": [
    "# Load Json Papers"
   ]
  },
  {
   "cell_type": "code",
   "execution_count": 16,
   "metadata": {},
   "outputs": [
    {
     "name": "stdout",
     "output_type": "stream",
     "text": [
      "The autoreload extension is already loaded. To reload it, use:\n",
      "  %reload_ext autoreload\n"
     ]
    }
   ],
   "source": [
    "%load_ext autoreload\n",
    "%autoreload 2\n",
    "from cord.cord19 import ResearchPapers, load_json"
   ]
  },
  {
   "cell_type": "code",
   "execution_count": 17,
   "metadata": {
    "scrolled": true
   },
   "outputs": [],
   "source": [
    "#research_papers = ResearchPapers.from_data_dir()\n",
    "research_papers = ResearchPapers.from_pickle()"
   ]
  },
  {
   "cell_type": "code",
   "execution_count": 18,
   "metadata": {},
   "outputs": [],
   "source": [
    "jpaper = research_papers[3].full_text_path()"
   ]
  },
  {
   "cell_type": "code",
   "execution_count": 19,
   "metadata": {},
   "outputs": [],
   "source": [
    "jpath = 'data/CORD-19-research-challenge/custom_license/custom_license/aecbc613ebdab36753235197ffb4f35734b5ca63.json'"
   ]
  },
  {
   "cell_type": "code",
   "execution_count": 20,
   "metadata": {},
   "outputs": [],
   "source": [
    "jpaper = load_json(jpath)"
   ]
  },
  {
   "cell_type": "code",
   "execution_count": 21,
   "metadata": {},
   "outputs": [
    {
     "data": {
      "text/plain": [
       "'Clinical and Immunologic Studies in Identical Twins Discordant for Systemic Lupus Erythematosus'"
      ]
     },
     "execution_count": 21,
     "metadata": {},
     "output_type": "execute_result"
    }
   ],
   "source": [
    "jpaper.title"
   ]
  },
  {
   "cell_type": "markdown",
   "metadata": {},
   "source": [
    "## JPaper"
   ]
  },
  {
   "cell_type": "code",
   "execution_count": 22,
   "metadata": {},
   "outputs": [
    {
     "data": {
      "text/html": [
       "<h4>Clinical and Immunologic Studies in Identical Twins Discordant for Systemic Lupus Erythematosus</h4>\n",
       "<div style=\"max-height:80px\">Middle-aged female identical twins, one of whom had systemic lupus erythematosus (SLE), were evaluated for immunologic reactivity to previous antigenic challenges, including primary immunization with a foreign antigen, keyhole limpet hemocyanin (KLH). These two women had lived together for all of their 58 years and neither was receiving anti-inflammatory or immunosuppressive drugs at the time of these studies. Both twins demonstrated comparable 7s and 19s humoral antibody response to KLH, as well as similar viral antibody titers. However, the twin with SLE was anergic to common antigens, streptokinase-streptodornase, Trichophyton and Candida; furthermore delayed hypersensitivity to KLH did not develop after immunization. This observed discrepancy between humoral and cellular immunity in genetically similar subjects may be significant in the pathogenesis of SLE.\n",
       "Reports of an increased incidence of systemic lupus erythematosus (SLE), other connective tissue diseases, and serologic abnormalities in the families of oatients with SLE have empha-<div>"
      ],
      "text/plain": [
       "JPaper"
      ]
     },
     "execution_count": 22,
     "metadata": {},
     "output_type": "execute_result"
    }
   ],
   "source": [
    "jpaper"
   ]
  },
  {
   "cell_type": "markdown",
   "metadata": {},
   "source": [
    "## Abstract"
   ]
  },
  {
   "cell_type": "code",
   "execution_count": 23,
   "metadata": {},
   "outputs": [
    {
     "data": {
      "text/plain": [
       "'Middle-aged female identical twins, one of whom had systemic lupus erythematosus (SLE), were evaluated for immunologic reactivity to previous antigenic challenges, including primary immunization with a foreign antigen, keyhole limpet hemocyanin (KLH). These two women had lived together for all of their 58 years and neither was receiving anti-inflammatory or immunosuppressive drugs at the time of these studies. Both twins demonstrated comparable 7s and 19s humoral antibody response to KLH, as well as similar viral antibody titers. However, the twin with SLE was anergic to common antigens, streptokinase-streptodornase, Trichophyton and Candida; furthermore delayed hypersensitivity to KLH did not develop after immunization. This observed discrepancy between humoral and cellular immunity in genetically similar subjects may be significant in the pathogenesis of SLE.\\nReports of an increased incidence of systemic lupus erythematosus (SLE), other connective tissue diseases, and serologic abnormalities in the families of oatients with SLE have empha-'"
      ]
     },
     "execution_count": 23,
     "metadata": {},
     "output_type": "execute_result"
    }
   ],
   "source": [
    "jpaper.abstract"
   ]
  },
  {
   "cell_type": "markdown",
   "metadata": {},
   "source": [
    "## Section"
   ]
  },
  {
   "cell_type": "code",
   "execution_count": 6,
   "metadata": {},
   "outputs": [
    {
     "data": {
      "text/plain": [
       "['The patient (Fo, ) was a 58 year old mentally retarded white woman, born in a rural area of southwestern Virginia.',\n",
       " 'In July 1967 she was referred to the University of Virginia Hospital (UVH) because of edema of the legs and facial swelling of recent onset. She admitted having arthralgias but denied having recent rash, pleurisy or hair loss. Previous medical history revealed that a systolic heart murmur had been heard in 1962. A hemogram and urinalysis at that time were normal. In June 1963 she had been admitted to her local hospital with congestive heart failure attributed to mitral insufficiency.',\n",
       " 'Laboratory studies included a positive lupus erythematosus cell preparation, and she received a brief course of prednisone therapy. A pruritic rash of her neck and trunk was recorded in June 1964.',\n",
       " 'Family members included a healthy twin sister (Case 2), who was identical in appearance.',\n",
       " 'The sisters shared the phenotype Gm (3, 5, 13, 14) ; Inv(-l)* and common red blood cell groups (type 0, DcE/ DcE).',\n",
       " 'Their histocompatibility lymphocyte typing against 100 serums was identical, being HL-Al and HL-A3 and Te50 positive.?',\n",
       " 'On physical examination the patient had a left pleural effusion and pitting edema of both legs. There was no skin rash or joint abnormalities.',\n",
       " \"Urine sediment showed 10 to 20 white blood cells and 10 to 15 red blood cells/high power field, with many doubly refractile fat bodies under polarized light. Other laboratory data included a hematocrit value of 28 per cent, white blood cell count 9,000/mm3, blood urea nitrogen 28 mg,ilOO ml and creatinine clearance 24 ml/min. Serologic studies were as follows: latex nucleoprotein 3+, lupus erythematosus cell preparation positive, hemolytic complement (C'H50) 28 units (normal range 34 to 48 units) and rheumatoid factor (RF) negative. Hypoproteinemia (serum albumin 1.7 g/100 ml) and abnormal urine sediment were considered to be secondary to active lupus glomerulonephritis.\",\n",
       " 'In addition a urine culture showed infection. The patient was treated with diuretics, prednisone and antibiotics.',\n",
       " \"In December 1967 the patient and her twin sister were moved to a nursing home. The following month the patient was rehospitalized with bilateral pulmonary infiltrates, a left pleural effusion and edema extending from both feet to the iliac crests. Microscopic hematuria. proteinuria (4 g/24 hours), and depressed serum complement (22 to 33 C'H50 units) were consistent with active SLE, and the dose of prednisone was increased to 80 mg/day. Her course was complicated by progressive azotemia (blood urea nitrogen reaching a maximum of 210 mg/lOO ml), which was gradually reversed by increasing intravascular volume. The dose of prednisone was tapered and then discontinued in late March 1968. Clinically, the patient's condition sta-*Courtesy of A. G. Steinberg, M.D., Department of Biology, Case Western Reserve University,\",\n",
       " 'Cleveland, Ohio, who tested forGm (1,2,3,4,5,13,14.21) and Inv (1) bilized (blood urea nitrogen 80 mgilO0 ml). and she remained asymptomatic.',\n",
       " 'Blood pressure ranged from 160 to _l80/90 to 100 mm Hg. and there was no peripheral edema. Her urine continued to show 2-l-protein, numerous white cells (cultures usually positive), hyaline and granular casts, and doubly refractive fat bodies.',\n",
       " 'Both twins were hospitalized in June 1970 in the Clinical Research Center for concurrent immunologic evaluation.',\n",
       " \"Neither twin had specific complaints. One (Case l), however, had decreased renal function, documented by a blood urea nitrogen level of 100 mg/lOO ml, serum creatinine of 4.4 mg/lOO ml, and 24 hour protein excretion of 2.1 to 7.3 g. Although antinuclear factor remained positive, a lupus erythematosus cell preparation was negative, and serum complement was normal. Serum deoxyribonucleic acid (DNA)binding activity (performed subsequently on serum stored from this hospitalization) was 60 per cent (normal controls less than 20 per cent) [12] . Glucose tolerance test was also abnormal (blood sugar 109 mg/ 100 ml, fasting 288 mg/lOO ml at 1 hour, 330 mg/lOO ml at 2 hours and 142 mg/lOO ml at 3 hours). During late 1970 the patient's condition deteriorated. In early October a urinary tract Infection developed with gram-negative sepsis, and although her condition improved temporarily, she died in December.\",\n",
       " 'At autopsy extensive chronic polyserositis was found, with fibrous pleural, pericardial and peritoneal adhesions, particularly over the spleen and liver. The heart was moderately enlarged due to left ventricular hypertrophy (420 g). but the coronary arteries were free of significant disease. Except for focal calcification jn the mitral valve ring, the valves of the heart were normal;',\n",
       " 'Libman-Sachs endocarditis was not seen. The spleen was slightly enlarged (200 g), congested and firm. The liver was unremarkable.',\n",
       " \"The kidneys were pale and diffusely granular. The right kidney also contained a large ischemic scar and weighed only 70 g as compared to the left kidney, which weighed 130 g. Histologic sections of the kidneys showed diffusely thickened glomerular basement membranes, glomerular hypercellularity and adhesions of some glomerular tufts to Bowman's capsule. Many glomeruli were hyalinized, with associated atrophy and interstitial infiltrate of lymphocytes. Sections of lung contained evidence of multiple small old pulmonary emboli.\",\n",
       " 'The remainder of the examination was noncontributory.',\n",
       " 'Case 2. This patient (Fe) is the identical twin sister of the patient just described (Case 1). She spent her entire life with her sister in a remote cabin until December 1967 when they moved to the nursing home. She was examined at UVH for the first time in August 1968. She denied having any previous illnesses, as well as photosensitivity, rash, arthralgias or pleurisy. Blood pressure was 120/80 mm Hg, and other than the mental retardation physical examination revealed no abnormalities.',\n",
       " 'Laboratory data obtained during two outpatient visits (August 1968 and April 1970) were normal (hematocrit 42 per cent. white blood cell count 8,700/mm3, blood urea nitrogen 16 mg/lOO ml) except for slight hypergammaglobulinemia (1.5 to 2.2 g/l00 ml). Routine urinalysis showed an occasional white blood cell and no proteinuria.',\n",
       " 'There was no serologic evidence of SLE.',\n",
       " 'This patient was hospitalized with her sister (Case 1) in the Clinical Research Center in June 1970 so that her immunologic status could be evaluated. Blood pressure was 130 to 160/90 mm Hg, and there was thyroid enlargement with irregularity in the left upper lobe. Serum thyroxine levels, chest roentgenogram and electrocardiogram were normal. C;hest roentgenogram and electrocardiogram were normal. Glucose tolerance test was abnormal (blood sugar fasting 122 mg/lOO ml, 372 mg/lOO ml at 1 hour, 270 mg/ 100 ml at 2 hours, 64 mg/lOO ml at 3 hours). The patient was last seen by us in January 1972 when there was still no clinical or laboratory evidence to suggest SLE.',\n",
       " \"SLE as the etiology of the patient's nephritis (Case 1) was first suggested by the positive lupus erythematosus cell preparation in 1963. Subsequently the presence of antinuclear factor, anti DNA, decreased serum complement, cryoglobulins and, at autopsy, polyserositis and histologic changes in the kidneys, supported the diagnosis of SLE. The healthy identical twin at age 59 (Case 2) has never had any symptoms suggestive of SLE. Multiple blood samples tested for lupus erythematosus cells, antinuclear factor, anti DNA, rheumatoid factor and cryoglobulins (Table I) Delayed hypersensitivity to common antigens was assessed by the intradermal injection of 0.1 ml of 1:40 streptokinase-streptodornase (SK-SD), (Varidasew, Lederle, Pearl River, N.Y.), 1:30 Trichophyton (Hollister Stier, Yeadon, Pa.) and 1 :lOO Candida albicans (Hollister Stier). Response was measured as millimeters of induration after 5, 24 and 48 hours. KLH Immunization.\",\n",
       " 'Response to a foreign antigen was evaluated after immunization with KLH. KLH was obtained as an ammonium sulfate precipitate from the Pacific Biomarine Supply Company, Venice, Calif. This material was prepared in the associated form by a method modified from Campbell and co-workers [15] . It was filtered through a 0.45 p Millipore@ filter, and Merthiolate@ (1:1500) was added. KLH 2 mg was injected subcutaneously and serum samples were obtained frequently for several weeks.',\n",
       " 'Antibody to KLH was measured by the tanned cell hemagglutination micromethod [16] . Formalinized sheep red blood cells were tanned and then coated with 1.5 mg KLH/ml of packed red cells. Agglutination was read after 4 hours in plastic microtiter trays.',\n",
       " 'Sucrose gradient centrifugation was performed on selected serums (positive for anti-KLH) to measure relative amounts of antibody in 7s and 19s fractions. Sucrose was layered in concentrations from 60 to IO per cent (ph6sphate buffered solution, pH 7.3) and 0.5 ml aliquot of a 1:4 dilution of serum was placed at the top. Bromphenol blue was used as a marker for albumin. Centrifugation at 100,000 X G was carried out for 15 hours. Five-tenth milliliter fractions were taken from the bottom of the tubes and reassayed for anti-KLH by hemagglutination and double diffusion in agarose.',\n",
       " 'Skin tests for delayed hypersensitivity were performed on the 13th and 35th days after immunization, with observations recorded after 24, 48 and 72 hours. Biopsy specimens from the areas injected .with 10 pg KLH were obtained 48 hours after the second skin tests were performed.',\n",
       " 'Studies.',\n",
       " \"The proliferative response of the twins' lymphocytes to KLH and phytohemagglutinin (PI-IA) was determined using previously described technics [17] . In brief, 5 X lo6 washed (Case 2) which increased in size when injections of 10 and 100 pg were given (Table I I ). In contrast, there was no cutaneous response to the injection of 1 or 10 pg of KLH in the twin with SLE (Case 1), and after the injection of 100 pg only a 4 by 5 mm site of induration was observed. Biopsy of the 10 mm sites confirmed the difference in response of the twin sisters; there was a paucity of lymphocytes near blood vessels and surrounding dermis in the section from the twin with SLE (Case 1), whereas a round cell infiltrate typical of delayed hypersensitivity was apparent in the dermis of the healthy twin (Case 2). Lymphocyte blastogenic response (Table II) : Prior to immunization, neither twin's lymphocytes could be stimulated by 15 pg/ml KLH. The healthy sister (Case 2) demonstrated sensitization of her lymphocytes to KLH 14 days after immunization at this time. 3HTdr uptake by stimulated cells were 3.6 times control values. By 28 days after immunization this response had increased to 49 times control values. In contrast, lymphocytes from the twins with SLE (Case 1) failed to respond to KLH. 3HTdr uptake of her stimulated cells was never greater than two times control values. The kinetics of the 28 day response to KLH are reported elsewhere [19] .\",\n",
       " 'The main observations which emerge from these case studies include: first, SLE developed in only one member of a set of genetically and environmentally similar twins, and second, the affected twin showed a marked difference between humoral and cellular response to an administered antigen. Titers represent averages of tubes 2, 3 and 4 (19S), and 5, 6 and 7 (7s).',\n",
       " 'Another difficulty has been the lack of uniform criteria in establishing the diagnosis of SLE. In two patients, in separate reports, the diagnosis was made solely on clinical grounds [4, 8] . In addition to fulfilling the criteria for the diagnosis of SLE recommended by the American Rheumatism Association [22] , the serologic and postmortem findings confirmed the clinical impression in our patient. Our twins are the oldest in the series of previous studies (ages 3 to 41), lessening the likelihood that the disease will develop in the healthy twin. These patients are also unusual in that they shared the same environment into adult life and that similar antibody titers to multiple viruses developed.',\n",
       " 'Although in these twins there was remarkable correlation between the antibody titer and the antibody response after KLH immunization, their cellmediated responses were different. Delayed cutaneous reactions and lymphocyte proliferative responses to antigens were decreased in the twin with SLE (Case 1) suggesting that she had impaired delayed hypersensitivity.',\n",
       " 'When these stud-']"
      ]
     },
     "execution_count": 6,
     "metadata": {},
     "output_type": "execute_result"
    }
   ],
   "source": [
    "jpaper.sections"
   ]
  },
  {
   "cell_type": "markdown",
   "metadata": {},
   "source": [
    "## Text"
   ]
  },
  {
   "cell_type": "code",
   "execution_count": 30,
   "metadata": {},
   "outputs": [
    {
     "data": {
      "text/plain": [
       "\"The patient (Fo, ) was a 58 year old mentally retarded white woman, born in a rural area of southwestern Virginia. \\n In July 1967 she was referred to the University of Virginia Hospital (UVH) because of edema of the legs and facial swelling of recent onset. She admitted having arthralgias but denied having recent rash, pleurisy or hair loss. Previous medical history revealed that a systolic heart murmur had been heard in 1962. A hemogram and urinalysis at that time were normal. In June 1963 she had been admitted to her local hospital with congestive heart failure attributed to mitral insufficiency. \\n Laboratory studies included a positive lupus erythematosus cell preparation, and she received a brief course of prednisone therapy. A pruritic rash of her neck and trunk was recorded in June 1964. \\n Family members included a healthy twin sister (Case 2), who was identical in appearance. \\n The sisters shared the phenotype Gm (3, 5, 13, 14) ; Inv(-l)* and common red blood cell groups (type 0, DcE/ DcE). \\n Their histocompatibility lymphocyte typing against 100 serums was identical, being HL-Al and HL-A3 and Te50 positive.? \\n On physical examination the patient had a left pleural effusion and pitting edema of both legs. There was no skin rash or joint abnormalities. \\n Urine sediment showed 10 to 20 white blood cells and 10 to 15 red blood cells/high power field, with many doubly refractile fat bodies under polarized light. Other laboratory data included a hematocrit value of 28 per cent, white blood cell count 9,000/mm3, blood urea nitrogen 28 mg,ilOO ml and creatinine clearance 24 ml/min. Serologic studies were as follows: latex nucleoprotein 3+, lupus erythematosus cell preparation positive, hemolytic complement (C'H50) 28 units (normal range 34 to 48 units) and rheumatoid factor (RF) negative. Hypoproteinemia (serum albumin 1.7 g/100 ml) and abnormal urine sediment were considered to be secondary to active lupus glomerulonephritis. \\n In addition a urine culture showed infection. The patient was treated with diuretics, prednisone and antibiotics. \\n In December 1967 the patient and her twin sister were moved to a nursing home. The following month the patient was rehospitalized with bilateral pulmonary infiltrates, a left pleural effusion and edema extending from both feet to the iliac crests. Microscopic hematuria. proteinuria (4 g/24 hours), and depressed serum complement (22 to 33 C'H50 units) were consistent with active SLE, and the dose of prednisone was increased to 80 mg/day. Her course was complicated by progressive azotemia (blood urea nitrogen reaching a maximum of 210 mg/lOO ml), which was gradually reversed by increasing intravascular volume. The dose of prednisone was tapered and then discontinued in late March 1968. Clinically, the patient's condition sta-*Courtesy of A. G. Steinberg, M.D., Department of Biology, Case Western Reserve University, \\n Cleveland, Ohio, who tested forGm (1,2,3,4,5,13,14.21) and Inv (1) bilized (blood urea nitrogen 80 mgilO0 ml). and she remained asymptomatic. \\n Blood pressure ranged from 160 to _l80/90 to 100 mm Hg. and there was no peripheral edema. Her urine continued to show 2-l-protein, numerous white cells (cultures usually positive), hyaline and granular casts, and doubly refractive fat bodies. \\n Both twins were hospitalized in June 1970 in the Clinical Research Center for concurrent immunologic evaluation. \\n Neither twin had specific complaints. One (Case l), however, had decreased renal function, documented by a blood urea nitrogen level of 100 mg/lOO ml, serum creatinine of 4.4 mg/lOO ml, and 24 hour protein excretion of 2.1 to 7.3 g. Although antinuclear factor remained positive, a lupus erythematosus cell preparation was negative, and serum complement was normal. Serum deoxyribonucleic acid (DNA)binding activity (performed subsequently on serum stored from this hospitalization) was 60 per cent (normal controls less than 20 per cent) [12] . Glucose tolerance test was also abnormal (blood sugar 109 mg/ 100 ml, fasting 288 mg/lOO ml at 1 hour, 330 mg/lOO ml at 2 hours and 142 mg/lOO ml at 3 hours). During late 1970 the patient's condition deteriorated. In early October a urinary tract Infection developed with gram-negative sepsis, and although her condition improved temporarily, she died in December. \\n At autopsy extensive chronic polyserositis was found, with fibrous pleural, pericardial and peritoneal adhesions, particularly over the spleen and liver. The heart was moderately enlarged due to left ventricular hypertrophy (420 g). but the coronary arteries were free of significant disease. Except for focal calcification jn the mitral valve ring, the valves of the heart were normal; \\n Libman-Sachs endocarditis was not seen. The spleen was slightly enlarged (200 g), congested and firm. The liver was unremarkable. \\n The kidneys were pale and diffusely granular. The right kidney also contained a large ischemic scar and weighed only 70 g as compared to the left kidney, which weighed 130 g. Histologic sections of the kidneys showed diffusely thickened glomerular basement membranes, glomerular hypercellularity and adhesions of some glomerular tufts to Bowman's capsule. Many glomeruli were hyalinized, with associated atrophy and interstitial infiltrate of lymphocytes. Sections of lung contained evidence of multiple small old pulmonary emboli. \\n The remainder of the examination was noncontributory. \\n Case 2. This patient (Fe) is the identical twin sister of the patient just described (Case 1). She spent her entire life with her sister in a remote cabin until December 1967 when they moved to the nursing home. She was examined at UVH for the first time in August 1968. She denied having any previous illnesses, as well as photosensitivity, rash, arthralgias or pleurisy. Blood pressure was 120/80 mm Hg, and other than the mental retardation physical examination revealed no abnormalities. \\n Laboratory data obtained during two outpatient visits (August 1968 and April 1970) were normal (hematocrit 42 per cent. white blood cell count 8,700/mm3, blood urea nitrogen 16 mg/lOO ml) except for slight hypergammaglobulinemia (1.5 to 2.2 g/l00 ml). Routine urinalysis showed an occasional white blood cell and no proteinuria. \\n There was no serologic evidence of SLE. \\n This patient was hospitalized with her sister (Case 1) in the Clinical Research Center in June 1970 so that her immunologic status could be evaluated. Blood pressure was 130 to 160/90 mm Hg, and there was thyroid enlargement with irregularity in the left upper lobe. Serum thyroxine levels, chest roentgenogram and electrocardiogram were normal. C;hest roentgenogram and electrocardiogram were normal. Glucose tolerance test was abnormal (blood sugar fasting 122 mg/lOO ml, 372 mg/lOO ml at 1 hour, 270 mg/ 100 ml at 2 hours, 64 mg/lOO ml at 3 hours). The patient was last seen by us in January 1972 when there was still no clinical or laboratory evidence to suggest SLE. \\n SLE as the etiology of the patient's nephritis (Case 1) was first suggested by the positive lupus erythematosus cell preparation in 1963. Subsequently the presence of antinuclear factor, anti DNA, decreased serum complement, cryoglobulins and, at autopsy, polyserositis and histologic changes in the kidneys, supported the diagnosis of SLE. The healthy identical twin at age 59 (Case 2) has never had any symptoms suggestive of SLE. Multiple blood samples tested for lupus erythematosus cells, antinuclear factor, anti DNA, rheumatoid factor and cryoglobulins (Table I) Delayed hypersensitivity to common antigens was assessed by the intradermal injection of 0.1 ml of 1:40 streptokinase-streptodornase (SK-SD), (Varidasew, Lederle, Pearl River, N.Y.), 1:30 Trichophyton (Hollister Stier, Yeadon, Pa.) and 1 :lOO Candida albicans (Hollister Stier). Response was measured as millimeters of induration after 5, 24 and 48 hours. KLH Immunization. \\n Response to a foreign antigen was evaluated after immunization with KLH. KLH was obtained as an ammonium sulfate precipitate from the Pacific Biomarine Supply Company, Venice, Calif. This material was prepared in the associated form by a method modified from Campbell and co-workers [15] . It was filtered through a 0.45 p Millipore@ filter, and Merthiolate@ (1:1500) was added. KLH 2 mg was injected subcutaneously and serum samples were obtained frequently for several weeks. \\n Antibody to KLH was measured by the tanned cell hemagglutination micromethod [16] . Formalinized sheep red blood cells were tanned and then coated with 1.5 mg KLH/ml of packed red cells. Agglutination was read after 4 hours in plastic microtiter trays. \\n Sucrose gradient centrifugation was performed on selected serums (positive for anti-KLH) to measure relative amounts of antibody in 7s and 19s fractions. Sucrose was layered in concentrations from 60 to IO per cent (ph6sphate buffered solution, pH 7.3) and 0.5 ml aliquot of a 1:4 dilution of serum was placed at the top. Bromphenol blue was used as a marker for albumin. Centrifugation at 100,000 X G was carried out for 15 hours. Five-tenth milliliter fractions were taken from the bottom of the tubes and reassayed for anti-KLH by hemagglutination and double diffusion in agarose. \\n Skin tests for delayed hypersensitivity were performed on the 13th and 35th days after immunization, with observations recorded after 24, 48 and 72 hours. Biopsy specimens from the areas injected .with 10 pg KLH were obtained 48 hours after the second skin tests were performed. \\n Studies. \\n The proliferative response of the twins' lymphocytes to KLH and phytohemagglutinin (PI-IA) was determined using previously described technics [17] . In brief, 5 X lo6 washed (Case 2) which increased in size when injections of 10 and 100 pg were given (Table I I ). In contrast, there was no cutaneous response to the injection of 1 or 10 pg of KLH in the twin with SLE (Case 1), and after the injection of 100 pg only a 4 by 5 mm site of induration was observed. Biopsy of the 10 mm sites confirmed the difference in response of the twin sisters; there was a paucity of lymphocytes near blood vessels and surrounding dermis in the section from the twin with SLE (Case 1), whereas a round cell infiltrate typical of delayed hypersensitivity was apparent in the dermis of the healthy twin (Case 2). Lymphocyte blastogenic response (Table II) : Prior to immunization, neither twin's lymphocytes could be stimulated by 15 pg/ml KLH. The healthy sister (Case 2) demonstrated sensitization of her lymphocytes to KLH 14 days after immunization at this time. 3HTdr uptake by stimulated cells were 3.6 times control values. By 28 days after immunization this response had increased to 49 times control values. In contrast, lymphocytes from the twins with SLE (Case 1) failed to respond to KLH. 3HTdr uptake of her stimulated cells was never greater than two times control values. The kinetics of the 28 day response to KLH are reported elsewhere [19] . \\n The main observations which emerge from these case studies include: first, SLE developed in only one member of a set of genetically and environmentally similar twins, and second, the affected twin showed a marked difference between humoral and cellular response to an administered antigen. Titers represent averages of tubes 2, 3 and 4 (19S), and 5, 6 and 7 (7s). \\n Another difficulty has been the lack of uniform criteria in establishing the diagnosis of SLE. In two patients, in separate reports, the diagnosis was made solely on clinical grounds [4, 8] . In addition to fulfilling the criteria for the diagnosis of SLE recommended by the American Rheumatism Association [22] , the serologic and postmortem findings confirmed the clinical impression in our patient. Our twins are the oldest in the series of previous studies (ages 3 to 41), lessening the likelihood that the disease will develop in the healthy twin. These patients are also unusual in that they shared the same environment into adult life and that similar antibody titers to multiple viruses developed. \\n Although in these twins there was remarkable correlation between the antibody titer and the antibody response after KLH immunization, their cellmediated responses were different. Delayed cutaneous reactions and lymphocyte proliferative responses to antigens were decreased in the twin with SLE (Case 1) suggesting that she had impaired delayed hypersensitivity. \\n When these stud-\""
      ]
     },
     "execution_count": 30,
     "metadata": {},
     "output_type": "execute_result"
    }
   ],
   "source": [
    "jpaper.get_text()"
   ]
  },
  {
   "cell_type": "code",
   "execution_count": null,
   "metadata": {},
   "outputs": [],
   "source": []
  }
 ],
 "metadata": {
  "kernelspec": {
   "display_name": "cord",
   "language": "python",
   "name": "cord"
  },
  "language_info": {
   "codemirror_mode": {
    "name": "ipython",
    "version": 3
   },
   "file_extension": ".py",
   "mimetype": "text/x-python",
   "name": "python",
   "nbconvert_exporter": "python",
   "pygments_lexer": "ipython3",
   "version": "3.7.0"
  }
 },
 "nbformat": 4,
 "nbformat_minor": 4
}
