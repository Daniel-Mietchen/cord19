{
 "cells": [
  {
   "cell_type": "markdown",
   "metadata": {},
   "source": [
    "# CORD"
   ]
  },
  {
   "cell_type": "markdown",
   "metadata": {},
   "source": [
    "## CORD Library"
   ]
  },
  {
   "cell_type": "code",
   "execution_count": 4,
   "metadata": {},
   "outputs": [
    {
     "name": "stderr",
     "output_type": "stream",
     "text": [
      "[nltk_data] Downloading package punkt to\n",
      "[nltk_data]     C:\\Users\\dwight\\AppData\\Roaming\\nltk_data...\n",
      "[nltk_data]   Package punkt is already up-to-date!\n"
     ]
    },
    {
     "name": "stdout",
     "output_type": "stream",
     "text": [
      "The autoreload extension is already loaded. To reload it, use:\n",
      "  %reload_ext autoreload\n"
     ]
    }
   ],
   "source": [
    "%load_ext autoreload\n",
    "%autoreload 2\n",
    "from cord.cord19 import *\n",
    "from cord.core import parallel, ifnone\n",
    "pd.options.display.max_colwidth = 200"
   ]
  },
  {
   "cell_type": "markdown",
   "metadata": {},
   "source": [
    "# 1. Reading the Research Papers"
   ]
  },
  {
   "cell_type": "markdown",
   "metadata": {},
   "source": [
    "## From Paths"
   ]
  },
  {
   "cell_type": "code",
   "execution_count": 5,
   "metadata": {},
   "outputs": [
    {
     "name": "stdout",
     "output_type": "stream",
     "text": [
      "Load JSON from data\\CORD-19-research-challenge\\2020-03-13\\biorxiv_medrxiv\\biorxiv_medrxiv\n"
     ]
    },
    {
     "data": {
      "application/vnd.jupyter.widget-view+json": {
       "model_id": "f0093a8ed4b14748ac3a0d60c9c1c499",
       "version_major": 2,
       "version_minor": 0
      },
      "text/plain": [
       "HBox(children=(FloatProgress(value=0.0, max=803.0), HTML(value='')))"
      ]
     },
     "metadata": {},
     "output_type": "display_data"
    },
    {
     "name": "stdout",
     "output_type": "stream",
     "text": [
      "Load JSON from data\\CORD-19-research-challenge\\2020-03-13\\comm_use_subset\\comm_use_subset\n"
     ]
    },
    {
     "data": {
      "application/vnd.jupyter.widget-view+json": {
       "model_id": "4fb3691344e04cfdab916f7ea1ed6877",
       "version_major": 2,
       "version_minor": 0
      },
      "text/plain": [
       "HBox(children=(FloatProgress(value=0.0, max=9000.0), HTML(value='')))"
      ]
     },
     "metadata": {},
     "output_type": "display_data"
    },
    {
     "name": "stdout",
     "output_type": "stream",
     "text": [
      "Load JSON from data\\CORD-19-research-challenge\\2020-03-13\\noncomm_use_subset\\noncomm_use_subset\n"
     ]
    },
    {
     "data": {
      "application/vnd.jupyter.widget-view+json": {
       "model_id": "6eb5ed1736e344fd81c18f326d032899",
       "version_major": 2,
       "version_minor": 0
      },
      "text/plain": [
       "HBox(children=(FloatProgress(value=0.0, max=1973.0), HTML(value='')))"
      ]
     },
     "metadata": {},
     "output_type": "display_data"
    },
    {
     "name": "stdout",
     "output_type": "stream",
     "text": [
      "Load JSON from data\\CORD-19-research-challenge\\2020-03-13\\pmc_custom_license\\pmc_custom_license\n"
     ]
    },
    {
     "data": {
      "application/vnd.jupyter.widget-view+json": {
       "model_id": "dcf4d2aaa3ef4a28864e5465f3d52df1",
       "version_major": 2,
       "version_minor": 0
      },
      "text/plain": [
       "HBox(children=(FloatProgress(value=0.0, max=1426.0), HTML(value='')))"
      ]
     },
     "metadata": {},
     "output_type": "display_data"
    },
    {
     "name": "stdout",
     "output_type": "stream",
     "text": [
      "Building a BM25 index\n",
      "Wall time: 1min 2s\n"
     ]
    }
   ],
   "source": [
    "%time research_papers = ResearchPapers.from_data_dir()"
   ]
  },
  {
   "cell_type": "code",
   "execution_count": 8,
   "metadata": {},
   "outputs": [
    {
     "name": "stdout",
     "output_type": "stream",
     "text": [
      "Saving to data\\ResearchPapers.pickle\n"
     ]
    }
   ],
   "source": [
    "research_papers.save()"
   ]
  },
  {
   "cell_type": "markdown",
   "metadata": {},
   "source": [
    "## From Pickle"
   ]
  },
  {
   "cell_type": "code",
   "execution_count": 4,
   "metadata": {},
   "outputs": [],
   "source": [
    "#%time research_papers = ResearchPapers.from_pickle()"
   ]
  },
  {
   "cell_type": "markdown",
   "metadata": {},
   "source": [
    "## Search Bar"
   ]
  },
  {
   "cell_type": "code",
   "execution_count": 9,
   "metadata": {},
   "outputs": [
    {
     "data": {
      "application/vnd.jupyter.widget-view+json": {
       "model_id": "6821796760b642b195a9552ab43c9cc2",
       "version_major": 2,
       "version_minor": 0
      },
      "text/plain": [
       "interactive(children=(Text(value='vaccine transmission', description='SearchTerms'), Output()), _dom_classes=(…"
      ]
     },
     "metadata": {},
     "output_type": "display_data"
    }
   ],
   "source": [
    "research_papers.searchbar('vaccine transmission')"
   ]
  },
  {
   "cell_type": "code",
   "execution_count": 18,
   "metadata": {},
   "outputs": [],
   "source": [
    "text = research_papers['c821803c55c6aad89b6d0c1d3ba252051e464017'].abstract()\n",
    "text"
   ]
  },
  {
   "cell_type": "code",
   "execution_count": 7,
   "metadata": {},
   "outputs": [
    {
     "data": {
      "text/html": [
       "<div>\n",
       "<style scoped>\n",
       "    .dataframe tbody tr th:only-of-type {\n",
       "        vertical-align: middle;\n",
       "    }\n",
       "\n",
       "    .dataframe tbody tr th {\n",
       "        vertical-align: top;\n",
       "    }\n",
       "\n",
       "    .dataframe thead th {\n",
       "        text-align: right;\n",
       "    }\n",
       "</style>\n",
       "<table border=\"1\" class=\"dataframe\">\n",
       "  <thead>\n",
       "    <tr style=\"text-align: right;\">\n",
       "      <th></th>\n",
       "      <th>sha</th>\n",
       "      <th>source_x</th>\n",
       "      <th>title</th>\n",
       "      <th>doi</th>\n",
       "      <th>pmcid</th>\n",
       "      <th>pubmed_id</th>\n",
       "      <th>license</th>\n",
       "      <th>abstract</th>\n",
       "      <th>authors</th>\n",
       "      <th>journal</th>\n",
       "      <th>Microsoft Academic Paper ID</th>\n",
       "      <th>WHO #Covidence</th>\n",
       "      <th>has_full_text</th>\n",
       "      <th>published</th>\n",
       "      <th>antivirals</th>\n",
       "    </tr>\n",
       "  </thead>\n",
       "  <tbody>\n",
       "    <tr>\n",
       "      <th>13</th>\n",
       "      <td>c821803c55c6aad89b6d0c1d3ba252051e464017</td>\n",
       "      <td>CZI</td>\n",
       "      <td>Case of the Index Patient Who Caused Tertiary Transmission of Coronavirus Disease 2019 in Korea: the Application of Lopinavir/Ritonavir for the Treatment of COVID-19 Pneumonia Monitored by Quantit...</td>\n",
       "      <td>http://doi.org/10.3346/jkms.2020.35.e79</td>\n",
       "      <td>NaN</td>\n",
       "      <td>NaN</td>\n",
       "      <td>cc-by-nc</td>\n",
       "      <td>Since mid-December of 2019, coronavirus disease 2019 (COVID-19) has been spreading from Wuhan, China. The confirmed COVID-19 patients in South Korea are those who came from or visited China. As se...</td>\n",
       "      <td>Lim, Jaegyun; Jeon, Seunghyun; Shin, Hyun-Young; Kim, Moon Jung; Seong, Yu Min; Lee, Wang Jun; Choe, Kang-Won; Kang, Yu Min; Lee, Baeckseung; Park, Sang-Joon</td>\n",
       "      <td>Journal of Korean Medical Science</td>\n",
       "      <td>3005657121</td>\n",
       "      <td>#3770</td>\n",
       "      <td>True</td>\n",
       "      <td>2020-01</td>\n",
       "      <td>ritonavir,lopinavir</td>\n",
       "    </tr>\n",
       "    <tr>\n",
       "      <th>18</th>\n",
       "      <td>acb678bdd7634055de18d0b89bb6a4890e6a0306</td>\n",
       "      <td>CZI</td>\n",
       "      <td>Remdesivir and chloroquine effectively inhibit the recently emerged novel coronavirus (2019-nCoV) in vitro</td>\n",
       "      <td>http://doi.org/10.1038/s41422-020-0282-0</td>\n",
       "      <td>NaN</td>\n",
       "      <td>NaN</td>\n",
       "      <td>cc-by</td>\n",
       "      <td>Remdesivir and chloroquine effectively inhibit the recently emerged novel coronavirus (2019-nCoV) in vitro</td>\n",
       "      <td>Wang, Manli; Cao, Ruiyuan; Zhang, Leike; Yang, Xinglou; Liu, Jia; Xu, Mingyue; Shi, Zhengli; Hu, Zhihong; Zhong, Wu; Xiao, Gengfu</td>\n",
       "      <td>Cell Research</td>\n",
       "      <td>3005212621</td>\n",
       "      <td>#205</td>\n",
       "      <td>True</td>\n",
       "      <td>2020-01</td>\n",
       "      <td>remdesivir</td>\n",
       "    </tr>\n",
       "    <tr>\n",
       "      <th>141</th>\n",
       "      <td>58be092086c74c58e9067121a6ba4836468e7ec3</td>\n",
       "      <td>CZI</td>\n",
       "      <td>The Author's Response: Case of the Index Patient Who Caused Tertiary Transmission of Coronavirus Disease 2019 in Korea: the Application of Lopinavir/Ritonavir for the Treatment of COVID-19 Pneumon...</td>\n",
       "      <td>http://doi.org/10.3346/jkms.2020.35.e89</td>\n",
       "      <td>NaN</td>\n",
       "      <td>32080993</td>\n",
       "      <td>cc-by-nc</td>\n",
       "      <td>The Author's Response: Case of the Index Patient Who Caused Tertiary Transmission of Coronavirus Disease 2019 in Korea: the Application of Lopinavir/Ritonavir for the Treatment of COVID-19 Pneumon...</td>\n",
       "      <td>Lim, Jaegyun; Jeon, Seunghyun; Shin, Hyun Young; Kim, Moon Jung; Seong, Yu Min; Lee, Wang Jun; Choe, Kang Won; Kang, Yu Min; Lee, Baeckseung; Park, Sang Joon</td>\n",
       "      <td>J Korean Med Sci</td>\n",
       "      <td>3005657121</td>\n",
       "      <td>#1576</td>\n",
       "      <td>True</td>\n",
       "      <td>2020-01</td>\n",
       "      <td>ritonavir,lopinavir</td>\n",
       "    </tr>\n",
       "    <tr>\n",
       "      <th>154</th>\n",
       "      <td>1f5c1597a84ed1d4f84c488cd19098a091a3d513</td>\n",
       "      <td>CZI</td>\n",
       "      <td>Asymptomatic carrier state, acute respiratory disease, and pneumonia due to severe acute respiratory syndrome coronavirus 2 (SARSCoV-2): Facts and myths</td>\n",
       "      <td>http://doi.org/10.1016/j.jmii.2020.02.012</td>\n",
       "      <td>NaN</td>\n",
       "      <td>NaN</td>\n",
       "      <td>cc-by-nc-nd</td>\n",
       "      <td>Since the emergence of coronavirus disease 2019 (COVID-19) (formerly known as the 2019 novel coronavirus [2019-nCoV]) in Wuhan, China in December 2019, which is caused by severe acute respiratory ...</td>\n",
       "      <td>Lai, Chih-Cheng; Liu, Yen Hung; Wang, Cheng-Yi; Wang, Ya-Hui; Hsueh, Shun-Chung; Yen, Muh-Yen; Ko, Wen-Chien; Hsueh, Po-Ren</td>\n",
       "      <td>Journal of Microbiology, Immunology and Infection</td>\n",
       "      <td>2029688661</td>\n",
       "      <td>#4530</td>\n",
       "      <td>True</td>\n",
       "      <td>2020-01</td>\n",
       "      <td>remdesivir</td>\n",
       "    </tr>\n",
       "    <tr>\n",
       "      <th>1363</th>\n",
       "      <td>5dc0b8b662824323881c3a1ae3a1bae2a821484d</td>\n",
       "      <td>PMC</td>\n",
       "      <td>SARS: Systematic Review of Treatment Effects</td>\n",
       "      <td>http://doi.org/http://dx.doi.org/10.1371/journal.pmed.0030343</td>\n",
       "      <td>PMC1564166</td>\n",
       "      <td>16968120</td>\n",
       "      <td>CC0</td>\n",
       "      <td>BACKGROUND: The SARS outbreak of 2002–2003 presented clinicians with a new, life-threatening disease for which they had no experience in treating and no research on the effectiveness of treatment ...</td>\n",
       "      <td>['Stockman, Lauren J', 'Bellamy, Richard', 'Garner, Paul']</td>\n",
       "      <td>PLoS Med</td>\n",
       "      <td>NaN</td>\n",
       "      <td>NaN</td>\n",
       "      <td>True</td>\n",
       "      <td>2006-09</td>\n",
       "      <td>lopinavir,ritonavir</td>\n",
       "    </tr>\n",
       "    <tr>\n",
       "      <th>...</th>\n",
       "      <td>...</td>\n",
       "      <td>...</td>\n",
       "      <td>...</td>\n",
       "      <td>...</td>\n",
       "      <td>...</td>\n",
       "      <td>...</td>\n",
       "      <td>...</td>\n",
       "      <td>...</td>\n",
       "      <td>...</td>\n",
       "      <td>...</td>\n",
       "      <td>...</td>\n",
       "      <td>...</td>\n",
       "      <td>...</td>\n",
       "      <td>...</td>\n",
       "      <td>...</td>\n",
       "    </tr>\n",
       "    <tr>\n",
       "      <th>24634</th>\n",
       "      <td>ffc9bc4ac6548cb1c03c2c6f088ab1c1c2067c6f</td>\n",
       "      <td>biorxiv</td>\n",
       "      <td>Nucleotide Analogues as Inhibitors of Viral Polymerases</td>\n",
       "      <td>http://doi.org/10.1101/2020.01.30.927574</td>\n",
       "      <td>NaN</td>\n",
       "      <td>NaN</td>\n",
       "      <td>See https://www.biorxiv.org/about-biorxiv</td>\n",
       "      <td>Coronaviruses such as the newly discovered virus from Wuhan, China, 2019-nCoV, and the viruses that cause SARS and MERS, have resulted in regional and global public health emergencies. Based on ou...</td>\n",
       "      <td>Ju, J.; Kumar, S.; Li, X.; Jockusch, S.; Russo, J. J.</td>\n",
       "      <td>NaN</td>\n",
       "      <td>NaN</td>\n",
       "      <td>NaN</td>\n",
       "      <td>True</td>\n",
       "      <td>2020-01</td>\n",
       "      <td>velpatasvir,sofosbuvir</td>\n",
       "    </tr>\n",
       "    <tr>\n",
       "      <th>24645</th>\n",
       "      <td>ff54e3e961a72eb1d2500166809b3651b2f98cf6</td>\n",
       "      <td>biorxiv</td>\n",
       "      <td>Predicting commercially available antiviral drugs that may act on the novel coronavirus (2019-nCoV), Wuhan, China through a drug-target interaction deep learning model</td>\n",
       "      <td>http://doi.org/10.1101/2020.01.31.929547</td>\n",
       "      <td>NaN</td>\n",
       "      <td>NaN</td>\n",
       "      <td>See https://www.biorxiv.org/about-biorxiv</td>\n",
       "      <td>The infection of a novel coronavirus found in Wuhan of China (2019-nCoV) is rapidly spreading, and the incidence rate is increasing worldwide. Due to the lack of effective treatment options for 20...</td>\n",
       "      <td>Beck, B. R.; Shin, B.; Choi, Y.; Park, S.; Kang, K.</td>\n",
       "      <td>NaN</td>\n",
       "      <td>NaN</td>\n",
       "      <td>NaN</td>\n",
       "      <td>True</td>\n",
       "      <td>2020-01</td>\n",
       "      <td>lopinavir,darunavir,ritonavir,atazanavir,dolutegravir</td>\n",
       "    </tr>\n",
       "    <tr>\n",
       "      <th>24664</th>\n",
       "      <td>7e80848c7b22e870b0e0a458dce96f6955576f04</td>\n",
       "      <td>biorxiv</td>\n",
       "      <td>The network structure and eco-evolutionary dynamics of CRISPR-induced immune diversification</td>\n",
       "      <td>http://doi.org/10.1101/850800</td>\n",
       "      <td>NaN</td>\n",
       "      <td>NaN</td>\n",
       "      <td>See https://www.biorxiv.org/about-biorxiv</td>\n",
       "      <td>As a heritable sequence-specific adaptive immune system, CRISPR-Cas is a powerful force shaping strain diversity in host-virus systems. While the diversity of CRISPR alleles has been explored, the...</td>\n",
       "      <td>Pilosof, S.; Alcala-Corona, S. A.; Wang, T.; Kim, T.; Maslov, S.; Whitaker, R. J.; Pascual, M.</td>\n",
       "      <td>NaN</td>\n",
       "      <td>NaN</td>\n",
       "      <td>NaN</td>\n",
       "      <td>True</td>\n",
       "      <td>2020-01</td>\n",
       "      <td>dms3vir</td>\n",
       "    </tr>\n",
       "    <tr>\n",
       "      <th>24677</th>\n",
       "      <td>9e94f9379fd74fcacc4f3a57e03cbe9035efee8e</td>\n",
       "      <td>biorxiv</td>\n",
       "      <td>Molecular Modeling Evaluation of the Binding Effect of Ritonavir, Lopinavir and Darunavir to Severe Acute Respiratory Syndrome Coronavirus 2 Proteases</td>\n",
       "      <td>http://doi.org/10.1101/2020.01.31.929695</td>\n",
       "      <td>NaN</td>\n",
       "      <td>NaN</td>\n",
       "      <td>See https://www.biorxiv.org/about-biorxiv</td>\n",
       "      <td>Three anti-HIV drugs, ritonavir, lopinavir and darunavir, might have therapeutic effect on coronavirus disease 2019 (COVID-19). In this study, the structure models of two severe acute respiratory ...</td>\n",
       "      <td>Lin, S.; Shen, R.; He, J.; Li, X.; Guo, X.</td>\n",
       "      <td>NaN</td>\n",
       "      <td>NaN</td>\n",
       "      <td>NaN</td>\n",
       "      <td>True</td>\n",
       "      <td>2020-01</td>\n",
       "      <td>darunavir,ritonavir,lopinavir</td>\n",
       "    </tr>\n",
       "    <tr>\n",
       "      <th>24752</th>\n",
       "      <td>8349823092836fe397a59e38615d1491423dbe70</td>\n",
       "      <td>biorxiv</td>\n",
       "      <td>AI-aided design of novel targeted covalent inhibitors against SARS-CoV-2</td>\n",
       "      <td>http://doi.org/10.1101/2020.03.03.972133</td>\n",
       "      <td>NaN</td>\n",
       "      <td>NaN</td>\n",
       "      <td>See https://www.biorxiv.org/about-biorxiv</td>\n",
       "      <td>The focused drug repurposing of known approved drugs (such as lopinavir/ritonavir) has been reported failed for curing SARS-CoV-2 infected patients. It is urgent to generate new chemical entities ...</td>\n",
       "      <td>Tang, B.; He, F.; Liu, D.; Fang, M.; Wu, Z.; Xu, D.</td>\n",
       "      <td>NaN</td>\n",
       "      <td>NaN</td>\n",
       "      <td>NaN</td>\n",
       "      <td>True</td>\n",
       "      <td>2020-01</td>\n",
       "      <td>lopinavir,ritonavir</td>\n",
       "    </tr>\n",
       "  </tbody>\n",
       "</table>\n",
       "<p>119 rows × 15 columns</p>\n",
       "</div>"
      ],
      "text/plain": [
       "                                            sha source_x  \\\n",
       "13     c821803c55c6aad89b6d0c1d3ba252051e464017      CZI   \n",
       "18     acb678bdd7634055de18d0b89bb6a4890e6a0306      CZI   \n",
       "141    58be092086c74c58e9067121a6ba4836468e7ec3      CZI   \n",
       "154    1f5c1597a84ed1d4f84c488cd19098a091a3d513      CZI   \n",
       "1363   5dc0b8b662824323881c3a1ae3a1bae2a821484d      PMC   \n",
       "...                                         ...      ...   \n",
       "24634  ffc9bc4ac6548cb1c03c2c6f088ab1c1c2067c6f  biorxiv   \n",
       "24645  ff54e3e961a72eb1d2500166809b3651b2f98cf6  biorxiv   \n",
       "24664  7e80848c7b22e870b0e0a458dce96f6955576f04  biorxiv   \n",
       "24677  9e94f9379fd74fcacc4f3a57e03cbe9035efee8e  biorxiv   \n",
       "24752  8349823092836fe397a59e38615d1491423dbe70  biorxiv   \n",
       "\n",
       "                                                                                                                                                                                                         title  \\\n",
       "13     Case of the Index Patient Who Caused Tertiary Transmission of Coronavirus Disease 2019 in Korea: the Application of Lopinavir/Ritonavir for the Treatment of COVID-19 Pneumonia Monitored by Quantit...   \n",
       "18                                                                                                  Remdesivir and chloroquine effectively inhibit the recently emerged novel coronavirus (2019-nCoV) in vitro   \n",
       "141    The Author's Response: Case of the Index Patient Who Caused Tertiary Transmission of Coronavirus Disease 2019 in Korea: the Application of Lopinavir/Ritonavir for the Treatment of COVID-19 Pneumon...   \n",
       "154                                                   Asymptomatic carrier state, acute respiratory disease, and pneumonia due to severe acute respiratory syndrome coronavirus 2 (SARSCoV-2): Facts and myths   \n",
       "1363                                                                                                                                                              SARS: Systematic Review of Treatment Effects   \n",
       "...                                                                                                                                                                                                        ...   \n",
       "24634                                                                                                                                                  Nucleotide Analogues as Inhibitors of Viral Polymerases   \n",
       "24645                                  Predicting commercially available antiviral drugs that may act on the novel coronavirus (2019-nCoV), Wuhan, China through a drug-target interaction deep learning model   \n",
       "24664                                                                                                             The network structure and eco-evolutionary dynamics of CRISPR-induced immune diversification   \n",
       "24677                                                   Molecular Modeling Evaluation of the Binding Effect of Ritonavir, Lopinavir and Darunavir to Severe Acute Respiratory Syndrome Coronavirus 2 Proteases   \n",
       "24752                                                                                                                                 AI-aided design of novel targeted covalent inhibitors against SARS-CoV-2   \n",
       "\n",
       "                                                                 doi  \\\n",
       "13                           http://doi.org/10.3346/jkms.2020.35.e79   \n",
       "18                          http://doi.org/10.1038/s41422-020-0282-0   \n",
       "141                          http://doi.org/10.3346/jkms.2020.35.e89   \n",
       "154                        http://doi.org/10.1016/j.jmii.2020.02.012   \n",
       "1363   http://doi.org/http://dx.doi.org/10.1371/journal.pmed.0030343   \n",
       "...                                                              ...   \n",
       "24634                       http://doi.org/10.1101/2020.01.30.927574   \n",
       "24645                       http://doi.org/10.1101/2020.01.31.929547   \n",
       "24664                                  http://doi.org/10.1101/850800   \n",
       "24677                       http://doi.org/10.1101/2020.01.31.929695   \n",
       "24752                       http://doi.org/10.1101/2020.03.03.972133   \n",
       "\n",
       "            pmcid pubmed_id                                    license  \\\n",
       "13            NaN       NaN                                   cc-by-nc   \n",
       "18            NaN       NaN                                      cc-by   \n",
       "141           NaN  32080993                                   cc-by-nc   \n",
       "154           NaN       NaN                                cc-by-nc-nd   \n",
       "1363   PMC1564166  16968120                                        CC0   \n",
       "...           ...       ...                                        ...   \n",
       "24634         NaN       NaN  See https://www.biorxiv.org/about-biorxiv   \n",
       "24645         NaN       NaN  See https://www.biorxiv.org/about-biorxiv   \n",
       "24664         NaN       NaN  See https://www.biorxiv.org/about-biorxiv   \n",
       "24677         NaN       NaN  See https://www.biorxiv.org/about-biorxiv   \n",
       "24752         NaN       NaN  See https://www.biorxiv.org/about-biorxiv   \n",
       "\n",
       "                                                                                                                                                                                                      abstract  \\\n",
       "13     Since mid-December of 2019, coronavirus disease 2019 (COVID-19) has been spreading from Wuhan, China. The confirmed COVID-19 patients in South Korea are those who came from or visited China. As se...   \n",
       "18                                                                                                  Remdesivir and chloroquine effectively inhibit the recently emerged novel coronavirus (2019-nCoV) in vitro   \n",
       "141    The Author's Response: Case of the Index Patient Who Caused Tertiary Transmission of Coronavirus Disease 2019 in Korea: the Application of Lopinavir/Ritonavir for the Treatment of COVID-19 Pneumon...   \n",
       "154    Since the emergence of coronavirus disease 2019 (COVID-19) (formerly known as the 2019 novel coronavirus [2019-nCoV]) in Wuhan, China in December 2019, which is caused by severe acute respiratory ...   \n",
       "1363   BACKGROUND: The SARS outbreak of 2002–2003 presented clinicians with a new, life-threatening disease for which they had no experience in treating and no research on the effectiveness of treatment ...   \n",
       "...                                                                                                                                                                                                        ...   \n",
       "24634  Coronaviruses such as the newly discovered virus from Wuhan, China, 2019-nCoV, and the viruses that cause SARS and MERS, have resulted in regional and global public health emergencies. Based on ou...   \n",
       "24645  The infection of a novel coronavirus found in Wuhan of China (2019-nCoV) is rapidly spreading, and the incidence rate is increasing worldwide. Due to the lack of effective treatment options for 20...   \n",
       "24664  As a heritable sequence-specific adaptive immune system, CRISPR-Cas is a powerful force shaping strain diversity in host-virus systems. While the diversity of CRISPR alleles has been explored, the...   \n",
       "24677  Three anti-HIV drugs, ritonavir, lopinavir and darunavir, might have therapeutic effect on coronavirus disease 2019 (COVID-19). In this study, the structure models of two severe acute respiratory ...   \n",
       "24752  The focused drug repurposing of known approved drugs (such as lopinavir/ritonavir) has been reported failed for curing SARS-CoV-2 infected patients. It is urgent to generate new chemical entities ...   \n",
       "\n",
       "                                                                                                                                                             authors  \\\n",
       "13     Lim, Jaegyun; Jeon, Seunghyun; Shin, Hyun-Young; Kim, Moon Jung; Seong, Yu Min; Lee, Wang Jun; Choe, Kang-Won; Kang, Yu Min; Lee, Baeckseung; Park, Sang-Joon   \n",
       "18                                 Wang, Manli; Cao, Ruiyuan; Zhang, Leike; Yang, Xinglou; Liu, Jia; Xu, Mingyue; Shi, Zhengli; Hu, Zhihong; Zhong, Wu; Xiao, Gengfu   \n",
       "141    Lim, Jaegyun; Jeon, Seunghyun; Shin, Hyun Young; Kim, Moon Jung; Seong, Yu Min; Lee, Wang Jun; Choe, Kang Won; Kang, Yu Min; Lee, Baeckseung; Park, Sang Joon   \n",
       "154                                      Lai, Chih-Cheng; Liu, Yen Hung; Wang, Cheng-Yi; Wang, Ya-Hui; Hsueh, Shun-Chung; Yen, Muh-Yen; Ko, Wen-Chien; Hsueh, Po-Ren   \n",
       "1363                                                                                                      ['Stockman, Lauren J', 'Bellamy, Richard', 'Garner, Paul']   \n",
       "...                                                                                                                                                              ...   \n",
       "24634                                                                                                          Ju, J.; Kumar, S.; Li, X.; Jockusch, S.; Russo, J. J.   \n",
       "24645                                                                                                            Beck, B. R.; Shin, B.; Choi, Y.; Park, S.; Kang, K.   \n",
       "24664                                                                 Pilosof, S.; Alcala-Corona, S. A.; Wang, T.; Kim, T.; Maslov, S.; Whitaker, R. J.; Pascual, M.   \n",
       "24677                                                                                                                     Lin, S.; Shen, R.; He, J.; Li, X.; Guo, X.   \n",
       "24752                                                                                                            Tang, B.; He, F.; Liu, D.; Fang, M.; Wu, Z.; Xu, D.   \n",
       "\n",
       "                                                 journal  \\\n",
       "13                     Journal of Korean Medical Science   \n",
       "18                                         Cell Research   \n",
       "141                                     J Korean Med Sci   \n",
       "154    Journal of Microbiology, Immunology and Infection   \n",
       "1363                                            PLoS Med   \n",
       "...                                                  ...   \n",
       "24634                                                NaN   \n",
       "24645                                                NaN   \n",
       "24664                                                NaN   \n",
       "24677                                                NaN   \n",
       "24752                                                NaN   \n",
       "\n",
       "      Microsoft Academic Paper ID WHO #Covidence has_full_text published  \\\n",
       "13                     3005657121          #3770          True   2020-01   \n",
       "18                     3005212621           #205          True   2020-01   \n",
       "141                    3005657121          #1576          True   2020-01   \n",
       "154                    2029688661          #4530          True   2020-01   \n",
       "1363                          NaN            NaN          True   2006-09   \n",
       "...                           ...            ...           ...       ...   \n",
       "24634                         NaN            NaN          True   2020-01   \n",
       "24645                         NaN            NaN          True   2020-01   \n",
       "24664                         NaN            NaN          True   2020-01   \n",
       "24677                         NaN            NaN          True   2020-01   \n",
       "24752                         NaN            NaN          True   2020-01   \n",
       "\n",
       "                                                  antivirals  \n",
       "13                                       ritonavir,lopinavir  \n",
       "18                                                remdesivir  \n",
       "141                                      ritonavir,lopinavir  \n",
       "154                                               remdesivir  \n",
       "1363                                     lopinavir,ritonavir  \n",
       "...                                                      ...  \n",
       "24634                                 velpatasvir,sofosbuvir  \n",
       "24645  lopinavir,darunavir,ritonavir,atazanavir,dolutegravir  \n",
       "24664                                                dms3vir  \n",
       "24677                          darunavir,ritonavir,lopinavir  \n",
       "24752                                    lopinavir,ritonavir  \n",
       "\n",
       "[119 rows x 15 columns]"
      ]
     },
     "execution_count": 7,
     "metadata": {},
     "output_type": "execute_result"
    }
   ],
   "source": [
    "from cord.text import preprocess\n",
    "\n",
    "metadata = research_papers.metadata\n",
    "\n",
    "metadata[metadata.antivirals.apply(len) > 0]"
   ]
  }
 ],
 "metadata": {
  "kernelspec": {
   "display_name": "cord",
   "language": "python",
   "name": "cord"
  },
  "language_info": {
   "codemirror_mode": {
    "name": "ipython",
    "version": 3
   },
   "file_extension": ".py",
   "mimetype": "text/x-python",
   "name": "python",
   "nbconvert_exporter": "python",
   "pygments_lexer": "ipython3",
   "version": "3.7.0"
  }
 },
 "nbformat": 4,
 "nbformat_minor": 2
}
