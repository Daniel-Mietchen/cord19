{
 "cells": [
  {
   "cell_type": "markdown",
   "metadata": {},
   "source": [
    "# CORD"
   ]
  },
  {
   "cell_type": "markdown",
   "metadata": {},
   "source": [
    "## CORD Library"
   ]
  },
  {
   "cell_type": "code",
   "execution_count": 19,
   "metadata": {},
   "outputs": [
    {
     "name": "stdout",
     "output_type": "stream",
     "text": [
      "The autoreload extension is already loaded. To reload it, use:\n",
      "  %reload_ext autoreload\n"
     ]
    }
   ],
   "source": [
    "%load_ext autoreload\n",
    "%autoreload 2\n",
    "from cord.cord19 import *\n",
    "from cord.core import parallel, ifnone\n",
    "pd.options.display.max_colwidth = 200"
   ]
  },
  {
   "cell_type": "markdown",
   "metadata": {},
   "source": [
    "# 1. Reading the Research Papers"
   ]
  },
  {
   "cell_type": "markdown",
   "metadata": {},
   "source": [
    "## From Paths"
   ]
  },
  {
   "cell_type": "code",
   "execution_count": 20,
   "metadata": {},
   "outputs": [
    {
     "name": "stdout",
     "output_type": "stream",
     "text": [
      "Loading metadata from data\\CORD-19-research-challenge\n",
      "Cleaning metadata\n",
      "Fixing dates that are a list e.g. ['2020-02-05', '2020-02']\n",
      "Fixing dates with the seasons e.g. 2014 Autumn\n",
      "Fix dates like 2016 Nov 9 Jan-Feb\n",
      "Fix dates like 2012 Jan-Mar\n",
      "Convert Dates like 2020 Apr 13\n",
      "Converting Dates like 2020 Apr\n",
      "Converting Dates like 2020\n",
      "Converting Dates like 2020-01-21\n",
      "Indexing research papers\n",
      "Finished Indexing in 55.0 seconds\n",
      "Wall time: 1min 5s\n"
     ]
    }
   ],
   "source": [
    "%time research_papers = ResearchPapers.from_data_dir()"
   ]
  },
  {
   "cell_type": "code",
   "execution_count": 21,
   "metadata": {},
   "outputs": [
    {
     "name": "stdout",
     "output_type": "stream",
     "text": [
      "Saving to data\\ResearchPapers.pickle\n"
     ]
    }
   ],
   "source": [
    "research_papers.save()"
   ]
  },
  {
   "cell_type": "markdown",
   "metadata": {},
   "source": [
    "## From Pickle"
   ]
  },
  {
   "cell_type": "code",
   "execution_count": 4,
   "metadata": {},
   "outputs": [],
   "source": [
    "%time research_papers = ResearchPapers.from_pickle()"
   ]
  },
  {
   "cell_type": "markdown",
   "metadata": {},
   "source": [
    "## Search Bar"
   ]
  },
  {
   "cell_type": "code",
   "execution_count": 22,
   "metadata": {},
   "outputs": [
    {
     "data": {
      "application/vnd.jupyter.widget-view+json": {
       "model_id": "22e864cd2b53406da7e2c67c49975ab2",
       "version_major": 2,
       "version_minor": 0
      },
      "text/plain": [
       "interactive(children=(Text(value='vaccine transmission', description='SearchTerms'), Output()), _dom_classes=(…"
      ]
     },
     "metadata": {},
     "output_type": "display_data"
    }
   ],
   "source": [
    "research_papers.searchbar('vaccine transmission')"
   ]
  },
  {
   "cell_type": "markdown",
   "metadata": {},
   "source": [
    "## Search"
   ]
  },
  {
   "cell_type": "code",
   "execution_count": 17,
   "metadata": {},
   "outputs": [
    {
     "data": {
      "text/html": [
       "<h3>Search Results</h3>\n",
       "<table border=\"1\" class=\"dataframe\">\n",
       "  <thead>\n",
       "    <tr style=\"text-align: right;\">\n",
       "      <th>title</th>\n",
       "      <th>authors</th>\n",
       "      <th>when</th>\n",
       "      <th>Score</th>\n",
       "    </tr>\n",
       "  </thead>\n",
       "  <tbody>\n",
       "    <tr>\n",
       "      <td>A rapid advice guideline for the diagnosis and treatment of 2019 novel coronavirus (2019-nCoV) infected pneumonia (standard version)</td>\n",
       "      <td>Jin, Ying-Hui; Cai, Lin; Cheng, Zhen-Shun; Cheng, Hong; Deng, Tong; Fan, Yi-Pin; Fang, Cheng; Huang, Di; Huang, Lu-Qi; Huang, Qiao; Han, Yong; Hu, Bo; Hu, Fen; Li, Bing-Hui; Li, Yi-Rong; Liang, Ke; Lin, Li-Kai; Luo, Li-Sha; Ma, Jing; Ma, Lin-Lu; Peng, Zhi-Yong; Pan, Yun-Bao; Pan, Zhen-Yu; Ren, Xue-Qun; Sun, Hui-Min; Wang, Ying; Wang, Yun-Yun; Weng, Hong; Wei, Chao-Jie; Wu, Dong-Fang; Xia, Jian; Xiong, Yong; Xu, Hai-Bo; Yao, Xiao-Mei; Yuan, Yu-Feng; Ye, Tai-Sheng; Zhang, Xiao-Chun; Zhang, Ying-Wen; Zhang, Yin-Gao; Zhang, Hua-Min; Zhao, Yan; Zhao, Ming-Juan; Zi, Hao; Zeng, Xian-Tao; Wang, Yong-Yan; Wang, Xing-Huan</td>\n",
       "      <td>1 month ago</td>\n",
       "      <td>7.5</td>\n",
       "    </tr>\n",
       "    <tr>\n",
       "      <td>Diagnosis and treatment recommendations for pediatric respiratory infection caused by the 2019 novel coronavirus</td>\n",
       "      <td>Chen, Zhi-Min; Fu, Jun-Fen; Shu, Qiang; Chen, Ying-Hu; Hua, Chun-Zhen; Li, Fu-Bang; Lin, Ru; Tang, Lan-Fang; Wang, Tian-Lin; Wang, Wei; Wang, Ying-Shuo; Xu, Wei-Ze; Yang, Zi-Hao; Ye, Sheng; Yuan, Tian-Ming; Zhang, Chen-Mei; Zhang, Yuan-Yuan</td>\n",
       "      <td>1 month ago</td>\n",
       "      <td>3.5</td>\n",
       "    </tr>\n",
       "    <tr>\n",
       "      <td>Epidemiological and Clinical Characteristics of 17 Hospitalized Patients with 2019 Novel Coronavirus Infections Outside Wuhan, China</td>\n",
       "      <td>Jie Li; Shilin Li; Yurui Cai; Qin Liu; Xue Li; Zhaoping Zeng; Yanpeng Chu; Fangcheng Zhu; Fanxin Zeng</td>\n",
       "      <td>1 month ago</td>\n",
       "      <td>3.3</td>\n",
       "    </tr>\n",
       "    <tr>\n",
       "      <td>Epidemiologic characteristics of early cases with 2019 novel coronavirus (2019-nCoV) disease in Republic of Korea</td>\n",
       "      <td>Ki, Moran; nCoV, Task Force For</td>\n",
       "      <td>1 month ago</td>\n",
       "      <td>3.3</td>\n",
       "    </tr>\n",
       "    <tr>\n",
       "      <td>Neutrophil-to-Lymphocyte Ratio Predicts Severe Illness Patients with 2019 Novel Coronavirus in the Early Stage</td>\n",
       "      <td>Jingyuan Liu; Yao Liu; Pan Xiang; Lin Pu; Haofeng Xiong; Chuansheng Li; Ming Zhang; Jianbo Tan; Yanli Xu; Rui Song; Meihua Song; Lin Wang; Wei Zhang; Bing Han; Li Yang; Xiaojing Wang; Guiqin Zhou; Ting Zhang; Ben Li; Yanbin Wang; Zhihai Chen; Xianbo Wang</td>\n",
       "      <td>1 month ago</td>\n",
       "      <td>2.9</td>\n",
       "    </tr>\n",
       "    <tr>\n",
       "      <td>Statistical Inference for Coronavirus Infected Patients in Wuhan</td>\n",
       "      <td>Yongdao Zhou; Jianghu Dong</td>\n",
       "      <td>1 month ago</td>\n",
       "      <td>2.6</td>\n",
       "    </tr>\n",
       "    <tr>\n",
       "      <td>Long-Term Persistence of IgG Antibodies in SARS-CoV Infected Healthcare Workers</td>\n",
       "      <td>Xiaoqin Guo; Zhongmin Guo; Chaohui Duan; Zeliang chen; Guoling Wang; Yi Lu; Mengfeng Li; Jiahai Lu</td>\n",
       "      <td>1 month ago</td>\n",
       "      <td>2.5</td>\n",
       "    </tr>\n",
       "    <tr>\n",
       "      <td>Clinical diagnosis of 8274 samples with 2019-novel coronavirus in Wuhan</td>\n",
       "      <td>Ming Wang; Qing Wu; Wanzhou Xu; Bin Qiao; Jingwei Wang; Hongyun Zheng; Shupeng Jiang; Junchi Mei; Zegang Wu; Yayun Deng; Fangyuan Zhou; Wei Wu; Yan Zhang; Zhihua Lv; Jingtao Huang; Xiaoqian Guo; Lina Feng; Zunen Xia; Di Li; Zhiliang Xu; Tiangang Liu; Pingan Zhang; Yongqing Tong; Yan Li</td>\n",
       "      <td>1 month ago</td>\n",
       "      <td>2.4</td>\n",
       "    </tr>\n",
       "    <tr>\n",
       "      <td>Complete genome characterisation of a novel coronavirus associated with severe human respiratory disease in Wuhan, China</td>\n",
       "      <td>Wu, F.; Zhao, S.; Yu, B.; Chen, Y.-M.; Wang, W.; Hu, Y.; Song, Z.-G.; Tao, Z.-W.; Tian, J.-H.; Pei, Y.-Y.; Yuan, M.-L.; Zhang, Y.-L.; Dai, F.-H.; Liu, Y.; Wang, Q.-M.; Zheng, J.-J.; Xu, L.; Holmes, E. C.; Zhang, Y.-Z.</td>\n",
       "      <td>1 month ago</td>\n",
       "      <td>2.4</td>\n",
       "    </tr>\n",
       "    <tr>\n",
       "      <td>Clinical analysis of 10 neonates born to mothers with 2019-nCoV pneumonia</td>\n",
       "      <td>Zhu, Huaping; Wang, Lin; Fang, Chengzhi; Peng, Sicong; Zhang, Lianhong; Chang, Guiping; Xia, Shiwen; Zhou, Wenhao</td>\n",
       "      <td>1 month ago</td>\n",
       "      <td>2.3</td>\n",
       "    </tr>\n",
       "  </tbody>\n",
       "</table>"
      ],
      "text/plain": [
       "<cord.cord19.SearchResults at 0x23f20dcd630>"
      ]
     },
     "execution_count": 17,
     "metadata": {},
     "output_type": "execute_result"
    }
   ],
   "source": [
    "research_papers.search('hospital doctors', \n",
    "                       start_date='2020-01-30', \n",
    "                       end_date='2020-02-15',\n",
    "                       covid_related=True)"
   ]
  },
  {
   "cell_type": "code",
   "execution_count": 18,
   "metadata": {},
   "outputs": [
    {
     "name": "stderr",
     "output_type": "stream",
     "text": [
      "[nltk_data] Downloading package punkt to\n",
      "[nltk_data]     C:\\Users\\dwight\\AppData\\Roaming\\nltk_data...\n",
      "[nltk_data]   Package punkt is already up-to-date!\n"
     ]
    },
    {
     "data": {
      "text/html": [
       "<h3>Search Results</h3>\n",
       "<table border=\"1\" class=\"dataframe\">\n",
       "  <thead>\n",
       "    <tr style=\"text-align: right;\">\n",
       "      <th>title</th>\n",
       "      <th>authors</th>\n",
       "      <th>when</th>\n",
       "      <th>Score</th>\n",
       "    </tr>\n",
       "  </thead>\n",
       "  <tbody>\n",
       "    <tr>\n",
       "      <td>Remdesivir as a possible therapeutic option for the COVID-19</td>\n",
       "      <td>Al-Tawfiq, Jaffar A.; Al-Homoud, Ali H.; Memish, Ziad A.</td>\n",
       "      <td>3 weeks ago</td>\n",
       "      <td>12.7</td>\n",
       "    </tr>\n",
       "    <tr>\n",
       "      <td>Arguments in favour of remdesivir for treating SARS-CoV-2 infections</td>\n",
       "      <td>Ko, Wen-Chien; Rolain, Jean-Marc; Lee, Nan-Yao; Chen, Po-Lin; Huang, Ching-Tai; Lee, Ping-Ing; Hsueh, Po-Ren</td>\n",
       "      <td>2 weeks ago</td>\n",
       "      <td>12.6</td>\n",
       "    </tr>\n",
       "    <tr>\n",
       "      <td>Strategies against the novel coronavirus: Possible applications of the experimental Ebola drug remdesivir are being tested</td>\n",
       "      <td>nan</td>\n",
       "      <td>2 months ago</td>\n",
       "      <td>12.1</td>\n",
       "    </tr>\n",
       "    <tr>\n",
       "      <td>Remdesivir and chloroquine effectively inhibit the recently emerged novel coronavirus (2019-nCoV) in vitro</td>\n",
       "      <td>Wang, Manli; Cao, Ruiyuan; Zhang, Leike; Yang, Xinglou; Liu, Jia; Xu, Mingyue; Shi, Zhengli; Hu, Zhihong; Zhong, Wu; Xiao, Gengfu</td>\n",
       "      <td>2 months ago</td>\n",
       "      <td>12.1</td>\n",
       "    </tr>\n",
       "    <tr>\n",
       "      <td>Discovering drugs to treat coronavirus disease 2019 (COVID-19)</td>\n",
       "      <td>Dong, Liying; Hu, Shasha; Gao, Jianjun</td>\n",
       "      <td>3 weeks ago</td>\n",
       "      <td>9.0</td>\n",
       "    </tr>\n",
       "    <tr>\n",
       "      <td>Potential antiviral therapeutics for 2019 Novel Coronavirus</td>\n",
       "      <td>Li, H.; Wang, Y. M.; Xu, J. Y.; Cao, B.</td>\n",
       "      <td>2 months ago</td>\n",
       "      <td>7.8</td>\n",
       "    </tr>\n",
       "    <tr>\n",
       "      <td>Teicoplanin: an alternative drug for the treatment of coronavirus COVID-19?</td>\n",
       "      <td>Baron, Sophie Alexandra; Devaux, Christian; Colson, Philippe; Raoult, Didier; Rolain, Jean-Marc</td>\n",
       "      <td>1 week ago</td>\n",
       "      <td>7.7</td>\n",
       "    </tr>\n",
       "    <tr>\n",
       "      <td>Comparative therapeutic efficacy of remdesivir and combination lopinavir, ritonavir, and interferon beta against MERS-CoV</td>\n",
       "      <td>Sheahan, Timothy P.; Sims, Amy C.; Leist, Sarah R.; Schäfer, Alexandra; Won, John; Brown, Ariane J.; Montgomery, Stephanie A.; Hogg, Alison; Babusis, Darius; Clarke, Michael O.; Spahn, Jamie E.; Bauer, Laura; Sellers, Scott; Porter, Danielle; Feng, Joy Y.; Cihlar, Tomas; Jordan, Robert; Denison, Mark R.; Baric, Ralph S.</td>\n",
       "      <td>2 months ago</td>\n",
       "      <td>7.6</td>\n",
       "    </tr>\n",
       "    <tr>\n",
       "      <td>Gilead and Moderna lead on coronavirus treatments</td>\n",
       "      <td>nan</td>\n",
       "      <td>2 weeks ago</td>\n",
       "      <td>7.5</td>\n",
       "    </tr>\n",
       "    <tr>\n",
       "      <td>Remdesivir (GS-5734) protects African green monkeys from Nipah virus challenge</td>\n",
       "      <td>Lo, Michael K.; Feldmann, Friederike; Gary, Joy M.; Jordan, Robert; Bannister, Roy; Cronin, Jacqueline; Patel, Nishi R.; Klena, John D.; Nichol, Stuart T.; Cihlar, Tomas; Zaki, Sherif R.; Feldmann, Heinz; Spiropoulou, Christina F.; de Wit, Emmie</td>\n",
       "      <td></td>\n",
       "      <td>7.5</td>\n",
       "    </tr>\n",
       "  </tbody>\n",
       "</table>"
      ],
      "text/plain": [
       "<cord.cord19.SearchResults at 0x23f20b1ed68>"
      ]
     },
     "execution_count": 18,
     "metadata": {},
     "output_type": "execute_result"
    }
   ],
   "source": [
    "research_papers.search('remdesivir')"
   ]
  },
  {
   "cell_type": "code",
   "execution_count": null,
   "metadata": {},
   "outputs": [],
   "source": []
  }
 ],
 "metadata": {
  "kernelspec": {
   "display_name": "cord",
   "language": "python",
   "name": "cord"
  },
  "language_info": {
   "codemirror_mode": {
    "name": "ipython",
    "version": 3
   },
   "file_extension": ".py",
   "mimetype": "text/x-python",
   "name": "python",
   "nbconvert_exporter": "python",
   "pygments_lexer": "ipython3",
   "version": "3.7.0"
  }
 },
 "nbformat": 4,
 "nbformat_minor": 2
}
