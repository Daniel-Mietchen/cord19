{
 "cells": [
  {
   "cell_type": "markdown",
   "metadata": {},
   "source": [
    "# CORD Search Engine"
   ]
  },
  {
   "cell_type": "markdown",
   "metadata": {},
   "source": [
    "## CORD Library"
   ]
  },
  {
   "cell_type": "code",
   "execution_count": 1,
   "metadata": {},
   "outputs": [],
   "source": [
    "%load_ext autoreload\n",
    "%autoreload 2\n",
    "from cord.cord19 import *\n",
    "from cord.core import parallel, ifnone\n",
    "pd.options.display.max_colwidth = 200"
   ]
  },
  {
   "cell_type": "markdown",
   "metadata": {},
   "source": [
    "# 1. Reading the Research Papers"
   ]
  },
  {
   "cell_type": "markdown",
   "metadata": {},
   "source": [
    "## From Paths"
   ]
  },
  {
   "cell_type": "code",
   "execution_count": 2,
   "metadata": {},
   "outputs": [
    {
     "name": "stdout",
     "output_type": "stream",
     "text": [
      "Loading metadata from data\\CORD-19-research-challenge\n",
      "Cleaning metadata\n",
      "\n",
      "Indexing research papers\n",
      "Creating the BM25 index from the abstracts of the papers\n",
      "Use index=\"text\" if you want to index the texts of the paper instead\n",
      "Finished Indexing in 40.0 seconds\n"
     ]
    }
   ],
   "source": [
    "research_papers = ResearchPapers.load()\n",
    "#research_papers = ResearchPapers.from_pickle()"
   ]
  },
  {
   "cell_type": "code",
   "execution_count": 3,
   "metadata": {},
   "outputs": [
    {
     "name": "stdout",
     "output_type": "stream",
     "text": [
      "Saving to data\\ResearchPapers.pickle\n"
     ]
    }
   ],
   "source": [
    "research_papers.save()"
   ]
  },
  {
   "cell_type": "markdown",
   "metadata": {},
   "source": [
    "## From Pickle"
   ]
  },
  {
   "cell_type": "code",
   "execution_count": 4,
   "metadata": {},
   "outputs": [
    {
     "name": "stdout",
     "output_type": "stream",
     "text": [
      "Wall time: 2.08 s\n"
     ]
    }
   ],
   "source": [
    "%time research_papers = ResearchPapers.from_pickle()"
   ]
  },
  {
   "cell_type": "code",
   "execution_count": 5,
   "metadata": {},
   "outputs": [
    {
     "data": {
      "text/plain": [
       "False"
      ]
     },
     "execution_count": 5,
     "metadata": {},
     "output_type": "execute_result"
    }
   ],
   "source": [
    "research_papers.metadata.doi.isnull().any()"
   ]
  },
  {
   "cell_type": "markdown",
   "metadata": {},
   "source": [
    "## Search Bar"
   ]
  },
  {
   "cell_type": "code",
   "execution_count": 6,
   "metadata": {},
   "outputs": [
    {
     "data": {
      "application/vnd.jupyter.widget-view+json": {
       "model_id": "c416b8d3933a46b3bf9aedeb694d75eb",
       "version_major": 2,
       "version_minor": 0
      },
      "text/plain": [
       "interactive(children=(Text(value='vaccine transmission', description='SearchTerms'), Output()), _dom_classes=(…"
      ]
     },
     "metadata": {},
     "output_type": "display_data"
    }
   ],
   "source": [
    "research_papers.searchbar('vaccine transmission')"
   ]
  },
  {
   "cell_type": "markdown",
   "metadata": {},
   "source": [
    "## Search"
   ]
  },
  {
   "cell_type": "code",
   "execution_count": 7,
   "metadata": {},
   "outputs": [
    {
     "data": {
      "text/html": [
       "\n",
       " <h4 class='cord'>The Pathogenicity of SARS-CoV-2 in hACE2 Transgenic Mice</h4>\n",
       "\n",
       " <span class='authors'>Linlin Bao; Wei Deng; Baoying Huang; Hong Gao; Jiangning Liu; Lili Ren; Qiang Wei; Pin Yu; Yanfeng Xu; Feifei Qi; Yajin Qu; Fengdi Li; Qi Lv; Wenling Wang; Jing Xue; Shuran Gong; Mingya Liu; Guanpeng ...</span>\n",
       " <span class='published'>1 month ago</span>\n",
       "  <a href='http://doi.org/10.1101/2020.02.07.939389' target='_new' class='link'>Link</a> \n",
       " <div class='abstract'>Severe acute respiratory syndrome CoV-2 (SARS-CoV-2) caused the Corona Virus Disease 2019 (COVID-19) cases in China has become a public health emergency of international concern (PHEIC). Based on angiotensin converting enzyme 2 (ACE2) as cell entry receptor of SARS-CoV, we used the hACE2 transgenic ...</div>\n",
       "\n",
       "\n",
       " <h4 class='cord'>The immune vulnerability landscape of the 2019 Novel Coronavirus, SARS-CoV-2</h4>\n",
       "\n",
       " <span class='authors'>James Zhu; Jiwoong Kim; Xue Xiao; Yunguan Wang; Danni Luo; Ran Chen; Lin Xu; He Zhang; Guanghua Xiao; John Schoggins; Xiaowei Zhan; Tao Wang; Yang Xie...</span>\n",
       " <span class='published'>1 month ago</span>\n",
       "  <a href='http://doi.org/10.1101/2020.02.08.939553' target='_new' class='link'>Link</a> \n",
       " <div class='abstract'>The outbreak of the 2019 Novel Coronavirus (SARS-CoV-2) rapidly spread from Wuhan, China to more than 150 countries, areas or territories, causing staggering number of infections and deaths. A systematic profiling of the immune vulnerability landscape of SARS-CoV-2, which can bring critical insights...</div>\n",
       "\n",
       "\n",
       " <h4 class='cord'>Preliminary identification of potential vaccine targets for the COVID-19 coronavirus (SARS-CoV-2) based on SARS-CoV immunological studies</h4>\n",
       "\n",
       " <span class='authors'>Syed Faraz Ahmed; Ahmed A. Quadeer; Matthew R. McKay...</span>\n",
       " <span class='published'>1 month ago</span>\n",
       "  <a href='http://doi.org/10.1101/2020.02.03.933226' target='_new' class='link'>Link</a> \n",
       " <div class='abstract'>The beginning of 2020 has seen the emergence of COVID-19 outbreak caused by a novel coronavirus, Severe Acute Respiratory Syndrome Coronavirus 2 (SARS-CoV-2). There is an imminent need to better understand this new virus and to develop ways to control its spread. In this study, we sought to gain ins...</div>\n",
       "\n",
       "\n",
       " <h4 class='cord'>The insert sequence in SARS-CoV-2 enhances spike protein cleavage by TMPRSS</h4>\n",
       "\n",
       " <span class='authors'>Tong Meng; Hao Cao; Hao Zhang; Zijian Kang; Da Xu; Haiyi Gong; Jing Wang; Zifu Li; Xingang Cui; Huji Xu; Haifeng Wei; Xiuwu Pan; Rongrong Zhu; Jianru Xiao; Wang Zhou; Liming Cheng; Jianmin Liu...</span>\n",
       " <span class='published'>1 month ago</span>\n",
       "  <a href='http://doi.org/10.1101/2020.02.08.926006' target='_new' class='link'>Link</a> \n",
       " <div class='abstract'>At the end of 2019, the SARS-CoV-2 induces an ongoing outbreak of pneumonia in China1, even more spread than SARS-CoV infection2. The entry of SARS-CoV into host cells mainly depends on the cell receptor (ACE2) recognition and spike protein cleavage-induced cell membrane fusion3,4. The spike protein...</div>\n",
       "\n",
       "\n",
       " <h4 class='cord'>The Essential Facts of Wuhan Novel Coronavirus Outbreak in China and Epitope-based Vaccine Designing against COVID-19</h4>\n",
       "\n",
       " <span class='authors'>Bishajit Sarkar; Md. Asad Ullah; Fatema Tuz Johora; Masuma Afrin Taniya; Yusha Araf...</span>\n",
       " <span class='published'>1 month ago</span>\n",
       "  <a href='http://doi.org/10.1101/2020.02.05.935072' target='_new' class='link'>Link</a> \n",
       " <div class='abstract'>Wuhan Novel Coronavirus disease (COVID-19) outbreak has become a global outbreak which has raised the concern of scientific community to design and discover a definitive cure against this deadly virus which has caused deaths of numerous infected people upon infection and spreading. To date, no antiv...</div>\n",
       "\n",
       "\n",
       " <h4 class='cord'>Severe acute respiratory syndrome-related coronavirus: The species and its viruses – a statement of the Coronavirus Study Group</h4>\n",
       "\n",
       " <span class='authors'>Alexander E. Gorbalenya; Susan C. Baker; Ralph S. Baric; Raoul J. de Groot; Christian Drosten; Anastasia A. Gulyaeva; Bart L. Haagmans; Chris Lauber; Andrey M Leontovich; Benjamin W. Neuman; Dmitry Pe...</span>\n",
       " <span class='published'>1 month ago</span>\n",
       "  <a href='http://doi.org/10.1101/2020.02.07.937862' target='_new' class='link'>Link</a> \n",
       " <div class='abstract'>The present outbreak of lower respiratory tract infections, including respiratory distress syndrome, is the third spillover, in only two decades, of an animal coronavirus to humans resulting in a major epidemic. Here, the Coronavirus Study Group (CSG) of the International Committee on Taxonomy of Vi...</div>\n",
       "\n",
       "\n",
       " <h4 class='cord'>Evidence and characteristics of human-to-human transmission of SARS-CoV-2</h4>\n",
       "\n",
       " <span class='authors'>Min Kang; Jie Wu; Wenjun Ma; Jianfeng He; Jing Lu; Tao Liu; Baisheng Li; Shujiang Mei; Feng Ruan; Lifeng Lin; Lirong Zou; Changwen Ke; Haojie Zhong; Yingtao Zhang; Xuguang Chen; Zhe Liu; Qi Zhu; Jianp...</span>\n",
       " <span class='published'>1 month ago</span>\n",
       "  <a href='http://doi.org/10.1101/2020.02.03.20019141' target='_new' class='link'>Link</a> \n",
       " <div class='abstract'>Background: On December 31, 2019, an outbreak of COVID-19 in humans was reported in Wuhan, and then spread fast to other provinces, China. We analyzed data from field investigations and genetic sequencing to describe the evidence and characteristics of human-to-human transmission in Guangdong Provin...</div>\n",
       "\n",
       "\n",
       " <h4 class='cord'>Reconciling early-outbreak estimates of the basic reproductive number and its uncertainty: framework and applications to the novel coronavirus (SARS-CoV-2) outbreak</h4>\n",
       "\n",
       " <span class='authors'>Sang Woo Park; Benjamin M. Bolker; David Champredon; David J.D. Earn; Michael Li; Joshua S. Weitz; Bryan T. Grenfell; Jonathan Dushoff...</span>\n",
       " <span class='published'>1 month ago</span>\n",
       "  <a href='http://doi.org/10.1101/2020.01.30.20019877' target='_new' class='link'>Link</a> \n",
       " <div class='abstract'>A novel coronavirus (SARS-CoV-2) has recently emerged as a global threat. As the epidemic progresses, many disease modelers have focused on estimating the basic reproductive number Ro -- the average number of secondary cases caused by a primary case in an otherwise susceptible population. The modeli...</div>\n",
       "\n",
       "\n",
       " <h4 class='cord'>Interventions targeting air travellers early in the pandemic may delay local outbreaks of SARS-CoV-2</h4>\n",
       "\n",
       " <span class='authors'>Samuel J Clifford; Carl A B Pearson; Petra Klepac; Kevin Van Zandvoort; Billy J Quilty; Rosalind M Eggo; Stefan Flasche...</span>\n",
       " <span class='published'>1 month ago</span>\n",
       "  <a href='http://doi.org/10.1101/2020.02.12.20022426' target='_new' class='link'>Link</a> \n",
       " <div class='abstract'>Background: We evaluated if interventions aimed at air travellers can delay establishment of a SARS-CoV-2 outbreak in a previously unaffected country. Methods: For countries with no sustained SARS-CoV-2 transmission and with no shared border with affected regions we simulated arriving infected air t...</div>\n",
       "\n",
       "\n",
       " <h4 class='cord'>Molecular Modeling Evaluation of the Binding Effect of Ritonavir, Lopinavir and Darunavir to Severe Acute Respiratory Syndrome Coronavirus 2 Proteases</h4>\n",
       "\n",
       " <span class='authors'>Shen Lin; Runnan Shen; Jingdong He; Xinhao Li; Xushun Guo...</span>\n",
       " <span class='published'>1 month ago</span>\n",
       "  <a href='http://doi.org/10.1101/2020.01.31.929695' target='_new' class='link'>Link</a> \n",
       " <div class='abstract'>Three anti-HIV drugs, ritonavir, lopinavir and darunavir, might have therapeutic effect on coronavirus disease 2019 (COVID-19). In this study, the structure models of two severe acute respiratory syndrome coronavirus 2 (SARS-CoV-2) proteases, coronavirus endopeptidase C30 (CEP_C30) and papain like v...</div>\n",
       "\n",
       "\n",
       "\n",
       "<style>\n",
       ".authors, .published{\n",
       "    padding: 12px 10px 0px 0px;\n",
       "    margin: 12px 0px 5px;\n",
       "}\n",
       ".authors { color: #778899;}\n",
       ".published {color: #2F4F4F; font-weight: bold; font-size: 0.9em;}\n",
       "h2.cord, h3.cord, h4.cord {margin-top: 15px}\n",
       "div.abstract {max-height : 80px; margin-top: 10px}\n",
       ".link-text {color: #808080; font-size: 0.9em}\n",
       "</style>"
      ],
      "text/plain": [
       "<cord.cord19.SearchResults at 0x145e27beba8>"
      ]
     },
     "execution_count": 7,
     "metadata": {},
     "output_type": "execute_result"
    }
   ],
   "source": [
    "research_papers.search('treatment sars-cov-2', \n",
    "                       start_date='2020-01-30', \n",
    "                       end_date='2020-02-15',\n",
    "                       covid_related=True)"
   ]
  },
  {
   "cell_type": "code",
   "execution_count": 8,
   "metadata": {},
   "outputs": [
    {
     "data": {
      "text/html": [
       "\n",
       " <h4 class='cord'>Prophylactic and therapeutic remdesivir (GS-5734) treatment in the rhesus macaque model of MERS-CoV infection</h4>\n",
       "\n",
       " <span class='authors'>de Wit, Emmie; Feldmann, Friederike; Cronin, Jacqueline; Jordan, Robert; Okumura, Atsushi; Thomas, Tina; Scott, Dana; Cihlar, Tomas; Feldmann, Heinz...</span>\n",
       " <span class='published'>1 month ago</span>\n",
       "  <a href='http://doi.org/10.1073/pnas.1922083117' target='_new' class='link'>Link</a> \n",
       " <div class='abstract'>The continued emergence of Middle East Respiratory Syndrome (MERS) cases with a high case fatality rate stresses the need for the availability of effective antiviral treatments. Remdesivir (GS-5734) effectively inhibited MERS coronavirus (MERS-CoV) replication in vitro, and showed efficacy against S...</div>\n",
       "\n",
       "\n",
       " <h4 class='cord'>Remdesivir as a possible therapeutic option for the COVID-19</h4>\n",
       "\n",
       " <span class='authors'>Al-Tawfiq, Jaffar A.; Al-Homoud, Ali H.; Memish, Ziad A....</span>\n",
       " <span class='published'>3 weeks ago</span>\n",
       "  <a href='http://doi.org/10.1016/j.tmaid.2020.101615' target='_new' class='link'>Link</a> \n",
       " <div class='abstract'>Remdesivir as a possible therapeutic option for the COVID-19...</div>\n",
       "\n",
       "\n",
       " <h4 class='cord'>Arguments in favour of remdesivir for treating SARS-CoV-2 infections</h4>\n",
       "\n",
       " <span class='authors'>Ko, Wen-Chien; Rolain, Jean-Marc; Lee, Nan-Yao; Chen, Po-Lin; Huang, Ching-Tai; Lee, Ping-Ing; Hsueh, Po-Ren...</span>\n",
       " <span class='published'>3 weeks ago</span>\n",
       "  <a href='http://doi.org/10.1016/j.ijantimicag.2020.105933' target='_new' class='link'>Link</a> \n",
       " <div class='abstract'>Arguments in favour of remdesivir for treating SARS-CoV-2 infections...</div>\n",
       "\n",
       "\n",
       " <h4 class='cord'>Gilead and Moderna lead on coronavirus treatments</h4>\n",
       "\n",
       " <span class='authors'></span>\n",
       " <span class='published'>3 weeks ago</span>\n",
       "  <a href='http://doi.org/10.1021/cen-09809-buscon3' target='_new' class='link'>Link</a> \n",
       " <div class='abstract'>wo US biotech firms have positioned themselves as front-runners fighting the novel coronavirus, called SARS-CoV-2. On Feb. 25, the US National Institutes of Health (NIH) said it had begun a Phase II clinical trial of remdesivir, an experimental small-molecule drug made by Gilead Sciences, for treatm...</div>\n",
       "\n",
       "\n",
       " <h4 class='cord'>Remdesivir and chloroquine effectively inhibit the recently emerged novel coronavirus (2019-nCoV) in vitro</h4>\n",
       "\n",
       " <span class='authors'>Wang, Manli; Cao, Ruiyuan; Zhang, Leike; Yang, Xinglou; Liu, Jia; Xu, Mingyue; Shi, Zhengli; Hu, Zhihong; Zhong, Wu; Xiao, Gengfu...</span>\n",
       " <span class='published'>3 months ago</span>\n",
       "  <a href='http://doi.org/10.1038/s41422-020-0282-0' target='_new' class='link'>Link</a> \n",
       " <div class='abstract'>Remdesivir and chloroquine effectively inhibit the recently emerged novel coronavirus (2019-nCoV) in vitro...</div>\n",
       "\n",
       "\n",
       " <h4 class='cord'>Strategies against the novel coronavirus: Possible applications of the experimental Ebola drug remdesivir are being tested</h4>\n",
       "\n",
       " <span class='authors'></span>\n",
       " <span class='published'>3 months ago</span>\n",
       "  <a href='#' target='_new' class='link'>Link</a> \n",
       " <div class='abstract'>Strategies against the novel coronavirus: Possible applications of the experimental Ebola drug remdesivir are being tested...</div>\n",
       "\n",
       "\n",
       " <h4 class='cord'>Remdesivir (GS-5734) protects African green monkeys from Nipah virus challenge</h4>\n",
       "\n",
       " <span class='authors'>Lo, Michael K.; Feldmann, Friederike; Gary, Joy M.; Jordan, Robert; Bannister, Roy; Cronin, Jacqueline; Patel, Nishi R.; Klena, John D.; Nichol, Stuart T.; Cihlar, Tomas; Zaki, Sherif R.; Feldmann, He...</span>\n",
       " <span class='published'>10 months ago</span>\n",
       "  <a href='http://doi.org/10.1126/scitranslmed.aau9242' target='_new' class='link'>Link</a> \n",
       " <div class='abstract'>Nipah virus is an emerging pathogen in the Paramyxoviridae family. Upon transmission of Nipah virus from its natural reservoir, Pteropus spp. fruit bats, to humans, it causes respiratory and neurological disease with a case-fatality rate about 70%. Human-to-human transmission has been observed durin...</div>\n",
       "\n",
       "\n",
       " <h4 class='cord'>Mechanism of Inhibition of Ebola Virus RNA-Dependent RNA Polymerase by Remdesivir</h4>\n",
       "\n",
       " <span class='authors'>Tchesnokov, Egor P.; Feng, Joy Y.; Porter, Danielle P.; Götte, Matthias...</span>\n",
       " <span class='published'>1 year ago</span>\n",
       "  <a href='http://doi.org/10.3390/v11040326' target='_new' class='link'>Link</a> \n",
       " <div class='abstract'>Remdesivir (GS-5734) is a 1′-cyano-substituted adenosine nucleotide analogue prodrug that shows broad-spectrum antiviral activity against several RNA viruses. This compound is currently under clinical development for the treatment of Ebola virus disease (EVD). While antiviral effects have been demon...</div>\n",
       "\n",
       "\n",
       " <h4 class='cord'>A brief review of antiviral drugs evaluated in registered clinical trials for COVID-19</h4>\n",
       "\n",
       " <span class='authors'>Drifa Belhadi; Nathan Peiffer-Smadja; Yazdan Yazdanpanah; France Mentré; Cédric Laouénan...</span>\n",
       " <span class='published'>1 week ago</span>\n",
       "  <a href='http://doi.org/10.1101/2020.03.18.20038190' target='_new' class='link'>Link</a> \n",
       " <div class='abstract'>Background: Although a number of antiviral agents have been evaluated for coronaviruses there are no approved drugs available. To provide an overview of the landscape of therapeutic research for COVID-19, we conducted a review of registered clinical trials. Methods: A review of currently registered ...</div>\n",
       "\n",
       "\n",
       " <h4 class='cord'>Discovering drugs to treat coronavirus disease 2019 (COVID-19)</h4>\n",
       "\n",
       " <span class='authors'>Dong, Liying; Hu, Shasha; Gao, Jianjun...</span>\n",
       " <span class='published'>4 weeks ago</span>\n",
       "  <a href='http://doi.org/10.5582/ddt.2020.01012' target='_new' class='link'>Link</a> \n",
       " <div class='abstract'>The SARS-CoV-2 virus emerged in December 2019 and then spread rapidly worldwide, particularly to China, Japan, and South Korea. Scientists are endeavoring to find antivirals specific to the virus. Several drugs such as chloroquine, arbidol, remdesivir, and favipiravir are currently undergoing clinic...</div>\n",
       "\n",
       "\n",
       "\n",
       "<style>\n",
       ".authors, .published{\n",
       "    padding: 12px 10px 0px 0px;\n",
       "    margin: 12px 0px 5px;\n",
       "}\n",
       ".authors { color: #778899;}\n",
       ".published {color: #2F4F4F; font-weight: bold; font-size: 0.9em;}\n",
       "h2.cord, h3.cord, h4.cord {margin-top: 15px}\n",
       "div.abstract {max-height : 80px; margin-top: 10px}\n",
       ".link-text {color: #808080; font-size: 0.9em}\n",
       "</style>"
      ],
      "text/plain": [
       "<cord.cord19.SearchResults at 0x1458d624160>"
      ]
     },
     "execution_count": 8,
     "metadata": {},
     "output_type": "execute_result"
    }
   ],
   "source": [
    "research_papers.search('remdesivir')"
   ]
  },
  {
   "cell_type": "code",
   "execution_count": 9,
   "metadata": {},
   "outputs": [
    {
     "data": {
      "application/vnd.jupyter.widget-view+json": {
       "model_id": "43cc639bcb6d46ab9baba12020eba97e",
       "version_major": 2,
       "version_minor": 0
      },
      "text/plain": [
       "interactive(children=(Text(value='sars-cov-2 outbreak cruise ship', description='SearchTerms'), Output()), _do…"
      ]
     },
     "metadata": {},
     "output_type": "display_data"
    }
   ],
   "source": [
    "research_papers.searchbar()"
   ]
  }
 ],
 "metadata": {
  "kernelspec": {
   "display_name": "cord",
   "language": "python",
   "name": "cord"
  },
  "language_info": {
   "codemirror_mode": {
    "name": "ipython",
    "version": 3
   },
   "file_extension": ".py",
   "mimetype": "text/x-python",
   "name": "python",
   "nbconvert_exporter": "python",
   "pygments_lexer": "ipython3",
   "version": "3.7.0"
  }
 },
 "nbformat": 4,
 "nbformat_minor": 2
}
