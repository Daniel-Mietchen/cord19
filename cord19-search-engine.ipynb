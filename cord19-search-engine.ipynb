{
 "cells": [
  {
   "cell_type": "markdown",
   "metadata": {},
   "source": [
    "# CORD Search Engine"
   ]
  },
  {
   "cell_type": "markdown",
   "metadata": {},
   "source": [
    "## CORD Library"
   ]
  },
  {
   "cell_type": "code",
   "execution_count": 1,
   "metadata": {},
   "outputs": [
    {
     "name": "stderr",
     "output_type": "stream",
     "text": [
      "[nltk_data] Downloading package punkt to\n",
      "[nltk_data]     C:\\Users\\dwight\\AppData\\Roaming\\nltk_data...\n",
      "[nltk_data]   Package punkt is already up-to-date!\n"
     ]
    }
   ],
   "source": [
    "%load_ext autoreload\n",
    "%autoreload 2\n",
    "from cord.cord19 import *\n",
    "from cord.core import parallel, ifnone\n",
    "pd.options.display.max_colwidth = 200"
   ]
  },
  {
   "cell_type": "markdown",
   "metadata": {},
   "source": [
    "# 1. Reading the Research Papers"
   ]
  },
  {
   "cell_type": "markdown",
   "metadata": {},
   "source": [
    "## From Paths"
   ]
  },
  {
   "cell_type": "code",
   "execution_count": 2,
   "metadata": {},
   "outputs": [],
   "source": [
    "#research_papers = ResearchPapers.from_data_dir()\n",
    "research_papers = ResearchPapers.from_pickle()"
   ]
  },
  {
   "cell_type": "code",
   "execution_count": 14,
   "metadata": {},
   "outputs": [
    {
     "name": "stdout",
     "output_type": "stream",
     "text": [
      "Saving to data\\ResearchPapers.pickle\n"
     ]
    }
   ],
   "source": [
    "research_papers.save()"
   ]
  },
  {
   "cell_type": "markdown",
   "metadata": {},
   "source": [
    "## From Pickle"
   ]
  },
  {
   "cell_type": "code",
   "execution_count": 4,
   "metadata": {},
   "outputs": [],
   "source": [
    "%time research_papers = ResearchPapers.from_pickle()"
   ]
  },
  {
   "cell_type": "markdown",
   "metadata": {},
   "source": [
    "## Search Bar"
   ]
  },
  {
   "cell_type": "code",
   "execution_count": 9,
   "metadata": {},
   "outputs": [
    {
     "data": {
      "application/vnd.jupyter.widget-view+json": {
       "model_id": "7a657cd3d5ec4398ab8bbaac5eb6ef70",
       "version_major": 2,
       "version_minor": 0
      },
      "text/plain": [
       "interactive(children=(Text(value='vaccine transmission', description='SearchTerms'), Output()), _dom_classes=(…"
      ]
     },
     "metadata": {},
     "output_type": "display_data"
    }
   ],
   "source": [
    "research_papers.searchbar('vaccine transmission')"
   ]
  },
  {
   "cell_type": "markdown",
   "metadata": {},
   "source": [
    "## Search"
   ]
  },
  {
   "cell_type": "code",
   "execution_count": 11,
   "metadata": {},
   "outputs": [
    {
     "data": {
      "text/html": [
       "<h3>Search Results</h3>\n",
       "\n",
       " <h4>Preliminary identification of potential vaccine targets for the COVID-19 coronavirus (SARS-CoV-2) based on SARS-CoV immunological studies</h4>\n",
       "\n",
       " <span class='authors'>Ahmed, S. F.; Quadeer, A. A.; McKay, M. R.</span>\n",
       " <span class='published'>1 month ago</span>\n",
       " <div class='abstract'>The beginning of 2020 has seen the emergence of COVID-19 outbreak caused by a novel coronavirus, Severe Acute Respiratory Syndrome Coronavirus 2 (SARS-CoV-2). There is an imminent need to better understand this new virus and to develop ways to control its spread. In this study, we sought to gain ins...</div>\n",
       "\n",
       "\n",
       " <h4>Identification of Coronavirus Isolated from a Patient in Korea with COVID-19</h4>\n",
       "\n",
       " <span class='authors'>Kim, Jeong-Min; Chung, Yoon-Seok; Jo, Hye Jun; Lee, Nam-Joo; Kim, Mi Seon; Woo, Sang Hee; Park, Sehee; Kim, Jee Woong; Kim, Heui Man; Han, Myung-Guk</span>\n",
       " <span class='published'>1 month ago</span>\n",
       " <div class='abstract'>OBJECTIVES: Following reports of patients with unexplained pneumonia at the end of December 2019 in Wuhan, China, the causative agent was identified as coronavirus (SARS-CoV-2), and the 2019 novel coronavirus disease was named COVID-19 by the World Health Organization. Putative patients with COVID-1...</div>\n",
       "\n",
       "\n",
       " <h4>Severe acute respiratory syndrome-related coronavirus - The species and its viruses, a statement of the Coronavirus Study Group</h4>\n",
       "\n",
       " <span class='authors'>Gorbalenya, A. E.</span>\n",
       " <span class='published'>1 month ago</span>\n",
       " <div class='abstract'>The present outbreak of lower respiratory tract infections, including respiratory distress syndrome, is the third spillover, in only two decades, of an animal coronavirus to humans resulting in a major epidemic. Here, the Coronavirus Study Group (CSG) of the International Committee on Taxonomy of Vi...</div>\n",
       "\n",
       "\n",
       " <h4>Evidence and characteristics of human-to-human transmission of SARS-CoV-2</h4>\n",
       "\n",
       " <span class='authors'>Min Kang; Jie Wu; Wenjun Ma; Jianfeng He; Jing Lu; Tao Liu; Baisheng Li; Shujiang Mei; Feng Ruan; Lifeng Lin; Lirong Zou; Changwen Ke; Haojie Zhong; Yingtao Zhang; Xuguang Chen; Zhe Liu; Qi Zhu; Jianpeng Xiao; Jianxiang Yu; Jianxiong Hu; Weilin Zeng; Xing Li; Yuhuang Liao; Xiujuan Tang; Songjian Xiao; Ying Wang; Yingchao Song; Xue Zhuang; Lijun Liang; Siqing Zeng; Guanhao He; Peng Lin; Huihong Deng; Tie Song</span>\n",
       " <span class='published'>1 month ago</span>\n",
       " <div class='abstract'>Background: On December 31, 2019, an outbreak of COVID-19 in humans was reported in Wuhan, and then spread fast to other provinces, China. We analyzed data from field investigations and genetic sequencing to describe the evidence and characteristics of human-to-human transmission in Guangdong Provin...</div>\n",
       "\n",
       "\n",
       " <h4>Interventions targeting air travellers early in the pandemic may delay local outbreaks of SARS-CoV-2</h4>\n",
       "\n",
       " <span class='authors'>nan</span>\n",
       " <span class='published'>1 month ago</span>\n",
       " <div class='abstract'>Background: We evaluated if interventions aimed at air travellers can delay establishment of a SARS-CoV-2 outbreak in a previously unaffected country. Methods: For countries with no sustained SARS-CoV-2 transmission and with no shared border with affected regions we simulated arriving infected air t...</div>\n",
       "\n",
       "\n",
       " <h4>Reconciling early-outbreak estimates of the basic reproductive number and its uncertainty: framework and applications to the novel coronavirus (SARS-CoV-2) outbreak</h4>\n",
       "\n",
       " <span class='authors'>Sang Woo Park; Benjamin M. Bolker; David Champredon; David J.D. Earn; Michael Li; Joshua S. Weitz; Bryan T. Grenfell; Jonathan Dushoff</span>\n",
       " <span class='published'>1 month ago</span>\n",
       " <div class='abstract'>A novel coronavirus (SARS-CoV-2) has recently emerged as a global threat. As the epidemic progresses, many disease modelers have focused on estimating the basic reproductive number Ro -- the average number of secondary cases caused by a primary case in an otherwise susceptible population. The modeli...</div>\n",
       "\n",
       "\n",
       " <h4>Labs scramble to spot hidden coronavirus infections</h4>\n",
       "\n",
       " <span class='authors'>Jon Cohen, et al.</span>\n",
       " <span class='published'>1 month ago</span>\n",
       " <div class='abstract'>The seeming precision of the global tallies of cases and deaths caused by the novel coronavirus now spreading from Wuhan, China belies an alarming fact. ... (A study group of the International Committee on Taxonomy of Viruses christened the novel virus severe acute respiratory syndrome coronavirus 2...</div>\n",
       "\n",
       "\n",
       " <h4></h4>\n",
       "\n",
       " <span class='authors'>Science</span>\n",
       " <span class='published'>1 month ago</span>\n",
       " <div class='abstract'>Just weeks after a novel coronavirus emerged in Wuhan, China, the outbreak continued to expand in gravity and scope. This week, the cumulative death toll surpassed 1000, compared with the more than 800 killed by another coronavirus in the 2002–03 outbreaks of severe acute respiratory syndrome (SARS)...</div>\n",
       "\n",
       "\n",
       " <h4>Early estimation of the case fatality rate of COVID-19 in mainland China: a data-driven analysis</h4>\n",
       "\n",
       " <span class='authors'>Yang, Shu; Cao, Peihua; Du, Peipei; Wu, Ziting; Zhuang, Zian; Yang, Lin; Yu, Xuan; Zhou, Qi; Feng, Xixi; Wang, Xiaohui; Li, Weiguo; Liu, Enmei; Chen, Ju; Chen, Yaolong; He, Daihai</span>\n",
       " <span class='published'>1 month ago</span>\n",
       " <div class='abstract'>: An ongoing outbreak of pneumonia caused by a novel coronavirus [severe acute respiratory syndrome coronavirus (SARS-CoV)-2], named COVID-19, hit a major city of China, Wuhan in December 2019 and subsequently spread to other provinces/regions of China and overseas. Several studies have been done to...</div>\n",
       "\n",
       "\n",
       " <h4>Transmission and epidemiological characteristics of Severe Acute Respiratory Syndrome Coronavirus 2 (SARS-CoV-2) infected Pneumonia (COVID-19): preliminary evidence obtained in comparison with 2003-SARS</h4>\n",
       "\n",
       " <span class='authors'>Rongqiang Zhang; Hui Liu; Fengying Li; Bei Zhang; Qiling Liu; Xiangwen Li; Limei Luo</span>\n",
       " <span class='published'>1 month ago</span>\n",
       " <div class='abstract'>Objectives: Latest epidemic data of Severe Acute Respiratory Syndrome Coronavirus 2 (SARS-CoV-2) infected Pneumonia (COVID-19) was collected and a detailed statistical analysis was carried out to make comparison with 2003-SARS in order to provide scientific reference for the prevention and control o...</div>\n",
       "\n",
       "\n",
       "\n",
       "<style>\n",
       ".authors, .published{\n",
       "    padding: 12px 10px 0px 0px;\n",
       "    margin: 12px 0px 5px;\n",
       "}\n",
       ".authors { color: #778899;}\n",
       ".published {color: #2F4F4F; font-weight: bold; font-size: 0.9em;}\n",
       "div.abstract {max-height : 80px; margin-top: 10px}\n",
       "</style>"
      ],
      "text/plain": [
       "<cord.cord19.SearchResults at 0x228d7f7c588>"
      ]
     },
     "execution_count": 11,
     "metadata": {},
     "output_type": "execute_result"
    }
   ],
   "source": [
    "research_papers.search('treatment sars-cov-2', \n",
    "                       start_date='2020-01-30', \n",
    "                       end_date='2020-02-15',\n",
    "                       covid_related=True)"
   ]
  },
  {
   "cell_type": "code",
   "execution_count": 13,
   "metadata": {},
   "outputs": [
    {
     "data": {
      "text/html": [
       "<h3>Search Results</h3>\n",
       "\n",
       " <h4>Prophylactic and therapeutic remdesivir (GS-5734) treatment in the rhesus macaque model of MERS-CoV infection</h4>\n",
       "\n",
       " <span class='authors'>de Wit, Emmie; Feldmann, Friederike; Cronin, Jacqueline; Jordan, Robert; Okumura, Atsushi; Thomas, Tina; Scott, Dana; Cihlar, Tomas; Feldmann, Heinz</span>\n",
       " <span class='published'>1 month ago</span>\n",
       " <a href='#' target='_new' class='link'>Link</a>\n",
       " <div class='abstract'>The continued emergence of Middle East Respiratory Syndrome (MERS) cases with a high case fatality rate stresses the need for the availability of effective antiviral treatments. Remdesivir (GS-5734) effectively inhibited MERS coronavirus (MERS-CoV) replication in vitro, and showed efficacy against S...</div>\n",
       "\n",
       "\n",
       " <h4>Remdesivir as a possible therapeutic option for the COVID-19</h4>\n",
       "\n",
       " <span class='authors'>Al-Tawfiq, Jaffar A.; Al-Homoud, Ali H.; Memish, Ziad A.</span>\n",
       " <span class='published'>3 weeks ago</span>\n",
       " <a href='#' target='_new' class='link'>Link</a>\n",
       " <div class='abstract'>Remdesivir as a possible therapeutic option for the COVID-19...</div>\n",
       "\n",
       "\n",
       " <h4>Arguments in favour of remdesivir for treating SARS-CoV-2 infections</h4>\n",
       "\n",
       " <span class='authors'>Ko, Wen-Chien; Rolain, Jean-Marc; Lee, Nan-Yao; Chen, Po-Lin; Huang, Ching-Tai; Lee, Ping-Ing; Hsueh, Po-Ren</span>\n",
       " <span class='published'>3 weeks ago</span>\n",
       " <a href='#' target='_new' class='link'>Link</a>\n",
       " <div class='abstract'>Arguments in favour of remdesivir for treating SARS-CoV-2 infections...</div>\n",
       "\n",
       "\n",
       " <h4>Gilead and Moderna lead on coronavirus treatments</h4>\n",
       "\n",
       " <span class='authors'>nan</span>\n",
       " <span class='published'>2 weeks ago</span>\n",
       " <a href='#' target='_new' class='link'>Link</a>\n",
       " <div class='abstract'>wo US biotech firms have positioned themselves as front-runners fighting the novel coronavirus, called SARS-CoV-2. On Feb. 25, the US National Institutes of Health (NIH) said it had begun a Phase II clinical trial of remdesivir, an experimental small-molecule drug made by Gilead Sciences, for treatm...</div>\n",
       "\n",
       "\n",
       " <h4>Remdesivir and chloroquine effectively inhibit the recently emerged novel coronavirus (2019-nCoV) in vitro</h4>\n",
       "\n",
       " <span class='authors'>Wang, Manli; Cao, Ruiyuan; Zhang, Leike; Yang, Xinglou; Liu, Jia; Xu, Mingyue; Shi, Zhengli; Hu, Zhihong; Zhong, Wu; Xiao, Gengfu</span>\n",
       " <span class='published'>2 months ago</span>\n",
       " <a href='#' target='_new' class='link'>Link</a>\n",
       " <div class='abstract'>Remdesivir and chloroquine effectively inhibit the recently emerged novel coronavirus (2019-nCoV) in vitro...</div>\n",
       "\n",
       "\n",
       " <h4>Strategies against the novel coronavirus: Possible applications of the experimental Ebola drug remdesivir are being tested</h4>\n",
       "\n",
       " <span class='authors'>nan</span>\n",
       " <span class='published'>2 months ago</span>\n",
       " <a href='#' target='_new' class='link'>Link</a>\n",
       " <div class='abstract'>Strategies against the novel coronavirus: Possible applications of the experimental Ebola drug remdesivir are being tested...</div>\n",
       "\n",
       "\n",
       " <h4>Remdesivir (GS-5734) protects African green monkeys from Nipah virus challenge</h4>\n",
       "\n",
       " <span class='authors'>Lo, Michael K.; Feldmann, Friederike; Gary, Joy M.; Jordan, Robert; Bannister, Roy; Cronin, Jacqueline; Patel, Nishi R.; Klena, John D.; Nichol, Stuart T.; Cihlar, Tomas; Zaki, Sherif R.; Feldmann, Heinz; Spiropoulou, Christina F.; de Wit, Emmie</span>\n",
       " <span class='published'></span>\n",
       " <a href='#' target='_new' class='link'>Link</a>\n",
       " <div class='abstract'>Nipah virus is an emerging pathogen in the Paramyxoviridae family. Upon transmission of Nipah virus from its natural reservoir, Pteropus spp. fruit bats, to humans, it causes respiratory and neurological disease with a case-fatality rate about 70%. Human-to-human transmission has been observed durin...</div>\n",
       "\n",
       "\n",
       " <h4>Mechanism of Inhibition of Ebola Virus RNA-Dependent RNA Polymerase by Remdesivir</h4>\n",
       "\n",
       " <span class='authors'>Tchesnokov, Egor P.; Feng, Joy Y.; Porter, Danielle P.; Götte, Matthias</span>\n",
       " <span class='published'>1 year ago</span>\n",
       " <a href='#' target='_new' class='link'>Link</a>\n",
       " <div class='abstract'>Remdesivir (GS-5734) is a 1′-cyano-substituted adenosine nucleotide analogue prodrug that shows broad-spectrum antiviral activity against several RNA viruses. This compound is currently under clinical development for the treatment of Ebola virus disease (EVD). While antiviral effects have been demon...</div>\n",
       "\n",
       "\n",
       " <h4>Discovering drugs to treat coronavirus disease 2019 (COVID-19)</h4>\n",
       "\n",
       " <span class='authors'>Dong, Liying; Hu, Shasha; Gao, Jianjun</span>\n",
       " <span class='published'>3 weeks ago</span>\n",
       " <a href='#' target='_new' class='link'>Link</a>\n",
       " <div class='abstract'>The SARS-CoV-2 virus emerged in December 2019 and then spread rapidly worldwide, particularly to China, Japan, and South Korea. Scientists are endeavoring to find antivirals specific to the virus. Several drugs such as chloroquine, arbidol, remdesivir, and favipiravir are currently undergoing clinic...</div>\n",
       "\n",
       "\n",
       " <h4>Teicoplanin: an alternative drug for the treatment of coronavirus COVID-19?</h4>\n",
       "\n",
       " <span class='authors'>Baron, Sophie Alexandra; Devaux, Christian; Colson, Philippe; Raoult, Didier; Rolain, Jean-Marc</span>\n",
       " <span class='published'>2 weeks ago</span>\n",
       " <a href='#' target='_new' class='link'>Link</a>\n",
       " <div class='abstract'> In December 2019, a new coronavirus, named SARS-CoV-2, has emerged from China causing pneumonia outbreaks first in the Wuhan region and have now spread worldwide because of its probable high transmission efficiency. Due to the lack of efficient and specific treatments and the need to contain the ep...</div>\n",
       "\n",
       "\n",
       "\n",
       "<style>\n",
       ".authors, .published{\n",
       "    padding: 12px 10px 0px 0px;\n",
       "    margin: 12px 0px 5px;\n",
       "}\n",
       ".authors { color: #778899;}\n",
       ".published {color: #2F4F4F; font-weight: bold; font-size: 0.9em;}\n",
       "div.abstract {max-height : 80px; margin-top: 10px}\n",
       "</style>"
      ],
      "text/plain": [
       "<cord.cord19.SearchResults at 0x228d7f7c6a0>"
      ]
     },
     "execution_count": 13,
     "metadata": {},
     "output_type": "execute_result"
    }
   ],
   "source": [
    "research_papers.search('remdesivir')"
   ]
  },
  {
   "cell_type": "code",
   "execution_count": 36,
   "metadata": {},
   "outputs": [
    {
     "data": {
      "application/vnd.jupyter.widget-view+json": {
       "model_id": "23c4be8e01514f8f8350b98799c1b226",
       "version_major": 2,
       "version_minor": 0
      },
      "text/plain": [
       "interactive(children=(Text(value='cruise ship', description='SearchTerms'), Output()), _dom_classes=('widget-i…"
      ]
     },
     "metadata": {},
     "output_type": "display_data"
    }
   ],
   "source": [
    "research_papers.searchbar()"
   ]
  },
  {
   "cell_type": "code",
   "execution_count": null,
   "metadata": {},
   "outputs": [],
   "source": []
  }
 ],
 "metadata": {
  "kernelspec": {
   "display_name": "cord",
   "language": "python",
   "name": "cord"
  },
  "language_info": {
   "codemirror_mode": {
    "name": "ipython",
    "version": 3
   },
   "file_extension": ".py",
   "mimetype": "text/x-python",
   "name": "python",
   "nbconvert_exporter": "python",
   "pygments_lexer": "ipython3",
   "version": "3.7.0"
  }
 },
 "nbformat": 4,
 "nbformat_minor": 2
}
