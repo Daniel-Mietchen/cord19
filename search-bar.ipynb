{
 "cells": [
  {
   "cell_type": "markdown",
   "metadata": {},
   "source": [
    "# Search Bar"
   ]
  },
  {
   "cell_type": "code",
   "execution_count": 1,
   "metadata": {},
   "outputs": [],
   "source": [
    "%load_ext autoreload\n",
    "%autoreload 2\n",
    "from cord import ResearchPapers"
   ]
  },
  {
   "cell_type": "code",
   "execution_count": 2,
   "metadata": {},
   "outputs": [
    {
     "name": "stdout",
     "output_type": "stream",
     "text": [
      "Loading metadata from data\\CORD-19-research-challenge\n",
      "Cleaning metadata\n",
      "Fixing dates that are a list e.g. \"['2020-02-05', '2020-02']\"\n",
      "Fixing dates with the seasons e.g. \"2014 Autumn\"\n",
      "Fixing dates like \"2016 Nov 9 Jan-Feb\"\n",
      "Fixing dates like \"2012 Jan-Mar\"\n",
      "Converting dates like \"2020 Apr 13\"\n",
      "Converting dates like \"2020 Apr\"\n",
      "Converting dates like \"2020\"\n",
      "Converting dates like \"2020-01-21\"\n",
      "\n",
      "Indexing research papers\n",
      "Creating the BM25 index from the abstracts of the papers\n",
      "Use index=\"text\" if you want to index the texts of the paper instead\n",
      "Finished Indexing in 34.0 seconds\n"
     ]
    }
   ],
   "source": [
    "research_papers = ResearchPapers.from_data_dir()"
   ]
  },
  {
   "cell_type": "markdown",
   "metadata": {},
   "source": [
    "## Display"
   ]
  },
  {
   "cell_type": "code",
   "execution_count": 16,
   "metadata": {},
   "outputs": [
    {
     "data": {
      "text/html": [
       "<div>\n",
       "<style scoped>\n",
       "    .dataframe tbody tr th:only-of-type {\n",
       "        vertical-align: middle;\n",
       "    }\n",
       "\n",
       "    .dataframe tbody tr th {\n",
       "        vertical-align: top;\n",
       "    }\n",
       "\n",
       "    .dataframe thead th {\n",
       "        text-align: right;\n",
       "    }\n",
       "</style>\n",
       "<table border=\"1\" class=\"dataframe\">\n",
       "  <thead>\n",
       "    <tr style=\"text-align: right;\">\n",
       "      <th></th>\n",
       "      <th>title</th>\n",
       "      <th>abstract</th>\n",
       "      <th>when</th>\n",
       "      <th>authors</th>\n",
       "    </tr>\n",
       "  </thead>\n",
       "  <tbody>\n",
       "    <tr>\n",
       "      <th>0</th>\n",
       "      <td>Antivirals against animal viruses</td>\n",
       "      <td>Antivirals are compounds used since the 1960s that can interfere with viral development. Some of these antivirals c...</td>\n",
       "      <td>3 years ago</td>\n",
       "      <td>Villa, T.G.; Feijoo-Siota, L.; Rama, J.L.R.; Ageitos, J.M.</td>\n",
       "    </tr>\n",
       "    <tr>\n",
       "      <th>1</th>\n",
       "      <td>Coronavirus puts drug repurposing on the fast track</td>\n",
       "      <td>Existing antivirals and knowledge gained from the SARS and MERS outbreaks gain traction as the fastest route to figh...</td>\n",
       "      <td>1 month ago</td>\n",
       "      <td>Harrison, Charlotte</td>\n",
       "    </tr>\n",
       "    <tr>\n",
       "      <th>2</th>\n",
       "      <td>Assays for the Identification of Novel Antivirals against Bluetongue Virus</td>\n",
       "      <td>To identify potential antivirals against BTV, we have developed, optimized and validated three assays presented here...</td>\n",
       "      <td></td>\n",
       "      <td>Gu, Linlin; Schneller, Stewart W.; Li, Qianjun</td>\n",
       "    </tr>\n",
       "    <tr>\n",
       "      <th>3</th>\n",
       "      <td>Alternative Screening Approaches for Discovery of Middle East Respiratory Syndrome Coronavirus Inhibitors</td>\n",
       "      <td>Two coronaviruses causing severe respiratory disease and high mortality rates emerging within the past dozen years r...</td>\n",
       "      <td></td>\n",
       "      <td>LaFemina, Robert L.</td>\n",
       "    </tr>\n",
       "    <tr>\n",
       "      <th>4</th>\n",
       "      <td>Broad-spectrum antivirals against viral fusion</td>\n",
       "      <td>Effective antivirals have been developed against specific viruses, such as HIV, Hepatitis C virus and influenza viru...</td>\n",
       "      <td></td>\n",
       "      <td>Vigant, Frederic; Santos, Nuno C.; Lee, Benhur</td>\n",
       "    </tr>\n",
       "    <tr>\n",
       "      <th>5</th>\n",
       "      <td>Discovery of antivirals against smallpox</td>\n",
       "      <td>Discovery of antivirals against smallpox</td>\n",
       "      <td></td>\n",
       "      <td>Harrison, Stephen C.; Alberts, Bruce; Ehrenfeld, Ellie; Enquist, Lynn; Fineberg, Harvey; McKnight, Steven L.; Moss, ...</td>\n",
       "    </tr>\n",
       "    <tr>\n",
       "      <th>6</th>\n",
       "      <td>Facing the Next Pandemic: Ready or Not</td>\n",
       "      <td>Influenza pandemics generally occur at 30-40 year intervals and it has been nearly 40 years since the last one. A g...</td>\n",
       "      <td>13 years ago</td>\n",
       "      <td>Wingard, John R.</td>\n",
       "    </tr>\n",
       "    <tr>\n",
       "      <th>7</th>\n",
       "      <td>Chikungunya virus: an update on antiviral development and challenges</td>\n",
       "      <td>Chikungunya virus (CHIKV) has re-emerged as a significant public health threat since the 2005 chikungunya fever epid...</td>\n",
       "      <td>6 years ago</td>\n",
       "      <td>Kaur, Parveen; Chu, Justin Jang Hann</td>\n",
       "    </tr>\n",
       "    <tr>\n",
       "      <th>8</th>\n",
       "      <td>Potential Therapeutic Agents for Feline Calicivirus Infection</td>\n",
       "      <td>Feline calicivirus (FCV) is a major cause of upper respiratory tract disease in cats, with widespread distribution i...</td>\n",
       "      <td>2 years ago</td>\n",
       "      <td>Fumian, Tulio M.; Tuipulotu, Daniel Enosi; Netzler, Natalie E.; Lun, Jennifer H.; Russo, Alice G.; Yan, Grace J. H.;...</td>\n",
       "    </tr>\n",
       "    <tr>\n",
       "      <th>9</th>\n",
       "      <td>Development of novel entry inhibitors targeting emerging viruses</td>\n",
       "      <td>Emerging viral diseases pose a unique risk to public health, and thus there is a need to develop therapies. A curren...</td>\n",
       "      <td></td>\n",
       "      <td>Zhou, Yanchen; Simmons, Graham</td>\n",
       "    </tr>\n",
       "  </tbody>\n",
       "</table>\n",
       "</div>"
      ],
      "text/plain": [
       "<cord.cord19.SearchResults at 0x243b3e26a90>"
      ]
     },
     "execution_count": 16,
     "metadata": {},
     "output_type": "execute_result"
    }
   ],
   "source": [
    "research_papers.search(\"antivirals\", display='table')"
   ]
  },
  {
   "cell_type": "code",
   "execution_count": 24,
   "metadata": {},
   "outputs": [
    {
     "data": {
      "application/vnd.jupyter.widget-view+json": {
       "model_id": "b153a43e8392459087f596db031aea33",
       "version_major": 2,
       "version_minor": 0
      },
      "text/plain": [
       "interactive(children=(Text(value='antivirals', description='SearchTerms'), Output()), _dom_classes=('widget-in…"
      ]
     },
     "metadata": {},
     "output_type": "display_data"
    }
   ],
   "source": [
    "research_papers.searchbar('antivirals', display='html')"
   ]
  },
  {
   "cell_type": "code",
   "execution_count": 11,
   "metadata": {},
   "outputs": [],
   "source": [
    "import pandas as pd\n",
    "pd.options.display.max_colwidth = 120"
   ]
  }
 ],
 "metadata": {
  "kernelspec": {
   "display_name": "cord",
   "language": "python",
   "name": "cord"
  },
  "language_info": {
   "codemirror_mode": {
    "name": "ipython",
    "version": 3
   },
   "file_extension": ".py",
   "mimetype": "text/x-python",
   "name": "python",
   "nbconvert_exporter": "python",
   "pygments_lexer": "ipython3",
   "version": "3.7.0"
  }
 },
 "nbformat": 4,
 "nbformat_minor": 4
}
