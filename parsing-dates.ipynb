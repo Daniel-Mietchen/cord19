{
 "cells": [
  {
   "cell_type": "markdown",
   "metadata": {},
   "source": [
    "# Parsing Dates"
   ]
  },
  {
   "cell_type": "code",
   "execution_count": 1,
   "metadata": {},
   "outputs": [
    {
     "name": "stderr",
     "output_type": "stream",
     "text": [
      "[nltk_data] Downloading package punkt to\n",
      "[nltk_data]     C:\\Users\\dwight\\AppData\\Roaming\\nltk_data...\n",
      "[nltk_data]   Package punkt is already up-to-date!\n"
     ]
    }
   ],
   "source": [
    "%load_ext autoreload\n",
    "%autoreload 2\n",
    "from cord.cord19 import *\n",
    "from cord.core import parallel, ifnone\n",
    "import pandas as pd\n",
    "pd.options.display.max_colwidth = 120\n",
    "pd.options.display.max_rows = 2000"
   ]
  },
  {
   "cell_type": "code",
   "execution_count": 2,
   "metadata": {},
   "outputs": [],
   "source": [
    "#research_papers = ResearchPapers.from_data_dir()\n",
    "#research_papers.save()"
   ]
  },
  {
   "cell_type": "code",
   "execution_count": 3,
   "metadata": {},
   "outputs": [],
   "source": [
    "research_papers = ResearchPapers.from_pickle()"
   ]
  },
  {
   "cell_type": "code",
   "execution_count": 4,
   "metadata": {},
   "outputs": [
    {
     "data": {
      "text/html": [
       "<h4>The RNA pseudoknots in foot-and-mouth disease virus are dispensable for genome replication but essential for the production of infectious virus. 2 3</h4>\n",
       "<div style=\"max-height:80px\">The positive stranded RNA genomes of picornaviruses comprise a single large open reading frame flanked by 5' and 3' untranslated regions (UTRs). Foot-and-mouth disease virus (FMDV) has an unusually large 5' UTR (1.3 kb) containing five structural domains. These include the internal ribosome entry site (IRES), which facilitates initiation of translation, and the cis-acting replication element (cre). Less well characterised structures are a 5' terminal 360 nucleotide stem-loop, a variable length poly-C-tract of approximately 100-200 nucleotides and a series of two to four tandemly repeated pseudoknots (PKs). We investigated the structures of the PKs by selective 2' hydroxyl acetylation analysed by primer extension (SHAPE) analysis and determined their contribution to genome replication by mutation and deletion experiments. SHAPE and mutation experiments confirmed the importance of the previously predicted PK structures for their function. Deletion experiments showed that although PKs are not essential for replication, they provide genomes with a competitive advantage. However, although replicons and full-length genomes lacking all PKs were replication competent, no infectious virus was rescued from genomes containing less than one PK copy. This is consistent with our earlier report describing the presence of putative packaging signals in the PK region.<div>"
      ],
      "text/plain": [
       "<cord.cord19.Paper at 0x19df6234630>"
      ]
     },
     "execution_count": 4,
     "metadata": {},
     "output_type": "execute_result"
    }
   ],
   "source": [
    "sha = '0015023cc06b5362d332b3baf348d11567ca2fbb'\n",
    "paper = research_papers[sha]\n",
    "paper"
   ]
  }
 ],
 "metadata": {
  "kernelspec": {
   "display_name": "cord",
   "language": "python",
   "name": "cord"
  },
  "language_info": {
   "codemirror_mode": {
    "name": "ipython",
    "version": 3
   },
   "file_extension": ".py",
   "mimetype": "text/x-python",
   "name": "python",
   "nbconvert_exporter": "python",
   "pygments_lexer": "ipython3",
   "version": "3.7.0"
  }
 },
 "nbformat": 4,
 "nbformat_minor": 4
}
